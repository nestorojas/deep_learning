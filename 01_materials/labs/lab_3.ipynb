{
 "cells": [
  {
   "cell_type": "markdown",
   "metadata": {},
   "source": [
    "# Recommender Systems\n",
    "\n",
    "In this lab, we'll be using Keras to build a recommender system. We'll be using the MovieLens dataset, a common benchmark dataset for recommender systems. \n",
    "\n",
    "MovieLens is a web-based recommender system and virtual community that recommends movies for its users to watch, based on their film preferences using collaborative filtering of members' movie ratings and movie reviews. You can check out the website here: https://movielens.org/\n",
    "\n",
    "We will download a subset of the dataset containing 100k ratings. There are tens of millions of ratings in the full dataset, spanning hundreds of thousands of users and movies. The subset we'll be using is a good example to demonstrate the concepts in this lab."
   ]
  },
  {
   "cell_type": "code",
   "execution_count": 114,
   "metadata": {},
   "outputs": [],
   "source": [
    "%matplotlib inline\n",
    "import matplotlib.pyplot as plt\n",
    "import numpy as np\n",
    "from zipfile import ZipFile\n",
    "from urllib.request import urlretrieve\n",
    "from pathlib import Path\n",
    "\n",
    "ML_100K_URL = \"http://files.grouplens.org/datasets/movielens/ml-100k.zip\"\n",
    "ML_100K_FILENAME = Path(\"ml-100k.zip\")\n",
    "ML_100K_FOLDER = Path(\"ml-100k\")\n",
    "\n",
    "if not ML_100K_FOLDER.exists():\n",
    "    if not ML_100K_FILENAME.exists():\n",
    "        urlretrieve(ML_100K_URL, ML_100K_FILENAME.name)\n",
    "    with ZipFile(ML_100K_FILENAME.name) as zip:\n",
    "        zip.extractall()"
   ]
  },
  {
   "cell_type": "markdown",
   "metadata": {},
   "source": [
    "The goal of MovieLens is to enable models to predict the rating a user would give to a movie they have not yet watched. This is a classic example of a recommendation system. The dataset is huge, and contains many parts giving information about the movies, the users, and the ratings. To begin with, we will look at the ratings file. Each line in the ratings file (u.data) is formatted as:\n",
    "\n",
    "`user_id, item_id, rating, timestamp`\n",
    "\n",
    "Which tells us a single user's rating of a single movie.\n",
    "\n",
    "We will start by loading the ratings data into a pandas dataframe and then take a look at the first few rows. If you haven't used Pandas before, it's an extremely powerful library for dealing with tabular data. You can think of it as a Python version of Excel."
   ]
  },
  {
   "cell_type": "code",
   "execution_count": 115,
   "metadata": {},
   "outputs": [
    {
     "data": {
      "text/html": [
       "<div>\n",
       "<style scoped>\n",
       "    .dataframe tbody tr th:only-of-type {\n",
       "        vertical-align: middle;\n",
       "    }\n",
       "\n",
       "    .dataframe tbody tr th {\n",
       "        vertical-align: top;\n",
       "    }\n",
       "\n",
       "    .dataframe thead th {\n",
       "        text-align: right;\n",
       "    }\n",
       "</style>\n",
       "<table border=\"1\" class=\"dataframe\">\n",
       "  <thead>\n",
       "    <tr style=\"text-align: right;\">\n",
       "      <th></th>\n",
       "      <th>user_id</th>\n",
       "      <th>item_id</th>\n",
       "      <th>rating</th>\n",
       "      <th>timestamp</th>\n",
       "    </tr>\n",
       "  </thead>\n",
       "  <tbody>\n",
       "    <tr>\n",
       "      <th>0</th>\n",
       "      <td>196</td>\n",
       "      <td>242</td>\n",
       "      <td>3</td>\n",
       "      <td>881250949</td>\n",
       "    </tr>\n",
       "    <tr>\n",
       "      <th>1</th>\n",
       "      <td>186</td>\n",
       "      <td>302</td>\n",
       "      <td>3</td>\n",
       "      <td>891717742</td>\n",
       "    </tr>\n",
       "    <tr>\n",
       "      <th>2</th>\n",
       "      <td>22</td>\n",
       "      <td>377</td>\n",
       "      <td>1</td>\n",
       "      <td>878887116</td>\n",
       "    </tr>\n",
       "    <tr>\n",
       "      <th>3</th>\n",
       "      <td>244</td>\n",
       "      <td>51</td>\n",
       "      <td>2</td>\n",
       "      <td>880606923</td>\n",
       "    </tr>\n",
       "    <tr>\n",
       "      <th>4</th>\n",
       "      <td>166</td>\n",
       "      <td>346</td>\n",
       "      <td>1</td>\n",
       "      <td>886397596</td>\n",
       "    </tr>\n",
       "    <tr>\n",
       "      <th>...</th>\n",
       "      <td>...</td>\n",
       "      <td>...</td>\n",
       "      <td>...</td>\n",
       "      <td>...</td>\n",
       "    </tr>\n",
       "    <tr>\n",
       "      <th>99995</th>\n",
       "      <td>880</td>\n",
       "      <td>476</td>\n",
       "      <td>3</td>\n",
       "      <td>880175444</td>\n",
       "    </tr>\n",
       "    <tr>\n",
       "      <th>99996</th>\n",
       "      <td>716</td>\n",
       "      <td>204</td>\n",
       "      <td>5</td>\n",
       "      <td>879795543</td>\n",
       "    </tr>\n",
       "    <tr>\n",
       "      <th>99997</th>\n",
       "      <td>276</td>\n",
       "      <td>1090</td>\n",
       "      <td>1</td>\n",
       "      <td>874795795</td>\n",
       "    </tr>\n",
       "    <tr>\n",
       "      <th>99998</th>\n",
       "      <td>13</td>\n",
       "      <td>225</td>\n",
       "      <td>2</td>\n",
       "      <td>882399156</td>\n",
       "    </tr>\n",
       "    <tr>\n",
       "      <th>99999</th>\n",
       "      <td>12</td>\n",
       "      <td>203</td>\n",
       "      <td>3</td>\n",
       "      <td>879959583</td>\n",
       "    </tr>\n",
       "  </tbody>\n",
       "</table>\n",
       "<p>100000 rows × 4 columns</p>\n",
       "</div>"
      ],
      "text/plain": [
       "       user_id  item_id  rating  timestamp\n",
       "0          196      242       3  881250949\n",
       "1          186      302       3  891717742\n",
       "2           22      377       1  878887116\n",
       "3          244       51       2  880606923\n",
       "4          166      346       1  886397596\n",
       "...        ...      ...     ...        ...\n",
       "99995      880      476       3  880175444\n",
       "99996      716      204       5  879795543\n",
       "99997      276     1090       1  874795795\n",
       "99998       13      225       2  882399156\n",
       "99999       12      203       3  879959583\n",
       "\n",
       "[100000 rows x 4 columns]"
      ]
     },
     "execution_count": 115,
     "metadata": {},
     "output_type": "execute_result"
    }
   ],
   "source": [
    "import pandas as pd\n",
    "\n",
    "raw_ratings = pd.read_csv(ML_100K_FOLDER / \"u.data\", sep='\\t',\n",
    "                          names=[\"user_id\", \"item_id\", \"rating\", \"timestamp\"])\n",
    "raw_ratings"
   ]
  },
  {
   "cell_type": "markdown",
   "metadata": {},
   "source": [
    "The second file we'll look at is the movie metadata. This file (u.item) contains information about each movie, including the title and release date. Each line in the file is formatted as:\n",
    "\n",
    "`movie_id | movie_title | release_date | video_release_date | IMDb_URL | unknown | Action | Adventure | Animation | Children's | Comedy | Crime | Documentary | Drama | Fantasy | Film-Noir | Horror | Musical | Mystery | Romance | Sci-Fi | Thriller | War | Western`\n",
    "\n",
    "As you can see, the genres are binary variables. As with one-hot encoding, a 1 indicates that the movie is of that genre, and a 0 indicates that it is not. We aren't going to work with the genre data in this lab, but it's easy to imagine that it could be useful in a real-world recommendation system."
   ]
  },
  {
   "cell_type": "code",
   "execution_count": 116,
   "metadata": {},
   "outputs": [
    {
     "data": {
      "text/html": [
       "<div>\n",
       "<style scoped>\n",
       "    .dataframe tbody tr th:only-of-type {\n",
       "        vertical-align: middle;\n",
       "    }\n",
       "\n",
       "    .dataframe tbody tr th {\n",
       "        vertical-align: top;\n",
       "    }\n",
       "\n",
       "    .dataframe thead th {\n",
       "        text-align: right;\n",
       "    }\n",
       "</style>\n",
       "<table border=\"1\" class=\"dataframe\">\n",
       "  <thead>\n",
       "    <tr style=\"text-align: right;\">\n",
       "      <th></th>\n",
       "      <th>item_id</th>\n",
       "      <th>title</th>\n",
       "      <th>release_date</th>\n",
       "      <th>video_release_date</th>\n",
       "      <th>imdb_url</th>\n",
       "    </tr>\n",
       "  </thead>\n",
       "  <tbody>\n",
       "    <tr>\n",
       "      <th>0</th>\n",
       "      <td>1</td>\n",
       "      <td>Toy Story (1995)</td>\n",
       "      <td>01-Jan-1995</td>\n",
       "      <td>NaN</td>\n",
       "      <td>http://us.imdb.com/M/title-exact?Toy%20Story%2...</td>\n",
       "    </tr>\n",
       "    <tr>\n",
       "      <th>1</th>\n",
       "      <td>2</td>\n",
       "      <td>GoldenEye (1995)</td>\n",
       "      <td>01-Jan-1995</td>\n",
       "      <td>NaN</td>\n",
       "      <td>http://us.imdb.com/M/title-exact?GoldenEye%20(...</td>\n",
       "    </tr>\n",
       "    <tr>\n",
       "      <th>2</th>\n",
       "      <td>3</td>\n",
       "      <td>Four Rooms (1995)</td>\n",
       "      <td>01-Jan-1995</td>\n",
       "      <td>NaN</td>\n",
       "      <td>http://us.imdb.com/M/title-exact?Four%20Rooms%...</td>\n",
       "    </tr>\n",
       "    <tr>\n",
       "      <th>3</th>\n",
       "      <td>4</td>\n",
       "      <td>Get Shorty (1995)</td>\n",
       "      <td>01-Jan-1995</td>\n",
       "      <td>NaN</td>\n",
       "      <td>http://us.imdb.com/M/title-exact?Get%20Shorty%...</td>\n",
       "    </tr>\n",
       "    <tr>\n",
       "      <th>4</th>\n",
       "      <td>5</td>\n",
       "      <td>Copycat (1995)</td>\n",
       "      <td>01-Jan-1995</td>\n",
       "      <td>NaN</td>\n",
       "      <td>http://us.imdb.com/M/title-exact?Copycat%20(1995)</td>\n",
       "    </tr>\n",
       "    <tr>\n",
       "      <th>...</th>\n",
       "      <td>...</td>\n",
       "      <td>...</td>\n",
       "      <td>...</td>\n",
       "      <td>...</td>\n",
       "      <td>...</td>\n",
       "    </tr>\n",
       "    <tr>\n",
       "      <th>1677</th>\n",
       "      <td>1678</td>\n",
       "      <td>Mat' i syn (1997)</td>\n",
       "      <td>06-Feb-1998</td>\n",
       "      <td>NaN</td>\n",
       "      <td>http://us.imdb.com/M/title-exact?Mat%27+i+syn+...</td>\n",
       "    </tr>\n",
       "    <tr>\n",
       "      <th>1678</th>\n",
       "      <td>1679</td>\n",
       "      <td>B. Monkey (1998)</td>\n",
       "      <td>06-Feb-1998</td>\n",
       "      <td>NaN</td>\n",
       "      <td>http://us.imdb.com/M/title-exact?B%2E+Monkey+(...</td>\n",
       "    </tr>\n",
       "    <tr>\n",
       "      <th>1679</th>\n",
       "      <td>1680</td>\n",
       "      <td>Sliding Doors (1998)</td>\n",
       "      <td>01-Jan-1998</td>\n",
       "      <td>NaN</td>\n",
       "      <td>http://us.imdb.com/Title?Sliding+Doors+(1998)</td>\n",
       "    </tr>\n",
       "    <tr>\n",
       "      <th>1680</th>\n",
       "      <td>1681</td>\n",
       "      <td>You So Crazy (1994)</td>\n",
       "      <td>01-Jan-1994</td>\n",
       "      <td>NaN</td>\n",
       "      <td>http://us.imdb.com/M/title-exact?You%20So%20Cr...</td>\n",
       "    </tr>\n",
       "    <tr>\n",
       "      <th>1681</th>\n",
       "      <td>1682</td>\n",
       "      <td>Scream of Stone (Schrei aus Stein) (1991)</td>\n",
       "      <td>08-Mar-1996</td>\n",
       "      <td>NaN</td>\n",
       "      <td>http://us.imdb.com/M/title-exact?Schrei%20aus%...</td>\n",
       "    </tr>\n",
       "  </tbody>\n",
       "</table>\n",
       "<p>1682 rows × 5 columns</p>\n",
       "</div>"
      ],
      "text/plain": [
       "      item_id                                      title release_date  \\\n",
       "0           1                           Toy Story (1995)  01-Jan-1995   \n",
       "1           2                           GoldenEye (1995)  01-Jan-1995   \n",
       "2           3                          Four Rooms (1995)  01-Jan-1995   \n",
       "3           4                          Get Shorty (1995)  01-Jan-1995   \n",
       "4           5                             Copycat (1995)  01-Jan-1995   \n",
       "...       ...                                        ...          ...   \n",
       "1677     1678                          Mat' i syn (1997)  06-Feb-1998   \n",
       "1678     1679                           B. Monkey (1998)  06-Feb-1998   \n",
       "1679     1680                       Sliding Doors (1998)  01-Jan-1998   \n",
       "1680     1681                        You So Crazy (1994)  01-Jan-1994   \n",
       "1681     1682  Scream of Stone (Schrei aus Stein) (1991)  08-Mar-1996   \n",
       "\n",
       "      video_release_date                                           imdb_url  \n",
       "0                    NaN  http://us.imdb.com/M/title-exact?Toy%20Story%2...  \n",
       "1                    NaN  http://us.imdb.com/M/title-exact?GoldenEye%20(...  \n",
       "2                    NaN  http://us.imdb.com/M/title-exact?Four%20Rooms%...  \n",
       "3                    NaN  http://us.imdb.com/M/title-exact?Get%20Shorty%...  \n",
       "4                    NaN  http://us.imdb.com/M/title-exact?Copycat%20(1995)  \n",
       "...                  ...                                                ...  \n",
       "1677                 NaN  http://us.imdb.com/M/title-exact?Mat%27+i+syn+...  \n",
       "1678                 NaN  http://us.imdb.com/M/title-exact?B%2E+Monkey+(...  \n",
       "1679                 NaN      http://us.imdb.com/Title?Sliding+Doors+(1998)  \n",
       "1680                 NaN  http://us.imdb.com/M/title-exact?You%20So%20Cr...  \n",
       "1681                 NaN  http://us.imdb.com/M/title-exact?Schrei%20aus%...  \n",
       "\n",
       "[1682 rows x 5 columns]"
      ]
     },
     "execution_count": 116,
     "metadata": {},
     "output_type": "execute_result"
    }
   ],
   "source": [
    "columns_to_keep = ['item_id', 'title', 'release_date', 'video_release_date', 'imdb_url']\n",
    "items = pd.read_csv(ML_100K_FOLDER / \"u.item\", sep='|', names=columns_to_keep,\n",
    "                    encoding='latin-1', usecols=range(5))\n",
    "items"
   ]
  },
  {
   "cell_type": "markdown",
   "metadata": {},
   "source": [
    "By default, the `release_date` column is a string. We can convert it to a `datetime` object using the `pd.to_datetime` function. This will make it easier to work with in the future (if we want to do things like check which date came first, for example).\n",
    " \n",
    "We can also extract the year from the date and store it in a separate column. This will make it easier to do things like plot the number of movies released each year."
   ]
  },
  {
   "cell_type": "code",
   "execution_count": 117,
   "metadata": {},
   "outputs": [],
   "source": [
    "items['release_date'] = pd.to_datetime(items['release_date']) # Pandas makes this easy!\n",
    "items['release_year'] = items['release_date'].dt.year # For later use"
   ]
  },
  {
   "cell_type": "markdown",
   "metadata": {},
   "source": [
    "For our purposes, it will be easier to work with the data if we merge our two dataframes into a single dataframe. We can do this using the `merge` method. We'll merge the `items` dataframe into the `raw_ratings` dataframe, using the `item_id` column as the key. This will add the movie title and release year to each rating."
   ]
  },
  {
   "cell_type": "code",
   "execution_count": 118,
   "metadata": {},
   "outputs": [],
   "source": [
    "all_ratings = pd.merge(items, raw_ratings)"
   ]
  },
  {
   "cell_type": "code",
   "execution_count": 119,
   "metadata": {},
   "outputs": [
    {
     "data": {
      "text/html": [
       "<div>\n",
       "<style scoped>\n",
       "    .dataframe tbody tr th:only-of-type {\n",
       "        vertical-align: middle;\n",
       "    }\n",
       "\n",
       "    .dataframe tbody tr th {\n",
       "        vertical-align: top;\n",
       "    }\n",
       "\n",
       "    .dataframe thead th {\n",
       "        text-align: right;\n",
       "    }\n",
       "</style>\n",
       "<table border=\"1\" class=\"dataframe\">\n",
       "  <thead>\n",
       "    <tr style=\"text-align: right;\">\n",
       "      <th></th>\n",
       "      <th>item_id</th>\n",
       "      <th>title</th>\n",
       "      <th>release_date</th>\n",
       "      <th>video_release_date</th>\n",
       "      <th>imdb_url</th>\n",
       "      <th>release_year</th>\n",
       "      <th>user_id</th>\n",
       "      <th>rating</th>\n",
       "      <th>timestamp</th>\n",
       "    </tr>\n",
       "  </thead>\n",
       "  <tbody>\n",
       "    <tr>\n",
       "      <th>0</th>\n",
       "      <td>1</td>\n",
       "      <td>Toy Story (1995)</td>\n",
       "      <td>1995-01-01</td>\n",
       "      <td>NaN</td>\n",
       "      <td>http://us.imdb.com/M/title-exact?Toy%20Story%2...</td>\n",
       "      <td>1995.0</td>\n",
       "      <td>308</td>\n",
       "      <td>4</td>\n",
       "      <td>887736532</td>\n",
       "    </tr>\n",
       "    <tr>\n",
       "      <th>1</th>\n",
       "      <td>1</td>\n",
       "      <td>Toy Story (1995)</td>\n",
       "      <td>1995-01-01</td>\n",
       "      <td>NaN</td>\n",
       "      <td>http://us.imdb.com/M/title-exact?Toy%20Story%2...</td>\n",
       "      <td>1995.0</td>\n",
       "      <td>287</td>\n",
       "      <td>5</td>\n",
       "      <td>875334088</td>\n",
       "    </tr>\n",
       "    <tr>\n",
       "      <th>2</th>\n",
       "      <td>1</td>\n",
       "      <td>Toy Story (1995)</td>\n",
       "      <td>1995-01-01</td>\n",
       "      <td>NaN</td>\n",
       "      <td>http://us.imdb.com/M/title-exact?Toy%20Story%2...</td>\n",
       "      <td>1995.0</td>\n",
       "      <td>148</td>\n",
       "      <td>4</td>\n",
       "      <td>877019411</td>\n",
       "    </tr>\n",
       "    <tr>\n",
       "      <th>3</th>\n",
       "      <td>1</td>\n",
       "      <td>Toy Story (1995)</td>\n",
       "      <td>1995-01-01</td>\n",
       "      <td>NaN</td>\n",
       "      <td>http://us.imdb.com/M/title-exact?Toy%20Story%2...</td>\n",
       "      <td>1995.0</td>\n",
       "      <td>280</td>\n",
       "      <td>4</td>\n",
       "      <td>891700426</td>\n",
       "    </tr>\n",
       "    <tr>\n",
       "      <th>4</th>\n",
       "      <td>1</td>\n",
       "      <td>Toy Story (1995)</td>\n",
       "      <td>1995-01-01</td>\n",
       "      <td>NaN</td>\n",
       "      <td>http://us.imdb.com/M/title-exact?Toy%20Story%2...</td>\n",
       "      <td>1995.0</td>\n",
       "      <td>66</td>\n",
       "      <td>3</td>\n",
       "      <td>883601324</td>\n",
       "    </tr>\n",
       "  </tbody>\n",
       "</table>\n",
       "</div>"
      ],
      "text/plain": [
       "   item_id             title release_date  video_release_date  \\\n",
       "0        1  Toy Story (1995)   1995-01-01                 NaN   \n",
       "1        1  Toy Story (1995)   1995-01-01                 NaN   \n",
       "2        1  Toy Story (1995)   1995-01-01                 NaN   \n",
       "3        1  Toy Story (1995)   1995-01-01                 NaN   \n",
       "4        1  Toy Story (1995)   1995-01-01                 NaN   \n",
       "\n",
       "                                            imdb_url  release_year  user_id  \\\n",
       "0  http://us.imdb.com/M/title-exact?Toy%20Story%2...        1995.0      308   \n",
       "1  http://us.imdb.com/M/title-exact?Toy%20Story%2...        1995.0      287   \n",
       "2  http://us.imdb.com/M/title-exact?Toy%20Story%2...        1995.0      148   \n",
       "3  http://us.imdb.com/M/title-exact?Toy%20Story%2...        1995.0      280   \n",
       "4  http://us.imdb.com/M/title-exact?Toy%20Story%2...        1995.0       66   \n",
       "\n",
       "   rating  timestamp  \n",
       "0       4  887736532  \n",
       "1       5  875334088  \n",
       "2       4  877019411  \n",
       "3       4  891700426  \n",
       "4       3  883601324  "
      ]
     },
     "execution_count": 119,
     "metadata": {},
     "output_type": "execute_result"
    }
   ],
   "source": [
    "all_ratings.head()"
   ]
  },
  {
   "cell_type": "markdown",
   "metadata": {},
   "source": [
    "### Data preprocessing\n",
    "\n",
    "It's always important to understand the data you've collected. Thankfully, Pandas continues to make this easy for us. Using the `describe` method, we can get a quick statistical summary of the data."
   ]
  },
  {
   "cell_type": "code",
   "execution_count": 120,
   "metadata": {},
   "outputs": [
    {
     "data": {
      "text/html": [
       "<div>\n",
       "<style scoped>\n",
       "    .dataframe tbody tr th:only-of-type {\n",
       "        vertical-align: middle;\n",
       "    }\n",
       "\n",
       "    .dataframe tbody tr th {\n",
       "        vertical-align: top;\n",
       "    }\n",
       "\n",
       "    .dataframe thead th {\n",
       "        text-align: right;\n",
       "    }\n",
       "</style>\n",
       "<table border=\"1\" class=\"dataframe\">\n",
       "  <thead>\n",
       "    <tr style=\"text-align: right;\">\n",
       "      <th></th>\n",
       "      <th>item_id</th>\n",
       "      <th>release_date</th>\n",
       "      <th>video_release_date</th>\n",
       "      <th>release_year</th>\n",
       "      <th>user_id</th>\n",
       "      <th>rating</th>\n",
       "      <th>timestamp</th>\n",
       "    </tr>\n",
       "  </thead>\n",
       "  <tbody>\n",
       "    <tr>\n",
       "      <th>count</th>\n",
       "      <td>100000.000000</td>\n",
       "      <td>99991</td>\n",
       "      <td>0.0</td>\n",
       "      <td>99991.000000</td>\n",
       "      <td>100000.00000</td>\n",
       "      <td>100000.000000</td>\n",
       "      <td>1.000000e+05</td>\n",
       "    </tr>\n",
       "    <tr>\n",
       "      <th>mean</th>\n",
       "      <td>425.530130</td>\n",
       "      <td>1988-02-09 00:43:11.369223296</td>\n",
       "      <td>NaN</td>\n",
       "      <td>1987.956216</td>\n",
       "      <td>462.48475</td>\n",
       "      <td>3.529860</td>\n",
       "      <td>8.835289e+08</td>\n",
       "    </tr>\n",
       "    <tr>\n",
       "      <th>min</th>\n",
       "      <td>1.000000</td>\n",
       "      <td>1922-01-01 00:00:00</td>\n",
       "      <td>NaN</td>\n",
       "      <td>1922.000000</td>\n",
       "      <td>1.00000</td>\n",
       "      <td>1.000000</td>\n",
       "      <td>8.747247e+08</td>\n",
       "    </tr>\n",
       "    <tr>\n",
       "      <th>25%</th>\n",
       "      <td>175.000000</td>\n",
       "      <td>1986-01-01 00:00:00</td>\n",
       "      <td>NaN</td>\n",
       "      <td>1986.000000</td>\n",
       "      <td>254.00000</td>\n",
       "      <td>3.000000</td>\n",
       "      <td>8.794487e+08</td>\n",
       "    </tr>\n",
       "    <tr>\n",
       "      <th>50%</th>\n",
       "      <td>322.000000</td>\n",
       "      <td>1994-01-01 00:00:00</td>\n",
       "      <td>NaN</td>\n",
       "      <td>1994.000000</td>\n",
       "      <td>447.00000</td>\n",
       "      <td>4.000000</td>\n",
       "      <td>8.828269e+08</td>\n",
       "    </tr>\n",
       "    <tr>\n",
       "      <th>75%</th>\n",
       "      <td>631.000000</td>\n",
       "      <td>1996-09-28 00:00:00</td>\n",
       "      <td>NaN</td>\n",
       "      <td>1996.000000</td>\n",
       "      <td>682.00000</td>\n",
       "      <td>4.000000</td>\n",
       "      <td>8.882600e+08</td>\n",
       "    </tr>\n",
       "    <tr>\n",
       "      <th>max</th>\n",
       "      <td>1682.000000</td>\n",
       "      <td>1998-10-23 00:00:00</td>\n",
       "      <td>NaN</td>\n",
       "      <td>1998.000000</td>\n",
       "      <td>943.00000</td>\n",
       "      <td>5.000000</td>\n",
       "      <td>8.932866e+08</td>\n",
       "    </tr>\n",
       "    <tr>\n",
       "      <th>std</th>\n",
       "      <td>330.798356</td>\n",
       "      <td>NaN</td>\n",
       "      <td>NaN</td>\n",
       "      <td>14.155523</td>\n",
       "      <td>266.61442</td>\n",
       "      <td>1.125674</td>\n",
       "      <td>5.343856e+06</td>\n",
       "    </tr>\n",
       "  </tbody>\n",
       "</table>\n",
       "</div>"
      ],
      "text/plain": [
       "             item_id                   release_date  video_release_date  \\\n",
       "count  100000.000000                          99991                 0.0   \n",
       "mean      425.530130  1988-02-09 00:43:11.369223296                 NaN   \n",
       "min         1.000000            1922-01-01 00:00:00                 NaN   \n",
       "25%       175.000000            1986-01-01 00:00:00                 NaN   \n",
       "50%       322.000000            1994-01-01 00:00:00                 NaN   \n",
       "75%       631.000000            1996-09-28 00:00:00                 NaN   \n",
       "max      1682.000000            1998-10-23 00:00:00                 NaN   \n",
       "std       330.798356                            NaN                 NaN   \n",
       "\n",
       "       release_year       user_id         rating     timestamp  \n",
       "count  99991.000000  100000.00000  100000.000000  1.000000e+05  \n",
       "mean    1987.956216     462.48475       3.529860  8.835289e+08  \n",
       "min     1922.000000       1.00000       1.000000  8.747247e+08  \n",
       "25%     1986.000000     254.00000       3.000000  8.794487e+08  \n",
       "50%     1994.000000     447.00000       4.000000  8.828269e+08  \n",
       "75%     1996.000000     682.00000       4.000000  8.882600e+08  \n",
       "max     1998.000000     943.00000       5.000000  8.932866e+08  \n",
       "std       14.155523     266.61442       1.125674  5.343856e+06  "
      ]
     },
     "execution_count": 120,
     "metadata": {},
     "output_type": "execute_result"
    }
   ],
   "source": [
    "all_ratings.describe()"
   ]
  },
  {
   "cell_type": "markdown",
   "metadata": {},
   "source": [
    "Let's do a bit more pandas magic to compute the popularity of each movie (number of ratings). We will use the `groupby` method to group the dataframe by the `item_id` column and then use the `size` method to compute the number of ratings for each movie. We will use the `reset_index` method to convert the resulting Series into a dataframe with an `item_id` column."
   ]
  },
  {
   "cell_type": "code",
   "execution_count": 121,
   "metadata": {},
   "outputs": [],
   "source": [
    "popularity = all_ratings.groupby('item_id').size().reset_index(name='popularity')\n",
    "items = pd.merge(popularity, items)"
   ]
  },
  {
   "cell_type": "code",
   "execution_count": 122,
   "metadata": {},
   "outputs": [
    {
     "data": {
      "text/plain": [
       "<Axes: ylabel='Frequency'>"
      ]
     },
     "execution_count": 122,
     "metadata": {},
     "output_type": "execute_result"
    },
    {
     "data": {
      "image/png": "[encoded data removed]",
      "text/plain": [
       "<Figure size 640x480 with 1 Axes>"
      ]
     },
     "metadata": {},
     "output_type": "display_data"
    }
   ],
   "source": [
    "items['popularity'].plot.hist(bins=30)"
   ]
  },
  {
   "cell_type": "code",
   "execution_count": 123,
   "metadata": {},
   "outputs": [
    {
     "data": {
      "text/plain": [
       "141"
      ]
     },
     "execution_count": 123,
     "metadata": {},
     "output_type": "execute_result"
    }
   ],
   "source": [
    "(items['popularity'] == 1).sum() # Number of movies with only one rating"
   ]
  },
  {
   "cell_type": "code",
   "execution_count": 124,
   "metadata": {},
   "outputs": [
    {
     "data": {
      "text/plain": [
       "49                  Star Wars (1977)\n",
       "257                   Contact (1997)\n",
       "99                      Fargo (1996)\n",
       "180        Return of the Jedi (1983)\n",
       "293                 Liar Liar (1997)\n",
       "285      English Patient, The (1996)\n",
       "287                    Scream (1996)\n",
       "0                   Toy Story (1995)\n",
       "299             Air Force One (1997)\n",
       "120    Independence Day (ID4) (1996)\n",
       "Name: title, dtype: object"
      ]
     },
     "execution_count": 124,
     "metadata": {},
     "output_type": "execute_result"
    }
   ],
   "source": [
    "items.nlargest(10, 'popularity')['title'] # Get the 10 most popular movies"
   ]
  },
  {
   "cell_type": "code",
   "execution_count": 125,
   "metadata": {},
   "outputs": [
    {
     "data": {
      "text/html": [
       "<div>\n",
       "<style scoped>\n",
       "    .dataframe tbody tr th:only-of-type {\n",
       "        vertical-align: middle;\n",
       "    }\n",
       "\n",
       "    .dataframe tbody tr th {\n",
       "        vertical-align: top;\n",
       "    }\n",
       "\n",
       "    .dataframe thead th {\n",
       "        text-align: right;\n",
       "    }\n",
       "</style>\n",
       "<table border=\"1\" class=\"dataframe\">\n",
       "  <thead>\n",
       "    <tr style=\"text-align: right;\">\n",
       "      <th></th>\n",
       "      <th>item_id</th>\n",
       "      <th>popularity</th>\n",
       "      <th>release_date</th>\n",
       "      <th>video_release_date</th>\n",
       "      <th>release_year</th>\n",
       "      <th>user_id</th>\n",
       "      <th>rating</th>\n",
       "      <th>timestamp</th>\n",
       "    </tr>\n",
       "  </thead>\n",
       "  <tbody>\n",
       "    <tr>\n",
       "      <th>count</th>\n",
       "      <td>100000.000000</td>\n",
       "      <td>100000.000000</td>\n",
       "      <td>99991</td>\n",
       "      <td>0.0</td>\n",
       "      <td>99991.000000</td>\n",
       "      <td>100000.00000</td>\n",
       "      <td>100000.000000</td>\n",
       "      <td>1.000000e+05</td>\n",
       "    </tr>\n",
       "    <tr>\n",
       "      <th>mean</th>\n",
       "      <td>425.530130</td>\n",
       "      <td>168.071900</td>\n",
       "      <td>1988-02-09 00:43:11.369223296</td>\n",
       "      <td>NaN</td>\n",
       "      <td>1987.956216</td>\n",
       "      <td>462.48475</td>\n",
       "      <td>3.529860</td>\n",
       "      <td>8.835289e+08</td>\n",
       "    </tr>\n",
       "    <tr>\n",
       "      <th>min</th>\n",
       "      <td>1.000000</td>\n",
       "      <td>1.000000</td>\n",
       "      <td>1922-01-01 00:00:00</td>\n",
       "      <td>NaN</td>\n",
       "      <td>1922.000000</td>\n",
       "      <td>1.00000</td>\n",
       "      <td>1.000000</td>\n",
       "      <td>8.747247e+08</td>\n",
       "    </tr>\n",
       "    <tr>\n",
       "      <th>25%</th>\n",
       "      <td>175.000000</td>\n",
       "      <td>71.000000</td>\n",
       "      <td>1986-01-01 00:00:00</td>\n",
       "      <td>NaN</td>\n",
       "      <td>1986.000000</td>\n",
       "      <td>254.00000</td>\n",
       "      <td>3.000000</td>\n",
       "      <td>8.794487e+08</td>\n",
       "    </tr>\n",
       "    <tr>\n",
       "      <th>50%</th>\n",
       "      <td>322.000000</td>\n",
       "      <td>145.000000</td>\n",
       "      <td>1994-01-01 00:00:00</td>\n",
       "      <td>NaN</td>\n",
       "      <td>1994.000000</td>\n",
       "      <td>447.00000</td>\n",
       "      <td>4.000000</td>\n",
       "      <td>8.828269e+08</td>\n",
       "    </tr>\n",
       "    <tr>\n",
       "      <th>75%</th>\n",
       "      <td>631.000000</td>\n",
       "      <td>239.000000</td>\n",
       "      <td>1996-09-28 00:00:00</td>\n",
       "      <td>NaN</td>\n",
       "      <td>1996.000000</td>\n",
       "      <td>682.00000</td>\n",
       "      <td>4.000000</td>\n",
       "      <td>8.882600e+08</td>\n",
       "    </tr>\n",
       "    <tr>\n",
       "      <th>max</th>\n",
       "      <td>1682.000000</td>\n",
       "      <td>583.000000</td>\n",
       "      <td>1998-10-23 00:00:00</td>\n",
       "      <td>NaN</td>\n",
       "      <td>1998.000000</td>\n",
       "      <td>943.00000</td>\n",
       "      <td>5.000000</td>\n",
       "      <td>8.932866e+08</td>\n",
       "    </tr>\n",
       "    <tr>\n",
       "      <th>std</th>\n",
       "      <td>330.798356</td>\n",
       "      <td>121.784558</td>\n",
       "      <td>NaN</td>\n",
       "      <td>NaN</td>\n",
       "      <td>14.155523</td>\n",
       "      <td>266.61442</td>\n",
       "      <td>1.125674</td>\n",
       "      <td>5.343856e+06</td>\n",
       "    </tr>\n",
       "  </tbody>\n",
       "</table>\n",
       "</div>"
      ],
      "text/plain": [
       "             item_id     popularity                   release_date  \\\n",
       "count  100000.000000  100000.000000                          99991   \n",
       "mean      425.530130     168.071900  1988-02-09 00:43:11.369223296   \n",
       "min         1.000000       1.000000            1922-01-01 00:00:00   \n",
       "25%       175.000000      71.000000            1986-01-01 00:00:00   \n",
       "50%       322.000000     145.000000            1994-01-01 00:00:00   \n",
       "75%       631.000000     239.000000            1996-09-28 00:00:00   \n",
       "max      1682.000000     583.000000            1998-10-23 00:00:00   \n",
       "std       330.798356     121.784558                            NaN   \n",
       "\n",
       "       video_release_date  release_year       user_id         rating  \\\n",
       "count                 0.0  99991.000000  100000.00000  100000.000000   \n",
       "mean                  NaN   1987.956216     462.48475       3.529860   \n",
       "min                   NaN   1922.000000       1.00000       1.000000   \n",
       "25%                   NaN   1986.000000     254.00000       3.000000   \n",
       "50%                   NaN   1994.000000     447.00000       4.000000   \n",
       "75%                   NaN   1996.000000     682.00000       4.000000   \n",
       "max                   NaN   1998.000000     943.00000       5.000000   \n",
       "std                   NaN     14.155523     266.61442       1.125674   \n",
       "\n",
       "          timestamp  \n",
       "count  1.000000e+05  \n",
       "mean   8.835289e+08  \n",
       "min    8.747247e+08  \n",
       "25%    8.794487e+08  \n",
       "50%    8.828269e+08  \n",
       "75%    8.882600e+08  \n",
       "max    8.932866e+08  \n",
       "std    5.343856e+06  "
      ]
     },
     "execution_count": 125,
     "metadata": {},
     "output_type": "execute_result"
    }
   ],
   "source": [
    "all_ratings = pd.merge(popularity, all_ratings)\n",
    "all_ratings.describe()"
   ]
  },
  {
   "cell_type": "code",
   "execution_count": 126,
   "metadata": {
    "collapsed": false
   },
   "outputs": [],
   "source": [
    "indexed_items = items.set_index('item_id')"
   ]
  },
  {
   "cell_type": "code",
   "execution_count": 127,
   "metadata": {},
   "outputs": [
    {
     "data": {
      "text/html": [
       "<div>\n",
       "<style scoped>\n",
       "    .dataframe tbody tr th:only-of-type {\n",
       "        vertical-align: middle;\n",
       "    }\n",
       "\n",
       "    .dataframe tbody tr th {\n",
       "        vertical-align: top;\n",
       "    }\n",
       "\n",
       "    .dataframe thead th {\n",
       "        text-align: right;\n",
       "    }\n",
       "</style>\n",
       "<table border=\"1\" class=\"dataframe\">\n",
       "  <thead>\n",
       "    <tr style=\"text-align: right;\">\n",
       "      <th></th>\n",
       "      <th>item_id</th>\n",
       "      <th>popularity</th>\n",
       "      <th>title</th>\n",
       "      <th>release_date</th>\n",
       "      <th>video_release_date</th>\n",
       "      <th>imdb_url</th>\n",
       "      <th>release_year</th>\n",
       "      <th>user_id</th>\n",
       "      <th>rating</th>\n",
       "      <th>timestamp</th>\n",
       "    </tr>\n",
       "  </thead>\n",
       "  <tbody>\n",
       "    <tr>\n",
       "      <th>0</th>\n",
       "      <td>1</td>\n",
       "      <td>452</td>\n",
       "      <td>Toy Story (1995)</td>\n",
       "      <td>1995-01-01</td>\n",
       "      <td>NaN</td>\n",
       "      <td>http://us.imdb.com/M/title-exact?Toy%20Story%2...</td>\n",
       "      <td>1995.0</td>\n",
       "      <td>308</td>\n",
       "      <td>4</td>\n",
       "      <td>887736532</td>\n",
       "    </tr>\n",
       "    <tr>\n",
       "      <th>1</th>\n",
       "      <td>1</td>\n",
       "      <td>452</td>\n",
       "      <td>Toy Story (1995)</td>\n",
       "      <td>1995-01-01</td>\n",
       "      <td>NaN</td>\n",
       "      <td>http://us.imdb.com/M/title-exact?Toy%20Story%2...</td>\n",
       "      <td>1995.0</td>\n",
       "      <td>287</td>\n",
       "      <td>5</td>\n",
       "      <td>875334088</td>\n",
       "    </tr>\n",
       "    <tr>\n",
       "      <th>2</th>\n",
       "      <td>1</td>\n",
       "      <td>452</td>\n",
       "      <td>Toy Story (1995)</td>\n",
       "      <td>1995-01-01</td>\n",
       "      <td>NaN</td>\n",
       "      <td>http://us.imdb.com/M/title-exact?Toy%20Story%2...</td>\n",
       "      <td>1995.0</td>\n",
       "      <td>148</td>\n",
       "      <td>4</td>\n",
       "      <td>877019411</td>\n",
       "    </tr>\n",
       "    <tr>\n",
       "      <th>3</th>\n",
       "      <td>1</td>\n",
       "      <td>452</td>\n",
       "      <td>Toy Story (1995)</td>\n",
       "      <td>1995-01-01</td>\n",
       "      <td>NaN</td>\n",
       "      <td>http://us.imdb.com/M/title-exact?Toy%20Story%2...</td>\n",
       "      <td>1995.0</td>\n",
       "      <td>280</td>\n",
       "      <td>4</td>\n",
       "      <td>891700426</td>\n",
       "    </tr>\n",
       "    <tr>\n",
       "      <th>4</th>\n",
       "      <td>1</td>\n",
       "      <td>452</td>\n",
       "      <td>Toy Story (1995)</td>\n",
       "      <td>1995-01-01</td>\n",
       "      <td>NaN</td>\n",
       "      <td>http://us.imdb.com/M/title-exact?Toy%20Story%2...</td>\n",
       "      <td>1995.0</td>\n",
       "      <td>66</td>\n",
       "      <td>3</td>\n",
       "      <td>883601324</td>\n",
       "    </tr>\n",
       "  </tbody>\n",
       "</table>\n",
       "</div>"
      ],
      "text/plain": [
       "   item_id  popularity             title release_date  video_release_date  \\\n",
       "0        1         452  Toy Story (1995)   1995-01-01                 NaN   \n",
       "1        1         452  Toy Story (1995)   1995-01-01                 NaN   \n",
       "2        1         452  Toy Story (1995)   1995-01-01                 NaN   \n",
       "3        1         452  Toy Story (1995)   1995-01-01                 NaN   \n",
       "4        1         452  Toy Story (1995)   1995-01-01                 NaN   \n",
       "\n",
       "                                            imdb_url  release_year  user_id  \\\n",
       "0  http://us.imdb.com/M/title-exact?Toy%20Story%2...        1995.0      308   \n",
       "1  http://us.imdb.com/M/title-exact?Toy%20Story%2...        1995.0      287   \n",
       "2  http://us.imdb.com/M/title-exact?Toy%20Story%2...        1995.0      148   \n",
       "3  http://us.imdb.com/M/title-exact?Toy%20Story%2...        1995.0      280   \n",
       "4  http://us.imdb.com/M/title-exact?Toy%20Story%2...        1995.0       66   \n",
       "\n",
       "   rating  timestamp  \n",
       "0       4  887736532  \n",
       "1       5  875334088  \n",
       "2       4  877019411  \n",
       "3       4  891700426  \n",
       "4       3  883601324  "
      ]
     },
     "execution_count": 127,
     "metadata": {},
     "output_type": "execute_result"
    }
   ],
   "source": [
    "all_ratings.head()"
   ]
  },
  {
   "cell_type": "markdown",
   "metadata": {
    "collapsed": false
   },
   "source": [
    "**Quick Exercise**:\n",
    "\n",
    "As we have seen, the `groupby` method is a powerful tool to quickly compute statistics on the data. Use it to compute the average rating for each movie.\n",
    "\n",
    "**Hint**: you can use the `mean` method after the `groupby` method."
   ]
  },
  {
   "cell_type": "code",
   "execution_count": 128,
   "metadata": {
    "collapsed": false
   },
   "outputs": [
    {
     "data": {
      "text/html": [
       "<div>\n",
       "<style scoped>\n",
       "    .dataframe tbody tr th:only-of-type {\n",
       "        vertical-align: middle;\n",
       "    }\n",
       "\n",
       "    .dataframe tbody tr th {\n",
       "        vertical-align: top;\n",
       "    }\n",
       "\n",
       "    .dataframe thead th {\n",
       "        text-align: right;\n",
       "    }\n",
       "</style>\n",
       "<table border=\"1\" class=\"dataframe\">\n",
       "  <thead>\n",
       "    <tr style=\"text-align: right;\">\n",
       "      <th></th>\n",
       "      <th>item_id</th>\n",
       "      <th>average_rating</th>\n",
       "    </tr>\n",
       "  </thead>\n",
       "  <tbody>\n",
       "    <tr>\n",
       "      <th>0</th>\n",
       "      <td>1</td>\n",
       "      <td>3.878319</td>\n",
       "    </tr>\n",
       "    <tr>\n",
       "      <th>1</th>\n",
       "      <td>2</td>\n",
       "      <td>3.206107</td>\n",
       "    </tr>\n",
       "    <tr>\n",
       "      <th>2</th>\n",
       "      <td>3</td>\n",
       "      <td>3.033333</td>\n",
       "    </tr>\n",
       "    <tr>\n",
       "      <th>3</th>\n",
       "      <td>4</td>\n",
       "      <td>3.550239</td>\n",
       "    </tr>\n",
       "    <tr>\n",
       "      <th>4</th>\n",
       "      <td>5</td>\n",
       "      <td>3.302326</td>\n",
       "    </tr>\n",
       "  </tbody>\n",
       "</table>\n",
       "</div>"
      ],
      "text/plain": [
       "   item_id  average_rating\n",
       "0        1        3.878319\n",
       "1        2        3.206107\n",
       "2        3        3.033333\n",
       "3        4        3.550239\n",
       "4        5        3.302326"
      ]
     },
     "execution_count": 128,
     "metadata": {},
     "output_type": "execute_result"
    }
   ],
   "source": [
    "# Your code here\n",
    "# Group by item_id and compute the mean rating for each movie\n",
    "average_ratings = all_ratings.groupby('item_id')['rating'].mean().reset_index(name='average_rating')\n",
    "\n",
    "# Display the first few rows to check the result\n",
    "average_ratings.head()"
   ]
  },
  {
   "cell_type": "markdown",
   "metadata": {},
   "source": [
    "Let's split the enriched data in a train / test split to make it possible to do predictive modeling:"
   ]
  },
  {
   "cell_type": "code",
   "execution_count": 129,
   "metadata": {},
   "outputs": [],
   "source": [
    "from sklearn.model_selection import train_test_split\n",
    "\n",
    "ratings_train, ratings_test = train_test_split(\n",
    "    all_ratings, test_size=0.2, random_state=0)\n",
    "\n",
    "user_id_train = np.array(ratings_train['user_id'])\n",
    "item_id_train = np.array(ratings_train['item_id'])\n",
    "rating_train = np.array(ratings_train['rating'])\n",
    "\n",
    "user_id_test = np.array(ratings_test['user_id'])\n",
    "item_id_test = np.array(ratings_test['item_id'])\n",
    "rating_test = np.array(ratings_test['rating'])"
   ]
  },
  {
   "cell_type": "markdown",
   "metadata": {},
   "source": [
    "# Explicit feedback: supervised ratings prediction\n",
    "\n",
    "Now let's begin to do some recommendation! We will build a model that takes a user and a movie as input and outputs a predicted rating. We will be taking advantage of embeddings to represent users and movies. That means that each movie and user will have an abstract representation in a continuous vector space. The model will learn these representations based on the ratings."
   ]
  },
  {
   "cell_type": "markdown",
   "metadata": {},
   "source": [
    "## Predictive ratings  as a regression problem\n",
    "\n",
    "The following code implements the following architecture:\n",
    "\n",
    "<img src=\"../labs/images/rec_archi_1.svg\" style=\"width: 600px;\" />"
   ]
  },
  {
   "cell_type": "code",
   "execution_count": 130,
   "metadata": {},
   "outputs": [],
   "source": [
    "from tensorflow.keras.layers import Embedding, Flatten, Dense, Dropout\n",
    "from tensorflow.keras.layers import Dot\n",
    "from tensorflow.keras.models import Model"
   ]
  },
  {
   "cell_type": "code",
   "execution_count": 131,
   "metadata": {},
   "outputs": [],
   "source": [
    "# For each sample we input the integer identifiers\n",
    "# of a single user and a single item\n",
    "class RegressionModel(Model):\n",
    "    def __init__(self, embedding_size, max_user_id, max_item_id):\n",
    "        super().__init__()\n",
    "        \n",
    "        self.user_embedding = Embedding(output_dim=embedding_size,\n",
    "                                        input_dim=max_user_id + 1,\n",
    "                                        input_length=1,\n",
    "                                        name='user_embedding')\n",
    "        self.item_embedding = Embedding(output_dim=embedding_size,\n",
    "                                        input_dim=max_item_id + 1,\n",
    "                                        input_length=1,\n",
    "                                        name='item_embedding')\n",
    "        \n",
    "        # The following two layers don't have parameters.\n",
    "        self.flatten = Flatten()\n",
    "        self.dot = Dot(axes=1)\n",
    "        \n",
    "    def call(self, inputs):\n",
    "        user_inputs = inputs[0]\n",
    "        item_inputs = inputs[1]\n",
    "        \n",
    "        user_vecs = self.flatten(self.user_embedding(user_inputs))\n",
    "        item_vecs = self.flatten(self.item_embedding(item_inputs))\n",
    "        \n",
    "        y = self.dot([user_vecs, item_vecs])\n",
    "        return y\n",
    "\n",
    "\n",
    "model = RegressionModel(embedding_size=64, max_user_id=all_ratings['user_id'].max(), max_item_id=all_ratings['item_id'].max())\n",
    "model.compile(optimizer=\"adam\", loss='mae')"
   ]
  },
  {
   "cell_type": "markdown",
   "metadata": {},
   "source": [
    "### Monitoring runs\n",
    "\n",
    "When training a model with Keras, we get a `history` object back that contains lots of information about the training run. We can use this to plot the training and validation loss to see how the model has improved during training."
   ]
  },
  {
   "cell_type": "code",
   "execution_count": 132,
   "metadata": {},
   "outputs": [
    {
     "name": "stdout",
     "output_type": "stream",
     "text": [
      "Epoch 1/10\n",
      "1125/1125 [==============================] - 1s 651us/step - loss: 2.6180 - val_loss: 1.0461\n",
      "Epoch 2/10\n",
      "1125/1125 [==============================] - 1s 643us/step - loss: 0.8510 - val_loss: 0.7936\n",
      "Epoch 3/10\n",
      "1125/1125 [==============================] - 1s 683us/step - loss: 0.7550 - val_loss: 0.7645\n",
      "Epoch 4/10\n",
      "1125/1125 [==============================] - 1s 638us/step - loss: 0.7289 - val_loss: 0.7544\n",
      "Epoch 5/10\n",
      "1125/1125 [==============================] - 1s 639us/step - loss: 0.7067 - val_loss: 0.7515\n",
      "Epoch 6/10\n",
      "1125/1125 [==============================] - 1s 690us/step - loss: 0.6848 - val_loss: 0.7440\n",
      "Epoch 7/10\n",
      "1125/1125 [==============================] - 1s 642us/step - loss: 0.6631 - val_loss: 0.7446\n",
      "Epoch 8/10\n",
      "1125/1125 [==============================] - 1s 641us/step - loss: 0.6405 - val_loss: 0.7384\n",
      "Epoch 9/10\n",
      "1125/1125 [==============================] - 1s 683us/step - loss: 0.6159 - val_loss: 0.7404\n",
      "Epoch 10/10\n",
      "1125/1125 [==============================] - 1s 634us/step - loss: 0.5912 - val_loss: 0.7425\n",
      "CPU times: user 10.2 s, sys: 2.61 s, total: 12.8 s\n",
      "Wall time: 7.55 s\n"
     ]
    }
   ],
   "source": [
    "%%time\n",
    "\n",
    "# Training the model\n",
    "history = model.fit([user_id_train, item_id_train], rating_train,\n",
    "                    batch_size=64, epochs=10, validation_split=0.1,\n",
    "                    shuffle=True)"
   ]
  },
  {
   "cell_type": "code",
   "execution_count": 133,
   "metadata": {},
   "outputs": [
    {
     "data": {
      "text/plain": [
       "Text(0.5, 1.0, 'Loss')"
      ]
     },
     "execution_count": 133,
     "metadata": {},
     "output_type": "execute_result"
    },
    {
     "data": {
      "image/png": "[encoded data removed]",
      "text/plain": [
       "<Figure size 640x480 with 1 Axes>"
      ]
     },
     "metadata": {},
     "output_type": "display_data"
    }
   ],
   "source": [
    "plt.plot(history.history['loss'], label='train')\n",
    "plt.plot(history.history['val_loss'], label='validation')\n",
    "plt.ylim(0, 2)\n",
    "plt.legend(loc='best')\n",
    "plt.title('Loss')"
   ]
  },
  {
   "cell_type": "markdown",
   "metadata": {},
   "source": [
    "**Questions**:\n",
    "\n",
    "- Does it look like our model has overfit? Why or why not?\n",
    "\n",
    "Both losses should ideally decrease, but the validation loss plateaus while the training loss continues to decrease, this suggests that the model is fitting the training data too closely and not generalizing well to the validation data.\n",
    "\n",
    "- Suggest something we could do to prevent overfitting.\n",
    "1. Dropout Layers:  randomly drops units during training to prevent over-relying on certain paths\n",
    "2. Regularization: Add L2 regularization to the embeddings to penalize large weights\n",
    "3. Early Stopping: Monitor the validation loss and stop training when ut stops improving\n",
    "\n",
    "Now that the model is trained, let's check out the quality of predictions:"
   ]
  },
  {
   "cell_type": "code",
   "execution_count": 134,
   "metadata": {},
   "outputs": [],
   "source": [
    "def plot_predictions(y_true, y_pred):\n",
    "    plt.figure(figsize=(4, 4))\n",
    "    plt.xlim(-1, 6)\n",
    "    plt.xlabel(\"True rating\")\n",
    "    plt.ylim(-1, 6)\n",
    "    plt.ylabel(\"Predicted rating\")\n",
    "    plt.scatter(y_true, y_pred, s=60, alpha=0.01)"
   ]
  },
  {
   "cell_type": "code",
   "execution_count": 135,
   "metadata": {},
   "outputs": [
    {
     "name": "stdout",
     "output_type": "stream",
     "text": [
      "625/625 [==============================] - 0s 322us/step\n",
      "Final test MSE: 0.906\n",
      "Final test MAE: 0.735\n"
     ]
    },
    {
     "data": {
      "image/png": "[encoded data removed]",
      "text/plain": [
       "<Figure size 400x400 with 1 Axes>"
      ]
     },
     "metadata": {},
     "output_type": "display_data"
    }
   ],
   "source": [
    "from sklearn.metrics import mean_squared_error\n",
    "from sklearn.metrics import mean_absolute_error\n",
    "\n",
    "test_preds = model.predict([user_id_test, item_id_test])\n",
    "print(\"Final test MSE: %0.3f\" % mean_squared_error(test_preds, rating_test))\n",
    "print(\"Final test MAE: %0.3f\" % mean_absolute_error(test_preds, rating_test))\n",
    "plot_predictions(rating_test, test_preds)"
   ]
  },
  {
   "cell_type": "markdown",
   "metadata": {
    "collapsed": false
   },
   "source": [
    "This graph shows us the range of predicted ratings our model gives, organized by the true rating. We can see that generally, the higher the true rating the higher the predicted rating, although there is quite a range of predictions for each instance. That's okay - our model is very simple, and human preferences are very complex!\n",
    "\n",
    "Taking a look at the Mean Absolute Error, hopefully you got something around 0.75. This means that, on average, our predicted ratings are about 0.75 stars off from the true ratings. This is a pretty good result for a first attempt. We could probably do better with a more complex model, but we'll leave that for another time."
   ]
  },
  {
   "cell_type": "markdown",
   "metadata": {},
   "source": [
    "### Model Embeddings\n",
    "\n",
    "Our model was built with two embedding layers. These layers have learned a representation of both the users and the movies in our dataset. We can extract these representations and use them to find similar movies or users. We can also do interesting exploratory analysis, like finding the most popular movies among our users, or finding the users that are most interested in a given movie."
   ]
  },
  {
   "cell_type": "code",
   "execution_count": 136,
   "metadata": {},
   "outputs": [
    {
     "data": {
      "text/plain": [
       "[(944, 64), (1683, 64)]"
      ]
     },
     "execution_count": 136,
     "metadata": {},
     "output_type": "execute_result"
    }
   ],
   "source": [
    "# weights and shape\n",
    "weights = model.get_weights()\n",
    "[w.shape for w in weights]"
   ]
  },
  {
   "cell_type": "code",
   "execution_count": 137,
   "metadata": {},
   "outputs": [],
   "source": [
    "user_embeddings = weights[0]\n",
    "item_embeddings = weights[1]"
   ]
  },
  {
   "cell_type": "code",
   "execution_count": 138,
   "metadata": {},
   "outputs": [
    {
     "name": "stdout",
     "output_type": "stream",
     "text": [
      "Title for item_id=181: Return of the Jedi (1983)\n"
     ]
    }
   ],
   "source": [
    "item_id = 181\n",
    "print(f\"Title for item_id={item_id}: {indexed_items['title'][item_id]}\")"
   ]
  },
  {
   "cell_type": "code",
   "execution_count": 139,
   "metadata": {},
   "outputs": [
    {
     "name": "stdout",
     "output_type": "stream",
     "text": [
      "Embedding vector for item_id=181\n",
      "[ 0.22510456  0.34779373  0.27705833  0.5952404  -0.04541051  0.2493362\n",
      "  0.5458816   0.44666916  0.22085756 -0.4631507  -0.5122462  -0.21159013\n",
      " -0.3167535  -0.21263638 -0.737928    0.366689    0.13723372  0.2694871\n",
      "  0.2973186   0.50495076  0.14335498  0.37348408  0.31828052  0.56023467\n",
      " -0.03300189  0.2182327   0.21131374  0.01878005 -0.45467857 -0.438948\n",
      " -0.57188183 -0.37399307 -0.23842901 -0.09295265  0.44968572  0.10333323\n",
      "  0.07094378 -0.27859983  0.48562714 -0.17472659  0.04014393 -0.10511509\n",
      "  0.40386048  0.29969636 -0.25924036  0.4468963  -0.3670407  -0.02169093\n",
      " -0.25185046 -0.46159208  0.19431148 -0.18418723 -0.23492317  0.3942846\n",
      "  0.08066797 -0.11314786 -0.34754223  0.4988195   0.50409186 -0.17130302\n",
      "  0.02675873  0.28702578 -0.30600333 -0.22845815]\n",
      "shape: (64,)\n"
     ]
    }
   ],
   "source": [
    "print(f\"Embedding vector for item_id={item_id}\")\n",
    "print(item_embeddings[item_id])\n",
    "print(\"shape:\", item_embeddings[item_id].shape)"
   ]
  },
  {
   "cell_type": "markdown",
   "metadata": {
    "collapsed": false
   },
   "source": [
    "As we discussed in lecture, our embeddings are not directly interpretable - we can't look at, say, a value of 0.297 in the embedding vector and say \"this means that the movie is a drama\". As an aside, there is a field of research dedicated to making _interpretable_ embeddings, but it's not something we'll cover in this course. "
   ]
  },
  {
   "cell_type": "markdown",
   "metadata": {},
   "source": [
    "### Finding our most similar items\n",
    "\n",
    "Now we can have some fun, investigating the embeddings we've learned. We can start by finding the most similar items to a given item. We can do this by computing the cosine similarity between the item's embedding and the embedding of every other item. We can use the `cosine_similarity` function from `sklearn` to do this."
   ]
  },
  {
   "cell_type": "code",
   "execution_count": 140,
   "metadata": {
    "collapsed": false
   },
   "outputs": [],
   "source": [
    "from sklearn.metrics.pairwise import cosine_similarity\n",
    "\n",
    "def cosine(a, b):\n",
    "    # Reshape to the shape our function expects\n",
    "    a = a.reshape(1, -1)\n",
    "    b = b.reshape(1, -1)\n",
    "    return cosine_similarity(a, b)[0, 0]"
   ]
  },
  {
   "cell_type": "code",
   "execution_count": 141,
   "metadata": {},
   "outputs": [
    {
     "name": "stdout",
     "output_type": "stream",
     "text": [
      "Star Wars (1977)\n",
      "Return of the Jedi (1983)\n",
      "Cosine similarity: 0.917\n"
     ]
    }
   ],
   "source": [
    "def print_similarity(item_a, item_b, item_embeddings, titles):\n",
    "    print(titles[item_a])\n",
    "    print(titles[item_b])\n",
    "    similarity = cosine(item_embeddings[item_a],\n",
    "                        item_embeddings[item_b])\n",
    "    print(f\"Cosine similarity: {similarity:.3}\")\n",
    "    \n",
    "print_similarity(50, 181, item_embeddings, indexed_items[\"title\"])"
   ]
  },
  {
   "cell_type": "markdown",
   "metadata": {
    "collapsed": false
   },
   "source": [
    "It makes sense that the original Star Wars, and its later sequel Return of the Jedi have a high similarity. Let's try some other examples:"
   ]
  },
  {
   "cell_type": "code",
   "execution_count": 142,
   "metadata": {},
   "outputs": [
    {
     "name": "stdout",
     "output_type": "stream",
     "text": [
      "Return of the Jedi (1983)\n",
      "Scream (1996)\n",
      "Cosine similarity: 0.73\n"
     ]
    }
   ],
   "source": [
    "print_similarity(181, 288, item_embeddings, indexed_items[\"title\"])"
   ]
  },
  {
   "cell_type": "code",
   "execution_count": 143,
   "metadata": {},
   "outputs": [
    {
     "name": "stdout",
     "output_type": "stream",
     "text": [
      "Return of the Jedi (1983)\n",
      "Toy Story (1995)\n",
      "Cosine similarity: 0.795\n"
     ]
    }
   ],
   "source": [
    "print_similarity(181, 1, item_embeddings, indexed_items[\"title\"])"
   ]
  },
  {
   "cell_type": "code",
   "execution_count": 144,
   "metadata": {},
   "outputs": [
    {
     "name": "stdout",
     "output_type": "stream",
     "text": [
      "Return of the Jedi (1983)\n",
      "Return of the Jedi (1983)\n",
      "Cosine similarity: 1.0\n"
     ]
    }
   ],
   "source": [
    "print_similarity(181, 181, item_embeddings, indexed_items[\"title\"])"
   ]
  },
  {
   "cell_type": "markdown",
   "metadata": {
    "collapsed": false
   },
   "source": [
    "*Quick Exercise*:\n",
    "\n",
    "- Find some other films and compare their similarity. Do the results make sense to you? Can you find a pair of films that are very _dissimilar_?"
   ]
  },
  {
   "cell_type": "code",
   "execution_count": 145,
   "metadata": {
    "collapsed": false
   },
   "outputs": [
    {
     "name": "stdout",
     "output_type": "stream",
     "text": [
      "                    title release_date\n",
      "item_id                               \n",
      "50       Star Wars (1977)   1977-01-01\n",
      "\n",
      "Star Wars (1977)\n",
      "Empire Strikes Back, The (1980)\n",
      "Cosine similarity: 0.931\n",
      "\n",
      "\n",
      "Scream (1996)\n",
      "Toy Story (1995)\n",
      "Cosine similarity: 0.653\n",
      "\n",
      "\n",
      "Toy Story (1995)\n",
      "Richard III (1995)\n",
      "Cosine similarity: 0.711\n"
     ]
    }
   ],
   "source": [
    "# Code to help you search for a movie title\n",
    "partial_title = \"Jedi\"\n",
    "indexed_items[indexed_items['title'].str.contains(partial_title)]\n",
    "\n",
    "# Your code here\n",
    "\n",
    "partial_title = \"Star Wars\"\n",
    "star_wars_movies = indexed_items[indexed_items['title'].str.contains(partial_title)]\n",
    "print(star_wars_movies[['title', 'release_date']], end=\"\\n\\n\")\n",
    "\n",
    "# Compare some movie pairs\n",
    "print_similarity(50, 172, item_embeddings, indexed_items[\"title\"]) \n",
    "print(\"\",end=\"\\n\\n\")\n",
    "print_similarity(288, 1, item_embeddings, indexed_items[\"title\"])\n",
    "print(\"\",end=\"\\n\\n\")\n",
    "print_similarity(1, 10, item_embeddings, indexed_items[\"title\"])  \n",
    "\n"
   ]
  },
  {
   "cell_type": "code",
   "execution_count": 146,
   "metadata": {},
   "outputs": [
    {
     "name": "stdout",
     "output_type": "stream",
     "text": [
      "                             title release_date\n",
      "item_id                                        \n",
      "181      Return of the Jedi (1983)   1997-03-14\n",
      "                    title release_date\n",
      "item_id                               \n",
      "50       Star Wars (1977)   1977-01-01\n",
      "Return of the Jedi (1983)\n",
      "Star Wars (1977)\n",
      "Cosine similarity: 0.917\n",
      "\n",
      "\n",
      "                    title release_date\n",
      "item_id                               \n",
      "1        Toy Story (1995)   1995-01-01\n",
      "No movies found with title containing 'Matrix'\n",
      "Cannot compare movies because one or both searches returned no results.\n",
      "\n",
      "\n",
      "                  title release_date\n",
      "item_id                             \n",
      "313      Titanic (1997)   1997-01-01\n",
      "                                  title release_date\n",
      "item_id                                             \n",
      "127               Godfather, The (1972)   1972-01-01\n",
      "187      Godfather: Part II, The (1974)   1974-01-01\n",
      "Titanic (1997)\n",
      "Godfather, The (1972)\n",
      "Cosine similarity: 0.787\n"
     ]
    }
   ],
   "source": [
    "def search_movie(partial_title):\n",
    "    results = indexed_items[indexed_items['title'].str.contains(partial_title, case=False, na=False)]\n",
    "    if results.empty:\n",
    "        print(f\"No movies found with title containing '{partial_title}'\")\n",
    "        return None\n",
    "    else:\n",
    "        print(results[['title', 'release_date']])\n",
    "        return results.index\n",
    "\n",
    "\n",
    "def compare_movies(title_a, title_b):\n",
    "    idx_a = search_movie(title_a)\n",
    "    idx_b = search_movie(title_b)\n",
    "    \n",
    "    if idx_a is not None and idx_b is not None:\n",
    "        # For simplicity, we compare the first match if there are multiple results\n",
    "        print_similarity(idx_a[0], idx_b[0], item_embeddings, indexed_items[\"title\"])\n",
    "    else:\n",
    "        print(\"Cannot compare movies because one or both searches returned no results.\")\n",
    "\n",
    "# Example searches and comparisons\n",
    "compare_movies(\"Jedi\", \"Star Wars\")\n",
    "print(\"\",end=\"\\n\\n\")\n",
    "compare_movies(\"Toy Story\", \"Matrix\")\n",
    "print(\"\",end=\"\\n\\n\")\n",
    "compare_movies(\"Titanic\", \"Godfather\")\n",
    "\n"
   ]
  },
  {
   "cell_type": "markdown",
   "metadata": {
    "collapsed": false
   },
   "source": [
    "Sometimes, even without knowing anything about a user, we can recommend films by asking them about a film that they do like. The code below compares the similarity of a given film to all others, and returns the most similar films."
   ]
  },
  {
   "cell_type": "code",
   "execution_count": 147,
   "metadata": {},
   "outputs": [
    {
     "data": {
      "text/plain": [
       "[(50, 'Star Wars (1977)', 0.99999994),\n",
       " (172, 'Empire Strikes Back, The (1980)', 0.93112963),\n",
       " (181, 'Return of the Jedi (1983)', 0.9173051),\n",
       " (174, 'Raiders of the Lost Ark (1981)', 0.88489306),\n",
       " (127, 'Godfather, The (1972)', 0.87675464),\n",
       " (1575, 'I, Worst of All (Yo, la peor de todas) (1990)', 0.8764706),\n",
       " (205, 'Patton (1970)', 0.87417006),\n",
       " (100, 'Fargo (1996)', 0.87061226),\n",
       " (480, 'North by Northwest (1959)', 0.8704235),\n",
       " (293, 'Donnie Brasco (1997)', 0.86286604)]"
      ]
     },
     "execution_count": 147,
     "metadata": {},
     "output_type": "execute_result"
    }
   ],
   "source": [
    "def most_similar(item_id, item_embeddings, titles,\n",
    "                 top_n=30):\n",
    "    # Compute the cosine similarity between the item and all other items\n",
    "    sims = cosine_similarity(item_embeddings[item_id].reshape(1, -1),\n",
    "                             item_embeddings).ravel()\n",
    "    \n",
    "    # [::-1] makes it possible to reverse the order of a numpy\n",
    "    # array, this is required because most similar items have\n",
    "    # a larger cosine similarity value\n",
    "    sorted_indexes = np.argsort(sims)[::-1]\n",
    "    idxs = sorted_indexes[0:top_n]\n",
    "    return list(zip(idxs, titles[idxs], sims[idxs]))\n",
    "\n",
    "# Find the most similar films to \"Star Wars\"\n",
    "most_similar(50, item_embeddings, indexed_items[\"title\"], top_n=10)"
   ]
  },
  {
   "cell_type": "code",
   "execution_count": 148,
   "metadata": {},
   "outputs": [
    {
     "data": {
      "text/plain": [
       "[(2, 'GoldenEye (1995)', 1.0),\n",
       " (115, 'Haunted World of Edward D. Wood Jr., The (1995)', 0.9057404),\n",
       " (1278, 'Selena (1997)', 0.8928258),\n",
       " (1275, 'Killer (Bulletproof Heart) (1994)', 0.89122474),\n",
       " (1056, 'Cronos (1992)', 0.8891078),\n",
       " (102, 'Aristocats, The (1970)', 0.88806486),\n",
       " (785, 'Only You (1994)', 0.8879396),\n",
       " (1086, \"It's My Party (1995)\", 0.887102),\n",
       " (1041, 'Forget Paris (1995)', 0.8863834),\n",
       " (1415, 'Next Karate Kid, The (1994)', 0.8839443)]"
      ]
     },
     "execution_count": 148,
     "metadata": {},
     "output_type": "execute_result"
    }
   ],
   "source": [
    "# Find the most similar films to \"Star Trek VI: The Undiscovered Country\"\n",
    "most_similar(2, item_embeddings, indexed_items[\"title\"], top_n=10)"
   ]
  },
  {
   "cell_type": "markdown",
   "metadata": {},
   "source": [
    "The similarities do not always make sense: the number of ratings is low and the embedding  does not automatically capture semantic relationships in that context. Better representations arise with higher number of ratings, and less overfitting  in models or maybe better loss function, such as those based on implicit feedback."
   ]
  },
  {
   "cell_type": "markdown",
   "metadata": {},
   "source": [
    "### Visualizing embeddings using TSNE\n",
    "\n",
    "The [t-SNE](https://en.wikipedia.org/wiki/T-distributed_stochastic_neighbor_embedding) algorithm enables us to visualize high dimensional vectors in a 2D space by preserving local neighborhoods. We can use it to get a 2D visualization of the item embeddings and see if similar items are close in the embedding space."
   ]
  },
  {
   "cell_type": "code",
   "execution_count": 149,
   "metadata": {},
   "outputs": [],
   "source": [
    "from sklearn.manifold import TSNE\n",
    "\n",
    "item_tsne = TSNE(learning_rate=\"auto\", init=\"pca\", perplexity=30).fit_transform(item_embeddings)"
   ]
  },
  {
   "cell_type": "code",
   "execution_count": 150,
   "metadata": {},
   "outputs": [
    {
     "data": {
      "image/png": "[encoded data removed]",
      "text/plain": [
       "<Figure size 1000x1000 with 1 Axes>"
      ]
     },
     "metadata": {},
     "output_type": "display_data"
    }
   ],
   "source": [
    "import matplotlib.pyplot as plt\n",
    "\n",
    "plt.figure(figsize=(10, 10))\n",
    "plt.scatter(item_tsne[:, 0], item_tsne[:, 1]);\n",
    "plt.xticks(()); plt.yticks(());\n",
    "plt.show()"
   ]
  },
  {
   "cell_type": "code",
   "execution_count": 151,
   "metadata": {
    "tags": []
   },
   "outputs": [
    {
     "data": {
      "application/vnd.plotly.v1+json": {
       "config": {
        "plotlyServerURL": "https://plot.ly"
       },
       "data": [
        {
         "customdata": [
          [
           1,
           "Toy Story (1995)",
           452
          ],
          [
           2,
           "GoldenEye (1995)",
           131
          ],
          [
           3,
           "Four Rooms (1995)",
           90
          ],
          [
           4,
           "Get Shorty (1995)",
           209
          ],
          [
           5,
           "Copycat (1995)",
           86
          ],
          [
           6,
           "Shanghai Triad (Yao a yao yao dao waipo qiao) (1995)",
           26
          ],
          [
           7,
           "Twelve Monkeys (1995)",
           392
          ],
          [
           8,
           "Babe (1995)",
           219
          ],
          [
           9,
           "Dead Man Walking (1995)",
           299
          ],
          [
           10,
           "Richard III (1995)",
           89
          ],
          [
           11,
           "Seven (Se7en) (1995)",
           236
          ],
          [
           12,
           "Usual Suspects, The (1995)",
           267
          ],
          [
           13,
           "Mighty Aphrodite (1995)",
           184
          ],
          [
           14,
           "Postino, Il (1994)",
           183
          ],
          [
           15,
           "Mr. Holland's Opus (1995)",
           293
          ],
          [
           16,
           "French Twist (Gazon maudit) (1995)",
           39
          ],
          [
           17,
           "From Dusk Till Dawn (1996)",
           92
          ],
          [
           18,
           "White Balloon, The (1995)",
           10
          ],
          [
           19,
           "Antonia's Line (1995)",
           69
          ],
          [
           20,
           "Angels and Insects (1995)",
           72
          ],
          [
           21,
           "Muppet Treasure Island (1996)",
           84
          ],
          [
           22,
           "Braveheart (1995)",
           297
          ],
          [
           23,
           "Taxi Driver (1976)",
           182
          ],
          [
           24,
           "Rumble in the Bronx (1995)",
           174
          ],
          [
           25,
           "Birdcage, The (1996)",
           293
          ],
          [
           26,
           "Brothers McMullen, The (1995)",
           73
          ],
          [
           27,
           "Bad Boys (1995)",
           57
          ],
          [
           28,
           "Apollo 13 (1995)",
           276
          ],
          [
           29,
           "Batman Forever (1995)",
           114
          ],
          [
           30,
           "Belle de jour (1967)",
           37
          ],
          [
           31,
           "Crimson Tide (1995)",
           154
          ],
          [
           32,
           "Crumb (1994)",
           81
          ],
          [
           33,
           "Desperado (1995)",
           97
          ],
          [
           34,
           "Doom Generation, The (1995)",
           7
          ],
          [
           35,
           "Free Willy 2: The Adventure Home (1995)",
           11
          ],
          [
           36,
           "Mad Love (1995)",
           13
          ],
          [
           37,
           "Nadja (1994)",
           8
          ],
          [
           38,
           "Net, The (1995)",
           120
          ],
          [
           39,
           "Strange Days (1995)",
           87
          ],
          [
           40,
           "To Wong Foo, Thanks for Everything! Julie Newmar (1995)",
           57
          ],
          [
           41,
           "Billy Madison (1995)",
           37
          ],
          [
           42,
           "Clerks (1994)",
           148
          ],
          [
           43,
           "Disclosure (1994)",
           40
          ],
          [
           44,
           "Dolores Claiborne (1994)",
           79
          ],
          [
           45,
           "Eat Drink Man Woman (1994)",
           80
          ],
          [
           46,
           "Exotica (1994)",
           27
          ],
          [
           47,
           "Ed Wood (1994)",
           133
          ],
          [
           48,
           "Hoop Dreams (1994)",
           117
          ],
          [
           49,
           "I.Q. (1994)",
           81
          ],
          [
           50,
           "Star Wars (1977)",
           583
          ],
          [
           51,
           "Legends of the Fall (1994)",
           81
          ],
          [
           52,
           "Madness of King George, The (1994)",
           91
          ],
          [
           53,
           "Natural Born Killers (1994)",
           128
          ],
          [
           54,
           "Outbreak (1995)",
           104
          ],
          [
           55,
           "Professional, The (1994)",
           149
          ],
          [
           56,
           "Pulp Fiction (1994)",
           394
          ],
          [
           57,
           "Priest (1994)",
           40
          ],
          [
           58,
           "Quiz Show (1994)",
           175
          ],
          [
           59,
           "Three Colors: Red (1994)",
           83
          ],
          [
           60,
           "Three Colors: Blue (1993)",
           64
          ],
          [
           61,
           "Three Colors: White (1994)",
           59
          ],
          [
           62,
           "Stargate (1994)",
           127
          ],
          [
           63,
           "Santa Clause, The (1994)",
           82
          ],
          [
           64,
           "Shawshank Redemption, The (1994)",
           283
          ],
          [
           65,
           "What's Eating Gilbert Grape (1993)",
           115
          ],
          [
           66,
           "While You Were Sleeping (1995)",
           162
          ],
          [
           67,
           "Ace Ventura: Pet Detective (1994)",
           103
          ],
          [
           68,
           "Crow, The (1994)",
           134
          ],
          [
           69,
           "Forrest Gump (1994)",
           321
          ],
          [
           70,
           "Four Weddings and a Funeral (1994)",
           251
          ],
          [
           71,
           "Lion King, The (1994)",
           220
          ],
          [
           72,
           "Mask, The (1994)",
           129
          ],
          [
           73,
           "Maverick (1994)",
           128
          ],
          [
           74,
           "Faster Pussycat! Kill! Kill! (1965)",
           7
          ],
          [
           75,
           "Brother Minister: The Assassination of Malcolm X (1994)",
           5
          ],
          [
           76,
           "Carlito's Way (1993)",
           54
          ],
          [
           77,
           "Firm, The (1993)",
           151
          ],
          [
           78,
           "Free Willy (1993)",
           33
          ],
          [
           79,
           "Fugitive, The (1993)",
           336
          ],
          [
           80,
           "Hot Shots! Part Deux (1993)",
           68
          ],
          [
           81,
           "Hudsucker Proxy, The (1994)",
           110
          ],
          [
           82,
           "Jurassic Park (1993)",
           261
          ],
          [
           83,
           "Much Ado About Nothing (1993)",
           176
          ],
          [
           84,
           "Robert A. Heinlein's The Puppet Masters (1994)",
           18
          ],
          [
           85,
           "Ref, The (1994)",
           58
          ],
          [
           86,
           "Remains of the Day, The (1993)",
           150
          ],
          [
           87,
           "Searching for Bobby Fischer (1993)",
           138
          ],
          [
           88,
           "Sleepless in Seattle (1993)",
           213
          ],
          [
           89,
           "Blade Runner (1982)",
           275
          ],
          [
           90,
           "So I Married an Axe Murderer (1993)",
           95
          ],
          [
           91,
           "Nightmare Before Christmas, The (1993)",
           143
          ],
          [
           92,
           "True Romance (1993)",
           104
          ],
          [
           93,
           "Welcome to the Dollhouse (1995)",
           112
          ],
          [
           94,
           "Home Alone (1990)",
           137
          ],
          [
           95,
           "Aladdin (1992)",
           219
          ],
          [
           96,
           "Terminator 2: Judgment Day (1991)",
           295
          ],
          [
           97,
           "Dances with Wolves (1990)",
           256
          ],
          [
           98,
           "Silence of the Lambs, The (1991)",
           390
          ],
          [
           99,
           "Snow White and the Seven Dwarfs (1937)",
           172
          ],
          [
           100,
           "Fargo (1996)",
           508
          ],
          [
           101,
           "Heavy Metal (1981)",
           73
          ],
          [
           102,
           "Aristocats, The (1970)",
           54
          ],
          [
           103,
           "All Dogs Go to Heaven 2 (1996)",
           15
          ],
          [
           104,
           "Theodore Rex (1995)",
           5
          ],
          [
           105,
           "Sgt. Bilko (1996)",
           74
          ],
          [
           106,
           "Diabolique (1996)",
           71
          ],
          [
           107,
           "Moll Flanders (1996)",
           42
          ],
          [
           108,
           "Kids in the Hall: Brain Candy (1996)",
           65
          ],
          [
           109,
           "Mystery Science Theater 3000: The Movie (1996)",
           130
          ],
          [
           110,
           "Operation Dumbo Drop (1995)",
           31
          ],
          [
           111,
           "Truth About Cats & Dogs, The (1996)",
           272
          ],
          [
           112,
           "Flipper (1996)",
           20
          ],
          [
           113,
           "Horseman on the Roof, The (Hussard sur le toit, Le) (1995)",
           9
          ],
          [
           114,
           "Wallace & Gromit: The Best of Aardman Animation (1996)",
           67
          ],
          [
           115,
           "Haunted World of Edward D. Wood Jr., The (1995)",
           15
          ],
          [
           116,
           "Cold Comfort Farm (1995)",
           125
          ],
          [
           117,
           "Rock, The (1996)",
           378
          ],
          [
           118,
           "Twister (1996)",
           293
          ],
          [
           119,
           "Maya Lin: A Strong Clear Vision (1994)",
           4
          ],
          [
           120,
           "Striptease (1996)",
           67
          ],
          [
           121,
           "Independence Day (ID4) (1996)",
           429
          ],
          [
           122,
           "Cable Guy, The (1996)",
           106
          ],
          [
           123,
           "Frighteners, The (1996)",
           115
          ],
          [
           124,
           "Lone Star (1996)",
           187
          ],
          [
           125,
           "Phenomenon (1996)",
           244
          ],
          [
           126,
           "Spitfire Grill, The (1996)",
           97
          ],
          [
           127,
           "Godfather, The (1972)",
           413
          ],
          [
           128,
           "Supercop (1992)",
           65
          ],
          [
           129,
           "Bound (1996)",
           129
          ],
          [
           130,
           "Kansas City (1996)",
           23
          ],
          [
           131,
           "Breakfast at Tiffany's (1961)",
           95
          ],
          [
           132,
           "Wizard of Oz, The (1939)",
           246
          ],
          [
           133,
           "Gone with the Wind (1939)",
           171
          ],
          [
           134,
           "Citizen Kane (1941)",
           198
          ],
          [
           135,
           "2001: A Space Odyssey (1968)",
           259
          ],
          [
           136,
           "Mr. Smith Goes to Washington (1939)",
           105
          ],
          [
           137,
           "Big Night (1996)",
           171
          ],
          [
           138,
           "D3: The Mighty Ducks (1996)",
           19
          ],
          [
           139,
           "Love Bug, The (1969)",
           50
          ],
          [
           140,
           "Homeward Bound: The Incredible Journey (1993)",
           61
          ],
          [
           141,
           "20,000 Leagues Under the Sea (1954)",
           72
          ],
          [
           142,
           "Bedknobs and Broomsticks (1971)",
           57
          ],
          [
           143,
           "Sound of Music, The (1965)",
           222
          ],
          [
           144,
           "Die Hard (1988)",
           243
          ],
          [
           145,
           "Lawnmower Man, The (1992)",
           65
          ],
          [
           146,
           "Unhook the Stars (1996)",
           10
          ],
          [
           147,
           "Long Kiss Goodnight, The (1996)",
           185
          ],
          [
           148,
           "Ghost and the Darkness, The (1996)",
           128
          ],
          [
           149,
           "Jude (1996)",
           23
          ],
          [
           150,
           "Swingers (1996)",
           157
          ],
          [
           151,
           "Willy Wonka and the Chocolate Factory (1971)",
           326
          ],
          [
           152,
           "Sleeper (1973)",
           82
          ],
          [
           153,
           "Fish Called Wanda, A (1988)",
           247
          ],
          [
           154,
           "Monty Python's Life of Brian (1979)",
           174
          ],
          [
           155,
           "Dirty Dancing (1987)",
           98
          ],
          [
           156,
           "Reservoir Dogs (1992)",
           148
          ],
          [
           157,
           "Platoon (1986)",
           127
          ],
          [
           158,
           "Weekend at Bernie's (1989)",
           60
          ],
          [
           159,
           "Basic Instinct (1992)",
           101
          ],
          [
           160,
           "Glengarry Glen Ross (1992)",
           69
          ],
          [
           161,
           "Top Gun (1986)",
           220
          ],
          [
           162,
           "On Golden Pond (1981)",
           106
          ],
          [
           163,
           "Return of the Pink Panther, The (1974)",
           92
          ],
          [
           164,
           "Abyss, The (1989)",
           151
          ],
          [
           165,
           "Jean de Florette (1986)",
           64
          ],
          [
           166,
           "Manon of the Spring (Manon des sources) (1986)",
           58
          ],
          [
           167,
           "Private Benjamin (1980)",
           67
          ],
          [
           168,
           "Monty Python and the Holy Grail (1974)",
           316
          ],
          [
           169,
           "Wrong Trousers, The (1993)",
           118
          ],
          [
           170,
           "Cinema Paradiso (1988)",
           121
          ],
          [
           171,
           "Delicatessen (1991)",
           65
          ],
          [
           172,
           "Empire Strikes Back, The (1980)",
           367
          ],
          [
           173,
           "Princess Bride, The (1987)",
           324
          ],
          [
           174,
           "Raiders of the Lost Ark (1981)",
           420
          ],
          [
           175,
           "Brazil (1985)",
           208
          ],
          [
           176,
           "Aliens (1986)",
           284
          ],
          [
           177,
           "Good, The Bad and The Ugly, The (1966)",
           137
          ],
          [
           178,
           "12 Angry Men (1957)",
           125
          ],
          [
           179,
           "Clockwork Orange, A (1971)",
           221
          ],
          [
           180,
           "Apocalypse Now (1979)",
           221
          ],
          [
           181,
           "Return of the Jedi (1983)",
           507
          ],
          [
           182,
           "GoodFellas (1990)",
           226
          ],
          [
           183,
           "Alien (1979)",
           291
          ],
          [
           184,
           "Army of Darkness (1993)",
           116
          ],
          [
           185,
           "Psycho (1960)",
           239
          ],
          [
           186,
           "Blues Brothers, The (1980)",
           251
          ],
          [
           187,
           "Godfather: Part II, The (1974)",
           209
          ],
          [
           188,
           "Full Metal Jacket (1987)",
           170
          ],
          [
           189,
           "Grand Day Out, A (1992)",
           66
          ],
          [
           190,
           "Henry V (1989)",
           124
          ],
          [
           191,
           "Amadeus (1984)",
           276
          ],
          [
           192,
           "Raging Bull (1980)",
           116
          ],
          [
           193,
           "Right Stuff, The (1983)",
           157
          ],
          [
           194,
           "Sting, The (1973)",
           241
          ],
          [
           195,
           "Terminator, The (1984)",
           301
          ],
          [
           196,
           "Dead Poets Society (1989)",
           251
          ],
          [
           197,
           "Graduate, The (1967)",
           239
          ],
          [
           198,
           "Nikita (La Femme Nikita) (1990)",
           127
          ],
          [
           199,
           "Bridge on the River Kwai, The (1957)",
           165
          ],
          [
           200,
           "Shining, The (1980)",
           206
          ],
          [
           201,
           "Evil Dead II (1987)",
           89
          ],
          [
           202,
           "Groundhog Day (1993)",
           280
          ],
          [
           203,
           "Unforgiven (1992)",
           182
          ],
          [
           204,
           "Back to the Future (1985)",
           350
          ],
          [
           205,
           "Patton (1970)",
           136
          ],
          [
           206,
           "Akira (1988)",
           50
          ],
          [
           207,
           "Cyrano de Bergerac (1990)",
           66
          ],
          [
           208,
           "Young Frankenstein (1974)",
           200
          ],
          [
           209,
           "This Is Spinal Tap (1984)",
           191
          ],
          [
           210,
           "Indiana Jones and the Last Crusade (1989)",
           331
          ],
          [
           211,
           "M*A*S*H (1970)",
           206
          ],
          [
           212,
           "Unbearable Lightness of Being, The (1988)",
           92
          ],
          [
           213,
           "Room with a View, A (1986)",
           134
          ],
          [
           214,
           "Pink Floyd - The Wall (1982)",
           114
          ],
          [
           215,
           "Field of Dreams (1989)",
           212
          ],
          [
           216,
           "When Harry Met Sally... (1989)",
           290
          ],
          [
           217,
           "Bram Stoker's Dracula (1992)",
           120
          ],
          [
           218,
           "Cape Fear (1991)",
           171
          ],
          [
           219,
           "Nightmare on Elm Street, A (1984)",
           111
          ],
          [
           220,
           "Mirror Has Two Faces, The (1996)",
           66
          ],
          [
           221,
           "Breaking the Waves (1996)",
           74
          ],
          [
           222,
           "Star Trek: First Contact (1996)",
           365
          ],
          [
           223,
           "Sling Blade (1996)",
           136
          ],
          [
           224,
           "Ridicule (1996)",
           44
          ],
          [
           225,
           "101 Dalmatians (1996)",
           109
          ],
          [
           226,
           "Die Hard 2 (1990)",
           166
          ],
          [
           227,
           "Star Trek VI: The Undiscovered Country (1991)",
           161
          ],
          [
           228,
           "Star Trek: The Wrath of Khan (1982)",
           244
          ],
          [
           229,
           "Star Trek III: The Search for Spock (1984)",
           171
          ],
          [
           230,
           "Star Trek IV: The Voyage Home (1986)",
           199
          ],
          [
           231,
           "Batman Returns (1992)",
           142
          ],
          [
           232,
           "Young Guns (1988)",
           101
          ],
          [
           233,
           "Under Siege (1992)",
           124
          ],
          [
           234,
           "Jaws (1975)",
           280
          ],
          [
           235,
           "Mars Attacks! (1996)",
           217
          ],
          [
           236,
           "Citizen Ruth (1996)",
           45
          ],
          [
           237,
           "Jerry Maguire (1996)",
           384
          ],
          [
           238,
           "Raising Arizona (1987)",
           256
          ],
          [
           239,
           "Sneakers (1992)",
           150
          ],
          [
           240,
           "Beavis and Butt-head Do America (1996)",
           156
          ],
          [
           241,
           "Last of the Mohicans, The (1992)",
           128
          ],
          [
           242,
           "Kolya (1996)",
           117
          ],
          [
           243,
           "Jungle2Jungle (1997)",
           132
          ],
          [
           244,
           "Smilla's Sense of Snow (1997)",
           48
          ],
          [
           245,
           "Devil's Own, The (1997)",
           240
          ],
          [
           246,
           "Chasing Amy (1997)",
           124
          ],
          [
           247,
           "Turbo: A Power Rangers Movie (1997)",
           5
          ],
          [
           248,
           "Grosse Pointe Blank (1997)",
           160
          ],
          [
           249,
           "Austin Powers: International Man of Mystery (1997)",
           130
          ],
          [
           250,
           "Fifth Element, The (1997)",
           197
          ],
          [
           251,
           "Shall We Dance? (1996)",
           46
          ],
          [
           252,
           "Lost World: Jurassic Park, The (1997)",
           158
          ],
          [
           253,
           "Pillow Book, The (1995)",
           26
          ],
          [
           254,
           "Batman & Robin (1997)",
           62
          ],
          [
           255,
           "My Best Friend's Wedding (1997)",
           172
          ],
          [
           256,
           "When the Cats Away (Chacun cherche son chat) (1996)",
           16
          ],
          [
           257,
           "Men in Black (1997)",
           303
          ],
          [
           258,
           "Contact (1997)",
           509
          ],
          [
           259,
           "George of the Jungle (1997)",
           162
          ],
          [
           260,
           "Event Horizon (1997)",
           127
          ],
          [
           261,
           "Air Bud (1997)",
           43
          ],
          [
           262,
           "In the Company of Men (1997)",
           66
          ],
          [
           263,
           "Steel (1997)",
           19
          ],
          [
           264,
           "Mimic (1997)",
           101
          ],
          [
           265,
           "Hunt for Red October, The (1990)",
           227
          ],
          [
           266,
           "Kull the Conqueror (1997)",
           35
          ],
          [
           267,
           "unknown",
           9
          ],
          [
           268,
           "Chasing Amy (1997)",
           255
          ],
          [
           269,
           "Full Monty, The (1997)",
           315
          ],
          [
           270,
           "Gattaca (1997)",
           136
          ],
          [
           271,
           "Starship Troopers (1997)",
           211
          ],
          [
           272,
           "Good Will Hunting (1997)",
           198
          ],
          [
           273,
           "Heat (1995)",
           223
          ],
          [
           274,
           "Sabrina (1995)",
           190
          ],
          [
           275,
           "Sense and Sensibility (1995)",
           268
          ],
          [
           276,
           "Leaving Las Vegas (1995)",
           298
          ],
          [
           277,
           "Restoration (1995)",
           71
          ],
          [
           278,
           "Bed of Roses (1996)",
           60
          ],
          [
           279,
           "Once Upon a Time... When We Were Colored (1995)",
           28
          ],
          [
           280,
           "Up Close and Personal (1996)",
           85
          ],
          [
           281,
           "River Wild, The (1994)",
           146
          ],
          [
           282,
           "Time to Kill, A (1996)",
           232
          ],
          [
           283,
           "Emma (1996)",
           177
          ],
          [
           284,
           "Tin Cup (1996)",
           193
          ],
          [
           285,
           "Secrets & Lies (1996)",
           162
          ],
          [
           286,
           "English Patient, The (1996)",
           481
          ],
          [
           287,
           "Marvin's Room (1996)",
           78
          ],
          [
           288,
           "Scream (1996)",
           478
          ],
          [
           289,
           "Evita (1996)",
           259
          ],
          [
           290,
           "Fierce Creatures (1997)",
           96
          ],
          [
           291,
           "Absolute Power (1997)",
           127
          ],
          [
           292,
           "Rosewood (1997)",
           114
          ],
          [
           293,
           "Donnie Brasco (1997)",
           147
          ],
          [
           294,
           "Liar Liar (1997)",
           485
          ],
          [
           295,
           "Breakdown (1997)",
           77
          ],
          [
           296,
           "Promesse, La (1996)",
           6
          ],
          [
           297,
           "Ulee's Gold (1997)",
           50
          ],
          [
           298,
           "Face/Off (1997)",
           194
          ],
          [
           299,
           "Hoodlum (1997)",
           73
          ],
          [
           300,
           "Air Force One (1997)",
           431
          ],
          [
           301,
           "In & Out (1997)",
           230
          ],
          [
           302,
           "L.A. Confidential (1997)",
           297
          ],
          [
           303,
           "Ulee's Gold (1997)",
           134
          ],
          [
           304,
           "Fly Away Home (1996)",
           149
          ],
          [
           305,
           "Ice Storm, The (1997)",
           87
          ],
          [
           306,
           "Mrs. Brown (Her Majesty, Mrs. Brown) (1997)",
           96
          ],
          [
           307,
           "Devil's Advocate, The (1997)",
           188
          ],
          [
           308,
           "FairyTale: A True Story (1997)",
           30
          ],
          [
           309,
           "Deceiver (1997)",
           28
          ],
          [
           310,
           "Rainmaker, The (1997)",
           145
          ],
          [
           311,
           "Wings of the Dove, The (1997)",
           75
          ],
          [
           312,
           "Midnight in the Garden of Good and Evil (1997)",
           80
          ],
          [
           313,
           "Titanic (1997)",
           350
          ],
          [
           314,
           "3 Ninjas: High Noon At Mega Mountain (1998)",
           5
          ],
          [
           315,
           "Apt Pupil (1998)",
           160
          ],
          [
           316,
           "As Good As It Gets (1997)",
           112
          ],
          [
           317,
           "In the Name of the Father (1993)",
           102
          ],
          [
           318,
           "Schindler's List (1993)",
           298
          ],
          [
           319,
           "Everyone Says I Love You (1996)",
           168
          ],
          [
           320,
           "Paradise Lost: The Child Murders at Robin Hood Hills (1996)",
           20
          ],
          [
           321,
           "Mother (1996)",
           169
          ],
          [
           322,
           "Murder at 1600 (1997)",
           218
          ],
          [
           323,
           "Dante's Peak (1997)",
           240
          ],
          [
           324,
           "Lost Highway (1997)",
           125
          ],
          [
           325,
           "Crash (1996)",
           128
          ],
          [
           326,
           "G.I. Jane (1997)",
           175
          ],
          [
           327,
           "Cop Land (1997)",
           175
          ],
          [
           328,
           "Conspiracy Theory (1997)",
           295
          ],
          [
           329,
           "Desperate Measures (1998)",
           45
          ],
          [
           330,
           "187 (1997)",
           41
          ],
          [
           331,
           "Edge, The (1997)",
           113
          ],
          [
           332,
           "Kiss the Girls (1997)",
           143
          ],
          [
           333,
           "Game, The (1997)",
           251
          ],
          [
           334,
           "U Turn (1997)",
           64
          ],
          [
           335,
           "How to Be a Player (1997)",
           21
          ],
          [
           336,
           "Playing God (1997)",
           43
          ],
          [
           337,
           "House of Yes, The (1997)",
           18
          ],
          [
           338,
           "Bean (1997)",
           91
          ],
          [
           339,
           "Mad City (1997)",
           47
          ],
          [
           340,
           "Boogie Nights (1997)",
           189
          ],
          [
           341,
           "Critical Care (1997)",
           11
          ],
          [
           342,
           "Man Who Knew Too Little, The (1997)",
           52
          ],
          [
           343,
           "Alien: Resurrection (1997)",
           124
          ],
          [
           344,
           "Apostle, The (1997)",
           55
          ],
          [
           345,
           "Deconstructing Harry (1997)",
           65
          ],
          [
           346,
           "Jackie Brown (1997)",
           126
          ],
          [
           347,
           "Wag the Dog (1997)",
           137
          ],
          [
           348,
           "Desperate Measures (1998)",
           27
          ],
          [
           349,
           "Hard Rain (1998)",
           31
          ],
          [
           350,
           "Fallen (1998)",
           41
          ],
          [
           351,
           "Prophecy II, The (1998)",
           20
          ],
          [
           352,
           "Spice World (1997)",
           26
          ],
          [
           353,
           "Deep Rising (1998)",
           14
          ],
          [
           354,
           "Wedding Singer, The (1998)",
           72
          ],
          [
           355,
           "Sphere (1998)",
           41
          ],
          [
           356,
           "Client, The (1994)",
           97
          ],
          [
           357,
           "One Flew Over the Cuckoo's Nest (1975)",
           264
          ],
          [
           358,
           "Spawn (1997)",
           143
          ],
          [
           359,
           "Assignment, The (1997)",
           18
          ],
          [
           360,
           "Wonderland (1997)",
           10
          ],
          [
           361,
           "Incognito (1997)",
           10
          ],
          [
           362,
           "Blues Brothers 2000 (1998)",
           28
          ],
          [
           363,
           "Sudden Death (1995)",
           47
          ],
          [
           364,
           "Ace Ventura: When Nature Calls (1995)",
           37
          ],
          [
           365,
           "Powder (1995)",
           48
          ],
          [
           366,
           "Dangerous Minds (1995)",
           47
          ],
          [
           367,
           "Clueless (1995)",
           170
          ],
          [
           368,
           "Bio-Dome (1996)",
           31
          ],
          [
           369,
           "Black Sheep (1996)",
           55
          ],
          [
           370,
           "Mary Reilly (1996)",
           39
          ],
          [
           371,
           "Bridges of Madison County, The (1995)",
           67
          ],
          [
           372,
           "Jeffrey (1995)",
           34
          ],
          [
           373,
           "Judge Dredd (1995)",
           39
          ],
          [
           374,
           "Mighty Morphin Power Rangers: The Movie (1995)",
           11
          ],
          [
           375,
           "Showgirls (1995)",
           23
          ],
          [
           376,
           "Houseguest (1994)",
           24
          ],
          [
           377,
           "Heavyweights (1994)",
           13
          ],
          [
           378,
           "Miracle on 34th Street (1994)",
           101
          ],
          [
           379,
           "Tales From the Crypt Presents: Demon Knight (1995)",
           43
          ],
          [
           380,
           "Star Trek: Generations (1994)",
           116
          ],
          [
           381,
           "Muriel's Wedding (1994)",
           100
          ],
          [
           382,
           "Adventures of Priscilla, Queen of the Desert, The (1994)",
           111
          ],
          [
           383,
           "Flintstones, The (1994)",
           31
          ],
          [
           384,
           "Naked Gun 33 1/3: The Final Insult (1994)",
           69
          ],
          [
           385,
           "True Lies (1994)",
           208
          ],
          [
           386,
           "Addams Family Values (1993)",
           87
          ],
          [
           387,
           "Age of Innocence, The (1993)",
           65
          ],
          [
           388,
           "Beverly Hills Cop III (1994)",
           28
          ],
          [
           389,
           "Black Beauty (1994)",
           27
          ],
          [
           390,
           "Fear of a Black Hat (1993)",
           10
          ],
          [
           391,
           "Last Action Hero (1993)",
           59
          ],
          [
           392,
           "Man Without a Face, The (1993)",
           68
          ],
          [
           393,
           "Mrs. Doubtfire (1993)",
           192
          ],
          [
           394,
           "Radioland Murders (1994)",
           12
          ],
          [
           395,
           "Robin Hood: Men in Tights (1993)",
           56
          ],
          [
           396,
           "Serial Mom (1994)",
           54
          ],
          [
           397,
           "Striking Distance (1993)",
           12
          ],
          [
           398,
           "Super Mario Bros. (1993)",
           26
          ],
          [
           399,
           "Three Musketeers, The (1993)",
           89
          ],
          [
           400,
           "Little Rascals, The (1994)",
           18
          ],
          [
           401,
           "Brady Bunch Movie, The (1995)",
           76
          ],
          [
           402,
           "Ghost (1990)",
           170
          ],
          [
           403,
           "Batman (1989)",
           201
          ],
          [
           404,
           "Pinocchio (1940)",
           101
          ],
          [
           405,
           "Mission: Impossible (1996)",
           344
          ],
          [
           406,
           "Thinner (1996)",
           49
          ],
          [
           407,
           "Spy Hard (1996)",
           43
          ],
          [
           408,
           "Close Shave, A (1995)",
           112
          ],
          [
           409,
           "Jack (1996)",
           70
          ],
          [
           410,
           "Kingpin (1996)",
           162
          ],
          [
           411,
           "Nutty Professor, The (1996)",
           163
          ],
          [
           412,
           "Very Brady Sequel, A (1996)",
           93
          ],
          [
           413,
           "Tales from the Crypt Presents: Bordello of Blood (1996)",
           55
          ],
          [
           414,
           "My Favorite Year (1982)",
           62
          ],
          [
           415,
           "Apple Dumpling Gang, The (1975)",
           25
          ],
          [
           416,
           "Old Yeller (1957)",
           64
          ],
          [
           417,
           "Parent Trap, The (1961)",
           73
          ],
          [
           418,
           "Cinderella (1950)",
           129
          ],
          [
           419,
           "Mary Poppins (1964)",
           178
          ],
          [
           420,
           "Alice in Wonderland (1951)",
           81
          ],
          [
           421,
           "William Shakespeare's Romeo and Juliet (1996)",
           106
          ],
          [
           422,
           "Aladdin and the King of Thieves (1996)",
           26
          ],
          [
           423,
           "E.T. the Extra-Terrestrial (1982)",
           300
          ],
          [
           424,
           "Children of the Corn: The Gathering (1996)",
           19
          ],
          [
           425,
           "Bob Roberts (1992)",
           85
          ],
          [
           426,
           "Transformers: The Movie, The (1986)",
           32
          ],
          [
           427,
           "To Kill a Mockingbird (1962)",
           219
          ],
          [
           428,
           "Harold and Maude (1971)",
           121
          ],
          [
           429,
           "Day the Earth Stood Still, The (1951)",
           97
          ],
          [
           430,
           "Duck Soup (1933)",
           93
          ],
          [
           431,
           "Highlander (1986)",
           153
          ],
          [
           432,
           "Fantasia (1940)",
           174
          ],
          [
           433,
           "Heathers (1989)",
           171
          ],
          [
           434,
           "Forbidden Planet (1956)",
           67
          ],
          [
           435,
           "Butch Cassidy and the Sundance Kid (1969)",
           216
          ],
          [
           436,
           "American Werewolf in London, An (1981)",
           99
          ],
          [
           437,
           "Amityville 1992: It's About Time (1992)",
           5
          ],
          [
           438,
           "Amityville 3-D (1983)",
           6
          ],
          [
           439,
           "Amityville: A New Generation (1993)",
           5
          ],
          [
           440,
           "Amityville II: The Possession (1982)",
           14
          ],
          [
           441,
           "Amityville Horror, The (1979)",
           53
          ],
          [
           442,
           "Amityville Curse, The (1990)",
           4
          ],
          [
           443,
           "Birds, The (1963)",
           162
          ],
          [
           444,
           "Blob, The (1958)",
           46
          ],
          [
           445,
           "Body Snatcher, The (1945)",
           22
          ],
          [
           446,
           "Burnt Offerings (1976)",
           9
          ],
          [
           447,
           "Carrie (1976)",
           121
          ],
          [
           448,
           "Omen, The (1976)",
           85
          ],
          [
           449,
           "Star Trek: The Motion Picture (1979)",
           117
          ],
          [
           450,
           "Star Trek V: The Final Frontier (1989)",
           63
          ],
          [
           451,
           "Grease (1978)",
           170
          ],
          [
           452,
           "Jaws 2 (1978)",
           66
          ],
          [
           453,
           "Jaws 3-D (1983)",
           16
          ],
          [
           454,
           "Bastard Out of Carolina (1996)",
           16
          ],
          [
           455,
           "Jackie Chan's First Strike (1996)",
           145
          ],
          [
           456,
           "Beverly Hills Ninja (1997)",
           48
          ],
          [
           457,
           "Free Willy 3: The Rescue (1997)",
           27
          ],
          [
           458,
           "Nixon (1995)",
           90
          ],
          [
           459,
           "Cry, the Beloved Country (1995)",
           24
          ],
          [
           460,
           "Crossing Guard, The (1995)",
           28
          ],
          [
           461,
           "Smoke (1995)",
           74
          ],
          [
           462,
           "Like Water For Chocolate (Como agua para chocolate) (1992)",
           148
          ],
          [
           463,
           "Secret of Roan Inish, The (1994)",
           71
          ],
          [
           464,
           "Vanya on 42nd Street (1994)",
           27
          ],
          [
           465,
           "Jungle Book, The (1994)",
           85
          ],
          [
           466,
           "Red Rock West (1992)",
           52
          ],
          [
           467,
           "Bronx Tale, A (1993)",
           48
          ],
          [
           468,
           "Rudy (1993)",
           64
          ],
          [
           469,
           "Short Cuts (1993)",
           67
          ],
          [
           470,
           "Tombstone (1993)",
           108
          ],
          [
           471,
           "Courage Under Fire (1996)",
           221
          ],
          [
           472,
           "Dragonheart (1996)",
           158
          ],
          [
           473,
           "James and the Giant Peach (1996)",
           126
          ],
          [
           474,
           "Dr. Strangelove or: How I Learned to Stop Worrying and Love the Bomb (1963)",
           194
          ],
          [
           475,
           "Trainspotting (1996)",
           250
          ],
          [
           476,
           "First Wives Club, The (1996)",
           160
          ],
          [
           477,
           "Matilda (1996)",
           95
          ],
          [
           478,
           "Philadelphia Story, The (1940)",
           104
          ],
          [
           479,
           "Vertigo (1958)",
           179
          ],
          [
           480,
           "North by Northwest (1959)",
           179
          ],
          [
           481,
           "Apartment, The (1960)",
           63
          ],
          [
           482,
           "Some Like It Hot (1959)",
           128
          ],
          [
           483,
           "Casablanca (1942)",
           243
          ],
          [
           484,
           "Maltese Falcon, The (1941)",
           138
          ],
          [
           485,
           "My Fair Lady (1964)",
           125
          ],
          [
           486,
           "Sabrina (1954)",
           64
          ],
          [
           487,
           "Roman Holiday (1953)",
           68
          ],
          [
           488,
           "Sunset Blvd. (1950)",
           65
          ],
          [
           489,
           "Notorious (1946)",
           52
          ],
          [
           490,
           "To Catch a Thief (1955)",
           50
          ],
          [
           491,
           "Adventures of Robin Hood, The (1938)",
           67
          ],
          [
           492,
           "East of Eden (1955)",
           59
          ],
          [
           493,
           "Thin Man, The (1934)",
           60
          ],
          [
           494,
           "His Girl Friday (1940)",
           56
          ],
          [
           495,
           "Around the World in 80 Days (1956)",
           59
          ],
          [
           496,
           "It's a Wonderful Life (1946)",
           231
          ],
          [
           497,
           "Bringing Up Baby (1938)",
           68
          ],
          [
           498,
           "African Queen, The (1951)",
           152
          ],
          [
           499,
           "Cat on a Hot Tin Roof (1958)",
           62
          ],
          [
           500,
           "Fly Away Home (1996)",
           31
          ],
          [
           501,
           "Dumbo (1941)",
           123
          ],
          [
           502,
           "Bananas (1971)",
           57
          ],
          [
           503,
           "Candidate, The (1972)",
           39
          ],
          [
           504,
           "Bonnie and Clyde (1967)",
           122
          ],
          [
           505,
           "Dial M for Murder (1954)",
           68
          ],
          [
           506,
           "Rebel Without a Cause (1955)",
           90
          ],
          [
           507,
           "Streetcar Named Desire, A (1951)",
           98
          ],
          [
           508,
           "People vs. Larry Flynt, The (1996)",
           215
          ],
          [
           509,
           "My Left Foot (1989)",
           121
          ],
          [
           510,
           "Magnificent Seven, The (1954)",
           121
          ],
          [
           511,
           "Lawrence of Arabia (1962)",
           173
          ],
          [
           512,
           "Wings of Desire (1987)",
           57
          ],
          [
           513,
           "Third Man, The (1949)",
           72
          ],
          [
           514,
           "Annie Hall (1977)",
           180
          ],
          [
           515,
           "Boot, Das (1981)",
           201
          ],
          [
           516,
           "Local Hero (1983)",
           63
          ],
          [
           517,
           "Manhattan (1979)",
           91
          ],
          [
           518,
           "Miller's Crossing (1990)",
           89
          ],
          [
           519,
           "Treasure of the Sierra Madre, The (1948)",
           80
          ],
          [
           520,
           "Great Escape, The (1963)",
           124
          ],
          [
           521,
           "Deer Hunter, The (1978)",
           120
          ],
          [
           522,
           "Down by Law (1986)",
           35
          ],
          [
           523,
           "Cool Hand Luke (1967)",
           164
          ],
          [
           524,
           "Great Dictator, The (1940)",
           46
          ],
          [
           525,
           "Big Sleep, The (1946)",
           73
          ],
          [
           526,
           "Ben-Hur (1959)",
           124
          ],
          [
           527,
           "Gandhi (1982)",
           195
          ],
          [
           528,
           "Killing Fields, The (1984)",
           121
          ],
          [
           529,
           "My Life as a Dog (Mitt liv som hund) (1985)",
           93
          ],
          [
           530,
           "Man Who Would Be King, The (1975)",
           80
          ],
          [
           531,
           "Shine (1996)",
           129
          ],
          [
           532,
           "Kama Sutra: A Tale of Love (1996)",
           22
          ],
          [
           533,
           "Daytrippers, The (1996)",
           15
          ],
          [
           534,
           "Traveller (1997)",
           13
          ],
          [
           535,
           "Addicted to Love (1997)",
           54
          ],
          [
           536,
           "Ponette (1996)",
           10
          ],
          [
           537,
           "My Own Private Idaho (1991)",
           30
          ],
          [
           538,
           "Anastasia (1997)",
           66
          ],
          [
           539,
           "Mouse Hunt (1997)",
           44
          ],
          [
           540,
           "Money Train (1995)",
           43
          ],
          [
           541,
           "Mortal Kombat (1995)",
           49
          ],
          [
           542,
           "Pocahontas (1995)",
           51
          ],
          [
           543,
           "Misérables, Les (1995)",
           21
          ],
          [
           544,
           "Things to Do in Denver when You're Dead (1995)",
           71
          ],
          [
           545,
           "Vampire in Brooklyn (1995)",
           12
          ],
          [
           546,
           "Broken Arrow (1996)",
           254
          ],
          [
           547,
           "Young Poisoner's Handbook, The (1995)",
           41
          ],
          [
           548,
           "NeverEnding Story III, The (1994)",
           12
          ],
          [
           549,
           "Rob Roy (1995)",
           92
          ],
          [
           550,
           "Die Hard: With a Vengeance (1995)",
           151
          ],
          [
           551,
           "Lord of Illusions (1995)",
           24
          ],
          [
           552,
           "Species (1995)",
           45
          ],
          [
           553,
           "Walk in the Clouds, A (1995)",
           63
          ],
          [
           554,
           "Waterworld (1995)",
           102
          ],
          [
           555,
           "White Man's Burden (1995)",
           10
          ],
          [
           556,
           "Wild Bill (1995)",
           12
          ],
          [
           557,
           "Farinelli: il castrato (1994)",
           17
          ],
          [
           558,
           "Heavenly Creatures (1994)",
           70
          ],
          [
           559,
           "Interview with the Vampire (1994)",
           137
          ],
          [
           560,
           "Kid in King Arthur's Court, A (1995)",
           22
          ],
          [
           561,
           "Mary Shelley's Frankenstein (1994)",
           59
          ],
          [
           562,
           "Quick and the Dead, The (1995)",
           48
          ],
          [
           563,
           "Stephen King's The Langoliers (1995)",
           29
          ],
          [
           564,
           "Tales from the Hood (1995)",
           27
          ],
          [
           565,
           "Village of the Damned (1995)",
           22
          ],
          [
           566,
           "Clear and Present Danger (1994)",
           179
          ],
          [
           567,
           "Wes Craven's New Nightmare (1994)",
           35
          ],
          [
           568,
           "Speed (1994)",
           230
          ],
          [
           569,
           "Wolf (1994)",
           67
          ],
          [
           570,
           "Wyatt Earp (1994)",
           50
          ],
          [
           571,
           "Another Stakeout (1993)",
           28
          ],
          [
           572,
           "Blown Away (1994)",
           29
          ],
          [
           573,
           "Body Snatchers (1993)",
           33
          ],
          [
           574,
           "Boxing Helena (1993)",
           15
          ],
          [
           575,
           "City Slickers II: The Legend of Curly's Gold (1994)",
           44
          ],
          [
           576,
           "Cliffhanger (1993)",
           93
          ],
          [
           577,
           "Coneheads (1993)",
           41
          ],
          [
           578,
           "Demolition Man (1993)",
           92
          ],
          [
           579,
           "Fatal Instinct (1993)",
           19
          ],
          [
           580,
           "Englishman Who Went Up a Hill, But Came Down a Mountain, The (1995)",
           32
          ],
          [
           581,
           "Kalifornia (1993)",
           59
          ],
          [
           582,
           "Piano, The (1993)",
           168
          ],
          [
           583,
           "Romeo Is Bleeding (1993)",
           37
          ],
          [
           584,
           "Secret Garden, The (1993)",
           79
          ],
          [
           585,
           "Son in Law (1993)",
           39
          ],
          [
           586,
           "Terminal Velocity (1994)",
           34
          ],
          [
           587,
           "Hour of the Pig, The (1993)",
           14
          ],
          [
           588,
           "Beauty and the Beast (1991)",
           202
          ],
          [
           589,
           "Wild Bunch, The (1969)",
           43
          ],
          [
           590,
           "Hellraiser: Bloodline (1996)",
           18
          ],
          [
           591,
           "Primal Fear (1996)",
           178
          ],
          [
           592,
           "True Crime (1995)",
           9
          ],
          [
           593,
           "Stalingrad (1993)",
           12
          ],
          [
           594,
           "Heavy (1995)",
           5
          ],
          [
           595,
           "Fan, The (1996)",
           64
          ],
          [
           596,
           "Hunchback of Notre Dame, The (1996)",
           127
          ],
          [
           597,
           "Eraser (1996)",
           206
          ],
          [
           598,
           "Big Squeeze, The (1996)",
           4
          ],
          [
           599,
           "Police Story 4: Project S (Chao ji ji hua) (1993)",
           1
          ],
          [
           600,
           "Daniel Defoe's Robinson Crusoe (1996)",
           2
          ],
          [
           601,
           "For Whom the Bell Tolls (1943)",
           20
          ],
          [
           602,
           "American in Paris, An (1951)",
           50
          ],
          [
           603,
           "Rear Window (1954)",
           209
          ],
          [
           604,
           "It Happened One Night (1934)",
           81
          ],
          [
           605,
           "Meet Me in St. Louis (1944)",
           31
          ],
          [
           606,
           "All About Eve (1950)",
           66
          ],
          [
           607,
           "Rebecca (1940)",
           66
          ],
          [
           608,
           "Spellbound (1945)",
           30
          ],
          [
           609,
           "Father of the Bride (1950)",
           60
          ],
          [
           610,
           "Gigi (1958)",
           41
          ],
          [
           611,
           "Laura (1944)",
           40
          ],
          [
           612,
           "Lost Horizon (1937)",
           34
          ],
          [
           613,
           "My Man Godfrey (1936)",
           27
          ],
          [
           614,
           "Giant (1956)",
           51
          ],
          [
           615,
           "39 Steps, The (1935)",
           59
          ],
          [
           616,
           "Night of the Living Dead (1968)",
           64
          ],
          [
           617,
           "Blue Angel, The (Blaue Engel, Der) (1930)",
           18
          ],
          [
           618,
           "Picnic (1955)",
           18
          ],
          [
           619,
           "Extreme Measures (1996)",
           64
          ],
          [
           620,
           "Chamber, The (1996)",
           43
          ],
          [
           621,
           "Davy Crockett, King of the Wild Frontier (1955)",
           11
          ],
          [
           622,
           "Swiss Family Robinson (1960)",
           39
          ],
          [
           623,
           "Angels in the Outfield (1994)",
           39
          ],
          [
           624,
           "Three Caballeros, The (1945)",
           22
          ],
          [
           625,
           "Sword in the Stone, The (1963)",
           82
          ],
          [
           626,
           "So Dear to My Heart (1949)",
           4
          ],
          [
           627,
           "Robin Hood: Prince of Thieves (1991)",
           75
          ],
          [
           628,
           "Sleepers (1996)",
           169
          ],
          [
           629,
           "Victor/Victoria (1982)",
           77
          ],
          [
           630,
           "Great Race, The (1965)",
           31
          ],
          [
           631,
           "Crying Game, The (1992)",
           119
          ],
          [
           632,
           "Sophie's Choice (1982)",
           58
          ],
          [
           633,
           "Christmas Carol, A (1938)",
           69
          ],
          [
           634,
           "Microcosmos: Le peuple de l'herbe (1996)",
           24
          ],
          [
           635,
           "Fog, The (1980)",
           23
          ],
          [
           636,
           "Escape from New York (1981)",
           91
          ],
          [
           637,
           "Howling, The (1981)",
           38
          ],
          [
           638,
           "Return of Martin Guerre, The (Retour de Martin Guerre, Le) (1982)",
           44
          ],
          [
           639,
           "Tin Drum, The (Blechtrommel, Die) (1979)",
           40
          ],
          [
           640,
           "Cook the Thief His Wife & Her Lover, The (1989)",
           82
          ],
          [
           641,
           "Paths of Glory (1957)",
           33
          ],
          [
           642,
           "Grifters, The (1990)",
           89
          ],
          [
           643,
           "The Innocent (1994)",
           4
          ],
          [
           644,
           "Thin Blue Line, The (1988)",
           35
          ],
          [
           645,
           "Paris Is Burning (1990)",
           27
          ],
          [
           646,
           "Once Upon a Time in the West (1969)",
           38
          ],
          [
           647,
           "Ran (1985)",
           70
          ],
          [
           648,
           "Quiet Man, The (1952)",
           67
          ],
          [
           649,
           "Once Upon a Time in America (1984)",
           50
          ],
          [
           650,
           "Seventh Seal, The (Sjunde inseglet, Det) (1957)",
           72
          ],
          [
           651,
           "Glory (1989)",
           171
          ],
          [
           652,
           "Rosencrantz and Guildenstern Are Dead (1990)",
           90
          ],
          [
           653,
           "Touch of Evil (1958)",
           34
          ],
          [
           654,
           "Chinatown (1974)",
           147
          ],
          [
           655,
           "Stand by Me (1986)",
           227
          ],
          [
           656,
           "M (1931)",
           44
          ],
          [
           657,
           "Manchurian Candidate, The (1962)",
           131
          ],
          [
           658,
           "Pump Up the Volume (1990)",
           79
          ],
          [
           659,
           "Arsenic and Old Lace (1944)",
           115
          ],
          [
           660,
           "Fried Green Tomatoes (1991)",
           153
          ],
          [
           661,
           "High Noon (1952)",
           88
          ],
          [
           662,
           "Somewhere in Time (1980)",
           82
          ],
          [
           663,
           "Being There (1979)",
           116
          ],
          [
           664,
           "Paris, Texas (1984)",
           46
          ],
          [
           665,
           "Alien 3 (1992)",
           100
          ],
          [
           666,
           "Blood For Dracula (Andy Warhol's Dracula) (1974)",
           5
          ],
          [
           667,
           "Audrey Rose (1977)",
           12
          ],
          [
           668,
           "Blood Beach (1981)",
           6
          ],
          [
           669,
           "Body Parts (1991)",
           13
          ],
          [
           670,
           "Body Snatchers (1993)",
           36
          ],
          [
           671,
           "Bride of Frankenstein (1935)",
           46
          ],
          [
           672,
           "Candyman (1992)",
           65
          ],
          [
           673,
           "Cape Fear (1962)",
           86
          ],
          [
           674,
           "Cat People (1982)",
           48
          ],
          [
           675,
           "Nosferatu (Nosferatu, eine Symphonie des Grauens) (1922)",
           54
          ],
          [
           676,
           "Crucible, The (1996)",
           77
          ],
          [
           677,
           "Fire on the Mountain (1996)",
           1
          ],
          [
           678,
           "Volcano (1997)",
           219
          ],
          [
           679,
           "Conan the Barbarian (1981)",
           107
          ],
          [
           680,
           "Kull the Conqueror (1997)",
           34
          ],
          [
           681,
           "Wishmaster (1997)",
           27
          ],
          [
           682,
           "I Know What You Did Last Summer (1997)",
           100
          ],
          [
           683,
           "Rocket Man (1997)",
           49
          ],
          [
           684,
           "In the Line of Fire (1993)",
           169
          ],
          [
           685,
           "Executive Decision (1996)",
           157
          ],
          [
           686,
           "Perfect World, A (1993)",
           50
          ],
          [
           687,
           "McHale's Navy (1997)",
           69
          ],
          [
           688,
           "Leave It to Beaver (1997)",
           44
          ],
          [
           689,
           "Jackal, The (1997)",
           87
          ],
          [
           690,
           "Seven Years in Tibet (1997)",
           155
          ],
          [
           691,
           "Dark City (1998)",
           16
          ],
          [
           692,
           "American President, The (1995)",
           164
          ],
          [
           693,
           "Casino (1995)",
           91
          ],
          [
           694,
           "Persuasion (1995)",
           44
          ],
          [
           695,
           "Kicking and Screaming (1995)",
           13
          ],
          [
           696,
           "City Hall (1996)",
           79
          ],
          [
           697,
           "Basketball Diaries, The (1995)",
           40
          ],
          [
           698,
           "Browning Version, The (1994)",
           10
          ],
          [
           699,
           "Little Women (1994)",
           102
          ],
          [
           700,
           "Miami Rhapsody (1995)",
           15
          ],
          [
           701,
           "Wonderful, Horrible Life of Leni Riefenstahl, The (1993)",
           10
          ],
          [
           702,
           "Barcelona (1994)",
           53
          ],
          [
           703,
           "Widows' Peak (1994)",
           19
          ],
          [
           704,
           "House of the Spirits, The (1993)",
           24
          ],
          [
           705,
           "Singin' in the Rain (1952)",
           137
          ],
          [
           706,
           "Bad Moon (1996)",
           6
          ],
          [
           707,
           "Enchanted April (1991)",
           70
          ],
          [
           708,
           "Sex, Lies, and Videotape (1989)",
           101
          ],
          [
           709,
           "Strictly Ballroom (1992)",
           104
          ],
          [
           710,
           "Better Off Dead... (1985)",
           79
          ],
          [
           711,
           "Substance of Fire, The (1996)",
           1
          ],
          [
           712,
           "Tin Men (1987)",
           51
          ],
          [
           713,
           "Othello (1995)",
           72
          ],
          [
           714,
           "Carrington (1995)",
           13
          ],
          [
           715,
           "To Die For (1995)",
           87
          ],
          [
           716,
           "Home for the Holidays (1995)",
           58
          ],
          [
           717,
           "Juror, The (1996)",
           82
          ],
          [
           718,
           "In the Bleak Midwinter (1995)",
           16
          ],
          [
           719,
           "Canadian Bacon (1994)",
           29
          ],
          [
           720,
           "First Knight (1995)",
           86
          ],
          [
           721,
           "Mallrats (1995)",
           54
          ],
          [
           722,
           "Nine Months (1995)",
           58
          ],
          [
           723,
           "Boys on the Side (1995)",
           34
          ],
          [
           724,
           "Circle of Friends (1995)",
           76
          ],
          [
           725,
           "Exit to Eden (1994)",
           16
          ],
          [
           726,
           "Fluke (1995)",
           14
          ],
          [
           727,
           "Immortal Beloved (1994)",
           63
          ],
          [
           728,
           "Junior (1994)",
           45
          ],
          [
           729,
           "Nell (1994)",
           81
          ],
          [
           730,
           "Queen Margot (Reine Margot, La) (1994)",
           24
          ],
          [
           731,
           "Corrina, Corrina (1994)",
           39
          ],
          [
           732,
           "Dave (1993)",
           180
          ],
          [
           733,
           "Go Fish (1994)",
           15
          ],
          [
           734,
           "Made in America (1993)",
           27
          ],
          [
           735,
           "Philadelphia (1993)",
           137
          ],
          [
           736,
           "Shadowlands (1993)",
           78
          ],
          [
           737,
           "Sirens (1994)",
           59
          ],
          [
           738,
           "Threesome (1994)",
           31
          ],
          [
           739,
           "Pretty Woman (1990)",
           164
          ],
          [
           740,
           "Jane Eyre (1996)",
           63
          ],
          [
           741,
           "Last Supper, The (1995)",
           58
          ],
          [
           742,
           "Ransom (1996)",
           267
          ],
          [
           743,
           "Crow: City of Angels, The (1996)",
           39
          ],
          [
           744,
           "Michael Collins (1996)",
           92
          ],
          [
           745,
           "Ruling Class, The (1972)",
           16
          ],
          [
           746,
           "Real Genius (1985)",
           119
          ],
          [
           747,
           "Benny & Joon (1993)",
           102
          ],
          [
           748,
           "Saint, The (1997)",
           316
          ],
          [
           749,
           "MatchMaker, The (1997)",
           51
          ],
          [
           750,
           "Amistad (1997)",
           124
          ],
          [
           751,
           "Tomorrow Never Dies (1997)",
           180
          ],
          [
           752,
           "Replacement Killers, The (1998)",
           39
          ],
          [
           753,
           "Burnt By the Sun (1994)",
           24
          ],
          [
           754,
           "Red Corner (1997)",
           57
          ],
          [
           755,
           "Jumanji (1995)",
           96
          ],
          [
           756,
           "Father of the Bride Part II (1995)",
           128
          ],
          [
           757,
           "Across the Sea of Time (1995)",
           4
          ],
          [
           758,
           "Lawnmower Man 2: Beyond Cyberspace (1996)",
           21
          ],
          [
           759,
           "Fair Game (1995)",
           11
          ],
          [
           760,
           "Screamers (1995)",
           46
          ],
          [
           761,
           "Nick of Time (1995)",
           44
          ],
          [
           762,
           "Beautiful Girls (1996)",
           115
          ],
          [
           763,
           "Happy Gilmore (1996)",
           149
          ],
          [
           764,
           "If Lucy Fell (1996)",
           29
          ],
          [
           765,
           "Boomerang (1992)",
           32
          ],
          [
           766,
           "Man of the Year (1995)",
           9
          ],
          [
           767,
           "Addiction, The (1995)",
           11
          ],
          [
           768,
           "Casper (1995)",
           52
          ],
          [
           769,
           "Congo (1995)",
           42
          ],
          [
           770,
           "Devil in a Blue Dress (1995)",
           57
          ],
          [
           771,
           "Johnny Mnemonic (1995)",
           41
          ],
          [
           772,
           "Kids (1995)",
           49
          ],
          [
           773,
           "Mute Witness (1994)",
           17
          ],
          [
           774,
           "Prophecy, The (1995)",
           32
          ],
          [
           775,
           "Something to Talk About (1995)",
           26
          ],
          [
           776,
           "Three Wishes (1995)",
           9
          ],
          [
           777,
           "Castle Freak (1995)",
           4
          ],
          [
           778,
           "Don Juan DeMarco (1995)",
           76
          ],
          [
           779,
           "Drop Zone (1994)",
           31
          ],
          [
           780,
           "Dumb & Dumber (1994)",
           69
          ],
          [
           781,
           "French Kiss (1995)",
           84
          ],
          [
           782,
           "Little Odessa (1994)",
           10
          ],
          [
           783,
           "Milk Money (1994)",
           37
          ],
          [
           784,
           "Beyond Bedlam (1993)",
           2
          ],
          [
           785,
           "Only You (1994)",
           39
          ],
          [
           786,
           "Perez Family, The (1995)",
           14
          ],
          [
           787,
           "Roommates (1995)",
           13
          ],
          [
           788,
           "Relative Fear (1994)",
           3
          ],
          [
           789,
           "Swimming with Sharks (1995)",
           47
          ],
          [
           790,
           "Tommy Boy (1995)",
           66
          ],
          [
           791,
           "Baby-Sitters Club, The (1995)",
           10
          ],
          [
           792,
           "Bullets Over Broadway (1994)",
           86
          ],
          [
           793,
           "Crooklyn (1994)",
           10
          ],
          [
           794,
           "It Could Happen to You (1994)",
           46
          ],
          [
           795,
           "Richie Rich (1994)",
           21
          ],
          [
           796,
           "Speechless (1994)",
           36
          ],
          [
           797,
           "Timecop (1994)",
           31
          ],
          [
           798,
           "Bad Company (1995)",
           9
          ],
          [
           799,
           "Boys Life (1995)",
           5
          ],
          [
           800,
           "In the Mouth of Madness (1995)",
           26
          ],
          [
           801,
           "Air Up There, The (1994)",
           16
          ],
          [
           802,
           "Hard Target (1993)",
           40
          ],
          [
           803,
           "Heaven & Earth (1993)",
           9
          ],
          [
           804,
           "Jimmy Hollywood (1994)",
           8
          ],
          [
           805,
           "Manhattan Murder Mystery (1993)",
           27
          ],
          [
           806,
           "Menace II Society (1993)",
           50
          ],
          [
           807,
           "Poetic Justice (1993)",
           9
          ],
          [
           808,
           "Program, The (1993)",
           31
          ],
          [
           809,
           "Rising Sun (1993)",
           43
          ],
          [
           810,
           "Shadow, The (1994)",
           45
          ],
          [
           811,
           "Thirty-Two Short Films About Glenn Gould (1993)",
           18
          ],
          [
           812,
           "Andre (1994)",
           18
          ],
          [
           813,
           "Celluloid Closet, The (1995)",
           56
          ],
          [
           814,
           "Great Day in Harlem, A (1994)",
           1
          ],
          [
           815,
           "One Fine Day (1996)",
           112
          ],
          [
           816,
           "Candyman: Farewell to the Flesh (1995)",
           21
          ],
          [
           817,
           "Frisk (1995)",
           3
          ],
          [
           818,
           "Girl 6 (1996)",
           25
          ],
          [
           819,
           "Eddie (1996)",
           40
          ],
          [
           820,
           "Space Jam (1996)",
           93
          ],
          [
           821,
           "Mrs. Winterbourne (1996)",
           22
          ],
          [
           822,
           "Faces (1968)",
           4
          ],
          [
           823,
           "Mulholland Falls (1996)",
           82
          ],
          [
           824,
           "Great White Hype, The (1996)",
           49
          ],
          [
           825,
           "Arrival, The (1996)",
           83
          ],
          [
           826,
           "Phantom, The (1996)",
           80
          ],
          [
           827,
           "Daylight (1996)",
           57
          ],
          [
           828,
           "Alaska (1996)",
           13
          ],
          [
           829,
           "Fled (1996)",
           34
          ],
          [
           830,
           "Power 98 (1995)",
           1
          ],
          [
           831,
           "Escape from L.A. (1996)",
           91
          ],
          [
           832,
           "Bogus (1996)",
           22
          ],
          [
           833,
           "Bulletproof (1996)",
           49
          ],
          [
           834,
           "Halloween: The Curse of Michael Myers (1995)",
           25
          ],
          [
           835,
           "Gay Divorcee, The (1934)",
           15
          ],
          [
           836,
           "Ninotchka (1939)",
           26
          ],
          [
           837,
           "Meet John Doe (1941)",
           25
          ],
          [
           838,
           "In the Line of Duty 2 (1987)",
           4
          ],
          [
           839,
           "Loch Ness (1995)",
           4
          ],
          [
           840,
           "Last Man Standing (1996)",
           53
          ],
          [
           841,
           "Glimmer Man, The (1996)",
           48
          ],
          [
           842,
           "Pollyanna (1960)",
           27
          ],
          [
           843,
           "Shaggy Dog, The (1959)",
           30
          ],
          [
           844,
           "Freeway (1996)",
           42
          ],
          [
           845,
           "That Thing You Do! (1996)",
           176
          ],
          [
           846,
           "To Gillian on Her 37th Birthday (1996)",
           44
          ],
          [
           847,
           "Looking for Richard (1996)",
           55
          ],
          [
           848,
           "Murder, My Sweet (1944)",
           9
          ],
          [
           849,
           "Days of Thunder (1990)",
           53
          ],
          [
           850,
           "Perfect Candidate, A (1996)",
           4
          ],
          [
           851,
           "Two or Three Things I Know About Her (1966)",
           4
          ],
          [
           852,
           "Bloody Child, The (1996)",
           1
          ],
          [
           853,
           "Braindead (1992)",
           14
          ],
          [
           854,
           "Bad Taste (1987)",
           16
          ],
          [
           855,
           "Diva (1981)",
           66
          ],
          [
           856,
           "Night on Earth (1991)",
           36
          ],
          [
           857,
           "Paris Was a Woman (1995)",
           1
          ],
          [
           858,
           "Amityville: Dollhouse (1996)",
           3
          ],
          [
           859,
           "April Fool's Day (1986)",
           15
          ],
          [
           860,
           "Believers, The (1987)",
           16
          ],
          [
           861,
           "Nosferatu a Venezia (1986)",
           3
          ],
          [
           862,
           "Jingle All the Way (1996)",
           18
          ],
          [
           863,
           "Garden of Finzi-Contini, The (Giardino dei Finzi-Contini, Il) (1970)",
           24
          ],
          [
           864,
           "My Fellow Americans (1996)",
           86
          ],
          [
           865,
           "Ice Storm, The (1997)",
           21
          ],
          [
           866,
           "Michael (1996)",
           119
          ],
          [
           867,
           "Whole Wide World, The (1996)",
           6
          ],
          [
           868,
           "Hearts and Minds (1996)",
           5
          ],
          [
           869,
           "Fools Rush In (1997)",
           24
          ],
          [
           870,
           "Touch (1997)",
           9
          ],
          [
           871,
           "Vegas Vacation (1997)",
           75
          ],
          [
           872,
           "Love Jones (1997)",
           42
          ],
          [
           873,
           "Picture Perfect (1997)",
           81
          ],
          [
           874,
           "Career Girls (1997)",
           39
          ],
          [
           875,
           "She's So Lovely (1997)",
           53
          ],
          [
           876,
           "Money Talks (1997)",
           47
          ],
          [
           877,
           "Excess Baggage (1997)",
           52
          ],
          [
           878,
           "That Darn Cat! (1997)",
           33
          ],
          [
           879,
           "Peacemaker, The (1997)",
           136
          ],
          [
           880,
           "Soul Food (1997)",
           59
          ],
          [
           881,
           "Money Talks (1997)",
           45
          ],
          [
           882,
           "Washington Square (1997)",
           34
          ],
          [
           883,
           "Telling Lies in America (1997)",
           13
          ],
          [
           884,
           "Year of the Horse (1997)",
           7
          ],
          [
           885,
           "Phantoms (1998)",
           13
          ],
          [
           886,
           "Life Less Ordinary, A (1997)",
           53
          ],
          [
           887,
           "Eve's Bayou (1997)",
           64
          ],
          [
           888,
           "One Night Stand (1997)",
           15
          ],
          [
           889,
           "Tango Lesson, The (1997)",
           13
          ],
          [
           890,
           "Mortal Kombat: Annihilation (1997)",
           43
          ],
          [
           891,
           "Bent (1997)",
           6
          ],
          [
           892,
           "Flubber (1997)",
           53
          ],
          [
           893,
           "For Richer or Poorer (1997)",
           14
          ],
          [
           894,
           "Home Alone 3 (1997)",
           19
          ],
          [
           895,
           "Scream 2 (1997)",
           106
          ],
          [
           896,
           "Sweet Hereafter, The (1997)",
           44
          ],
          [
           897,
           "Time Tracers (1995)",
           2
          ],
          [
           898,
           "Postman, The (1997)",
           58
          ],
          [
           899,
           "Winter Guest, The (1997)",
           9
          ],
          [
           900,
           "Kundun (1997)",
           42
          ],
          [
           901,
           "Mr. Magoo (1997)",
           12
          ],
          [
           902,
           "Big Lebowski, The (1998)",
           42
          ],
          [
           903,
           "Afterglow (1997)",
           18
          ],
          [
           904,
           "Ma vie en rose (My Life in Pink) (1997)",
           20
          ],
          [
           905,
           "Great Expectations (1998)",
           27
          ],
          [
           906,
           "Oscar & Lucinda (1997)",
           21
          ],
          [
           907,
           "Vermin (1998)",
           2
          ],
          [
           908,
           "Half Baked (1998)",
           20
          ],
          [
           909,
           "Dangerous Beauty (1998)",
           13
          ],
          [
           910,
           "Nil By Mouth (1997)",
           4
          ],
          [
           911,
           "Twilight (1998)",
           4
          ],
          [
           912,
           "U.S. Marshalls (1998)",
           9
          ],
          [
           913,
           "Love and Death on Long Island (1997)",
           2
          ],
          [
           914,
           "Wild Things (1998)",
           11
          ],
          [
           915,
           "Primary Colors (1998)",
           13
          ],
          [
           916,
           "Lost in Space (1998)",
           18
          ],
          [
           917,
           "Mercury Rising (1998)",
           7
          ],
          [
           918,
           "City of Angels (1998)",
           8
          ],
          [
           919,
           "City of Lost Children, The (1995)",
           96
          ],
          [
           920,
           "Two Bits (1995)",
           5
          ],
          [
           921,
           "Farewell My Concubine (1993)",
           46
          ],
          [
           922,
           "Dead Man (1995)",
           34
          ],
          [
           923,
           "Raise the Red Lantern (1991)",
           58
          ],
          [
           924,
           "White Squall (1996)",
           85
          ],
          [
           925,
           "Unforgettable (1996)",
           34
          ],
          [
           926,
           "Down Periscope (1996)",
           101
          ],
          [
           927,
           "Flower of My Secret, The (Flor de mi secreto, La) (1995)",
           6
          ],
          [
           928,
           "Craft, The (1996)",
           104
          ],
          [
           929,
           "Harriet the Spy (1996)",
           40
          ],
          [
           930,
           "Chain Reaction (1996)",
           80
          ],
          [
           931,
           "Island of Dr. Moreau, The (1996)",
           57
          ],
          [
           932,
           "First Kid (1996)",
           40
          ],
          [
           933,
           "Funeral, The (1996)",
           21
          ],
          [
           934,
           "Preacher's Wife, The (1996)",
           68
          ],
          [
           935,
           "Paradise Road (1997)",
           7
          ],
          [
           936,
           "Brassed Off (1996)",
           32
          ],
          [
           937,
           "Thousand Acres, A (1997)",
           37
          ],
          [
           938,
           "Smile Like Yours, A (1997)",
           25
          ],
          [
           939,
           "Murder in the First (1995)",
           60
          ],
          [
           940,
           "Airheads (1994)",
           32
          ],
          [
           941,
           "With Honors (1994)",
           46
          ],
          [
           942,
           "What's Love Got to Do with It (1993)",
           45
          ],
          [
           943,
           "Killing Zoe (1994)",
           40
          ],
          [
           944,
           "Renaissance Man (1994)",
           43
          ],
          [
           945,
           "Charade (1963)",
           40
          ],
          [
           946,
           "Fox and the Hound, The (1981)",
           61
          ],
          [
           947,
           "Big Blue, The (Grand bleu, Le) (1988)",
           17
          ],
          [
           948,
           "Booty Call (1997)",
           48
          ],
          [
           949,
           "How to Make an American Quilt (1995)",
           71
          ],
          [
           950,
           "Georgia (1995)",
           30
          ],
          [
           951,
           "Indian in the Cupboard, The (1995)",
           39
          ],
          [
           952,
           "Blue in the Face (1995)",
           45
          ],
          [
           953,
           "Unstrung Heroes (1995)",
           22
          ],
          [
           954,
           "Unzipped (1995)",
           11
          ],
          [
           955,
           "Before Sunrise (1995)",
           49
          ],
          [
           956,
           "Nobody's Fool (1994)",
           46
          ],
          [
           957,
           "Pushing Hands (1992)",
           2
          ],
          [
           958,
           "To Live (Huozhe) (1994)",
           14
          ],
          [
           959,
           "Dazed and Confused (1993)",
           64
          ],
          [
           960,
           "Naked (1993)",
           25
          ],
          [
           961,
           "Orlando (1993)",
           34
          ],
          [
           962,
           "Ruby in Paradise (1993)",
           23
          ],
          [
           963,
           "Some Folks Call It a Sling Blade (1993)",
           41
          ],
          [
           964,
           "Month by the Lake, A (1995)",
           9
          ],
          [
           965,
           "Funny Face (1957)",
           21
          ],
          [
           966,
           "Affair to Remember, An (1957)",
           26
          ],
          [
           967,
           "Little Lord Fauntleroy (1936)",
           12
          ],
          [
           968,
           "Inspector General, The (1949)",
           18
          ],
          [
           969,
           "Winnie the Pooh and the Blustery Day (1968)",
           75
          ],
          [
           970,
           "Hear My Song (1991)",
           8
          ],
          [
           971,
           "Mediterraneo (1991)",
           34
          ],
          [
           972,
           "Passion Fish (1992)",
           28
          ],
          [
           973,
           "Grateful Dead (1995)",
           4
          ],
          [
           974,
           "Eye for an Eye (1996)",
           32
          ],
          [
           975,
           "Fear (1996)",
           44
          ],
          [
           976,
           "Solo (1996)",
           12
          ],
          [
           977,
           "Substitute, The (1996)",
           49
          ],
          [
           978,
           "Heaven's Prisoners (1996)",
           27
          ],
          [
           979,
           "Trigger Effect, The (1996)",
           35
          ],
          [
           980,
           "Mother Night (1996)",
           22
          ],
          [
           981,
           "Dangerous Ground (1997)",
           8
          ],
          [
           982,
           "Maximum Risk (1996)",
           20
          ],
          [
           983,
           "Rich Man's Wife, The (1996)",
           15
          ],
          [
           984,
           "Shadow Conspiracy (1997)",
           44
          ],
          [
           985,
           "Blood & Wine (1997)",
           22
          ],
          [
           986,
           "Turbulence (1997)",
           23
          ],
          [
           987,
           "Underworld (1997)",
           4
          ],
          [
           988,
           "Beautician and the Beast, The (1997)",
           86
          ],
          [
           989,
           "Cats Don't Dance (1997)",
           32
          ],
          [
           990,
           "Anna Karenina (1997)",
           33
          ],
          [
           991,
           "Keys to Tulsa (1997)",
           25
          ],
          [
           992,
           "Head Above Water (1996)",
           4
          ],
          [
           993,
           "Hercules (1997)",
           66
          ],
          [
           994,
           "Last Time I Committed Suicide, The (1997)",
           7
          ],
          [
           995,
           "Kiss Me, Guido (1997)",
           31
          ],
          [
           996,
           "Big Green, The (1995)",
           14
          ],
          [
           997,
           "Stuart Saves His Family (1995)",
           16
          ],
          [
           998,
           "Cabin Boy (1994)",
           16
          ],
          [
           999,
           "Clean Slate (1994)",
           10
          ],
          [
           1000,
           "Lightning Jack (1994)",
           10
          ],
          [
           1001,
           "Stupids, The (1996)",
           17
          ],
          [
           1002,
           "Pest, The (1997)",
           8
          ],
          [
           1003,
           "That Darn Cat! (1997)",
           8
          ],
          [
           1004,
           "Geronimo: An American Legend (1993)",
           9
          ],
          [
           1005,
           "Double vie de Véronique, La (Double Life of Veronique, The) (1991)",
           22
          ],
          [
           1006,
           "Until the End of the World (Bis ans Ende der Welt) (1991)",
           23
          ],
          [
           1007,
           "Waiting for Guffman (1996)",
           47
          ],
          [
           1008,
           "I Shot Andy Warhol (1996)",
           37
          ],
          [
           1009,
           "Stealing Beauty (1996)",
           64
          ],
          [
           1010,
           "Basquiat (1996)",
           44
          ],
          [
           1011,
           "2 Days in the Valley (1996)",
           93
          ],
          [
           1012,
           "Private Parts (1997)",
           100
          ],
          [
           1013,
           "Anaconda (1997)",
           38
          ],
          [
           1014,
           "Romy and Michele's High School Reunion (1997)",
           98
          ],
          [
           1015,
           "Shiloh (1997)",
           12
          ],
          [
           1016,
           "Con Air (1997)",
           137
          ],
          [
           1017,
           "Trees Lounge (1996)",
           50
          ],
          [
           1018,
           "Tie Me Up! Tie Me Down! (1990)",
           32
          ],
          [
           1019,
           "Die xue shuang xiong (Killer, The) (1989)",
           31
          ],
          [
           1020,
           "Gaslight (1944)",
           35
          ],
          [
           1021,
           "8 1/2 (1963)",
           38
          ],
          [
           1022,
           "Fast, Cheap & Out of Control (1997)",
           32
          ],
          [
           1023,
           "Fathers' Day (1997)",
           31
          ],
          [
           1024,
           "Mrs. Dalloway (1997)",
           15
          ],
          [
           1025,
           "Fire Down Below (1997)",
           44
          ],
          [
           1026,
           "Lay of the Land, The (1997)",
           4
          ],
          [
           1027,
           "Shooter, The (1995)",
           3
          ],
          [
           1028,
           "Grumpier Old Men (1995)",
           148
          ],
          [
           1029,
           "Jury Duty (1995)",
           14
          ],
          [
           1030,
           "Beverly Hillbillies, The (1993)",
           20
          ],
          [
           1031,
           "Lassie (1994)",
           7
          ],
          [
           1032,
           "Little Big League (1994)",
           16
          ],
          [
           1033,
           "Homeward Bound II: Lost in San Francisco (1996)",
           32
          ],
          [
           1034,
           "Quest, The (1996)",
           27
          ],
          [
           1035,
           "Cool Runnings (1993)",
           68
          ],
          [
           1036,
           "Drop Dead Fred (1991)",
           24
          ],
          [
           1037,
           "Grease 2 (1982)",
           24
          ],
          [
           1038,
           "Switchback (1997)",
           17
          ],
          [
           1039,
           "Hamlet (1996)",
           90
          ],
          [
           1040,
           "Two if by Sea (1996)",
           25
          ],
          [
           1041,
           "Forget Paris (1995)",
           62
          ],
          [
           1042,
           "Just Cause (1995)",
           28
          ],
          [
           1043,
           "Rent-a-Kid (1995)",
           8
          ],
          [
           1044,
           "Paper, The (1994)",
           40
          ],
          [
           1045,
           "Fearless (1993)",
           25
          ],
          [
           1046,
           "Malice (1993)",
           46
          ],
          [
           1047,
           "Multiplicity (1996)",
           134
          ],
          [
           1048,
           "She's the One (1996)",
           73
          ],
          [
           1049,
           "House Arrest (1996)",
           25
          ],
          [
           1050,
           "Ghost and Mrs. Muir, The (1947)",
           43
          ],
          [
           1051,
           "Associate, The (1996)",
           41
          ],
          [
           1052,
           "Dracula: Dead and Loving It (1995)",
           25
          ],
          [
           1053,
           "Now and Then (1995)",
           24
          ],
          [
           1054,
           "Mr. Wrong (1996)",
           23
          ],
          [
           1055,
           "Simple Twist of Fate, A (1994)",
           10
          ],
          [
           1056,
           "Cronos (1992)",
           10
          ],
          [
           1057,
           "Pallbearer, The (1996)",
           22
          ],
          [
           1058,
           "War, The (1994)",
           15
          ],
          [
           1059,
           "Don't Be a Menace to South Central While Drinking Your Juice in the Hood (1996)",
           35
          ],
          [
           1060,
           "Adventures of Pinocchio, The (1996)",
           39
          ],
          [
           1061,
           "Evening Star, The (1996)",
           29
          ],
          [
           1062,
           "Four Days in September (1997)",
           12
          ],
          [
           1063,
           "Little Princess, A (1995)",
           41
          ],
          [
           1064,
           "Crossfire (1947)",
           4
          ],
          [
           1065,
           "Koyaanisqatsi (1983)",
           53
          ],
          [
           1066,
           "Balto (1995)",
           16
          ],
          [
           1067,
           "Bottle Rocket (1996)",
           44
          ],
          [
           1068,
           "Star Maker, The (Uomo delle stelle, L') (1995)",
           12
          ],
          [
           1069,
           "Amateur (1994)",
           18
          ],
          [
           1070,
           "Living in Oblivion (1995)",
           27
          ],
          [
           1071,
           "Party Girl (1995)",
           16
          ],
          [
           1072,
           "Pyromaniac's Love Story, A (1995)",
           7
          ],
          [
           1073,
           "Shallow Grave (1994)",
           66
          ],
          [
           1074,
           "Reality Bites (1994)",
           77
          ],
          [
           1075,
           "Man of No Importance, A (1994)",
           7
          ],
          [
           1076,
           "Pagemaster, The (1994)",
           12
          ],
          [
           1077,
           "Love and a .45 (1994)",
           8
          ],
          [
           1078,
           "Oliver & Company (1988)",
           22
          ],
          [
           1079,
           "Joe's Apartment (1996)",
           45
          ],
          [
           1080,
           "Celestial Clockwork (1994)",
           2
          ],
          [
           1081,
           "Curdled (1996)",
           8
          ],
          [
           1082,
           "Female Perversions (1996)",
           8
          ],
          [
           1083,
           "Albino Alligator (1996)",
           6
          ],
          [
           1084,
           "Anne Frank Remembered (1995)",
           21
          ],
          [
           1085,
           "Carried Away (1996)",
           11
          ],
          [
           1086,
           "It's My Party (1995)",
           21
          ],
          [
           1087,
           "Bloodsport 2 (1995)",
           10
          ],
          [
           1088,
           "Double Team (1997)",
           13
          ],
          [
           1089,
           "Speed 2: Cruise Control (1997)",
           38
          ],
          [
           1090,
           "Sliver (1993)",
           37
          ],
          [
           1091,
           "Pete's Dragon (1977)",
           43
          ],
          [
           1092,
           "Dear God (1996)",
           12
          ],
          [
           1093,
           "Live Nude Girls (1995)",
           23
          ],
          [
           1094,
           "Thin Line Between Love and Hate, A (1996)",
           12
          ],
          [
           1095,
           "High School High (1996)",
           29
          ],
          [
           1096,
           "Commandments (1997)",
           3
          ],
          [
           1097,
           "Hate (Haine, La) (1995)",
           18
          ],
          [
           1098,
           "Flirting With Disaster (1996)",
           42
          ],
          [
           1099,
           "Red Firecracker, Green Firecracker (1994)",
           13
          ],
          [
           1100,
           "What Happened Was... (1994)",
           8
          ],
          [
           1101,
           "Six Degrees of Separation (1993)",
           74
          ],
          [
           1102,
           "Two Much (1996)",
           7
          ],
          [
           1103,
           "Trust (1990)",
           19
          ],
          [
           1104,
           "C'est arrivé près de chez vous (1992)",
           4
          ],
          [
           1105,
           "Firestorm (1998)",
           18
          ],
          [
           1106,
           "Newton Boys, The (1998)",
           4
          ],
          [
           1107,
           "Beyond Rangoon (1995)",
           18
          ],
          [
           1108,
           "Feast of July (1995)",
           5
          ],
          [
           1109,
           "Death and the Maiden (1994)",
           28
          ],
          [
           1110,
           "Tank Girl (1995)",
           41
          ],
          [
           1111,
           "Double Happiness (1994)",
           7
          ],
          [
           1112,
           "Cobb (1994)",
           15
          ],
          [
           1113,
           "Mrs. Parker and the Vicious Circle (1994)",
           22
          ],
          [
           1114,
           "Faithful (1996)",
           10
          ],
          [
           1115,
           "Twelfth Night (1996)",
           29
          ],
          [
           1116,
           "Mark of Zorro, The (1940)",
           13
          ],
          [
           1117,
           "Surviving Picasso (1996)",
           19
          ],
          [
           1118,
           "Up in Smoke (1978)",
           47
          ],
          [
           1119,
           "Some Kind of Wonderful (1987)",
           59
          ],
          [
           1120,
           "I'm Not Rappaport (1996)",
           17
          ],
          [
           1121,
           "Umbrellas of Cherbourg, The (Parapluies de Cherbourg, Les) (1964)",
           21
          ],
          [
           1122,
           "They Made Me a Criminal (1939)",
           1
          ],
          [
           1123,
           "Last Time I Saw Paris, The (1954)",
           3
          ],
          [
           1124,
           "Farewell to Arms, A (1932)",
           12
          ],
          [
           1125,
           "Innocents, The (1961)",
           4
          ],
          [
           1126,
           "Old Man and the Sea, The (1958)",
           32
          ],
          [
           1127,
           "Truman Show, The (1998)",
           11
          ],
          [
           1128,
           "Heidi Fleiss: Hollywood Madam (1995) ",
           13
          ],
          [
           1129,
           "Chungking Express (1994)",
           28
          ],
          [
           1130,
           "Jupiter's Wife (1994)",
           1
          ],
          [
           1131,
           "Safe (1995)",
           13
          ],
          [
           1132,
           "Feeling Minnesota (1996)",
           32
          ],
          [
           1133,
           "Escape to Witch Mountain (1975)",
           30
          ],
          [
           1134,
           "Get on the Bus (1996)",
           38
          ],
          [
           1135,
           "Doors, The (1991)",
           46
          ],
          [
           1136,
           "Ghosts of Mississippi (1996)",
           29
          ],
          [
           1137,
           "Beautiful Thing (1996)",
           29
          ],
          [
           1138,
           "Best Men (1997)",
           5
          ],
          [
           1139,
           "Hackers (1995)",
           33
          ],
          [
           1140,
           "Road to Wellville, The (1994)",
           17
          ],
          [
           1141,
           "War Room, The (1993)",
           9
          ],
          [
           1142,
           "When We Were Kings (1996)",
           44
          ],
          [
           1143,
           "Hard Eight (1996)",
           15
          ],
          [
           1144,
           "Quiet Room, The (1996)",
           3
          ],
          [
           1145,
           "Blue Chips (1994)",
           9
          ],
          [
           1146,
           "Calendar Girl (1993)",
           3
          ],
          [
           1147,
           "My Family (1995)",
           21
          ],
          [
           1148,
           "Tom & Viv (1994)",
           9
          ],
          [
           1149,
           "Walkabout (1971)",
           26
          ],
          [
           1150,
           "Last Dance (1996)",
           9
          ],
          [
           1151,
           "Original Gangstas (1996)",
           7
          ],
          [
           1152,
           "In Love and War (1996)",
           28
          ],
          [
           1153,
           "Backbeat (1993)",
           19
          ],
          [
           1154,
           "Alphaville (1965)",
           12
          ],
          [
           1155,
           "Rendezvous in Paris (Rendez-vous de Paris, Les) (1995)",
           3
          ],
          [
           1156,
           "Cyclo (1995)",
           1
          ],
          [
           1157,
           "Relic, The (1997)",
           25
          ],
          [
           1158,
           "Fille seule, La (A Single Girl) (1995)",
           4
          ],
          [
           1159,
           "Stalker (1979)",
           11
          ],
          [
           1160,
           "Love! Valour! Compassion! (1997)",
           26
          ],
          [
           1161,
           "Palookaville (1996)",
           13
          ],
          [
           1162,
           "Phat Beach (1996)",
           5
          ],
          [
           1163,
           "Portrait of a Lady, The (1996)",
           25
          ],
          [
           1164,
           "Zeus and Roxanne (1997)",
           6
          ],
          [
           1165,
           "Big Bully (1996)",
           14
          ],
          [
           1166,
           "Love & Human Remains (1993)",
           12
          ],
          [
           1167,
           "Sum of Us, The (1994)",
           11
          ],
          [
           1168,
           "Little Buddha (1993)",
           22
          ],
          [
           1169,
           "Fresh (1994)",
           10
          ],
          [
           1170,
           "Spanking the Monkey (1994)",
           27
          ],
          [
           1171,
           "Wild Reeds (1994)",
           14
          ],
          [
           1172,
           "Women, The (1939)",
           15
          ],
          [
           1173,
           "Bliss (1997)",
           7
          ],
          [
           1174,
           "Caught (1996)",
           8
          ],
          [
           1175,
           "Hugo Pool (1997)",
           5
          ],
          [
           1176,
           "Welcome To Sarajevo (1997)",
           22
          ],
          [
           1177,
           "Dunston Checks In (1996)",
           7
          ],
          [
           1178,
           "Major Payne (1994)",
           19
          ],
          [
           1179,
           "Man of the House (1995)",
           9
          ],
          [
           1180,
           "I Love Trouble (1994)",
           10
          ],
          [
           1181,
           "Low Down Dirty Shame, A (1994)",
           10
          ],
          [
           1182,
           "Cops and Robbersons (1994)",
           13
          ],
          [
           1183,
           "Cowboy Way, The (1994)",
           19
          ],
          [
           1184,
           "Endless Summer 2, The (1994)",
           10
          ],
          [
           1185,
           "In the Army Now (1994)",
           18
          ],
          [
           1186,
           "Inkwell, The (1994)",
           3
          ],
          [
           1187,
           "Switchblade Sisters (1975)",
           13
          ],
          [
           1188,
           "Young Guns II (1990)",
           44
          ],
          [
           1189,
           "Prefontaine (1997)",
           3
          ],
          [
           1190,
           "That Old Feeling (1997)",
           11
          ],
          [
           1191,
           "Letter From Death Row, A (1998)",
           3
          ],
          [
           1192,
           "Boys of St. Vincent, The (1993)",
           13
          ],
          [
           1193,
           "Before the Rain (Pred dozhdot) (1994)",
           10
          ],
          [
           1194,
           "Once Were Warriors (1994)",
           31
          ],
          [
           1195,
           "Strawberry and Chocolate (Fresa y chocolate) (1993)",
           11
          ],
          [
           1196,
           "Savage Nights (Nuits fauves, Les) (1992)",
           3
          ],
          [
           1197,
           "Family Thing, A (1996)",
           45
          ],
          [
           1198,
           "Purple Noon (1960)",
           7
          ],
          [
           1199,
           "Cemetery Man (Dellamorte Dellamore) (1994)",
           23
          ],
          [
           1200,
           "Kim (1950)",
           7
          ],
          [
           1201,
           "Marlene Dietrich: Shadow and Light (1996) ",
           1
          ],
          [
           1202,
           "Maybe, Maybe Not (Bewegte Mann, Der) (1994)",
           8
          ],
          [
           1203,
           "Top Hat (1935)",
           21
          ],
          [
           1204,
           "To Be or Not to Be (1942)",
           18
          ],
          [
           1205,
           "Secret Agent, The (1996)",
           6
          ],
          [
           1206,
           "Amos & Andrew (1993)",
           19
          ],
          [
           1207,
           "Jade (1995)",
           17
          ],
          [
           1208,
           "Kiss of Death (1995)",
           20
          ],
          [
           1209,
           "Mixed Nuts (1994)",
           15
          ],
          [
           1210,
           "Virtuosity (1995)",
           38
          ],
          [
           1211,
           "Blue Sky (1994)",
           12
          ],
          [
           1212,
           "Flesh and Bone (1993)",
           6
          ],
          [
           1213,
           "Guilty as Sin (1993)",
           6
          ],
          [
           1214,
           "In the Realm of the Senses (Ai no corrida) (1976)",
           9
          ],
          [
           1215,
           "Barb Wire (1996)",
           30
          ],
          [
           1216,
           "Kissed (1996)",
           6
          ],
          [
           1217,
           "Assassins (1995)",
           39
          ],
          [
           1218,
           "Friday (1995)",
           26
          ],
          [
           1219,
           "Goofy Movie, A (1995)",
           20
          ],
          [
           1220,
           "Higher Learning (1995)",
           30
          ],
          [
           1221,
           "When a Man Loves a Woman (1994)",
           39
          ],
          [
           1222,
           "Judgment Night (1993)",
           25
          ],
          [
           1223,
           "King of the Hill (1993)",
           4
          ],
          [
           1224,
           "Scout, The (1994)",
           12
          ],
          [
           1225,
           "Angus (1995)",
           14
          ],
          [
           1226,
           "Night Falls on Manhattan (1997)",
           32
          ],
          [
           1227,
           "Awfully Big Adventure, An (1995)",
           8
          ],
          [
           1228,
           "Under Siege 2: Dark Territory (1995)",
           48
          ],
          [
           1229,
           "Poison Ivy II (1995)",
           13
          ],
          [
           1230,
           "Ready to Wear (Pret-A-Porter) (1994)",
           18
          ],
          [
           1231,
           "Marked for Death (1990)",
           22
          ],
          [
           1232,
           "Madonna: Truth or Dare (1991)",
           17
          ],
          [
           1233,
           "Nénette et Boni (1996)",
           6
          ],
          [
           1234,
           "Chairman of the Board (1998)",
           8
          ],
          [
           1235,
           "Big Bang Theory, The (1994)",
           1
          ],
          [
           1236,
           "Other Voices, Other Rooms (1997)",
           1
          ],
          [
           1237,
           "Twisted (1996)",
           6
          ],
          [
           1238,
           "Full Speed (1996)",
           8
          ],
          [
           1239,
           "Cutthroat Island (1995)",
           18
          ],
          [
           1240,
           "Ghost in the Shell (Kokaku kidotai) (1995)",
           26
          ],
          [
           1241,
           "Van, The (1996)",
           6
          ],
          [
           1242,
           "Old Lady Who Walked in the Sea, The (Vieille qui marchait dans la mer, La) (1991)",
           5
          ],
          [
           1243,
           "Night Flier (1997)",
           7
          ],
          [
           1244,
           "Metro (1997)",
           36
          ],
          [
           1245,
           "Gridlock'd (1997)",
           19
          ],
          [
           1246,
           "Bushwhacked (1995)",
           7
          ],
          [
           1247,
           "Bad Girls (1994)",
           6
          ],
          [
           1248,
           "Blink (1994)",
           19
          ],
          [
           1249,
           "For Love or Money (1993)",
           12
          ],
          [
           1250,
           "Best of the Best 3: No Turning Back (1995)",
           6
          ],
          [
           1251,
           "A Chef in Love (1996)",
           8
          ],
          [
           1252,
           "Contempt (Mépris, Le) (1963)",
           9
          ],
          [
           1253,
           "Tie That Binds, The (1995)",
           7
          ],
          [
           1254,
           "Gone Fishin' (1997)",
           11
          ],
          [
           1255,
           "Broken English (1996)",
           8
          ],
          [
           1256,
           "Designated Mourner, The (1997)",
           3
          ],
          [
           1257,
           "Designated Mourner, The (1997)",
           4
          ],
          [
           1258,
           "Trial and Error (1997)",
           23
          ],
          [
           1259,
           "Pie in the Sky (1995)",
           4
          ],
          [
           1260,
           "Total Eclipse (1995)",
           4
          ],
          [
           1261,
           "Run of the Country, The (1995)",
           4
          ],
          [
           1262,
           "Walking and Talking (1996)",
           8
          ],
          [
           1263,
           "Foxfire (1996)",
           15
          ],
          [
           1264,
           "Nothing to Lose (1994)",
           7
          ],
          [
           1265,
           "Star Maps (1997)",
           19
          ],
          [
           1266,
           "Bread and Chocolate (Pane e cioccolata) (1973)",
           12
          ],
          [
           1267,
           "Clockers (1995)",
           33
          ],
          [
           1268,
           "Bitter Moon (1992)",
           10
          ],
          [
           1269,
           "Love in the Afternoon (1957)",
           10
          ],
          [
           1270,
           "Life with Mikey (1993)",
           7
          ],
          [
           1271,
           "North (1994)",
           7
          ],
          [
           1272,
           "Talking About Sex (1994)",
           5
          ],
          [
           1273,
           "Color of Night (1994)",
           15
          ],
          [
           1274,
           "Robocop 3 (1993)",
           11
          ],
          [
           1275,
           "Killer (Bulletproof Heart) (1994)",
           4
          ],
          [
           1276,
           "Sunset Park (1996)",
           8
          ],
          [
           1277,
           "Set It Off (1996)",
           19
          ],
          [
           1278,
           "Selena (1997)",
           16
          ],
          [
           1279,
           "Wild America (1997)",
           9
          ],
          [
           1280,
           "Gang Related (1997)",
           16
          ],
          [
           1281,
           "Manny & Lo (1996)",
           13
          ],
          [
           1282,
           "Grass Harp, The (1995)",
           9
          ],
          [
           1283,
           "Out to Sea (1997)",
           19
          ],
          [
           1284,
           "Before and After (1996)",
           26
          ],
          [
           1285,
           "Princess Caraboo (1994)",
           15
          ],
          [
           1286,
           "Shall We Dance? (1937)",
           17
          ],
          [
           1287,
           "Ed (1996)",
           6
          ],
          [
           1288,
           "Denise Calls Up (1995)",
           7
          ],
          [
           1289,
           "Jack and Sarah (1995)",
           7
          ],
          [
           1290,
           "Country Life (1994)",
           2
          ],
          [
           1291,
           "Celtic Pride (1996)",
           15
          ],
          [
           1292,
           "Simple Wish, A (1997)",
           3
          ],
          [
           1293,
           "Star Kid (1997)",
           3
          ],
          [
           1294,
           "Ayn Rand: A Sense of Life (1997)",
           7
          ],
          [
           1295,
           "Kicked in the Head (1997)",
           7
          ],
          [
           1296,
           "Indian Summer (1996)",
           20
          ],
          [
           1297,
           "Love Affair (1994)",
           12
          ],
          [
           1298,
           "Band Wagon, The (1953)",
           9
          ],
          [
           1299,
           "Penny Serenade (1941)",
           8
          ],
          [
           1300,
           "'Til There Was You (1997)",
           9
          ],
          [
           1301,
           "Stripes (1981)",
           5
          ],
          [
           1302,
           "Late Bloomers (1996)",
           5
          ],
          [
           1303,
           "Getaway, The (1994)",
           18
          ],
          [
           1304,
           "New York Cop (1996)",
           2
          ],
          [
           1305,
           "National Lampoon's Senior Trip (1995)",
           7
          ],
          [
           1306,
           "Delta of Venus (1994)",
           2
          ],
          [
           1307,
           "Carmen Miranda: Bananas Is My Business (1994)",
           2
          ],
          [
           1308,
           "Babyfever (1994)",
           2
          ],
          [
           1309,
           "Very Natural Thing, A (1974)",
           1
          ],
          [
           1310,
           "Walk in the Sun, A (1945)",
           1
          ],
          [
           1311,
           "Waiting to Exhale (1995)",
           16
          ],
          [
           1312,
           "Pompatus of Love, The (1996)",
           7
          ],
          [
           1313,
           "Palmetto (1998)",
           14
          ],
          [
           1314,
           "Surviving the Game (1994)",
           11
          ],
          [
           1315,
           "Inventing the Abbotts (1997)",
           23
          ],
          [
           1316,
           "Horse Whisperer, The (1998)",
           7
          ],
          [
           1317,
           "Journey of August King, The (1995)",
           4
          ],
          [
           1318,
           "Catwalk (1995)",
           3
          ],
          [
           1319,
           "Neon Bible, The (1995)",
           4
          ],
          [
           1320,
           "Homage (1995)",
           1
          ],
          [
           1321,
           "Open Season (1996)",
           2
          ],
          [
           1322,
           "Metisse (Café au Lait) (1993)",
           6
          ],
          [
           1323,
           "Wooden Man's Bride, The (Wu Kui) (1994)",
           3
          ],
          [
           1324,
           "Loaded (1994)",
           5
          ],
          [
           1325,
           "August (1996)",
           1
          ],
          [
           1326,
           "Boys (1996)",
           6
          ],
          [
           1327,
           "Captives (1994)",
           3
          ],
          [
           1328,
           "Of Love and Shadows (1994)",
           6
          ],
          [
           1329,
           "Low Life, The (1994)",
           1
          ],
          [
           1330,
           "An Unforgettable Summer (1994)",
           4
          ],
          [
           1331,
           "Last Klezmer: Leopold Kozlowski, His Life and Music, The (1995)",
           4
          ],
          [
           1332,
           "My Life and Times With Antonin Artaud (En compagnie d'Antonin Artaud) (1993)",
           2
          ],
          [
           1333,
           "Midnight Dancers (Sibak) (1994)",
           5
          ],
          [
           1334,
           "Somebody to Love (1994)",
           2
          ],
          [
           1335,
           "American Buffalo (1996)",
           11
          ],
          [
           1336,
           "Kazaam (1996)",
           10
          ],
          [
           1337,
           "Larger Than Life (1996)",
           9
          ],
          [
           1338,
           "Two Deaths (1995)",
           4
          ],
          [
           1339,
           "Stefano Quantestorie (1993)",
           1
          ],
          [
           1340,
           "Crude Oasis, The (1995)",
           1
          ],
          [
           1341,
           "Hedd Wyn (1992)",
           1
          ],
          [
           1342,
           "Convent, The (Convento, O) (1995)",
           2
          ],
          [
           1343,
           "Lotto Land (1995)",
           1
          ],
          [
           1344,
           "Story of Xinghua, The (1993)",
           5
          ],
          [
           1345,
           "Day the Sun Turned Cold, The (Tianguo niezi) (1994)",
           2
          ],
          [
           1346,
           "Dingo (1992)",
           5
          ],
          [
           1347,
           "Ballad of Narayama, The (Narayama Bushiko) (1958)",
           4
          ],
          [
           1348,
           "Every Other Weekend (1990)",
           1
          ],
          [
           1349,
           "Mille bolle blu (1993)",
           1
          ],
          [
           1350,
           "Crows and Sparrows (1949)",
           2
          ],
          [
           1351,
           "Lover's Knot (1996)",
           3
          ],
          [
           1352,
           "Shadow of Angels (Schatten der Engel) (1976)",
           1
          ],
          [
           1353,
           "1-900 (1994)",
           5
          ],
          [
           1354,
           "Venice/Venice (1992)",
           2
          ],
          [
           1355,
           "Infinity (1996)",
           6
          ],
          [
           1356,
           "Ed's Next Move (1996)",
           3
          ],
          [
           1357,
           "For the Moment (1994)",
           3
          ],
          [
           1358,
           "The Deadly Cure (1996)",
           2
          ],
          [
           1359,
           "Boys in Venice (1996)",
           2
          ],
          [
           1360,
           "Sexual Life of the Belgians, The (1994)",
           2
          ],
          [
           1361,
           "Search for One-eye Jimmy, The (1996)",
           3
          ],
          [
           1362,
           "American Strays (1996)",
           2
          ],
          [
           1363,
           "Leopard Son, The (1996)",
           1
          ],
          [
           1364,
           "Bird of Prey (1996)",
           1
          ],
          [
           1365,
           "Johnny 100 Pesos (1993)",
           2
          ],
          [
           1366,
           "JLG/JLG - autoportrait de décembre (1994)",
           1
          ],
          [
           1367,
           "Faust (1994)",
           5
          ],
          [
           1368,
           "Mina Tannenbaum (1994)",
           6
          ],
          [
           1369,
           "Forbidden Christ, The (Cristo proibito, Il) (1950)",
           4
          ],
          [
           1370,
           "I Can't Sleep (J'ai pas sommeil) (1994)",
           3
          ],
          [
           1371,
           "Machine, The (1994)",
           2
          ],
          [
           1372,
           "Stranger, The (1994)",
           3
          ],
          [
           1373,
           "Good Morning (1971)",
           1
          ],
          [
           1374,
           "Falling in Love Again (1980)",
           2
          ],
          [
           1375,
           "Cement Garden, The (1993)",
           10
          ],
          [
           1376,
           "Meet Wally Sparks (1997)",
           7
          ],
          [
           1377,
           "Hotel de Love (1996)",
           4
          ],
          [
           1378,
           "Rhyme & Reason (1997)",
           5
          ],
          [
           1379,
           "Love and Other Catastrophes (1996)",
           7
          ],
          [
           1380,
           "Hollow Reed (1996)",
           6
          ],
          [
           1381,
           "Losing Chase (1996)",
           8
          ],
          [
           1382,
           "Bonheur, Le (1965)",
           4
          ],
          [
           1383,
           "Second Jungle Book: Mowgli & Baloo, The (1997)",
           6
          ],
          [
           1384,
           "Squeeze (1996)",
           3
          ],
          [
           1385,
           "Roseanna's Grave (For Roseanna) (1997)",
           5
          ],
          [
           1386,
           "Tetsuo II: Body Hammer (1992)",
           6
          ],
          [
           1387,
           "Fall (1997)",
           3
          ],
          [
           1388,
           "Gabbeh (1996)",
           6
          ],
          [
           1389,
           "Mondo (1996)",
           3
          ],
          [
           1390,
           "Innocent Sleep, The (1995)",
           2
          ],
          [
           1391,
           "For Ever Mozart (1996)",
           3
          ],
          [
           1392,
           "Locusts, The (1997)",
           5
          ],
          [
           1393,
           "Stag (1997)",
           9
          ],
          [
           1394,
           "Swept from the Sea (1997)",
           7
          ],
          [
           1395,
           "Hurricane Streets (1998)",
           6
          ],
          [
           1396,
           "Stonewall (1995)",
           5
          ],
          [
           1397,
           "Of Human Bondage (1934)",
           5
          ],
          [
           1398,
           "Anna (1996)",
           2
          ],
          [
           1399,
           "Stranger in the House (1997)",
           7
          ],
          [
           1400,
           "Picture Bride (1995)",
           10
          ],
          [
           1401,
           "M. Butterfly (1993)",
           18
          ],
          [
           1402,
           "Ciao, Professore! (1993)",
           4
          ],
          [
           1403,
           "Caro Diario (Dear Diary) (1994)",
           4
          ],
          [
           1404,
           "Withnail and I (1987)",
           13
          ],
          [
           1405,
           "Boy's Life 2 (1997)",
           6
          ],
          [
           1406,
           "When Night Is Falling (1995)",
           5
          ],
          [
           1407,
           "Specialist, The (1994)",
           20
          ],
          [
           1408,
           "Gordy (1995)",
           3
          ],
          [
           1409,
           "Swan Princess, The (1994)",
           7
          ],
          [
           1410,
           "Harlem (1993)",
           4
          ],
          [
           1411,
           "Barbarella (1968)",
           28
          ],
          [
           1412,
           "Land Before Time III: The Time of the Great Giving (1995) (V)",
           6
          ],
          [
           1413,
           "Street Fighter (1994)",
           8
          ],
          [
           1414,
           "Coldblooded (1995)",
           1
          ],
          [
           1415,
           "Next Karate Kid, The (1994)",
           9
          ],
          [
           1416,
           "No Escape (1994)",
           5
          ],
          [
           1417,
           "Turning, The (1992)",
           2
          ],
          [
           1418,
           "Joy Luck Club, The (1993)",
           3
          ],
          [
           1419,
           "Highlander III: The Sorcerer (1994)",
           16
          ],
          [
           1420,
           "Gilligan's Island: The Movie (1998)",
           3
          ],
          [
           1421,
           "My Crazy Life (Mi vida loca) (1993)",
           11
          ],
          [
           1422,
           "Suture (1993)",
           4
          ],
          [
           1423,
           "Walking Dead, The (1995)",
           4
          ],
          [
           1424,
           "I Like It Like That (1994)",
           3
          ],
          [
           1425,
           "I'll Do Anything (1994)",
           10
          ],
          [
           1426,
           "Grace of My Heart (1996)",
           8
          ],
          [
           1427,
           "Drunks (1995)",
           5
          ],
          [
           1428,
           "SubUrbia (1997)",
           12
          ],
          [
           1429,
           "Sliding Doors (1998)",
           4
          ],
          [
           1430,
           "Ill Gotten Gains (1997)",
           3
          ],
          [
           1431,
           "Legal Deceit (1997)",
           5
          ],
          [
           1432,
           "Mighty, The (1998)",
           3
          ],
          [
           1433,
           "Men of Means (1998)",
           2
          ],
          [
           1434,
           "Shooting Fish (1997)",
           10
          ],
          [
           1435,
           "Steal Big, Steal Little (1995)",
           7
          ],
          [
           1436,
           "Mr. Jones (1993)",
           2
          ],
          [
           1437,
           "House Party 3 (1994)",
           9
          ],
          [
           1438,
           "Panther (1995)",
           5
          ],
          [
           1439,
           "Jason's Lyric (1994)",
           8
          ],
          [
           1440,
           "Above the Rim (1994)",
           5
          ],
          [
           1441,
           "Moonlight and Valentino (1995)",
           7
          ],
          [
           1442,
           "Scarlet Letter, The (1995)",
           5
          ],
          [
           1443,
           "8 Seconds (1994)",
           4
          ],
          [
           1444,
           "That Darn Cat! (1965)",
           19
          ],
          [
           1445,
           "Ladybird Ladybird (1994)",
           4
          ],
          [
           1446,
           "Bye Bye, Love (1995)",
           15
          ],
          [
           1447,
           "Century (1993)",
           1
          ],
          [
           1448,
           "My Favorite Season (1993)",
           3
          ],
          [
           1449,
           "Pather Panchali (1955)",
           8
          ],
          [
           1450,
           "Golden Earrings (1947)",
           2
          ],
          [
           1451,
           "Foreign Correspondent (1940)",
           15
          ],
          [
           1452,
           "Lady of Burlesque (1943)",
           1
          ],
          [
           1453,
           "Angel on My Shoulder (1946)",
           1
          ],
          [
           1454,
           "Angel and the Badman (1947)",
           6
          ],
          [
           1455,
           "Outlaw, The (1943)",
           2
          ],
          [
           1456,
           "Beat the Devil (1954)",
           7
          ],
          [
           1457,
           "Love Is All There Is (1996)",
           1
          ],
          [
           1458,
           "Damsel in Distress, A (1937)",
           1
          ],
          [
           1459,
           "Madame Butterfly (1995)",
           7
          ],
          [
           1460,
           "Sleepover (1995)",
           1
          ],
          [
           1461,
           "Here Comes Cookie (1935)",
           1
          ],
          [
           1462,
           "Thieves (Voleurs, Les) (1996)",
           7
          ],
          [
           1463,
           "Boys, Les (1997)",
           3
          ],
          [
           1464,
           "Stars Fell on Henrietta, The (1995)",
           3
          ],
          [
           1465,
           "Last Summer in the Hamptons (1995)",
           3
          ],
          [
           1466,
           "Margaret's Museum (1995)",
           6
          ],
          [
           1467,
           "Saint of Fort Washington, The (1993)",
           2
          ],
          [
           1468,
           "Cure, The (1995)",
           6
          ],
          [
           1469,
           "Tom and Huck (1995)",
           12
          ],
          [
           1470,
           "Gumby: The Movie (1995)",
           5
          ],
          [
           1471,
           "Hideaway (1995)",
           9
          ],
          [
           1472,
           "Visitors, The (Visiteurs, Les) (1993)",
           2
          ],
          [
           1473,
           "Little Princess, The (1939)",
           9
          ],
          [
           1474,
           "Nina Takes a Lover (1994)",
           6
          ],
          [
           1475,
           "Bhaji on the Beach (1993)",
           8
          ],
          [
           1476,
           "Raw Deal (1948)",
           1
          ],
          [
           1477,
           "Nightwatch (1997)",
           2
          ],
          [
           1478,
           "Dead Presidents (1995)",
           18
          ],
          [
           1479,
           "Reckless (1995)",
           8
          ],
          [
           1480,
           "Herbie Rides Again (1974)",
           11
          ],
          [
           1481,
           "S.F.W. (1994)",
           2
          ],
          [
           1482,
           "Gate of Heavenly Peace, The (1995)",
           1
          ],
          [
           1483,
           "Man in the Iron Mask, The (1998)",
           12
          ],
          [
           1484,
           "Jerky Boys, The (1994)",
           3
          ],
          [
           1485,
           "Colonel Chabert, Le (1994)",
           4
          ],
          [
           1486,
           "Girl in the Cadillac (1995)",
           1
          ],
          [
           1487,
           "Even Cowgirls Get the Blues (1993)",
           5
          ],
          [
           1488,
           "Germinal (1993)",
           4
          ],
          [
           1489,
           "Chasers (1994)",
           5
          ],
          [
           1490,
           "Fausto (1993)",
           3
          ],
          [
           1491,
           "Tough and Deadly (1995)",
           2
          ],
          [
           1492,
           "Window to Paris (1994)",
           1
          ],
          [
           1493,
           "Modern Affair, A (1995)",
           1
          ],
          [
           1494,
           "Mostro, Il (1994)",
           1
          ],
          [
           1495,
           "Flirt (1995)",
           5
          ],
          [
           1496,
           "Carpool (1996)",
           5
          ],
          [
           1497,
           "Line King: Al Hirschfeld, The (1996)",
           2
          ],
          [
           1498,
           "Farmer & Chase (1995)",
           1
          ],
          [
           1499,
           "Grosse Fatigue (1994)",
           4
          ],
          [
           1500,
           "Santa with Muscles (1996)",
           2
          ],
          [
           1501,
           "Prisoner of the Mountains (Kavkazsky Plennik) (1996)",
           5
          ],
          [
           1502,
           "Naked in New York (1994)",
           2
          ],
          [
           1503,
           "Gold Diggers: The Secret of Bear Mountain (1995)",
           10
          ],
          [
           1504,
           "Bewegte Mann, Der (1994)",
           3
          ],
          [
           1505,
           "Killer: A Journal of Murder (1995)",
           1
          ],
          [
           1506,
           "Nelly & Monsieur Arnaud (1995)",
           3
          ],
          [
           1507,
           "Three Lives and Only One Death (1996)",
           1
          ],
          [
           1508,
           "Babysitter, The (1995)",
           3
          ],
          [
           1509,
           "Getting Even with Dad (1994)",
           5
          ],
          [
           1510,
           "Mad Dog Time (1996)",
           1
          ],
          [
           1511,
           "Children of the Revolution (1996)",
           5
          ],
          [
           1512,
           "World of Apu, The (Apur Sansar) (1959)",
           6
          ],
          [
           1513,
           "Sprung (1997)",
           3
          ],
          [
           1514,
           "Dream With the Fishes (1997)",
           7
          ],
          [
           1515,
           "Wings of Courage (1995)",
           1
          ],
          [
           1516,
           "Wedding Gift, The (1994)",
           3
          ],
          [
           1517,
           "Race the Sun (1996)",
           5
          ],
          [
           1518,
           "Losing Isaiah (1995)",
           12
          ],
          [
           1519,
           "New Jersey Drive (1995)",
           2
          ],
          [
           1520,
           "Fear, The (1995)",
           1
          ],
          [
           1521,
           "Mr. Wonderful (1993)",
           4
          ],
          [
           1522,
           "Trial by Jury (1994)",
           7
          ],
          [
           1523,
           "Good Man in Africa, A (1994)",
           2
          ],
          [
           1524,
           "Kaspar Hauser (1993)",
           8
          ],
          [
           1525,
           "Object of My Affection, The (1998)",
           1
          ],
          [
           1526,
           "Witness (1985)",
           1
          ],
          [
           1527,
           "Senseless (1998)",
           7
          ],
          [
           1528,
           "Nowhere (1997)",
           3
          ],
          [
           1529,
           "Underground (1995)",
           5
          ],
          [
           1530,
           "Jefferson in Paris (1995)",
           5
          ],
          [
           1531,
           "Far From Home: The Adventures of Yellow Dog (1995)",
           7
          ],
          [
           1532,
           "Foreign Student (1994)",
           2
          ],
          [
           1533,
           "I Don't Want to Talk About It (De eso no se habla) (1993)",
           1
          ],
          [
           1534,
           "Twin Town (1997)",
           6
          ],
          [
           1535,
           "Enfer, L' (1994)",
           4
          ],
          [
           1536,
           "Aiqing wansui (1994)",
           1
          ],
          [
           1537,
           "Cosi (1996)",
           4
          ],
          [
           1538,
           "All Over Me (1997)",
           3
          ],
          [
           1539,
           "Being Human (1993)",
           4
          ],
          [
           1540,
           "Amazing Panda Adventure, The (1995)",
           10
          ],
          [
           1541,
           "Beans of Egypt, Maine, The (1994)",
           2
          ],
          [
           1542,
           "Scarlet Letter, The (1926)",
           2
          ],
          [
           1543,
           "Johns (1996)",
           1
          ],
          [
           1544,
           "It Takes Two (1995)",
           3
          ],
          [
           1545,
           "Frankie Starlight (1995)",
           4
          ],
          [
           1546,
           "Shadows (Cienie) (1988)",
           1
          ],
          [
           1547,
           "Show, The (1995)",
           2
          ],
          [
           1548,
           "The Courtyard (1995)",
           1
          ],
          [
           1549,
           "Dream Man (1995)",
           2
          ],
          [
           1550,
           "Destiny Turns on the Radio (1995)",
           2
          ],
          [
           1551,
           "Glass Shield, The (1994)",
           2
          ],
          [
           1552,
           "Hunted, The (1995)",
           3
          ],
          [
           1553,
           "Underneath, The (1995)",
           4
          ],
          [
           1554,
           "Safe Passage (1994)",
           2
          ],
          [
           1555,
           "Secret Adventures of Tom Thumb, The (1993)",
           5
          ],
          [
           1556,
           "Condition Red (1995)",
           2
          ],
          [
           1557,
           "Yankee Zulu (1994)",
           1
          ],
          [
           1558,
           "Aparajito (1956)",
           7
          ],
          [
           1559,
           "Hostile Intentions (1994)",
           1
          ],
          [
           1560,
           "Clean Slate (Coup de Torchon) (1981)",
           4
          ],
          [
           1561,
           "Tigrero: A Film That Was Never Made (1994)",
           1
          ],
          [
           1562,
           "Eye of Vichy, The (Oeil de Vichy, L') (1993)",
           1
          ],
          [
           1563,
           "Promise, The (Versprechen, Das) (1994)",
           1
          ],
          [
           1564,
           "To Cross the Rubicon (1991)",
           1
          ],
          [
           1565,
           "Daens (1992)",
           1
          ],
          [
           1566,
           "Man from Down Under, The (1943)",
           1
          ],
          [
           1567,
           "Careful (1992)",
           1
          ],
          [
           1568,
           "Vermont Is For Lovers (1992)",
           1
          ],
          [
           1569,
           "Vie est belle, La (Life is Rosey) (1987)",
           1
          ],
          [
           1570,
           "Quartier Mozart (1992)",
           1
          ],
          [
           1571,
           "Touki Bouki (Journey of the Hyena) (1973)",
           1
          ],
          [
           1572,
           "Wend Kuuni (God's Gift) (1982)",
           1
          ],
          [
           1573,
           "Spirits of the Dead (Tre passi nel delirio) (1968)",
           2
          ],
          [
           1574,
           "Pharaoh's Army (1995)",
           1
          ],
          [
           1575,
           "I, Worst of All (Yo, la peor de todas) (1990)",
           1
          ],
          [
           1576,
           "Hungarian Fairy Tale, A (1987)",
           1
          ],
          [
           1577,
           "Death in the Garden (Mort en ce jardin, La) (1956)",
           1
          ],
          [
           1578,
           "Collectionneuse, La (1967)",
           2
          ],
          [
           1579,
           "Baton Rouge (1988)",
           1
          ],
          [
           1580,
           "Liebelei (1933)",
           1
          ],
          [
           1581,
           "Woman in Question, The (1950)",
           1
          ],
          [
           1582,
           "T-Men (1947)",
           1
          ],
          [
           1583,
           "Invitation, The (Zaproszenie) (1986)",
           1
          ],
          [
           1584,
           "Symphonie pastorale, La (1946)",
           1
          ],
          [
           1585,
           "American Dream (1990)",
           2
          ],
          [
           1586,
           "Lashou shentan (1992)",
           1
          ],
          [
           1587,
           "Terror in a Texas Town (1958)",
           1
          ],
          [
           1588,
           "Salut cousin! (1996)",
           2
          ],
          [
           1589,
           "Schizopolis (1996)",
           4
          ],
          [
           1590,
           "To Have, or Not (1995)",
           2
          ],
          [
           1591,
           "Duoluo tianshi (1995)",
           6
          ],
          [
           1592,
           "Magic Hour, The (1998)",
           5
          ],
          [
           1593,
           "Death in Brunswick (1991)",
           1
          ],
          [
           1594,
           "Everest (1998)",
           2
          ],
          [
           1595,
           "Shopping (1994)",
           1
          ],
          [
           1596,
           "Nemesis 2: Nebula (1995)",
           1
          ],
          [
           1597,
           "Romper Stomper (1992)",
           5
          ],
          [
           1598,
           "City of Industry (1997)",
           6
          ],
          [
           1599,
           "Someone Else's America (1995)",
           1
          ],
          [
           1600,
           "Guantanamera (1994)",
           4
          ],
          [
           1601,
           "Office Killer (1997)",
           1
          ],
          [
           1602,
           "Price Above Rubies, A (1998)",
           3
          ],
          [
           1603,
           "Angela (1995)",
           1
          ],
          [
           1604,
           "He Walked by Night (1948)",
           1
          ],
          [
           1605,
           "Love Serenade (1996)",
           4
          ],
          [
           1606,
           "Deceiver (1997)",
           1
          ],
          [
           1607,
           "Hurricane Streets (1998)",
           3
          ],
          [
           1608,
           "Buddy (1997)",
           4
          ],
          [
           1609,
           "B*A*P*S (1997)",
           3
          ],
          [
           1610,
           "Truth or Consequences, N.M. (1997)",
           3
          ],
          [
           1611,
           "Intimate Relations (1996)",
           2
          ],
          [
           1612,
           "Leading Man, The (1996)",
           4
          ],
          [
           1613,
           "Tokyo Fist (1995)",
           1
          ],
          [
           1614,
           "Reluctant Debutante, The (1958)",
           1
          ],
          [
           1615,
           "Warriors of Virtue (1997)",
           10
          ],
          [
           1616,
           "Desert Winds (1995)",
           1
          ],
          [
           1617,
           "Hugo Pool (1997)",
           2
          ],
          [
           1618,
           "King of New York (1990)",
           1
          ],
          [
           1619,
           "All Things Fair (1996)",
           1
          ],
          [
           1620,
           "Sixth Man, The (1997)",
           9
          ],
          [
           1621,
           "Butterfly Kiss (1995)",
           1
          ],
          [
           1622,
           "Paris, France (1993)",
           3
          ],
          [
           1623,
           "Cérémonie, La (1995)",
           3
          ],
          [
           1624,
           "Hush (1998)",
           1
          ],
          [
           1625,
           "Nightwatch (1997)",
           1
          ],
          [
           1626,
           "Nobody Loves Me (Keiner liebt mich) (1994)",
           1
          ],
          [
           1627,
           "Wife, The (1995)",
           1
          ],
          [
           1628,
           "Lamerica (1994)",
           4
          ],
          [
           1629,
           "Nico Icon (1995)",
           2
          ],
          [
           1630,
           "Silence of the Palace, The (Saimt el Qusur) (1994)",
           1
          ],
          [
           1631,
           "Slingshot, The (1993)",
           2
          ],
          [
           1632,
           "Land and Freedom (Tierra y libertad) (1995)",
           1
          ],
          [
           1633,
           "Á köldum klaka (Cold Fever) (1994)",
           1
          ],
          [
           1634,
           "Etz Hadomim Tafus (Under the Domin Tree) (1994)",
           1
          ],
          [
           1635,
           "Two Friends (1986) ",
           1
          ],
          [
           1636,
           "Brothers in Trouble (1995)",
           1
          ],
          [
           1637,
           "Girls Town (1996)",
           1
          ],
          [
           1638,
           "Normal Life (1996)",
           1
          ],
          [
           1639,
           "Bitter Sugar (Azucar Amargo) (1996)",
           3
          ],
          [
           1640,
           "Eighth Day, The (1996)",
           1
          ],
          [
           1641,
           "Dadetown (1995)",
           1
          ],
          [
           1642,
           "Some Mother's Son (1996)",
           2
          ],
          [
           1643,
           "Angel Baby (1995)",
           4
          ],
          [
           1644,
           "Sudden Manhattan (1996)",
           2
          ],
          [
           1645,
           "Butcher Boy, The (1998)",
           1
          ],
          [
           1646,
           "Men With Guns (1997)",
           2
          ],
          [
           1647,
           "Hana-bi (1997)",
           1
          ],
          [
           1648,
           "Niagara, Niagara (1997)",
           1
          ],
          [
           1649,
           "Big One, The (1997)",
           1
          ],
          [
           1650,
           "Butcher Boy, The (1998)",
           1
          ],
          [
           1651,
           "Spanish Prisoner, The (1997)",
           1
          ],
          [
           1652,
           "Temptress Moon (Feng Yue) (1996)",
           3
          ],
          [
           1653,
           "Entertaining Angels: The Dorothy Day Story (1996)",
           1
          ],
          [
           1654,
           "Chairman of the Board (1998)",
           1
          ],
          [
           1655,
           "Favor, The (1994)",
           1
          ],
          [
           1656,
           "Little City (1998)",
           2
          ],
          [
           1657,
           "Target (1995)",
           1
          ],
          [
           1658,
           "Substance of Fire, The (1996)",
           3
          ],
          [
           1659,
           "Getting Away With Murder (1996)",
           1
          ],
          [
           1660,
           "Small Faces (1995)",
           1
          ],
          [
           1661,
           "New Age, The (1994)",
           1
          ],
          [
           1662,
           "Rough Magic (1995)",
           2
          ],
          [
           1663,
           "Nothing Personal (1995)",
           1
          ],
          [
           1664,
           "8 Heads in a Duffel Bag (1997)",
           4
          ],
          [
           1665,
           "Brother's Kiss, A (1997)",
           1
          ],
          [
           1666,
           "Ripe (1996)",
           1
          ],
          [
           1667,
           "Next Step, The (1995)",
           1
          ],
          [
           1668,
           "Wedding Bell Blues (1996)",
           1
          ],
          [
           1669,
           "MURDER and murder (1996)",
           1
          ],
          [
           1670,
           "Tainted (1998)",
           1
          ],
          [
           1671,
           "Further Gesture, A (1996)",
           1
          ],
          [
           1672,
           "Kika (1993)",
           2
          ],
          [
           1673,
           "Mirage (1995)",
           1
          ],
          [
           1674,
           "Mamma Roma (1962)",
           1
          ],
          [
           1675,
           "Sunchaser, The (1996)",
           1
          ],
          [
           1676,
           "War at Home, The (1996)",
           1
          ],
          [
           1677,
           "Sweet Nothing (1995)",
           1
          ],
          [
           1678,
           "Mat' i syn (1997)",
           1
          ],
          [
           1679,
           "B. Monkey (1998)",
           1
          ],
          [
           1680,
           "Sliding Doors (1998)",
           1
          ],
          [
           1681,
           "You So Crazy (1994)",
           1
          ],
          [
           1682,
           "Scream of Stone (Schrei aus Stein) (1991)",
           1
          ]
         ],
         "hovertemplate": "tsne_1=%{x}<br>tsne_2=%{y}<br>item_id=%{customdata[0]}<br>title=%{customdata[1]}<br>popularity=%{marker.color}<extra></extra>",
         "legendgroup": "",
         "marker": {
          "color": [
           452,
           131,
           90,
           209,
           86,
           26,
           392,
           219,
           299,
           89,
           236,
           267,
           184,
           183,
           293,
           39,
           92,
           10,
           69,
           72,
           84,
           297,
           182,
           174,
           293,
           73,
           57,
           276,
           114,
           37,
           154,
           81,
           97,
           7,
           11,
           13,
           8,
           120,
           87,
           57,
           37,
           148,
           40,
           79,
           80,
           27,
           133,
           117,
           81,
           583,
           81,
           91,
           128,
           104,
           149,
           394,
           40,
           175,
           83,
           64,
           59,
           127,
           82,
           283,
           115,
           162,
           103,
           134,
           321,
           251,
           220,
           129,
           128,
           7,
           5,
           54,
           151,
           33,
           336,
           68,
           110,
           261,
           176,
           18,
           58,
           150,
           138,
           213,
           275,
           95,
           143,
           104,
           112,
           137,
           219,
           295,
           256,
           390,
           172,
           508,
           73,
           54,
           15,
           5,
           74,
           71,
           42,
           65,
           130,
           31,
           272,
           20,
           9,
           67,
           15,
           125,
           378,
           293,
           4,
           67,
           429,
           106,
           115,
           187,
           244,
           97,
           413,
           65,
           129,
           23,
           95,
           246,
           171,
           198,
           259,
           105,
           171,
           19,
           50,
           61,
           72,
           57,
           222,
           243,
           65,
           10,
           185,
           128,
           23,
           157,
           326,
           82,
           247,
           174,
           98,
           148,
           127,
           60,
           101,
           69,
           220,
           106,
           92,
           151,
           64,
           58,
           67,
           316,
           118,
           121,
           65,
           367,
           324,
           420,
           208,
           284,
           137,
           125,
           221,
           221,
           507,
           226,
           291,
           116,
           239,
           251,
           209,
           170,
           66,
           124,
           276,
           116,
           157,
           241,
           301,
           251,
           239,
           127,
           165,
           206,
           89,
           280,
           182,
           350,
           136,
           50,
           66,
           200,
           191,
           331,
           206,
           92,
           134,
           114,
           212,
           290,
           120,
           171,
           111,
           66,
           74,
           365,
           136,
           44,
           109,
           166,
           161,
           244,
           171,
           199,
           142,
           101,
           124,
           280,
           217,
           45,
           384,
           256,
           150,
           156,
           128,
           117,
           132,
           48,
           240,
           124,
           5,
           160,
           130,
           197,
           46,
           158,
           26,
           62,
           172,
           16,
           303,
           509,
           162,
           127,
           43,
           66,
           19,
           101,
           227,
           35,
           9,
           255,
           315,
           136,
           211,
           198,
           223,
           190,
           268,
           298,
           71,
           60,
           28,
           85,
           146,
           232,
           177,
           193,
           162,
           481,
           78,
           478,
           259,
           96,
           127,
           114,
           147,
           485,
           77,
           6,
           50,
           194,
           73,
           431,
           230,
           297,
           134,
           149,
           87,
           96,
           188,
           30,
           28,
           145,
           75,
           80,
           350,
           5,
           160,
           112,
           102,
           298,
           168,
           20,
           169,
           218,
           240,
           125,
           128,
           175,
           175,
           295,
           45,
           41,
           113,
           143,
           251,
           64,
           21,
           43,
           18,
           91,
           47,
           189,
           11,
           52,
           124,
           55,
           65,
           126,
           137,
           27,
           31,
           41,
           20,
           26,
           14,
           72,
           41,
           97,
           264,
           143,
           18,
           10,
           10,
           28,
           47,
           37,
           48,
           47,
           170,
           31,
           55,
           39,
           67,
           34,
           39,
           11,
           23,
           24,
           13,
           101,
           43,
           116,
           100,
           111,
           31,
           69,
           208,
           87,
           65,
           28,
           27,
           10,
           59,
           68,
           192,
           12,
           56,
           54,
           12,
           26,
           89,
           18,
           76,
           170,
           201,
           101,
           344,
           49,
           43,
           112,
           70,
           162,
           163,
           93,
           55,
           62,
           25,
           64,
           73,
           129,
           178,
           81,
           106,
           26,
           300,
           19,
           85,
           32,
           219,
           121,
           97,
           93,
           153,
           174,
           171,
           67,
           216,
           99,
           5,
           6,
           5,
           14,
           53,
           4,
           162,
           46,
           22,
           9,
           121,
           85,
           117,
           63,
           170,
           66,
           16,
           16,
           145,
           48,
           27,
           90,
           24,
           28,
           74,
           148,
           71,
           27,
           85,
           52,
           48,
           64,
           67,
           108,
           221,
           158,
           126,
           194,
           250,
           160,
           95,
           104,
           179,
           179,
           63,
           128,
           243,
           138,
           125,
           64,
           68,
           65,
           52,
           50,
           67,
           59,
           60,
           56,
           59,
           231,
           68,
           152,
           62,
           31,
           123,
           57,
           39,
           122,
           68,
           90,
           98,
           215,
           121,
           121,
           173,
           57,
           72,
           180,
           201,
           63,
           91,
           89,
           80,
           124,
           120,
           35,
           164,
           46,
           73,
           124,
           195,
           121,
           93,
           80,
           129,
           22,
           15,
           13,
           54,
           10,
           30,
           66,
           44,
           43,
           49,
           51,
           21,
           71,
           12,
           254,
           41,
           12,
           92,
           151,
           24,
           45,
           63,
           102,
           10,
           12,
           17,
           70,
           137,
           22,
           59,
           48,
           29,
           27,
           22,
           179,
           35,
           230,
           67,
           50,
           28,
           29,
           33,
           15,
           44,
           93,
           41,
           92,
           19,
           32,
           59,
           168,
           37,
           79,
           39,
           34,
           14,
           202,
           43,
           18,
           178,
           9,
           12,
           5,
           64,
           127,
           206,
           4,
           1,
           2,
           20,
           50,
           209,
           81,
           31,
           66,
           66,
           30,
           60,
           41,
           40,
           34,
           27,
           51,
           59,
           64,
           18,
           18,
           64,
           43,
           11,
           39,
           39,
           22,
           82,
           4,
           75,
           169,
           77,
           31,
           119,
           58,
           69,
           24,
           23,
           91,
           38,
           44,
           40,
           82,
           33,
           89,
           4,
           35,
           27,
           38,
           70,
           67,
           50,
           72,
           171,
           90,
           34,
           147,
           227,
           44,
           131,
           79,
           115,
           153,
           88,
           82,
           116,
           46,
           100,
           5,
           12,
           6,
           13,
           36,
           46,
           65,
           86,
           48,
           54,
           77,
           1,
           219,
           107,
           34,
           27,
           100,
           49,
           169,
           157,
           50,
           69,
           44,
           87,
           155,
           16,
           164,
           91,
           44,
           13,
           79,
           40,
           10,
           102,
           15,
           10,
           53,
           19,
           24,
           137,
           6,
           70,
           101,
           104,
           79,
           1,
           51,
           72,
           13,
           87,
           58,
           82,
           16,
           29,
           86,
           54,
           58,
           34,
           76,
           16,
           14,
           63,
           45,
           81,
           24,
           39,
           180,
           15,
           27,
           137,
           78,
           59,
           31,
           164,
           63,
           58,
           267,
           39,
           92,
           16,
           119,
           102,
           316,
           51,
           124,
           180,
           39,
           24,
           57,
           96,
           128,
           4,
           21,
           11,
           46,
           44,
           115,
           149,
           29,
           32,
           9,
           11,
           52,
           42,
           57,
           41,
           49,
           17,
           32,
           26,
           9,
           4,
           76,
           31,
           69,
           84,
           10,
           37,
           2,
           39,
           14,
           13,
           3,
           47,
           66,
           10,
           86,
           10,
           46,
           21,
           36,
           31,
           9,
           5,
           26,
           16,
           40,
           9,
           8,
           27,
           50,
           9,
           31,
           43,
           45,
           18,
           18,
           56,
           1,
           112,
           21,
           3,
           25,
           40,
           93,
           22,
           4,
           82,
           49,
           83,
           80,
           57,
           13,
           34,
           1,
           91,
           22,
           49,
           25,
           15,
           26,
           25,
           4,
           4,
           53,
           48,
           27,
           30,
           42,
           176,
           44,
           55,
           9,
           53,
           4,
           4,
           1,
           14,
           16,
           66,
           36,
           1,
           3,
           15,
           16,
           3,
           18,
           24,
           86,
           21,
           119,
           6,
           5,
           24,
           9,
           75,
           42,
           81,
           39,
           53,
           47,
           52,
           33,
           136,
           59,
           45,
           34,
           13,
           7,
           13,
           53,
           64,
           15,
           13,
           43,
           6,
           53,
           14,
           19,
           106,
           44,
           2,
           58,
           9,
           42,
           12,
           42,
           18,
           20,
           27,
           21,
           2,
           20,
           13,
           4,
           4,
           9,
           2,
           11,
           13,
           18,
           7,
           8,
           96,
           5,
           46,
           34,
           58,
           85,
           34,
           101,
           6,
           104,
           40,
           80,
           57,
           40,
           21,
           68,
           7,
           32,
           37,
           25,
           60,
           32,
           46,
           45,
           40,
           43,
           40,
           61,
           17,
           48,
           71,
           30,
           39,
           45,
           22,
           11,
           49,
           46,
           2,
           14,
           64,
           25,
           34,
           23,
           41,
           9,
           21,
           26,
           12,
           18,
           75,
           8,
           34,
           28,
           4,
           32,
           44,
           12,
           49,
           27,
           35,
           22,
           8,
           20,
           15,
           44,
           22,
           23,
           4,
           86,
           32,
           33,
           25,
           4,
           66,
           7,
           31,
           14,
           16,
           16,
           10,
           10,
           17,
           8,
           8,
           9,
           22,
           23,
           47,
           37,
           64,
           44,
           93,
           100,
           38,
           98,
           12,
           137,
           50,
           32,
           31,
           35,
           38,
           32,
           31,
           15,
           44,
           4,
           3,
           148,
           14,
           20,
           7,
           16,
           32,
           27,
           68,
           24,
           24,
           17,
           90,
           25,
           62,
           28,
           8,
           40,
           25,
           46,
           134,
           73,
           25,
           43,
           41,
           25,
           24,
           23,
           10,
           10,
           22,
           15,
           35,
           39,
           29,
           12,
           41,
           4,
           53,
           16,
           44,
           12,
           18,
           27,
           16,
           7,
           66,
           77,
           7,
           12,
           8,
           22,
           45,
           2,
           8,
           8,
           6,
           21,
           11,
           21,
           10,
           13,
           38,
           37,
           43,
           12,
           23,
           12,
           29,
           3,
           18,
           42,
           13,
           8,
           74,
           7,
           19,
           4,
           18,
           4,
           18,
           5,
           28,
           41,
           7,
           15,
           22,
           10,
           29,
           13,
           19,
           47,
           59,
           17,
           21,
           1,
           3,
           12,
           4,
           32,
           11,
           13,
           28,
           1,
           13,
           32,
           30,
           38,
           46,
           29,
           29,
           5,
           33,
           17,
           9,
           44,
           15,
           3,
           9,
           3,
           21,
           9,
           26,
           9,
           7,
           28,
           19,
           12,
           3,
           1,
           25,
           4,
           11,
           26,
           13,
           5,
           25,
           6,
           14,
           12,
           11,
           22,
           10,
           27,
           14,
           15,
           7,
           8,
           5,
           22,
           7,
           19,
           9,
           10,
           10,
           13,
           19,
           10,
           18,
           3,
           13,
           44,
           3,
           11,
           3,
           13,
           10,
           31,
           11,
           3,
           45,
           7,
           23,
           7,
           1,
           8,
           21,
           18,
           6,
           19,
           17,
           20,
           15,
           38,
           12,
           6,
           6,
           9,
           30,
           6,
           39,
           26,
           20,
           30,
           39,
           25,
           4,
           12,
           14,
           32,
           8,
           48,
           13,
           18,
           22,
           17,
           6,
           8,
           1,
           1,
           6,
           8,
           18,
           26,
           6,
           5,
           7,
           36,
           19,
           7,
           6,
           19,
           12,
           6,
           8,
           9,
           7,
           11,
           8,
           3,
           4,
           23,
           4,
           4,
           4,
           8,
           15,
           7,
           19,
           12,
           33,
           10,
           10,
           7,
           7,
           5,
           15,
           11,
           4,
           8,
           19,
           16,
           9,
           16,
           13,
           9,
           19,
           26,
           15,
           17,
           6,
           7,
           7,
           2,
           15,
           3,
           3,
           7,
           7,
           20,
           12,
           9,
           8,
           9,
           5,
           5,
           18,
           2,
           7,
           2,
           2,
           2,
           1,
           1,
           16,
           7,
           14,
           11,
           23,
           7,
           4,
           3,
           4,
           1,
           2,
           6,
           3,
           5,
           1,
           6,
           3,
           6,
           1,
           4,
           4,
           2,
           5,
           2,
           11,
           10,
           9,
           4,
           1,
           1,
           1,
           2,
           1,
           5,
           2,
           5,
           4,
           1,
           1,
           2,
           3,
           1,
           5,
           2,
           6,
           3,
           3,
           2,
           2,
           2,
           3,
           2,
           1,
           1,
           2,
           1,
           5,
           6,
           4,
           3,
           2,
           3,
           1,
           2,
           10,
           7,
           4,
           5,
           7,
           6,
           8,
           4,
           6,
           3,
           5,
           6,
           3,
           6,
           3,
           2,
           3,
           5,
           9,
           7,
           6,
           5,
           5,
           2,
           7,
           10,
           18,
           4,
           4,
           13,
           6,
           5,
           20,
           3,
           7,
           4,
           28,
           6,
           8,
           1,
           9,
           5,
           2,
           3,
           16,
           3,
           11,
           4,
           4,
           3,
           10,
           8,
           5,
           12,
           4,
           3,
           5,
           3,
           2,
           10,
           7,
           2,
           9,
           5,
           8,
           5,
           7,
           5,
           4,
           19,
           4,
           15,
           1,
           3,
           8,
           2,
           15,
           1,
           1,
           6,
           2,
           7,
           1,
           1,
           7,
           1,
           1,
           7,
           3,
           3,
           3,
           6,
           2,
           6,
           12,
           5,
           9,
           2,
           9,
           6,
           8,
           1,
           2,
           18,
           8,
           11,
           2,
           1,
           12,
           3,
           4,
           1,
           5,
           4,
           5,
           3,
           2,
           1,
           1,
           1,
           5,
           5,
           2,
           1,
           4,
           2,
           5,
           2,
           10,
           3,
           1,
           3,
           1,
           3,
           5,
           1,
           5,
           6,
           3,
           7,
           1,
           3,
           5,
           12,
           2,
           1,
           4,
           7,
           2,
           8,
           1,
           1,
           7,
           3,
           5,
           5,
           7,
           2,
           1,
           6,
           4,
           1,
           4,
           3,
           4,
           10,
           2,
           2,
           1,
           3,
           4,
           1,
           2,
           1,
           2,
           2,
           2,
           3,
           4,
           2,
           5,
           2,
           1,
           7,
           1,
           4,
           1,
           1,
           1,
           1,
           1,
           1,
           1,
           1,
           1,
           1,
           1,
           1,
           2,
           1,
           1,
           1,
           1,
           2,
           1,
           1,
           1,
           1,
           1,
           1,
           2,
           1,
           1,
           2,
           4,
           2,
           6,
           5,
           1,
           2,
           1,
           1,
           5,
           6,
           1,
           4,
           1,
           3,
           1,
           1,
           4,
           1,
           3,
           4,
           3,
           3,
           2,
           4,
           1,
           1,
           10,
           1,
           2,
           1,
           1,
           9,
           1,
           3,
           3,
           1,
           1,
           1,
           1,
           4,
           2,
           1,
           2,
           1,
           1,
           1,
           1,
           1,
           1,
           1,
           3,
           1,
           1,
           2,
           4,
           2,
           1,
           2,
           1,
           1,
           1,
           1,
           1,
           3,
           1,
           1,
           1,
           2,
           1,
           3,
           1,
           1,
           1,
           2,
           1,
           4,
           1,
           1,
           1,
           1,
           1,
           1,
           1,
           2,
           1,
           1,
           1,
           1,
           1,
           1,
           1,
           1,
           1,
           1
          ],
          "coloraxis": "coloraxis",
          "symbol": "circle"
         },
         "mode": "markers",
         "name": "",
         "showlegend": false,
         "type": "scattergl",
         "x": [
          -13.641366958618164,
          -0.3205545246601105,
          1.0259097814559937,
          -27.28166961669922,
          10.36141300201416,
          -10.262752532958984,
          -22.63705062866211,
          -29.633291244506836,
          -12.022954940795898,
          -21.4500789642334,
          -22.521581649780273,
          -24.800691604614258,
          -27.15627098083496,
          -11.253090858459473,
          2.3615856170654297,
          -17.51874542236328,
          -13.682778358459473,
          27.269487380981445,
          -8.31794261932373,
          -26.651119232177734,
          9.775514602661133,
          -5.401103496551514,
          -28.294769287109375,
          -16.10832977294922,
          14.315868377685547,
          -20.874475479125977,
          -1.4272385835647583,
          -8.381084442138672,
          10.214909553527832,
          -18.84535026550293,
          -7.492470741271973,
          -21.166173934936523,
          1.0948755741119385,
          10.355327606201172,
          25.503263473510742,
          23.261920928955078,
          -13.302812576293945,
          8.916019439697266,
          -8.632163047790527,
          5.383251667022705,
          -2.0747694969177246,
          -21.75566864013672,
          -0.27059417963027954,
          -9.8032808303833,
          -13.327171325683594,
          -21.50650405883789,
          -17.300430297851562,
          -25.564027786254883,
          0.05598732456564903,
          -11.965107917785645,
          8.288700103759766,
          -35.708335876464844,
          -15.061304092407227,
          6.442664623260498,
          -22.147018432617188,
          -23.50017738342285,
          -10.499710083007812,
          -28.51616859436035,
          -16.59382438659668,
          -16.64566421508789,
          -16.074859619140625,
          12.906643867492676,
          -2.025545358657837,
          -30.493467330932617,
          -18.18421173095703,
          -3.3499436378479004,
          2.6899209022521973,
          11.873420715332031,
          -5.492215633392334,
          -8.073816299438477,
          -0.9653377532958984,
          6.52455472946167,
          13.996954917907715,
          -8.592016220092773,
          11.877608299255371,
          -4.370561122894287,
          -7.373450756072998,
          17.049184799194336,
          -7.942173957824707,
          4.134106636047363,
          -31.931135177612305,
          7.998541831970215,
          -7.081151008605957,
          -13.868293762207031,
          5.541027545928955,
          -13.567940711975098,
          -2.5859789848327637,
          -3.4469635486602783,
          -36.63106918334961,
          0.3838742971420288,
          -10.664422035217285,
          -17.595928192138672,
          -23.7227840423584,
          8.518586158752441,
          -9.320316314697266,
          -10.102660179138184,
          -27.864892959594727,
          -31.026569366455078,
          -36.242332458496094,
          -31.72869110107422,
          8.83973217010498,
          1.087829828262329,
          35.043025970458984,
          33.714900970458984,
          13.634148597717285,
          17.917097091674805,
          -16.404361724853516,
          -8.409356117248535,
          -15.984070777893066,
          10.83283519744873,
          10.315607070922852,
          14.965218544006348,
          -13.943180084228516,
          -36.64643096923828,
          -0.13370046019554138,
          -18.05358123779297,
          8.05009937286377,
          13.68923568725586,
          -24.845727920532227,
          19.23464012145996,
          5.727061748504639,
          26.589839935302734,
          3.7226154804229736,
          -33.82121658325195,
          12.740185737609863,
          10.25416374206543,
          -29.930070877075195,
          -15.307600021362305,
          -24.419586181640625,
          27.629634857177734,
          -23.972396850585938,
          -34.43594741821289,
          -3.8447206020355225,
          -31.44847869873047,
          -32.71552658081055,
          -16.447084426879883,
          -26.70848846435547,
          14.957578659057617,
          -2.0554044246673584,
          5.109529972076416,
          -13.933808326721191,
          7.174611568450928,
          -3.339519500732422,
          -30.178529739379883,
          15.332857131958008,
          0.12710416316986084,
          1.078408122062683,
          15.821449279785156,
          -9.364189147949219,
          -19.92201042175293,
          -21.730573654174805,
          -34.71083450317383,
          -22.894676208496094,
          -18.920734405517578,
          0.8106309771537781,
          -22.99382209777832,
          -24.32206916809082,
          22.425018310546875,
          7.423097610473633,
          -17.353464126586914,
          13.130926132202148,
          -27.78502082824707,
          -13.526409149169922,
          3.35123348236084,
          -13.238346099853516,
          -13.232553482055664,
          7.774717330932617,
          -20.47937774658203,
          -37.912750244140625,
          -11.910486221313477,
          -22.41543197631836,
          -11.802669525146484,
          -11.439520835876465,
          -10.770136833190918,
          -31.58245849609375,
          -19.42244529724121,
          -22.920541763305664,
          -32.42353439331055,
          -29.329614639282227,
          -23.567724227905273,
          -11.918058395385742,
          -20.7037296295166,
          -19.449922561645508,
          -17.51369857788086,
          -29.42462158203125,
          -10.670114517211914,
          -30.26093292236328,
          -21.64945411682129,
          -13.547323226928711,
          -24.903369903564453,
          -32.54652404785156,
          -22.5118408203125,
          -30.985504150390625,
          -6.449620246887207,
          -10.697301864624023,
          -9.813943862915039,
          -34.657989501953125,
          -22.359291076660156,
          -27.376726150512695,
          -18.273094177246094,
          -20.0710391998291,
          -9.19693374633789,
          -19.800079345703125,
          -8.145903587341309,
          -29.214937210083008,
          -17.10236930847168,
          -16.639404296875,
          -34.884822845458984,
          -28.61553955078125,
          -8.937654495239258,
          -30.232666015625,
          -18.287784576416016,
          -27.689390182495117,
          -22.695270538330078,
          -4.427004814147949,
          -11.316740989685059,
          -1.7936652898788452,
          -7.310959815979004,
          9.703681945800781,
          7.063501834869385,
          -18.72711944580078,
          3.9604437351226807,
          -24.891645431518555,
          -14.570387840270996,
          2.8289992809295654,
          4.015931129455566,
          -10.10684585571289,
          -10.443001747131348,
          -9.012516975402832,
          3.206981897354126,
          21.443164825439453,
          5.439826965332031,
          -5.507533550262451,
          -33.00808334350586,
          3.788455009460449,
          1.2841655015945435,
          -2.7277004718780518,
          -23.731239318847656,
          7.483809947967529,
          -15.839272499084473,
          6.310732364654541,
          -10.626440048217773,
          17.115806579589844,
          14.65888786315918,
          12.98257827758789,
          -24.40694236755371,
          19.48358154296875,
          12.848237991333008,
          3.6890337467193604,
          3.627249002456665,
          -10.897032737731934,
          13.26039981842041,
          -10.130942344665527,
          12.480011940002441,
          5.521158218383789,
          -19.907052993774414,
          1.5237983465194702,
          9.230381965637207,
          18.459087371826172,
          20.4848575592041,
          18.860734939575195,
          -25.917898178100586,
          32.34440994262695,
          10.309452056884766,
          -5.457489967346191,
          20.059354782104492,
          4.052767753601074,
          -24.332590103149414,
          -10.0012845993042,
          2.995016098022461,
          12.089432716369629,
          8.229365348815918,
          7.202051162719727,
          10.57001781463623,
          -13.904219627380371,
          -26.94047737121582,
          -15.093239784240723,
          11.754508018493652,
          -8.756247520446777,
          10.937108993530273,
          11.559243202209473,
          12.320406913757324,
          -12.544180870056152,
          9.256296157836914,
          -26.870454788208008,
          -10.361080169677734,
          8.936131477355957,
          8.013195991516113,
          11.365133285522461,
          -25.975807189941406,
          11.137489318847656,
          -11.190329551696777,
          -25.664472579956055,
          14.398245811462402,
          11.826148986816406,
          6.148888111114502,
          -0.09627647697925568,
          13.149871826171875,
          -11.137253761291504,
          11.476946830749512,
          13.287251472473145,
          -27.111305236816406,
          -2.418344497680664,
          13.54069709777832,
          -2.8081114292144775,
          -10.860847473144531,
          11.072773933410645,
          -0.4026269316673279,
          15.072161674499512,
          12.263368606567383,
          -9.761062622070312,
          11.652909278869629,
          0.030679959803819656,
          31.984331130981445,
          7.628468990325928,
          7.529012203216553,
          -12.155186653137207,
          -30.449304580688477,
          -26.0928897857666,
          -17.17426300048828,
          3.839167833328247,
          16.907541275024414,
          16.50880241394043,
          -15.384411811828613,
          16.68621253967285,
          15.805458068847656,
          14.129857063293457,
          15.099296569824219,
          16.85634994506836,
          6.98632287979126,
          12.948501586914062,
          13.423258781433105,
          14.321210861206055,
          1.627206802368164,
          10.713431358337402,
          4.120631694793701,
          -13.793156623840332,
          16.216440200805664,
          5.6612653732299805,
          -0.2386414110660553,
          5.505711078643799,
          -5.10256290435791,
          12.584492683410645,
          -0.2605597674846649,
          -15.601862907409668,
          -2.4737725257873535,
          -2.613138437271118,
          14.734549522399902,
          15.869877815246582,
          7.3475871086120605,
          16.81117057800293,
          26.712430953979492,
          4.679693698883057,
          7.105342388153076,
          -0.5445752739906311,
          -2.836886167526245,
          -33.560638427734375,
          11.3258638381958,
          4.734102725982666,
          -0.5559218525886536,
          2.520655393600464,
          -15.927323341369629,
          2.0525522232055664,
          4.453934192657471,
          7.214756011962891,
          4.4825639724731445,
          -8.476478576660156,
          20.447908401489258,
          6.811007499694824,
          15.628814697265625,
          -14.098247528076172,
          -21.185771942138672,
          19.492185592651367,
          16.614789962768555,
          31.029781341552734,
          3.113698720932007,
          3.686114549636841,
          -6.397002696990967,
          1.1037869453430176,
          11.300410270690918,
          -21.991121292114258,
          -36.743133544921875,
          29.034603118896484,
          3.3014392852783203,
          -9.760307312011719,
          -10.863639831542969,
          -17.981822967529297,
          21.867738723754883,
          -2.813652992248535,
          -6.404984951019287,
          -3.1423683166503906,
          2.7784247398376465,
          1.7074483633041382,
          3.994570016860962,
          13.896110534667969,
          -11.209330558776855,
          6.168603897094727,
          13.133378982543945,
          -2.742460250854492,
          -0.7498123049736023,
          -6.562931060791016,
          0.24935264885425568,
          -4.211791515350342,
          -37.608245849609375,
          12.837766647338867,
          6.041606426239014,
          -1.1423447132110596,
          -38.00930404663086,
          11.748282432556152,
          2.136692523956299,
          5.687878608703613,
          -10.339284896850586,
          19.215858459472656,
          -29.937698364257812,
          4.893771171569824,
          -28.566415786743164,
          -5.067951679229736,
          -1.70738685131073,
          -3.2262563705444336,
          -23.758962631225586,
          -4.550756931304932,
          -5.240243434906006,
          -34.89324188232422,
          33.68637466430664,
          -21.534122467041016,
          -2.7335455417633057,
          -33.83507537841797,
          -33.721431732177734,
          -15.162169456481934,
          -25.120256423950195,
          7.755701065063477,
          -22.3547420501709,
          -18.58125114440918,
          -14.822342872619629,
          -28.83634376525879,
          -16.37229347229004,
          38.878814697265625,
          37.001434326171875,
          38.36993408203125,
          24.989107131958008,
          9.681814193725586,
          24.8053035736084,
          -23.513526916503906,
          -12.600339889526367,
          -21.13612174987793,
          13.820950508117676,
          -15.435586929321289,
          -14.141048431396484,
          -11.537064552307129,
          -7.612949848175049,
          5.415320873260498,
          2.0604376792907715,
          -1.7018290758132935,
          16.27723503112793,
          -16.179340362548828,
          12.278687477111816,
          21.244428634643555,
          -2.271043300628662,
          -8.732194900512695,
          -7.141148090362549,
          -25.258323669433594,
          -12.841404914855957,
          -18.000917434692383,
          -27.693479537963867,
          -3.5473337173461914,
          -5.622663974761963,
          -33.293094635009766,
          7.817019939422607,
          -19.822019577026367,
          -2.6264359951019287,
          13.070087432861328,
          -0.43574872612953186,
          -9.774445533752441,
          -30.152315139770508,
          -23.783004760742188,
          8.690779685974121,
          -20.95379066467285,
          -23.04052734375,
          -33.895328521728516,
          -32.84864807128906,
          -29.98459815979004,
          -31.05295753479004,
          -33.65521240234375,
          -31.976839065551758,
          -12.39073371887207,
          -5.707688331604004,
          -26.642717361450195,
          -30.45206069946289,
          -17.874025344848633,
          -22.94944190979004,
          -34.85785675048828,
          -28.463823318481445,
          -28.379480361938477,
          -30.077959060668945,
          -28.60135269165039,
          -29.8985595703125,
          -20.99178695678711,
          -29.312801361083984,
          -22.807859420776367,
          -27.3212833404541,
          -37.537452697753906,
          -11.633129119873047,
          -12.761938095092773,
          -27.864444732666016,
          -20.872772216796875,
          -27.416622161865234,
          -37.15045928955078,
          -24.442182540893555,
          -28.023876190185547,
          -29.587818145751953,
          -33.520362854003906,
          -24.300792694091797,
          -25.48831558227539,
          -26.220783233642578,
          -32.77136993408203,
          -8.885405540466309,
          -19.714536666870117,
          -31.05845832824707,
          -33.20577621459961,
          -30.18990135192871,
          -33.250343322753906,
          -31.871231079101562,
          -30.464021682739258,
          -14.096535682678223,
          -32.738651275634766,
          -28.627546310424805,
          -29.411184310913086,
          -31.874004364013672,
          -26.219083786010742,
          -29.021554946899414,
          9.044285774230957,
          3.1785624027252197,
          -23.755970001220703,
          -6.801286220550537,
          14.648716926574707,
          -16.422531127929688,
          -22.951440811157227,
          15.50485897064209,
          16.850811004638672,
          10.000471115112305,
          11.533354759216309,
          20.761905670166016,
          -18.62032699584961,
          4.568517208099365,
          32.706111907958984,
          9.850707054138184,
          -0.8188996911048889,
          -10.269674301147461,
          -3.815432548522949,
          5.251955032348633,
          19.596019744873047,
          2.2704954147338867,
          3.4892313480377197,
          9.686800956726074,
          20.5341739654541,
          -12.007610321044922,
          -14.379508972167969,
          -18.957860946655273,
          6.240922927856445,
          23.209299087524414,
          5.705635070800781,
          3.5305016040802,
          19.56294059753418,
          25.326162338256836,
          -0.9752810597419739,
          -10.000879287719727,
          9.544090270996094,
          -0.09514444321393967,
          2.848876714706421,
          7.201913833618164,
          -0.27542704343795776,
          5.3345232009887695,
          8.609723091125488,
          19.848499298095703,
          19.408401489257812,
          2.9247148036956787,
          34.203208923339844,
          10.46105670928955,
          5.729037284851074,
          -27.000751495361328,
          -16.72799301147461,
          -25.54097557067871,
          -15.489599227905273,
          -17.584516525268555,
          7.190219402313232,
          -5.318105220794678,
          -11.872932434082031,
          3.9626681804656982,
          -28.177959442138672,
          28.010461807250977,
          13.494290351867676,
          -12.624588012695312,
          -30.18575668334961,
          -9.149066925048828,
          13.522666931152344,
          4.075798988342285,
          11.611554145812988,
          -2.704119920730591,
          35.0368766784668,
          -10.133278846740723,
          -27.30545997619629,
          -21.99667739868164,
          -32.11519241333008,
          -16.701148986816406,
          -13.579244613647461,
          -25.054040908813477,
          -24.298709869384766,
          -25.951541900634766,
          -19.318078994750977,
          -32.45061111450195,
          -15.93188762664795,
          -23.23649787902832,
          -6.671055793762207,
          -28.243436813354492,
          -17.059696197509766,
          -20.88896369934082,
          -22.30742645263672,
          -12.90295696258545,
          10.159932136535645,
          -7.294918060302734,
          -33.55431365966797,
          -5.663224697113037,
          -0.45199546217918396,
          -14.410337448120117,
          -1.007151484489441,
          -32.4318733215332,
          7.5499420166015625,
          10.087847709655762,
          -8.821364402770996,
          7.860208034515381,
          -20.87618064880371,
          -31.074275970458984,
          -31.341188430786133,
          -34.09608459472656,
          -10.402689933776855,
          -14.908114433288574,
          -11.828285217285156,
          -31.576093673706055,
          -22.563573837280273,
          -31.627578735351562,
          -29.438833236694336,
          -22.322145462036133,
          -24.14840316772461,
          -33.620487213134766,
          -18.999752044677734,
          -19.362403869628906,
          -28.51762580871582,
          -14.866467475891113,
          -22.538360595703125,
          -24.363924026489258,
          -28.429275512695312,
          -18.851579666137695,
          -22.581249237060547,
          -27.8338565826416,
          -34.14487075805664,
          -31.18037986755371,
          -29.650312423706055,
          10.307971954345703,
          -28.591102600097656,
          -11.320656776428223,
          -33.15658187866211,
          -8.457640647888184,
          -17.478431701660156,
          -20.90144157409668,
          0.9714676141738892,
          -1.5199530124664307,
          -0.1642569750547409,
          -4.557318687438965,
          26.96270751953125,
          10.048558235168457,
          -22.961811065673828,
          20.304645538330078,
          -1.4440561532974243,
          -13.010972023010254,
          -32.72109603881836,
          8.903791427612305,
          53.760589599609375,
          17.477981567382812,
          -15.288080215454102,
          20.13191795349121,
          20.52900505065918,
          16.626705169677734,
          19.731035232543945,
          -6.632796764373779,
          14.936020851135254,
          -6.380126476287842,
          13.363640785217285,
          21.207256317138672,
          16.302101135253906,
          12.944595336914062,
          -20.01423454284668,
          -2.6903257369995117,
          -24.72372055053711,
          -24.58793067932129,
          -11.218502044677734,
          14.261235237121582,
          3.764554500579834,
          -14.135778427124023,
          -8.067933082580566,
          1.3478409051895142,
          -23.46664047241211,
          -12.11611557006836,
          -14.107126235961914,
          -4.322164535522461,
          -31.272689819335938,
          4.210794448852539,
          0.07368749380111694,
          -21.24420738220215,
          -14.002840042114258,
          -8.361679077148438,
          57.24341583251953,
          3.5260088443756104,
          -4.0859270095825195,
          -16.379114151000977,
          -16.551652908325195,
          -20.25872802734375,
          13.047225952148438,
          -11.532707214355469,
          -2.1151139736175537,
          9.892739295959473,
          2.807894229888916,
          -1.3285917043685913,
          10.603212356567383,
          -26.861995697021484,
          5.855358123779297,
          15.018157958984375,
          3.036625623703003,
          6.791238784790039,
          11.716896057128906,
          -24.979249954223633,
          -3.2791941165924072,
          -6.353437423706055,
          -16.30586814880371,
          18.08370590209961,
          -8.498662948608398,
          -12.677270889282227,
          -13.055705070495605,
          -8.734150886535645,
          -3.3168303966522217,
          3.489689350128174,
          -19.828990936279297,
          12.389863967895508,
          24.547637939453125,
          -4.080137729644775,
          -20.86539649963379,
          -8.706732749938965,
          -17.303577423095703,
          15.86462116241455,
          11.300814628601074,
          12.621585845947266,
          3.88041090965271,
          8.828143119812012,
          -8.118477821350098,
          -5.0208353996276855,
          7.1346001625061035,
          14.632246971130371,
          -3.0170812606811523,
          28.973331451416016,
          8.816925048828125,
          1.5898127555847168,
          0.35371050238609314,
          17.11026382446289,
          1.7306017875671387,
          -5.407073974609375,
          -0.393032968044281,
          -29.535266876220703,
          1.821491003036499,
          7.305952548980713,
          16.82061004638672,
          -33.072547912597656,
          14.83721923828125,
          -18.092519760131836,
          -11.487862586975098,
          12.595510482788086,
          6.367573261260986,
          1.9060763120651245,
          24.668996810913086,
          -23.252574920654297,
          6.022624492645264,
          5.622611999511719,
          6.902198791503906,
          28.235082626342773,
          11.28144645690918,
          56.62730026245117,
          -13.520671844482422,
          -5.761851787567139,
          -3.484484910964966,
          53.99993896484375,
          -11.80195140838623,
          6.790733337402344,
          29.616302490234375,
          -33.09025955200195,
          -14.029019355773926,
          8.873490333557129,
          9.82547378540039,
          0.8719601631164551,
          -8.592798233032227,
          29.237239837646484,
          -15.864311218261719,
          4.465148448944092,
          5.7221527099609375,
          11.443674087524414,
          -7.802575588226318,
          5.978871822357178,
          -25.390573501586914,
          -18.47826385498047,
          3.8655941486358643,
          17.59715461730957,
          13.495847702026367,
          1.0347377061843872,
          -8.745552062988281,
          3.9611191749572754,
          -10.538043975830078,
          57.15683364868164,
          6.330775737762451,
          4.808444023132324,
          7.068599700927734,
          -5.60627555847168,
          14.83100414276123,
          5.388354778289795,
          7.594690322875977,
          -12.478161811828613,
          8.55814266204834,
          -5.509056568145752,
          9.011004447937012,
          19.743181228637695,
          12.963666915893555,
          10.505348205566406,
          13.958695411682129,
          33.72671890258789,
          23.918643951416016,
          -6.997246742248535,
          4.962902069091797,
          25.67677879333496,
          -19.618335723876953,
          -16.344242095947266,
          -27.938175201416016,
          23.98564338684082,
          33.367645263671875,
          12.442264556884766,
          12.699231147766113,
          -18.497886657714844,
          -7.502943515777588,
          -10.511693954467773,
          8.564249038696289,
          10.832202911376953,
          -14.965399742126465,
          -19.77365493774414,
          15.53717041015625,
          -23.425687789916992,
          -27.928791046142578,
          34.51700973510742,
          -19.293312072753906,
          -0.828545868396759,
          -12.837814331054688,
          -23.835378646850586,
          -7.330567359924316,
          37.493560791015625,
          2.3268675804138184,
          6.985873699188232,
          -9.205546379089355,
          23.874027252197266,
          -28.18567657470703,
          -3.564009666442871,
          -23.131744384765625,
          12.872124671936035,
          -28.331052780151367,
          -28.595949172973633,
          8.132166862487793,
          -5.280485153198242,
          17.784645080566406,
          -7.05500602722168,
          15.534085273742676,
          6.152276515960693,
          -14.246188163757324,
          18.175378799438477,
          18.129138946533203,
          18.487503051757812,
          15.0073823928833,
          -6.534878253936768,
          18.37925910949707,
          0.27170446515083313,
          -1.0653072595596313,
          0.3820500373840332,
          17.855323791503906,
          11.407632827758789,
          -9.841361999511719,
          15.225934028625488,
          -3.4579432010650635,
          26.81370735168457,
          13.680279731750488,
          13.513765335083008,
          10.914055824279785,
          30.794174194335938,
          16.84297752380371,
          -24.754249572753906,
          30.650089263916016,
          5.354725360870361,
          10.070577621459961,
          -7.973427772521973,
          24.050317764282227,
          -11.68331241607666,
          -1.5593565702438354,
          4.380707740783691,
          12.127096176147461,
          -1.1680357456207275,
          22.67268180847168,
          17.348682403564453,
          -12.201358795166016,
          31.03786277770996,
          -3.757953405380249,
          4.591579914093018,
          35.02361297607422,
          10.008217811584473,
          -26.409513473510742,
          3.7610433101654053,
          -7.263043403625488,
          6.657074928283691,
          -24.819242477416992,
          -25.69913101196289,
          -20.162019729614258,
          -22.024450302124023,
          -13.749139785766602,
          11.616153717041016,
          14.534638404846191,
          10.364645957946777,
          34.049644470214844,
          8.5736665725708,
          2.243537187576294,
          14.637466430664062,
          23.187410354614258,
          9.351466178894043,
          1.4615060091018677,
          16.134729385375977,
          -21.11014175415039,
          -9.031872749328613,
          -4.815317153930664,
          12.973783493041992,
          2.106351613998413,
          21.749099731445312,
          -7.989676475524902,
          -23.721529006958008,
          -2.3167622089385986,
          14.160834312438965,
          -7.739095687866211,
          -3.3984320163726807,
          -27.241065979003906,
          9.191727638244629,
          -6.170964241027832,
          -4.518132209777832,
          0.5512903332710266,
          -18.03078269958496,
          -15.308509826660156,
          -12.453627586364746,
          -11.487229347229004,
          -25.690587997436523,
          -2.6628079414367676,
          -9.621484756469727,
          -20.609342575073242,
          -15.216242790222168,
          -19.89204216003418,
          -10.380776405334473,
          -24.88959503173828,
          -31.257022857666016,
          -23.52968406677246,
          -4.111382961273193,
          -7.224074363708496,
          -19.23835563659668,
          -9.138835906982422,
          -31.16111183166504,
          -18.617935180664062,
          -20.8174991607666,
          -4.821282386779785,
          -0.535569429397583,
          -5.346054553985596,
          24.730369567871094,
          19.411149978637695,
          0.3913939893245697,
          9.011359214782715,
          -25.599050521850586,
          18.492263793945312,
          15.396142959594727,
          16.26569366455078,
          16.681114196777344,
          1.6833608150482178,
          11.608787536621094,
          28.352882385253906,
          14.26906681060791,
          4.9461750984191895,
          5.887967586517334,
          20.182462692260742,
          27.617630004882812,
          9.770123481750488,
          -5.07907247543335,
          -15.889044761657715,
          9.708881378173828,
          -3.2336063385009766,
          -8.60109806060791,
          8.225378036499023,
          4.227685451507568,
          29.925918579101562,
          11.02367877960205,
          30.784366607666016,
          5.844569206237793,
          -19.30278778076172,
          -3.034329891204834,
          -9.578690528869629,
          -2.6505210399627686,
          -3.9683053493499756,
          -14.766879081726074,
          -22.374486923217773,
          2.975086212158203,
          18.852252960205078,
          4.132012367248535,
          6.826477527618408,
          11.432111740112305,
          -13.512754440307617,
          -5.934307098388672,
          1.04278564453125,
          -33.894500732421875,
          -25.910301208496094,
          -19.16977882385254,
          18.268362045288086,
          -16.813888549804688,
          19.663925170898438,
          -0.7703143358230591,
          38.518341064453125,
          13.822813987731934,
          25.848886489868164,
          9.034006118774414,
          19.162044525146484,
          12.211179733276367,
          3.281308889389038,
          16.43660545349121,
          3.9436826705932617,
          17.949188232421875,
          34.652225494384766,
          7.1799211502075195,
          -27.663650512695312,
          15.24448299407959,
          8.014901161193848,
          -4.635384559631348,
          1.711942195892334,
          1.9240374565124512,
          -18.624473571777344,
          7.030542850494385,
          11.29440975189209,
          -18.756813049316406,
          14.615995407104492,
          -14.341144561767578,
          10.737170219421387,
          22.94644546508789,
          7.079960346221924,
          19.657554626464844,
          5.731727123260498,
          0.8779506683349609,
          -2.324267625808716,
          -14.058243751525879,
          1.1846694946289062,
          -23.955839157104492,
          12.60219669342041,
          3.3830652236938477,
          -3.863748073577881,
          -29.03816032409668,
          -19.655977249145508,
          -16.32693862915039,
          -6.351864814758301,
          -1.8982712030410767,
          -6.778133392333984,
          -26.463550567626953,
          0.43460240960121155,
          5.481001377105713,
          -19.67576026916504,
          10.349775314331055,
          1.4581384658813477,
          6.912931442260742,
          -12.917669296264648,
          6.587115287780762,
          28.677888870239258,
          -14.880620002746582,
          -1.1447577476501465,
          -0.6182176470756531,
          -2.2723193168640137,
          -13.26942253112793,
          -25.736404418945312,
          3.117723226547241,
          31.78671646118164,
          24.543392181396484,
          20.198410034179688,
          14.789399147033691,
          -9.880699157714844,
          -0.7233487963676453,
          -8.61993408203125,
          25.390487670898438,
          21.1677303314209,
          0.032478492707014084,
          -6.727452278137207,
          -18.887046813964844,
          -24.527685165405273,
          -6.801178932189941,
          -6.502406597137451,
          15.675110816955566,
          -22.39093780517578,
          27.340730667114258,
          18.237701416015625,
          -3.7527036666870117,
          -3.5239219665527344,
          -21.605558395385742,
          -5.52138090133667,
          4.781833171844482,
          -18.152124404907227,
          -7.700106143951416,
          -24.75226593017578,
          -3.728516101837158,
          -24.638683319091797,
          -25.57961654663086,
          -9.703593254089355,
          -16.950403213500977,
          -3.3493969440460205,
          -3.6155385971069336,
          -22.47551155090332,
          -20.93170166015625,
          -19.79847526550293,
          -26.61455726623535,
          -10.618433952331543,
          -35.10972213745117,
          11.576156616210938,
          -11.66512393951416,
          -10.882052421569824,
          -18.014989852905273,
          -25.33016014099121,
          2.7194721698760986,
          -5.843928337097168,
          -6.610706806182861,
          4.071714401245117,
          15.453093528747559,
          -14.748564720153809,
          -4.671993255615234,
          4.927663326263428,
          31.11115837097168,
          -7.80521297454834,
          -25.97311019897461,
          -21.54354476928711,
          -11.391738891601562,
          6.130806922912598,
          39.38467788696289,
          -21.15411376953125,
          -25.812854766845703,
          -23.40103530883789,
          -17.65646743774414,
          20.981645584106445,
          8.197998046875,
          -12.300981521606445,
          -5.364837169647217,
          57.54877853393555,
          -6.586605548858643,
          10.263140678405762,
          -13.212339401245117,
          -19.61988067626953,
          -11.411744117736816,
          -6.99503755569458,
          25.183300018310547,
          18.233173370361328,
          4.4098896980285645,
          22.54070281982422,
          -2.0801444053649902,
          -4.713895320892334,
          2.3559510707855225,
          -24.67913246154785,
          -17.55210304260254,
          -19.178133010864258,
          -20.88957977294922,
          7.526150703430176,
          -10.564288139343262,
          1.8129613399505615,
          -10.332926750183105,
          30.17060661315918,
          1.973988652229309,
          17.773197174072266,
          10.702205657958984,
          25.929458618164062,
          15.082954406738281,
          23.907833099365234,
          -16.724672317504883,
          11.997223854064941,
          -33.98467254638672,
          -15.558280944824219,
          1.9679529666900635,
          -7.513933181762695,
          11.971016883850098,
          -9.628653526306152,
          -14.414679527282715,
          -9.791943550109863,
          -11.247557640075684,
          -5.940657138824463,
          -12.321072578430176,
          -8.195908546447754,
          -13.673845291137695,
          -13.208428382873535,
          -14.336910247802734,
          55.58750915527344,
          -22.664823532104492,
          -20.46363639831543,
          -29.906665802001953,
          1.8600181341171265,
          8.789680480957031,
          0.5063842535018921,
          -13.258548736572266,
          18.725576400756836,
          9.72910213470459,
          -17.778907775878906,
          -2.20442795753479,
          -2.596912384033203,
          27.529008865356445,
          30.236597061157227,
          -5.69448184967041,
          13.396756172180176,
          6.190167427062988,
          2.1472718715667725,
          10.902499198913574,
          6.158566951751709,
          -5.323493957519531,
          -17.802236557006836,
          5.792967319488525,
          11.995891571044922,
          -15.381538391113281,
          -0.36217591166496277,
          3.989361047744751,
          22.087743759155273,
          23.622127532958984,
          23.511804580688477,
          -8.987394332885742,
          -9.694378852844238,
          4.8424458503723145,
          12.951744079589844,
          57.98319625854492,
          9.499588966369629,
          17.185914993286133,
          18.035627365112305,
          1.7146031856536865,
          -6.074889659881592,
          24.89912223815918,
          13.774541854858398,
          -0.19454611837863922,
          -21.680103302001953,
          26.379362106323242,
          23.752870559692383,
          3.7160627841949463,
          6.987751483917236,
          35.72121810913086,
          -9.3624267578125,
          4.0646891593933105,
          5.594913005828857,
          31.343584060668945,
          -6.8190484046936035,
          -8.093018531799316,
          27.066030502319336,
          0.7685204744338989,
          22.369903564453125,
          23.64005470275879,
          -15.534741401672363,
          -8.559374809265137,
          -28.102792739868164,
          -2.7986981868743896,
          5.875273704528809,
          -18.448949813842773,
          -10.981103897094727,
          -19.123756408691406,
          -4.251956939697266,
          16.714902877807617,
          -3.9244720935821533,
          -9.51388168334961,
          23.903841018676758,
          -2.838893175125122,
          -0.017002791166305542,
          14.853923797607422,
          12.797511100769043,
          5.4673261642456055,
          -2.374161958694458,
          21.080278396606445,
          -4.2266926765441895,
          -5.330448627471924,
          15.521220207214355,
          11.272453308105469,
          -4.08217716217041,
          -23.052820205688477,
          33.53187942504883,
          -19.554174423217773,
          24.83216667175293,
          55.15468215942383,
          -4.497980117797852,
          18.91634178161621,
          2.522446632385254,
          14.04644775390625,
          6.926799297332764,
          -0.06844168901443481,
          1.1770813465118408,
          -23.370071411132812,
          -18.408884048461914,
          24.408777236938477,
          4.088174819946289,
          2.0387930870056152,
          -2.5349225997924805,
          56.191497802734375,
          26.154407501220703,
          -14.91878604888916,
          25.41242027282715,
          38.16069793701172,
          58.158199310302734,
          -0.725774884223938,
          23.38724708557129,
          -5.665402889251709,
          -19.95326042175293,
          -4.959450721740723,
          10.31990909576416,
          4.134904861450195,
          34.08204650878906,
          24.88034439086914,
          30.891498565673828,
          34.463069915771484,
          4.251697063446045,
          -5.687936305999756,
          -5.916316032409668,
          -0.0018266602419316769,
          34.41478729248047,
          -19.22015380859375,
          28.632047653198242,
          -4.833820819854736,
          55.15296173095703,
          -9.033934593200684,
          -2.778825283050537,
          -1.7918624877929688,
          -24.442729949951172,
          33.39585876464844,
          -4.874532699584961,
          30.916528701782227,
          15.163607597351074,
          -2.6205086708068848,
          33.772804260253906,
          34.655548095703125,
          34.77210998535156,
          5.60835075378418,
          33.641624450683594,
          0.8865371942520142,
          7.006073951721191,
          4.6817827224731445,
          -1.4598828554153442,
          34.14220428466797,
          58.128604888916016,
          34.662967681884766,
          -9.779918670654297,
          33.71268844604492,
          -7.411972999572754,
          32.770023345947266,
          7.764079570770264,
          -9.833271980285645,
          32.196956634521484,
          -12.20572280883789,
          33.950706481933594,
          24.924226760864258,
          -26.064409255981445,
          34.07929611206055,
          33.24594497680664,
          54.06878662109375,
          22.913253784179688,
          34.837711334228516,
          -25.110870361328125,
          -26.531644821166992,
          -21.957857131958008,
          2.0212271213531494,
          26.268552780151367,
          -24.48427391052246,
          33.82109069824219,
          34.003726959228516,
          -6.551543712615967,
          29.285470962524414,
          -5.629438877105713,
          -13.123117446899414,
          -1.3545266389846802,
          -8.617228507995605,
          13.064942359924316,
          2.829352855682373,
          19.423580169677734,
          37.5670166015625,
          -18.309932708740234,
          35.94081115722656,
          16.4252986907959,
          -11.066877365112305,
          17.008926391601562,
          15.394195556640625,
          16.11703872680664,
          20.253259658813477,
          12.153397560119629,
          2.7408626079559326,
          -2.6334314346313477,
          -20.326053619384766,
          -33.700477600097656,
          -17.39012336730957,
          18.288959503173828,
          -4.476836204528809,
          -12.368600845336914,
          20.940608978271484,
          -7.178183555603027,
          -19.773916244506836,
          -11.758319854736328,
          -13.702746391296387,
          17.135601043701172,
          32.993408203125,
          -4.346837043762207,
          11.508462905883789,
          -11.851336479187012,
          29.767871856689453,
          2.217679500579834,
          -2.0589990615844727,
          8.57701301574707,
          27.24580955505371,
          -2.9185523986816406,
          -25.16324806213379,
          0.638451874256134,
          27.501859664916992,
          -16.745288848876953,
          -1.6786385774612427,
          -5.576550483703613,
          -11.97966194152832,
          -3.5561740398406982,
          1.262054681777954,
          27.484582901000977,
          -23.252023696899414,
          4.947747707366943,
          8.477265357971191,
          11.996524810791016,
          29.36078643798828,
          8.586197853088379,
          -2.5399010181427,
          2.0783843994140625,
          -6.681646347045898,
          2.492277145385742,
          -8.388850212097168,
          6.508624076843262,
          -2.171917200088501,
          -0.8296324610710144,
          10.649384498596191,
          -6.287909984588623,
          -6.921497344970703,
          -32.0093879699707,
          13.180258750915527,
          -34.11528778076172,
          55.411155700683594,
          -25.72647476196289,
          -9.87498950958252,
          -33.52159881591797,
          -34.212562561035156,
          54.553775787353516,
          -0.48268935084342957,
          -2.732517719268799,
          -34.565486907958984,
          -9.897306442260742,
          -34.25897216796875,
          -18.300457000732422,
          58.205692291259766,
          30.0670223236084,
          -21.150592803955078,
          30.312192916870117,
          -16.829296112060547,
          -1.4334568977355957,
          -9.099082946777344,
          -20.49618911743164,
          -5.838851451873779,
          -12.868914604187012,
          23.70850372314453,
          3.6278116703033447,
          56.82122039794922,
          -20.922840118408203,
          -5.645565986633301,
          -6.640618801116943,
          57.31474685668945,
          15.501439094543457,
          -2.4061734676361084,
          -1.8513342142105103,
          22.180490493774414,
          2.2736809253692627,
          -18.961599349975586,
          11.858206748962402,
          -15.036478996276855,
          -14.676054954528809,
          34.47624969482422,
          29.616188049316406,
          -15.955870628356934,
          15.477192878723145,
          4.011640548706055,
          55.80854415893555,
          4.171498775482178,
          55.03278350830078,
          34.48842239379883,
          -13.266172409057617,
          25.025405883789062,
          25.04341697692871,
          4.097336769104004,
          -22.492252349853516,
          -25.213510513305664,
          -7.524289608001709,
          35.22563171386719,
          -13.976163864135742,
          5.365910053253174,
          56.625789642333984,
          -22.84269905090332,
          -8.85905647277832,
          15.623836517333984,
          25.331073760986328,
          29.82035255432129,
          -20.42974853515625,
          -26.154794692993164,
          -4.0251288414001465,
          -11.039209365844727,
          -19.878877639770508,
          -8.489603996276855,
          7.448673725128174,
          10.008864402770996,
          5.930969715118408,
          23.931074142456055,
          -7.941298484802246,
          -0.5093328356742859,
          -10.397249221801758,
          -22.019689559936523,
          -21.709495544433594,
          56.480377197265625,
          30.60462760925293,
          -6.949143886566162,
          -7.388054370880127,
          26.793275833129883,
          -16.07695198059082,
          30.938495635986328,
          -26.475534439086914,
          22.063793182373047,
          -14.463555335998535,
          -23.288393020629883,
          -11.448810577392578,
          -3.5110929012298584,
          25.223697662353516,
          11.727134704589844,
          -22.03595542907715,
          -17.688034057617188,
          55.145408630371094,
          -2.695134401321411,
          -0.24912697076797485,
          37.330299377441406,
          57.72673416137695,
          37.79978561401367,
          37.448455810546875,
          4.754952430725098,
          56.481346130371094,
          5.997197151184082,
          -8.307926177978516,
          4.578526496887207,
          -20.568401336669922,
          -1.6609382629394531,
          36.659000396728516,
          -14.4744873046875,
          38.146854400634766,
          -6.440029144287109,
          37.91603469848633,
          36.64438247680664,
          38.61743927001953,
          55.53874969482422,
          36.50724411010742,
          54.46001434326172,
          56.16967010498047,
          38.0683708190918,
          37.87506103515625,
          56.744537353515625,
          38.12697982788086,
          36.33351516723633,
          37.595333099365234,
          37.37185287475586,
          36.19198226928711,
          36.919151306152344,
          36.20832824707031,
          -8.279393196105957,
          36.800472259521484,
          36.81324768066406,
          55.194671630859375,
          38.61713409423828,
          54.92283248901367,
          54.392093658447266,
          -10.526531219482422,
          37.583885192871094,
          37.07118606567383,
          15.294615745544434,
          -0.38205686211586,
          15.997152328491211,
          -13.989836692810059,
          -18.895410537719727,
          54.36534118652344,
          -7.741829872131348,
          58.64725112915039,
          27.151525497436523,
          -15.631650924682617,
          20.483360290527344,
          -19.88912582397461,
          -6.0929718017578125,
          31.49182891845703,
          -20.427839279174805,
          55.49297332763672,
          -21.24760627746582,
          -0.003893391229212284,
          24.42299461364746,
          -9.871665954589844,
          18.589611053466797,
          34.63832473754883,
          22.015050888061523,
          -6.527828693389893,
          1.2650736570358276,
          3.6690521240234375,
          57.52482604980469,
          14.670585632324219,
          55.70978546142578,
          1.9344266653060913,
          55.9718132019043,
          -7.47087287902832,
          7.380173206329346,
          35.1297492980957,
          -5.51646089553833,
          -12.527896881103516,
          21.280790328979492,
          2.3935039043426514,
          34.983253479003906,
          -11.042484283447266,
          -6.285363674163818,
          -24.264265060424805,
          -9.017584800720215,
          -6.990596771240234,
          -9.834701538085938,
          -9.169307708740234,
          -6.580547332763672,
          -8.865140914916992,
          55.85352325439453,
          -8.962601661682129,
          55.45535659790039,
          -9.801889419555664,
          -8.830273628234863,
          57.43431854248047,
          -14.893455505371094,
          2.9707837104797363,
          57.205570220947266,
          54.80677032470703,
          -9.384891510009766,
          -8.764419555664062,
          57.47168731689453,
          -9.776718139648438,
          56.810264587402344,
          57.337158203125,
          5.0769734382629395,
          54.92050552368164,
          56.397674560546875,
          56.63167190551758,
          22.299636840820312,
          1.8103636503219604,
          -6.181847095489502,
          35.2191162109375,
          31.109363555908203,
          35.31983184814453,
          18.431909561157227,
          19.27817726135254,
          5.539302349090576,
          55.13611602783203,
          18.969545364379883,
          15.264613151550293,
          15.332666397094727,
          19.471805572509766,
          15.361983299255371,
          31.086334228515625,
          -4.626291751861572,
          -2.175668954849243,
          -21.53141975402832,
          56.247554779052734,
          29.9418888092041,
          -8.285064697265625,
          31.484695434570312,
          12.794585227966309,
          28.77958869934082,
          -5.3063130378723145,
          -9.889873504638672
         ],
         "xaxis": "x",
         "y": [
          -17.859682083129883,
          -11.261504173278809,
          -10.06769847869873,
          -9.815571784973145,
          -16.66236686706543,
          21.677997589111328,
          -10.706961631774902,
          -0.5170261859893799,
          13.300291061401367,
          15.38387680053711,
          -11.654062271118164,
          -13.04739761352539,
          0.02501927874982357,
          12.836745262145996,
          -18.718406677246094,
          2.303976535797119,
          -11.309320449829102,
          3.267577648162842,
          21.88923454284668,
          3.636840343475342,
          -7.176565170288086,
          -23.27904510498047,
          5.514693260192871,
          -12.351604461669922,
          12.8787202835083,
          -4.990867614746094,
          -17.29939842224121,
          13.733170509338379,
          -10.649541854858398,
          9.836379051208496,
          -24.038328170776367,
          18.062997817993164,
          -10.156072616577148,
          9.634515762329102,
          -1.739070177078247,
          -2.451056957244873,
          5.034212112426758,
          3.47871994972229,
          25.073305130004883,
          12.397443771362305,
          4.058666229248047,
          -10.198604583740234,
          3.3147077560424805,
          8.04718017578125,
          11.980883598327637,
          19.517141342163086,
          -1.1549227237701416,
          -4.90971565246582,
          11.046911239624023,
          -23.132646560668945,
          -0.6510990262031555,
          7.386977195739746,
          -5.420734405517578,
          -18.164697647094727,
          -8.796834945678711,
          -9.985159873962402,
          18.285757064819336,
          -3.7776262760162354,
          13.803374290466309,
          13.833388328552246,
          14.546991348266602,
          0.7902519106864929,
          -13.654753684997559,
          -10.40005111694336,
          11.86752986907959,
          -23.3029842376709,
          -15.546043395996094,
          8.191569328308105,
          -22.915267944335938,
          9.387898445129395,
          -21.555702209472656,
          -17.782445907592773,
          7.806636810302734,
          -5.327040195465088,
          8.881067276000977,
          -12.36793327331543,
          -23.92186164855957,
          2.733398914337158,
          -23.501615524291992,
          -6.442083835601807,
          5.941854000091553,
          -20.552024841308594,
          14.240036964416504,
          23.59091567993164,
          -15.709284782409668,
          17.0248966217041,
          -20.2968807220459,
          -23.748046875,
          6.4069108963012695,
          -13.732071876525879,
          3.633054733276367,
          -1.4934543371200562,
          0.8649466037750244,
          -10.677577018737793,
          -21.81668472290039,
          -22.08013343811035,
          -2.292323589324951,
          -9.345552444458008,
          -3.648334264755249,
          -4.706796646118164,
          -16.616092681884766,
          12.617236137390137,
          -11.541208267211914,
          -15.696159362792969,
          -12.520410537719727,
          -13.35017204284668,
          24.545103073120117,
          7.089541435241699,
          -15.067010879516602,
          -5.6926751136779785,
          15.008423805236816,
          -1.27229905128479,
          13.20862102508545,
          6.44720983505249,
          -11.056319236755371,
          6.419939994812012,
          -20.603132247924805,
          -18.50644302368164,
          11.244271278381348,
          -7.733502388000488,
          -19.998859405517578,
          5.013662338256836,
          -10.723010063171387,
          0.9661943316459656,
          -15.448871612548828,
          14.179319381713867,
          -8.16215991973877,
          -11.725057601928711,
          -5.007339954376221,
          2.8115074634552,
          19.668508529663086,
          -3.2102279663085938,
          -21.4157657623291,
          -1.9647653102874756,
          -0.4714238941669464,
          10.12130069732666,
          1.4850661754608154,
          1.5576380491256714,
          -13.713081359863281,
          -3.0812532901763916,
          -16.15012550354004,
          0.1840769201517105,
          -20.128726959228516,
          -6.240931034088135,
          -5.484156608581543,
          7.429775714874268,
          -14.166322708129883,
          7.574793338775635,
          2.203739643096924,
          -2.4977710247039795,
          -2.5429084300994873,
          5.164480686187744,
          -3.779710054397583,
          -0.9949324727058411,
          -20.089418411254883,
          -9.884279251098633,
          -6.726535320281982,
          -7.464864730834961,
          22.189321517944336,
          -3.640101909637451,
          7.604491233825684,
          20.105106353759766,
          -14.827815055847168,
          -22.001178741455078,
          13.099806785583496,
          13.101507186889648,
          -2.6963064670562744,
          -0.8843472003936768,
          6.4291791915893555,
          11.57170581817627,
          11.162281036376953,
          -23.031797409057617,
          -20.007387161254883,
          -22.438945770263672,
          7.036314964294434,
          -9.313892364501953,
          -4.22775936126709,
          -2.1116623878479004,
          6.9001312255859375,
          -7.049954414367676,
          -23.156740188598633,
          -5.600376605987549,
          -8.875580787658691,
          -9.592330932617188,
          6.618592739105225,
          -20.213964462280273,
          -7.709527969360352,
          -10.215744018554688,
          10.164352416992188,
          -2.577866554260254,
          -6.037306308746338,
          22.789939880371094,
          -7.516673564910889,
          -19.641267776489258,
          -17.725276947021484,
          10.349993705749512,
          -1.4981496334075928,
          -7.655613899230957,
          -8.842877388000488,
          -3.379887819290161,
          -0.23190747201442719,
          -21.97268295288086,
          -6.7865729331970215,
          -21.152633666992188,
          -7.401776313781738,
          13.267017364501953,
          25.260173797607422,
          11.164752006530762,
          2.845583438873291,
          -21.171140670776367,
          -5.5465240478515625,
          17.869274139404297,
          0.7331895232200623,
          -3.3757667541503906,
          -22.01732635498047,
          10.74268913269043,
          -12.17952823638916,
          -24.822463989257812,
          5.494686603546143,
          11.139352798461914,
          15.62226390838623,
          -26.372882843017578,
          -2.8048255443573,
          12.852987289428711,
          5.943032741546631,
          -13.069132804870605,
          -16.322219848632812,
          -16.896596908569336,
          -15.402127265930176,
          -20.97237205505371,
          -14.417709350585938,
          -14.120546340942383,
          -16.66167449951172,
          -6.899751663208008,
          -10.877779960632324,
          17.957687377929688,
          -18.028886795043945,
          -8.8325777053833,
          -18.29275894165039,
          -9.995804786682129,
          22.900312423706055,
          12.977804183959961,
          -18.13601303100586,
          11.656990051269531,
          -25.8844051361084,
          -13.353151321411133,
          -2.529555082321167,
          12.159917831420898,
          -9.766539573669434,
          -17.283721923828125,
          14.773584365844727,
          -9.554051399230957,
          19.19509506225586,
          -8.845081329345703,
          -19.993803024291992,
          16.924049377441406,
          -25.984086990356445,
          -25.068933486938477,
          -18.34864044189453,
          3.354619026184082,
          2.419408082962036,
          20.99592399597168,
          -12.065323829650879,
          -21.94875717163086,
          -22.480131149291992,
          7.486467361450195,
          14.925264358520508,
          -13.45862102508545,
          12.518181800842285,
          -25.747562408447266,
          9.633090019226074,
          -25.170883178710938,
          -22.498512268066406,
          -17.339916229248047,
          13.8885498046875,
          -0.332810640335083,
          20.87881088256836,
          -17.451059341430664,
          -11.213361740112305,
          -14.538456916809082,
          11.89385986328125,
          -19.587743759155273,
          15.500765800476074,
          -18.608545303344727,
          8.926212310791016,
          13.579901695251465,
          16.760129928588867,
          -22.242725372314453,
          20.020732879638672,
          -8.44754409790039,
          -20.030773162841797,
          14.095704078674316,
          -10.64925765991211,
          -19.26652717590332,
          17.15049934387207,
          6.928565979003906,
          21.78223419189453,
          9.348299980163574,
          4.972253799438477,
          -19.832935333251953,
          -26.82990837097168,
          3.1789302825927734,
          16.523841857910156,
          -15.3350830078125,
          8.523215293884277,
          15.803430557250977,
          -21.52825927734375,
          13.9580078125,
          -16.05711555480957,
          -23.930387496948242,
          14.27450942993164,
          -27.905643463134766,
          -23.05480194091797,
          -4.540497303009033,
          -25.650724411010742,
          -25.7054443359375,
          8.893587112426758,
          -10.262019157409668,
          7.324226379394531,
          0.5245913863182068,
          -9.396411895751953,
          -19.391048431396484,
          -17.02980613708496,
          -5.546955108642578,
          11.225156784057617,
          -19.65151023864746,
          -23.6818790435791,
          -22.52742576599121,
          4.511107444763184,
          17.463979721069336,
          -22.43059730529785,
          -22.526981353759766,
          -21.323318481445312,
          23.326923370361328,
          -27.152610778808594,
          3.1388490200042725,
          8.181843757629395,
          -10.632854461669922,
          14.457311630249023,
          15.384339332580566,
          15.602846145629883,
          -15.433502197265625,
          10.41733169555664,
          15.615991592407227,
          10.849408149719238,
          8.948381423950195,
          7.964130401611328,
          -23.61105728149414,
          -17.621206283569336,
          15.065418243408203,
          4.4925079345703125,
          -7.1496968269348145,
          -11.958313941955566,
          -20.161874771118164,
          -8.908209800720215,
          -15.30330753326416,
          -4.654321193695068,
          -7.918745040893555,
          16.167482376098633,
          17.716230392456055,
          17.299640655517578,
          -4.0086188316345215,
          -4.796342849731445,
          -6.763630390167236,
          4.089168071746826,
          -0.6058576703071594,
          10.205657958984375,
          -2.4745895862579346,
          7.594679355621338,
          5.7153754234313965,
          19.7275333404541,
          11.495708465576172,
          -0.6355269551277161,
          -15.9901762008667,
          -3.1638519763946533,
          7.227644443511963,
          10.78908634185791,
          -21.13364601135254,
          2.823367118835449,
          -15.51393985748291,
          12.201573371887207,
          9.82726001739502,
          -13.226044654846191,
          -6.020768165588379,
          -20.376407623291016,
          -0.32268333435058594,
          20.84146499633789,
          -13.366423606872559,
          11.688508987426758,
          -4.628712177276611,
          -4.585549831390381,
          11.8727445602417,
          -21.912761688232422,
          11.433496475219727,
          -6.59023904800415,
          -4.5597028732299805,
          -2.7369816303253174,
          -8.07912826538086,
          -13.744131088256836,
          -7.760454177856445,
          -5.763759613037109,
          -20.744504928588867,
          -13.373340606689453,
          -3.2717418670654297,
          -18.90412139892578,
          -11.170845031738281,
          0.0798344537615776,
          6.423092365264893,
          17.053348541259766,
          -11.161392211914062,
          -8.280173301696777,
          -2.729783773422241,
          4.067080020904541,
          4.400903701782227,
          1.721498966217041,
          -1.5730197429656982,
          5.394441604614258,
          -21.355741500854492,
          -20.84086036682129,
          0.5982117652893066,
          22.614669799804688,
          -0.8383965492248535,
          -4.954837799072266,
          -11.87625503540039,
          4.874636650085449,
          24.401325225830078,
          -3.777423620223999,
          1.6825894117355347,
          3.736348867416382,
          -0.7049357295036316,
          -16.86849021911621,
          -1.9404035806655884,
          -4.013627052307129,
          3.549130916595459,
          -6.282186031341553,
          -8.254902839660645,
          -6.795520305633545,
          -7.877650737762451,
          -6.7707200050354,
          -2.414423704147339,
          6.834789276123047,
          -2.5982155799865723,
          4.1266255378723145,
          -4.4093403816223145,
          -3.6085007190704346,
          4.330699443817139,
          0.7154293060302734,
          -0.2432032972574234,
          -8.090556144714355,
          -1.114557147026062,
          1.1199493408203125,
          2.18986177444458,
          -14.802135467529297,
          -1.0040901899337769,
          -12.435066223144531,
          -1.0661158561706543,
          -9.968221664428711,
          6.360117435455322,
          17.3105411529541,
          7.140586853027344,
          0.3820522427558899,
          20.514842987060547,
          10.825729370117188,
          15.534728050231934,
          3.6445324420928955,
          13.584580421447754,
          -7.567103385925293,
          -0.9142969846725464,
          3.081709861755371,
          14.125083923339844,
          13.490256309509277,
          -18.244001388549805,
          -9.124853134155273,
          3.2058420181274414,
          -8.869329452514648,
          13.39695930480957,
          2.6993587017059326,
          8.746651649475098,
          6.599919319152832,
          -1.8061816692352295,
          9.1080904006958,
          0.24351568520069122,
          -1.492095708847046,
          3.8308629989624023,
          21.876508712768555,
          -14.122587203979492,
          -5.12481689453125,
          14.655274391174316,
          16.33614158630371,
          19.543880462646484,
          5.281877517700195,
          6.399668216705322,
          12.424185752868652,
          -2.2998199462890625,
          -1.3967790603637695,
          -2.688532590866089,
          -0.5509968400001526,
          1.1095436811447144,
          20.54378890991211,
          -4.542783737182617,
          -3.274477481842041,
          -13.566384315490723,
          3.8276238441467285,
          4.676708221435547,
          8.982076644897461,
          5.281758785247803,
          2.961604595184326,
          -10.519767761230469,
          0.7639613747596741,
          1.1968810558319092,
          -1.1211493015289307,
          8.59737777709961,
          9.287663459777832,
          19.041141510009766,
          -3.395826578140259,
          19.22809600830078,
          5.41941499710083,
          7.046952724456787,
          5.188343524932861,
          -5.657618999481201,
          -7.248903274536133,
          2.134321928024292,
          -4.083139896392822,
          24.62953758239746,
          5.38468074798584,
          -5.538272380828857,
          -10.092832565307617,
          -3.135685443878174,
          1.358702301979065,
          3.7682502269744873,
          16.967493057250977,
          14.31007194519043,
          15.600957870483398,
          3.8065531253814697,
          11.64245891571045,
          17.90634536743164,
          8.822010040283203,
          7.957828521728516,
          -14.88276195526123,
          21.946922302246094,
          4.233399868011475,
          -6.85297966003418,
          21.230079650878906,
          18.186016082763672,
          -7.604722499847412,
          -12.445555686950684,
          25.30419921875,
          -6.251368522644043,
          20.647235870361328,
          -16.842531204223633,
          -6.007277011871338,
          3.848667621612549,
          12.276128768920898,
          8.664710998535156,
          -8.588994979858398,
          -3.1591506004333496,
          19.04673957824707,
          13.008831024169922,
          -10.176889419555664,
          -16.04212188720703,
          7.954188823699951,
          -3.070700168609619,
          -6.063208103179932,
          -8.783051490783691,
          -6.157459735870361,
          -20.137025833129883,
          6.317957878112793,
          -21.835121154785156,
          2.9932444095611572,
          6.054222583770752,
          -6.274712085723877,
          -12.966463088989258,
          6.40073299407959,
          5.151933670043945,
          -0.8829597234725952,
          -13.61642837524414,
          -9.256282806396484,
          2.516960382461548,
          9.763916015625,
          -6.597731113433838,
          6.188510417938232,
          18.64347267150879,
          6.4331583976745605,
          4.524923801422119,
          -5.703690052032471,
          -15.689621925354004,
          15.530988693237305,
          -22.35809326171875,
          6.452040195465088,
          -12.109936714172363,
          14.566129684448242,
          -7.499344825744629,
          11.338406562805176,
          1.501965880393982,
          4.927541732788086,
          1.6456023454666138,
          -13.25700855255127,
          -5.519294738769531,
          -4.349823474884033,
          -4.99455451965332,
          -6.924475193023682,
          3.792343854904175,
          -2.8458304405212402,
          18.198808670043945,
          -6.523482322692871,
          19.018762588500977,
          21.561555862426758,
          12.603174209594727,
          -14.357569694519043,
          11.385698318481445,
          12.245072364807129,
          -0.0968802198767662,
          12.879009246826172,
          -4.140219688415527,
          11.843413352966309,
          6.122720718383789,
          6.038664817810059,
          0.24129663407802582,
          -19.78777503967285,
          -12.64860725402832,
          3.9081876277923584,
          26.424091339111328,
          4.351863384246826,
          -7.9310431480407715,
          -21.57782554626465,
          10.485136985778809,
          0.7290613651275635,
          -19.54545021057129,
          5.567326068878174,
          4.525802135467529,
          21.012081146240234,
          0.5144193172454834,
          12.145626068115234,
          12.313310623168945,
          3.692391872406006,
          -10.14808177947998,
          -2.0547120571136475,
          11.701087951660156,
          13.372298240661621,
          5.92754602432251,
          10.30673599243164,
          9.922357559204102,
          5.106564044952393,
          1.126239538192749,
          17.002395629882812,
          1.0893757343292236,
          8.999085426330566,
          16.166303634643555,
          5.2936015129089355,
          16.46392059326172,
          -8.7471284866333,
          3.376444101333618,
          16.28351402282715,
          7.37132453918457,
          -6.7608113288879395,
          9.522980690002441,
          2.8424880504608154,
          3.768130302429199,
          -6.9859395027160645,
          10.871002197265625,
          -0.12377738952636719,
          -14.65899658203125,
          9.252422332763672,
          1.3871961832046509,
          2.7137515544891357,
          -2.998136043548584,
          -5.885416030883789,
          -1.8490196466445923,
          -11.150282859802246,
          -2.938445806503296,
          3.7809855937957764,
          10.581253051757812,
          -18.517587661743164,
          -9.23869800567627,
          11.795869827270508,
          19.58759117126465,
          -2.992487907409668,
          -16.862333297729492,
          -9.569562911987305,
          7.325226783752441,
          7.498744487762451,
          -21.13063621520996,
          5.943565368652344,
          -21.376474380493164,
          -13.998132705688477,
          9.95461368560791,
          -3.442492961883545,
          -11.058006286621094,
          -18.419994354248047,
          -27.973007202148438,
          6.450287342071533,
          -17.2744083404541,
          2.298947334289551,
          10.174578666687012,
          0.9984392523765564,
          11.988499641418457,
          24.279081344604492,
          7.7035231590271,
          10.442036628723145,
          0.020401012152433395,
          10.830500602722168,
          -11.569687843322754,
          15.269314765930176,
          -7.6627020835876465,
          1.7208524942398071,
          9.59943675994873,
          21.490455627441406,
          16.726469039916992,
          11.996959686279297,
          -19.59942054748535,
          -2.9377188682556152,
          -4.663040637969971,
          10.140151977539062,
          24.36599349975586,
          3.3600053787231445,
          25.46172332763672,
          2.2369401454925537,
          18.214975357055664,
          -7.519794464111328,
          1.7827039957046509,
          -15.62911605834961,
          1.7912614345550537,
          20.197187423706055,
          -2.0404675006866455,
          5.073015213012695,
          -11.389959335327148,
          0.8461558222770691,
          -6.893492698669434,
          14.199857711791992,
          -2.319737434387207,
          -16.823806762695312,
          -19.72801971435547,
          8.312186241149902,
          -4.781846523284912,
          13.923494338989258,
          17.65150260925293,
          -0.3061639368534088,
          -5.833751201629639,
          -24.205657958984375,
          21.404926300048828,
          3.999955892562866,
          -18.670894622802734,
          -10.077155113220215,
          10.170071601867676,
          13.214178085327148,
          -13.740300178527832,
          -5.863626480102539,
          -18.99232292175293,
          -27.082351684570312,
          -27.942424774169922,
          -26.32319450378418,
          10.47664737701416,
          21.725656509399414,
          11.78357219696045,
          3.7320685386657715,
          -1.0907204151153564,
          15.039628028869629,
          -13.035624504089355,
          -5.25961446762085,
          5.25725793838501,
          11.264639854431152,
          15.034236907958984,
          -10.988320350646973,
          18.177976608276367,
          1.4836100339889526,
          -0.11748335510492325,
          8.193592071533203,
          -8.333941459655762,
          0.7116623520851135,
          6.983161449432373,
          -7.425058364868164,
          1.396490216255188,
          -1.6133058071136475,
          6.2950568199157715,
          0.7577937245368958,
          15.270413398742676,
          -6.6972503662109375,
          -0.5855252146720886,
          -4.665165901184082,
          -2.0935704708099365,
          2.3988258838653564,
          -1.1845762729644775,
          -11.694432258605957,
          -1.8024955987930298,
          6.553569316864014,
          -2.3163058757781982,
          -16.536136627197266,
          -2.5035436153411865,
          8.101107597351074,
          -1.3141545057296753,
          -1.73456871509552,
          4.975442886352539,
          1.0859583616256714,
          1.5956605672836304,
          -8.058806419372559,
          -13.749943733215332,
          -4.015159606933594,
          -3.9279446601867676,
          10.735233306884766,
          10.214902877807617,
          3.3617095947265625,
          -3.7572021484375,
          0.3178155720233917,
          -4.648611068725586,
          13.94817066192627,
          5.437624454498291,
          9.540818214416504,
          4.430474281311035,
          -14.21699333190918,
          4.285643577575684,
          21.13223648071289,
          -2.6635830402374268,
          14.908266067504883,
          -3.4749085903167725,
          -12.67563533782959,
          -9.343668937683105,
          -4.135400772094727,
          3.4118404388427734,
          5.014863014221191,
          -6.903101444244385,
          -13.918731689453125,
          -5.655215740203857,
          -12.75804328918457,
          -3.3505003452301025,
          -9.217838287353516,
          -0.14272339642047882,
          -13.258491516113281,
          0.6716431975364685,
          0.24175505340099335,
          -4.649740219116211,
          -8.326034545898438,
          -10.092042922973633,
          10.98903751373291,
          -10.823803901672363,
          19.633468627929688,
          16.242656707763672,
          -6.198747634887695,
          -3.8080930709838867,
          -4.7299628257751465,
          -10.869291305541992,
          -2.8063366413116455,
          23.217510223388672,
          -9.210061073303223,
          23.779991149902344,
          11.649529457092285,
          -13.890921592712402,
          9.79093074798584,
          6.603088855743408,
          14.932684898376465,
          12.205164909362793,
          13.281522750854492,
          -4.495688438415527,
          -2.7899811267852783,
          25.30510902404785,
          14.692399024963379,
          14.915099143981934,
          -7.247366428375244,
          -7.998260974884033,
          8.965959548950195,
          8.752284049987793,
          -2.5994086265563965,
          -13.309541702270508,
          2.3946707248687744,
          5.016779899597168,
          17.36542510986328,
          -16.671255111694336,
          14.648519515991211,
          11.28463363647461,
          -14.197532653808594,
          -9.594276428222656,
          -9.062703132629395,
          5.612915515899658,
          -14.732176780700684,
          15.831737518310547,
          -3.7936317920684814,
          5.407524108886719,
          -13.062417030334473,
          2.028045654296875,
          -17.43483543395996,
          8.517271995544434,
          4.791732311248779,
          20.461071014404297,
          19.785079956054688,
          20.346126556396484,
          -10.701343536376953,
          -27.335939407348633,
          16.451168060302734,
          8.194967269897461,
          8.60007095336914,
          -11.368385314941406,
          -21.72700309753418,
          -11.276810646057129,
          -23.591594696044922,
          -16.172021865844727,
          -21.276716232299805,
          16.71381187438965,
          -8.994544982910156,
          19.12786865234375,
          12.038688659667969,
          16.150306701660156,
          -2.0384292602539062,
          14.381558418273926,
          10.980850219726562,
          20.786386489868164,
          -16.830394744873047,
          16.749197006225586,
          -8.690349578857422,
          6.17940616607666,
          18.800355911254883,
          1.0076158046722412,
          -2.6489782333374023,
          9.366853713989258,
          -3.924574613571167,
          10.440434455871582,
          14.012043952941895,
          15.968270301818848,
          -12.166237831115723,
          -13.882962226867676,
          14.61862564086914,
          2.9237496852874756,
          12.196807861328125,
          17.4326114654541,
          12.101200103759766,
          -23.075420379638672,
          5.032050132751465,
          -10.591636657714844,
          -13.918525695800781,
          -11.207980155944824,
          9.174917221069336,
          -10.287566184997559,
          1.9579297304153442,
          -8.953454971313477,
          -8.620363235473633,
          -1.315506100654602,
          7.594818115234375,
          15.153074264526367,
          9.356399536132812,
          -25.917137145996094,
          15.037734031677246,
          -6.550150394439697,
          27.84823989868164,
          2.0075888633728027,
          22.960325241088867,
          -5.886072158813477,
          15.028082847595215,
          -10.466018676757812,
          11.903913497924805,
          -5.109570503234863,
          -11.35940933227539,
          0.8131371736526489,
          0.0878797248005867,
          -6.361804008483887,
          19.416296005249023,
          -6.23243522644043,
          25.459253311157227,
          0.9577525854110718,
          -0.8645879626274109,
          20.58453369140625,
          24.573497772216797,
          5.370176792144775,
          20.44717788696289,
          -1.769655466079712,
          -4.507678508758545,
          10.141037940979004,
          13.427021980285645,
          14.13206672668457,
          10.832599639892578,
          8.314397811889648,
          15.911148071289062,
          10.183915138244629,
          14.563260078430176,
          20.3137264251709,
          15.186424255371094,
          -9.553854942321777,
          -9.670435905456543,
          -14.855208396911621,
          5.152291774749756,
          5.7481489181518555,
          -17.946048736572266,
          6.4902520179748535,
          -9.843069076538086,
          -6.855997562408447,
          -13.833174705505371,
          -18.499048233032227,
          6.272887229919434,
          -1.1369022130966187,
          -5.6049394607543945,
          -4.327098846435547,
          12.923274993896484,
          18.200794219970703,
          -4.551736831665039,
          -6.036715507507324,
          -14.926054954528809,
          7.240458011627197,
          17.413057327270508,
          0.19051331281661987,
          -1.742385983467102,
          -6.622737884521484,
          3.139845848083496,
          -4.940206050872803,
          -13.568275451660156,
          -0.8983264565467834,
          -0.8871514201164246,
          10.582655906677246,
          1.3592097759246826,
          19.620622634887695,
          10.895584106445312,
          21.207250595092773,
          18.338729858398438,
          -3.063154458999634,
          22.50825309753418,
          -9.900267601013184,
          -11.802225112915039,
          4.356685161590576,
          22.319364547729492,
          9.494656562805176,
          -2.854998826980591,
          -7.685532569885254,
          13.55324649810791,
          10.46229076385498,
          15.880475044250488,
          8.089753150939941,
          -18.25457191467285,
          21.029800415039062,
          6.516382217407227,
          19.614255905151367,
          -9.298318862915039,
          3.245926856994629,
          -7.837557792663574,
          -6.586228847503662,
          -2.12556529045105,
          -6.905313968658447,
          10.139062881469727,
          -6.259210586547852,
          -0.7784082293510437,
          -2.3857028484344482,
          -8.49030876159668,
          14.733536720275879,
          -9.04626750946045,
          0.5173158645629883,
          2.9684011936187744,
          15.670659065246582,
          5.343938827514648,
          11.129324913024902,
          2.244438409805298,
          12.807084083557129,
          -13.06973934173584,
          -6.729141712188721,
          -9.069790840148926,
          3.02333664894104,
          11.514370918273926,
          2.3896806240081787,
          -14.131072998046875,
          -9.292227745056152,
          11.040013313293457,
          13.085203170776367,
          -2.0848777294158936,
          22.52128791809082,
          -3.8868303298950195,
          4.844043731689453,
          -14.160157203674316,
          17.667123794555664,
          -21.653318405151367,
          3.0916895866394043,
          12.917964935302734,
          21.953927993774414,
          23.636892318725586,
          9.605944633483887,
          15.315427780151367,
          14.394136428833008,
          9.382829666137695,
          -4.892305850982666,
          14.973044395446777,
          5.423226833343506,
          15.882976531982422,
          -14.442191123962402,
          -10.500975608825684,
          0.5846308469772339,
          -7.338498592376709,
          20.127429962158203,
          5.56127405166626,
          13.119318962097168,
          -6.882925510406494,
          17.667463302612305,
          6.861999988555908,
          -3.703096628189087,
          -9.944975852966309,
          -15.155564308166504,
          -10.573488235473633,
          -0.3322893977165222,
          -3.574847459793091,
          -1.3169317245483398,
          24.971145629882812,
          -4.55979061126709,
          -5.503477096557617,
          -0.06647472828626633,
          21.707183837890625,
          6.699771404266357,
          11.048040390014648,
          -0.0873107761144638,
          23.461048126220703,
          -2.4453675746917725,
          -7.445128440856934,
          -2.2805089950561523,
          4.4320807456970215,
          18.234811782836914,
          -17.980133056640625,
          14.125102996826172,
          16.916303634643555,
          13.255228042602539,
          13.41973876953125,
          8.248842239379883,
          5.004568576812744,
          6.384790420532227,
          7.0726141929626465,
          4.036757469177246,
          8.573600769042969,
          1.1989998817443848,
          -10.435840606689453,
          -0.5061555504798889,
          13.583056449890137,
          13.45256233215332,
          6.006749629974365,
          -1.836798071861267,
          20.485469818115234,
          9.705074310302734,
          -23.733747482299805,
          -3.6880269050598145,
          17.32437515258789,
          -1.6573500633239746,
          21.291606903076172,
          4.449279308319092,
          16.169403076171875,
          11.983575820922852,
          7.888785362243652,
          14.93910026550293,
          15.9244384765625,
          13.015596389770508,
          -15.745388984680176,
          0.29508763551712036,
          -1.13027024269104,
          -10.490994453430176,
          5.960024833679199,
          17.860456466674805,
          -0.7710614800453186,
          -9.608318328857422,
          7.39027738571167,
          5.53261137008667,
          6.473444938659668,
          15.004447937011719,
          -8.159753799438477,
          13.013808250427246,
          2.5064644813537598,
          7.9284281730651855,
          -4.997879505157471,
          -6.415578842163086,
          -0.9272884726524353,
          16.132366180419922,
          11.236183166503906,
          23.41501235961914,
          20.21100425720215,
          -14.019970893859863,
          -14.666232109069824,
          -2.9426333904266357,
          -9.775211334228516,
          18.43613624572754,
          21.45507049560547,
          11.849365234375,
          12.544376373291016,
          -2.1698617935180664,
          13.632704734802246,
          9.310141563415527,
          -10.944233894348145,
          0.12516292929649353,
          20.35936737060547,
          17.22884750366211,
          -7.534567832946777,
          -6.268317222595215,
          -8.626252174377441,
          20.300334930419922,
          -13.262419700622559,
          -6.598613739013672,
          -11.974462509155273,
          -2.474236011505127,
          -4.323229789733887,
          9.25418472290039,
          -1.5574008226394653,
          -2.6411895751953125,
          15.027681350708008,
          -16.907133102416992,
          16.452978134155273,
          1.7776286602020264,
          20.671789169311523,
          20.611698150634766,
          3.1947836875915527,
          0.31637653708457947,
          12.547263145446777,
          1.2382986545562744,
          -3.926720142364502,
          15.195575714111328,
          -4.422123908996582,
          15.5457124710083,
          20.42534065246582,
          8.237103462219238,
          -1.0960454940795898,
          -4.756809711456299,
          -5.1489458084106445,
          -1.590933918952942,
          -2.9085311889648438,
          22.188873291015625,
          19.223308563232422,
          1.1804033517837524,
          2.1671881675720215,
          1.0862054824829102,
          -10.9371919631958,
          6.9362640380859375,
          -1.7988065481185913,
          -22.601173400878906,
          -1.6528940200805664,
          9.535921096801758,
          11.652113914489746,
          1.5708016157150269,
          4.405545711517334,
          4.661532878875732,
          -6.331468105316162,
          0.8645931482315063,
          6.945107460021973,
          -1.1432760953903198,
          -1.4350298643112183,
          -16.982805252075195,
          -16.8843936920166,
          2.1093928813934326,
          -0.10108456015586853,
          6.354256629943848,
          -14.725086212158203,
          -3.875737190246582,
          10.558131217956543,
          5.7140607833862305,
          -7.06717586517334,
          19.16282081604004,
          19.826316833496094,
          0.2216538041830063,
          -23.103477478027344,
          -9.185534477233887,
          7.081935405731201,
          -10.598573684692383,
          -12.448559761047363,
          -0.3902289569377899,
          -1.233078956604004,
          -7.975287914276123,
          16.80914878845215,
          18.626087188720703,
          9.031316757202148,
          -5.811173915863037,
          1.7368494272232056,
          1.4424484968185425,
          -3.981562614440918,
          -1.88571298122406,
          -5.617427349090576,
          -5.638089656829834,
          16.309160232543945,
          4.425723552703857,
          16.41543960571289,
          12.308296203613281,
          16.98488998413086,
          19.206283569335938,
          6.83225154876709,
          10.761371612548828,
          -15.108871459960938,
          0.5106574296951294,
          -2.7467567920684814,
          -8.703012466430664,
          -6.668067455291748,
          -3.5467569828033447,
          -9.597652435302734,
          2.9844071865081787,
          13.12897777557373,
          -21.935535430908203,
          -9.042497634887695,
          -3.862290382385254,
          2.4817280769348145,
          14.5407075881958,
          -2.991654396057129,
          6.207125663757324,
          -15.014801979064941,
          19.023494720458984,
          -15.36539363861084,
          10.794514656066895,
          -4.82008171081543,
          -1.0985488891601562,
          -3.8005423545837402,
          -11.212862014770508,
          16.486572265625,
          -21.45564842224121,
          6.457810878753662,
          18.60942840576172,
          1.449185848236084,
          12.974251747131348,
          22.24329948425293,
          -9.898660659790039,
          1.4525450468063354,
          18.2529354095459,
          2.467449903488159,
          -2.822007417678833,
          -14.085344314575195,
          17.97625160217285,
          -6.629899978637695,
          -7.629019737243652,
          -1.1749645471572876,
          1.3289201259613037,
          -4.638463973999023,
          12.489019393920898,
          18.47714614868164,
          0.1253129243850708,
          14.334839820861816,
          17.279062271118164,
          -12.61528491973877,
          -5.435214042663574,
          1.41449773311615,
          -14.501065254211426,
          -5.160364627838135,
          -3.4256961345672607,
          19.146928787231445,
          -0.4858728349208832,
          -13.816926002502441,
          7.049435615539551,
          -9.21908950805664,
          19.073814392089844,
          -3.485822916030884,
          -4.944514751434326,
          19.442163467407227,
          -0.6386988759040833,
          3.7841227054595947,
          -13.88923454284668,
          -5.704357147216797,
          -9.03448486328125,
          0.7421321868896484,
          -0.09144317358732224,
          -13.907703399658203,
          -14.803260803222656,
          -14.360384941101074,
          6.691628932952881,
          -13.69051742553711,
          16.90250015258789,
          -16.07599449157715,
          17.246919631958008,
          -1.4488171339035034,
          -14.452630043029785,
          -2.601677179336548,
          -15.1767578125,
          -0.2880938947200775,
          -14.454375267028809,
          18.2606258392334,
          -12.691489219665527,
          9.415356636047363,
          0.5219709873199463,
          -13.230088233947754,
          14.81302261352539,
          -12.616032600402832,
          -6.031456470489502,
          5.399078845977783,
          -14.90761661529541,
          -13.72401237487793,
          -4.064442157745361,
          -6.357293128967285,
          -13.950591087341309,
          11.856597900390625,
          10.2463960647583,
          1.8223539590835571,
          4.135798931121826,
          -6.406717777252197,
          2.886733055114746,
          -14.39189338684082,
          -13.740827560424805,
          21.479639053344727,
          -7.915280342102051,
          19.230697631835938,
          1.9238404035568237,
          11.874666213989258,
          3.7719104290008545,
          12.214838027954102,
          19.12093162536621,
          -11.599444389343262,
          -8.500361442565918,
          13.79967212677002,
          -14.024107933044434,
          -12.632393836975098,
          18.930837631225586,
          -11.793601036071777,
          -13.36655044555664,
          -12.753815650939941,
          8.172792434692383,
          -2.8318700790405273,
          19.406291961669922,
          17.105501174926758,
          10.328391075134277,
          9.266464233398438,
          -2.5863137245178223,
          -4.731213092803955,
          20.536073684692383,
          -14.22050666809082,
          -4.541592121124268,
          2.082484006881714,
          2.3543741703033447,
          13.742932319641113,
          15.718942642211914,
          -3.9965968132019043,
          -4.240781784057617,
          -0.616351306438446,
          2.674182891845703,
          -6.756441116333008,
          -4.369015216827393,
          -6.77204704284668,
          -0.548389196395874,
          -7.072446823120117,
          -5.7635273933410645,
          0.2922932207584381,
          21.100818634033203,
          -2.382607936859131,
          -8.40969181060791,
          19.74495506286621,
          -4.53657865524292,
          -6.200083255767822,
          -3.123934745788574,
          0.9060330986976624,
          7.5683722496032715,
          0.9841814041137695,
          17.09954261779785,
          17.114484786987305,
          8.454832077026367,
          7.831216335296631,
          -8.910998344421387,
          7.914214611053467,
          21.476285934448242,
          -1.607645034790039,
          -1.2870420217514038,
          -5.520397663116455,
          -2.6862354278564453,
          9.805891036987305,
          3.8702940940856934,
          2.857880115509033,
          -2.9219300746917725,
          7.896287441253662,
          -13.03145694732666,
          10.494939804077148,
          -6.809239864349365,
          8.792950630187988,
          -2.3858602046966553,
          11.2243013381958,
          -7.933751106262207,
          10.63817310333252,
          9.232903480529785,
          -3.262392997741699,
          0.2938983738422394,
          -5.563891887664795,
          8.953102111816406,
          -7.968587875366211,
          9.299901008605957,
          11.395458221435547,
          -2.0262014865875244,
          -2.4740843772888184,
          14.222433090209961,
          -10.986165046691895,
          17.449857711791992,
          -0.5599449872970581,
          18.43462562561035,
          10.480423927307129,
          20.86655044555664,
          -10.379426002502441,
          -2.3954803943634033,
          5.333849906921387,
          -0.8636818528175354,
          -5.036740779876709,
          11.022332191467285,
          19.436262130737305,
          -0.9246565103530884,
          -12.765656471252441,
          13.871906280517578,
          -4.133437156677246,
          -14.803882598876953,
          -6.713892936706543,
          -8.249887466430664,
          -15.668987274169922,
          17.564743041992188,
          -9.921196937561035,
          -4.710200309753418,
          -4.092564582824707,
          6.7866315841674805,
          -9.368236541748047,
          -5.666839599609375,
          -3.183748722076416,
          -5.125631332397461,
          -2.878358840942383,
          -4.740307331085205,
          -9.788033485412598,
          -14.012640953063965,
          -7.456719398498535,
          -5.002513408660889,
          15.711955070495605,
          10.344186782836914,
          3.3723416328430176,
          -5.0294189453125,
          21.754091262817383,
          9.564824104309082,
          -3.9898436069488525,
          9.752668380737305,
          -1.3586472272872925,
          -1.5992830991744995,
          -8.185348510742188,
          -1.972694993019104,
          16.6923828125,
          10.743663787841797,
          -3.9068973064422607,
          7.027442932128906,
          2.24276065826416,
          11.494897842407227,
          -8.48957633972168,
          2.505557060241699,
          -13.255664825439453,
          -7.689864635467529,
          -2.3865020275115967,
          -3.9259729385375977,
          -5.628103733062744,
          15.153525352478027,
          11.55140495300293,
          -2.071882486343384,
          -16.199386596679688,
          -6.66123104095459,
          -3.599731683731079,
          -4.035341739654541,
          19.976999282836914,
          1.0994431972503662,
          3.8343799114227295,
          -1.0841641426086426,
          17.214656829833984,
          15.047581672668457,
          17.403154373168945,
          12.233941078186035,
          -7.243316173553467,
          -7.668393135070801,
          1.491017460823059,
          8.01815414428711,
          -4.2856221199035645,
          15.205161094665527,
          7.61466646194458,
          -8.545543670654297,
          -1.6402555704116821,
          -9.89616584777832,
          -9.097003936767578,
          -15.224571228027344,
          -2.5562658309936523,
          -11.551448822021484,
          -4.593717575073242,
          -15.190431594848633,
          16.270009994506836,
          0.791204571723938,
          -6.629510879516602,
          17.264530181884766,
          -8.744274139404297,
          17.651302337646484,
          -8.913999557495117,
          -8.236454963684082,
          -9.01611042022705,
          -0.6858152151107788,
          -9.368419647216797,
          -1.790256381034851,
          -1.1108404397964478,
          -9.314043998718262,
          -9.596885681152344,
          0.11164330691099167,
          -9.536269187927246,
          -9.787164688110352,
          -6.5119757652282715,
          -9.428140640258789,
          -9.022367477416992,
          -9.22876262664795,
          -5.950846195220947,
          0.21196715533733368,
          -8.689859390258789,
          -8.90073013305664,
          -2.9684712886810303,
          -8.527294158935547,
          -0.08284442126750946,
          -4.002532005310059,
          1.81608247756958,
          -7.485479831695557,
          -9.646424293518066,
          -13.150185585021973,
          13.51248836517334,
          -12.286635398864746,
          23.300907135009766,
          14.18973159790039,
          -1.3724932670593262,
          10.838788986206055,
          -2.5902419090270996,
          -5.9532470703125,
          -1.5736697912216187,
          -10.049246788024902,
          18.923688888549805,
          12.345836639404297,
          -5.443044185638428,
          13.977188110351562,
          -4.905074596405029,
          12.574422836303711,
          3.2905161380767822,
          -5.758589744567871,
          18.512006759643555,
          -11.066071510314941,
          -5.887796878814697,
          -4.303266525268555,
          7.320247173309326,
          16.59861946105957,
          -21.16111946105957,
          -2.9035377502441406,
          -12.354473114013672,
          -1.406939148902893,
          17.08819580078125,
          -3.804591178894043,
          -2.458982467651367,
          10.078383445739746,
          -5.262415885925293,
          -5.896426677703857,
          16.233905792236328,
          -5.802753925323486,
          16.88175392150879,
          -4.938318729400635,
          -7.606653690338135,
          17.48727035522461,
          11.368490219116211,
          -0.4789658188819885,
          -4.556610584259033,
          0.9649192094802856,
          0.10821569710969925,
          -1.2189091444015503,
          -0.48615381121635437,
          -1.585439682006836,
          0.026149112731218338,
          -2.079319953918457,
          0.8517252802848816,
          -0.2931795120239258,
          -3.2356674671173096,
          19.5831241607666,
          4.755110740661621,
          -1.687403917312622,
          -5.096097469329834,
          18.451147079467773,
          -0.47356003522872925,
          -2.298795700073242,
          0.9621440768241882,
          -4.334352493286133,
          -0.771893322467804,
          6.471086025238037,
          -1.1076664924621582,
          -4.265899658203125,
          -1.3398945331573486,
          -7.781105995178223,
          -12.743770599365234,
          6.426866054534912,
          -5.125093936920166,
          -4.869685173034668,
          -4.8750715255737305,
          -11.177143096923828,
          -9.920647621154785,
          -21.928150177001953,
          -2.8046600818634033,
          -10.285422325134277,
          -12.378520011901855,
          -13.16204833984375,
          -9.719515800476074,
          -13.128865242004395,
          -8.363614082336426,
          -6.134975433349609,
          0.2432401478290558,
          13.18009090423584,
          -3.239363193511963,
          -8.145039558410645,
          -2.7818682193756104,
          -9.021870613098145,
          -21.626169204711914,
          -9.91144847869873,
          -6.74249267578125,
          -1.937246322631836
         ],
         "yaxis": "y"
        }
       ],
       "layout": {
        "coloraxis": {
         "colorbar": {
          "title": {
           "text": "popularity"
          }
         },
         "colorscale": [
          [
           0,
           "#0d0887"
          ],
          [
           0.1111111111111111,
           "#46039f"
          ],
          [
           0.2222222222222222,
           "#7201a8"
          ],
          [
           0.3333333333333333,
           "#9c179e"
          ],
          [
           0.4444444444444444,
           "#bd3786"
          ],
          [
           0.5555555555555556,
           "#d8576b"
          ],
          [
           0.6666666666666666,
           "#ed7953"
          ],
          [
           0.7777777777777778,
           "#fb9f3a"
          ],
          [
           0.8888888888888888,
           "#fdca26"
          ],
          [
           1,
           "#f0f921"
          ]
         ]
        },
        "legend": {
         "tracegroupgap": 0
        },
        "margin": {
         "t": 60
        },
        "template": {
         "data": {
          "bar": [
           {
            "error_x": {
             "color": "#2a3f5f"
            },
            "error_y": {
             "color": "#2a3f5f"
            },
            "marker": {
             "line": {
              "color": "#E5ECF6",
              "width": 0.5
             },
             "pattern": {
              "fillmode": "overlay",
              "size": 10,
              "solidity": 0.2
             }
            },
            "type": "bar"
           }
          ],
          "barpolar": [
           {
            "marker": {
             "line": {
              "color": "#E5ECF6",
              "width": 0.5
             },
             "pattern": {
              "fillmode": "overlay",
              "size": 10,
              "solidity": 0.2
             }
            },
            "type": "barpolar"
           }
          ],
          "carpet": [
           {
            "aaxis": {
             "endlinecolor": "#2a3f5f",
             "gridcolor": "white",
             "linecolor": "white",
             "minorgridcolor": "white",
             "startlinecolor": "#2a3f5f"
            },
            "baxis": {
             "endlinecolor": "#2a3f5f",
             "gridcolor": "white",
             "linecolor": "white",
             "minorgridcolor": "white",
             "startlinecolor": "#2a3f5f"
            },
            "type": "carpet"
           }
          ],
          "choropleth": [
           {
            "colorbar": {
             "outlinewidth": 0,
             "ticks": ""
            },
            "type": "choropleth"
           }
          ],
          "contour": [
           {
            "colorbar": {
             "outlinewidth": 0,
             "ticks": ""
            },
            "colorscale": [
             [
              0,
              "#0d0887"
             ],
             [
              0.1111111111111111,
              "#46039f"
             ],
             [
              0.2222222222222222,
              "#7201a8"
             ],
             [
              0.3333333333333333,
              "#9c179e"
             ],
             [
              0.4444444444444444,
              "#bd3786"
             ],
             [
              0.5555555555555556,
              "#d8576b"
             ],
             [
              0.6666666666666666,
              "#ed7953"
             ],
             [
              0.7777777777777778,
              "#fb9f3a"
             ],
             [
              0.8888888888888888,
              "#fdca26"
             ],
             [
              1,
              "#f0f921"
             ]
            ],
            "type": "contour"
           }
          ],
          "contourcarpet": [
           {
            "colorbar": {
             "outlinewidth": 0,
             "ticks": ""
            },
            "type": "contourcarpet"
           }
          ],
          "heatmap": [
           {
            "colorbar": {
             "outlinewidth": 0,
             "ticks": ""
            },
            "colorscale": [
             [
              0,
              "#0d0887"
             ],
             [
              0.1111111111111111,
              "#46039f"
             ],
             [
              0.2222222222222222,
              "#7201a8"
             ],
             [
              0.3333333333333333,
              "#9c179e"
             ],
             [
              0.4444444444444444,
              "#bd3786"
             ],
             [
              0.5555555555555556,
              "#d8576b"
             ],
             [
              0.6666666666666666,
              "#ed7953"
             ],
             [
              0.7777777777777778,
              "#fb9f3a"
             ],
             [
              0.8888888888888888,
              "#fdca26"
             ],
             [
              1,
              "#f0f921"
             ]
            ],
            "type": "heatmap"
           }
          ],
          "heatmapgl": [
           {
            "colorbar": {
             "outlinewidth": 0,
             "ticks": ""
            },
            "colorscale": [
             [
              0,
              "#0d0887"
             ],
             [
              0.1111111111111111,
              "#46039f"
             ],
             [
              0.2222222222222222,
              "#7201a8"
             ],
             [
              0.3333333333333333,
              "#9c179e"
             ],
             [
              0.4444444444444444,
              "#bd3786"
             ],
             [
              0.5555555555555556,
              "#d8576b"
             ],
             [
              0.6666666666666666,
              "#ed7953"
             ],
             [
              0.7777777777777778,
              "#fb9f3a"
             ],
             [
              0.8888888888888888,
              "#fdca26"
             ],
             [
              1,
              "#f0f921"
             ]
            ],
            "type": "heatmapgl"
           }
          ],
          "histogram": [
           {
            "marker": {
             "pattern": {
              "fillmode": "overlay",
              "size": 10,
              "solidity": 0.2
             }
            },
            "type": "histogram"
           }
          ],
          "histogram2d": [
           {
            "colorbar": {
             "outlinewidth": 0,
             "ticks": ""
            },
            "colorscale": [
             [
              0,
              "#0d0887"
             ],
             [
              0.1111111111111111,
              "#46039f"
             ],
             [
              0.2222222222222222,
              "#7201a8"
             ],
             [
              0.3333333333333333,
              "#9c179e"
             ],
             [
              0.4444444444444444,
              "#bd3786"
             ],
             [
              0.5555555555555556,
              "#d8576b"
             ],
             [
              0.6666666666666666,
              "#ed7953"
             ],
             [
              0.7777777777777778,
              "#fb9f3a"
             ],
             [
              0.8888888888888888,
              "#fdca26"
             ],
             [
              1,
              "#f0f921"
             ]
            ],
            "type": "histogram2d"
           }
          ],
          "histogram2dcontour": [
           {
            "colorbar": {
             "outlinewidth": 0,
             "ticks": ""
            },
            "colorscale": [
             [
              0,
              "#0d0887"
             ],
             [
              0.1111111111111111,
              "#46039f"
             ],
             [
              0.2222222222222222,
              "#7201a8"
             ],
             [
              0.3333333333333333,
              "#9c179e"
             ],
             [
              0.4444444444444444,
              "#bd3786"
             ],
             [
              0.5555555555555556,
              "#d8576b"
             ],
             [
              0.6666666666666666,
              "#ed7953"
             ],
             [
              0.7777777777777778,
              "#fb9f3a"
             ],
             [
              0.8888888888888888,
              "#fdca26"
             ],
             [
              1,
              "#f0f921"
             ]
            ],
            "type": "histogram2dcontour"
           }
          ],
          "mesh3d": [
           {
            "colorbar": {
             "outlinewidth": 0,
             "ticks": ""
            },
            "type": "mesh3d"
           }
          ],
          "parcoords": [
           {
            "line": {
             "colorbar": {
              "outlinewidth": 0,
              "ticks": ""
             }
            },
            "type": "parcoords"
           }
          ],
          "pie": [
           {
            "automargin": true,
            "type": "pie"
           }
          ],
          "scatter": [
           {
            "fillpattern": {
             "fillmode": "overlay",
             "size": 10,
             "solidity": 0.2
            },
            "type": "scatter"
           }
          ],
          "scatter3d": [
           {
            "line": {
             "colorbar": {
              "outlinewidth": 0,
              "ticks": ""
             }
            },
            "marker": {
             "colorbar": {
              "outlinewidth": 0,
              "ticks": ""
             }
            },
            "type": "scatter3d"
           }
          ],
          "scattercarpet": [
           {
            "marker": {
             "colorbar": {
              "outlinewidth": 0,
              "ticks": ""
             }
            },
            "type": "scattercarpet"
           }
          ],
          "scattergeo": [
           {
            "marker": {
             "colorbar": {
              "outlinewidth": 0,
              "ticks": ""
             }
            },
            "type": "scattergeo"
           }
          ],
          "scattergl": [
           {
            "marker": {
             "colorbar": {
              "outlinewidth": 0,
              "ticks": ""
             }
            },
            "type": "scattergl"
           }
          ],
          "scattermapbox": [
           {
            "marker": {
             "colorbar": {
              "outlinewidth": 0,
              "ticks": ""
             }
            },
            "type": "scattermapbox"
           }
          ],
          "scatterpolar": [
           {
            "marker": {
             "colorbar": {
              "outlinewidth": 0,
              "ticks": ""
             }
            },
            "type": "scatterpolar"
           }
          ],
          "scatterpolargl": [
           {
            "marker": {
             "colorbar": {
              "outlinewidth": 0,
              "ticks": ""
             }
            },
            "type": "scatterpolargl"
           }
          ],
          "scatterternary": [
           {
            "marker": {
             "colorbar": {
              "outlinewidth": 0,
              "ticks": ""
             }
            },
            "type": "scatterternary"
           }
          ],
          "surface": [
           {
            "colorbar": {
             "outlinewidth": 0,
             "ticks": ""
            },
            "colorscale": [
             [
              0,
              "#0d0887"
             ],
             [
              0.1111111111111111,
              "#46039f"
             ],
             [
              0.2222222222222222,
              "#7201a8"
             ],
             [
              0.3333333333333333,
              "#9c179e"
             ],
             [
              0.4444444444444444,
              "#bd3786"
             ],
             [
              0.5555555555555556,
              "#d8576b"
             ],
             [
              0.6666666666666666,
              "#ed7953"
             ],
             [
              0.7777777777777778,
              "#fb9f3a"
             ],
             [
              0.8888888888888888,
              "#fdca26"
             ],
             [
              1,
              "#f0f921"
             ]
            ],
            "type": "surface"
           }
          ],
          "table": [
           {
            "cells": {
             "fill": {
              "color": "#EBF0F8"
             },
             "line": {
              "color": "white"
             }
            },
            "header": {
             "fill": {
              "color": "#C8D4E3"
             },
             "line": {
              "color": "white"
             }
            },
            "type": "table"
           }
          ]
         },
         "layout": {
          "annotationdefaults": {
           "arrowcolor": "#2a3f5f",
           "arrowhead": 0,
           "arrowwidth": 1
          },
          "autotypenumbers": "strict",
          "coloraxis": {
           "colorbar": {
            "outlinewidth": 0,
            "ticks": ""
           }
          },
          "colorscale": {
           "diverging": [
            [
             0,
             "#8e0152"
            ],
            [
             0.1,
             "#c51b7d"
            ],
            [
             0.2,
             "#de77ae"
            ],
            [
             0.3,
             "#f1b6da"
            ],
            [
             0.4,
             "#fde0ef"
            ],
            [
             0.5,
             "#f7f7f7"
            ],
            [
             0.6,
             "#e6f5d0"
            ],
            [
             0.7,
             "#b8e186"
            ],
            [
             0.8,
             "#7fbc41"
            ],
            [
             0.9,
             "#4d9221"
            ],
            [
             1,
             "#276419"
            ]
           ],
           "sequential": [
            [
             0,
             "#0d0887"
            ],
            [
             0.1111111111111111,
             "#46039f"
            ],
            [
             0.2222222222222222,
             "#7201a8"
            ],
            [
             0.3333333333333333,
             "#9c179e"
            ],
            [
             0.4444444444444444,
             "#bd3786"
            ],
            [
             0.5555555555555556,
             "#d8576b"
            ],
            [
             0.6666666666666666,
             "#ed7953"
            ],
            [
             0.7777777777777778,
             "#fb9f3a"
            ],
            [
             0.8888888888888888,
             "#fdca26"
            ],
            [
             1,
             "#f0f921"
            ]
           ],
           "sequentialminus": [
            [
             0,
             "#0d0887"
            ],
            [
             0.1111111111111111,
             "#46039f"
            ],
            [
             0.2222222222222222,
             "#7201a8"
            ],
            [
             0.3333333333333333,
             "#9c179e"
            ],
            [
             0.4444444444444444,
             "#bd3786"
            ],
            [
             0.5555555555555556,
             "#d8576b"
            ],
            [
             0.6666666666666666,
             "#ed7953"
            ],
            [
             0.7777777777777778,
             "#fb9f3a"
            ],
            [
             0.8888888888888888,
             "#fdca26"
            ],
            [
             1,
             "#f0f921"
            ]
           ]
          },
          "colorway": [
           "#636efa",
           "#EF553B",
           "#00cc96",
           "#ab63fa",
           "#FFA15A",
           "#19d3f3",
           "#FF6692",
           "#B6E880",
           "#FF97FF",
           "#FECB52"
          ],
          "font": {
           "color": "#2a3f5f"
          },
          "geo": {
           "bgcolor": "white",
           "lakecolor": "white",
           "landcolor": "#E5ECF6",
           "showlakes": true,
           "showland": true,
           "subunitcolor": "white"
          },
          "hoverlabel": {
           "align": "left"
          },
          "hovermode": "closest",
          "mapbox": {
           "style": "light"
          },
          "paper_bgcolor": "white",
          "plot_bgcolor": "#E5ECF6",
          "polar": {
           "angularaxis": {
            "gridcolor": "white",
            "linecolor": "white",
            "ticks": ""
           },
           "bgcolor": "#E5ECF6",
           "radialaxis": {
            "gridcolor": "white",
            "linecolor": "white",
            "ticks": ""
           }
          },
          "scene": {
           "xaxis": {
            "backgroundcolor": "#E5ECF6",
            "gridcolor": "white",
            "gridwidth": 2,
            "linecolor": "white",
            "showbackground": true,
            "ticks": "",
            "zerolinecolor": "white"
           },
           "yaxis": {
            "backgroundcolor": "#E5ECF6",
            "gridcolor": "white",
            "gridwidth": 2,
            "linecolor": "white",
            "showbackground": true,
            "ticks": "",
            "zerolinecolor": "white"
           },
           "zaxis": {
            "backgroundcolor": "#E5ECF6",
            "gridcolor": "white",
            "gridwidth": 2,
            "linecolor": "white",
            "showbackground": true,
            "ticks": "",
            "zerolinecolor": "white"
           }
          },
          "shapedefaults": {
           "line": {
            "color": "#2a3f5f"
           }
          },
          "ternary": {
           "aaxis": {
            "gridcolor": "white",
            "linecolor": "white",
            "ticks": ""
           },
           "baxis": {
            "gridcolor": "white",
            "linecolor": "white",
            "ticks": ""
           },
           "bgcolor": "#E5ECF6",
           "caxis": {
            "gridcolor": "white",
            "linecolor": "white",
            "ticks": ""
           }
          },
          "title": {
           "x": 0.05
          },
          "xaxis": {
           "automargin": true,
           "gridcolor": "white",
           "linecolor": "white",
           "ticks": "",
           "title": {
            "standoff": 15
           },
           "zerolinecolor": "white",
           "zerolinewidth": 2
          },
          "yaxis": {
           "automargin": true,
           "gridcolor": "white",
           "linecolor": "white",
           "ticks": "",
           "title": {
            "standoff": 15
           },
           "zerolinecolor": "white",
           "zerolinewidth": 2
          }
         }
        },
        "xaxis": {
         "anchor": "y",
         "domain": [
          0,
          1
         ],
         "title": {
          "text": "tsne_1"
         }
        },
        "yaxis": {
         "anchor": "x",
         "domain": [
          0,
          1
         ],
         "title": {
          "text": "tsne_2"
         }
        }
       }
      }
     },
     "metadata": {},
     "output_type": "display_data"
    }
   ],
   "source": [
    "import plotly.express as px\n",
    "\n",
    "tsne_df = pd.DataFrame(item_tsne, columns=[\"tsne_1\", \"tsne_2\"])\n",
    "tsne_df[\"item_id\"] = np.arange(item_tsne.shape[0])\n",
    "tsne_df = tsne_df.merge(items.reset_index())\n",
    "\n",
    "px.scatter(tsne_df, x=\"tsne_1\", y=\"tsne_2\",\n",
    "           color=\"popularity\",\n",
    "           hover_data=[\"item_id\", \"title\", \"popularity\"])"
   ]
  },
  {
   "cell_type": "markdown",
   "metadata": {},
   "source": [
    "### Exercises\n",
    "\n",
    " - Add another layer to the neural network and retrain, compare train/test error.\n",
    " - Try adding more dropout and change layer sizes.\n"
   ]
  },
  {
   "cell_type": "code",
   "execution_count": 152,
   "metadata": {},
   "outputs": [],
   "source": [
    "#Add Another Layer to the Neural Network\n",
    "from tensorflow.keras.layers import Dense\n",
    "import tensorflow as tf\n",
    "class EnhancedRegressionModel(Model):\n",
    "    def __init__(self, embedding_size, max_user_id, max_item_id):\n",
    "        super().__init__()\n",
    "\n",
    "        self.user_embedding = Embedding(output_dim=embedding_size,\n",
    "                                        input_dim=max_user_id + 1,\n",
    "                                        input_length=1,\n",
    "                                        name='user_embedding')\n",
    "        self.item_embedding = Embedding(output_dim=embedding_size,\n",
    "                                        input_dim=max_item_id + 1,\n",
    "                                        input_length=1,\n",
    "                                        name='item_embedding')\n",
    "        \n",
    "        self.flatten = Flatten()\n",
    "        self.dense_1 = Dense(128, activation='relu')  # Added dense layer\n",
    "        self.dense_2 = Dense(64, activation='relu')  # Another dense layer\n",
    "        self.dropout = Dropout(0.5)  # Dropout layer\n",
    "\n",
    "        self.output_layer = Dense(1)  # Output layer\n",
    "        \n",
    "    def call(self, inputs):\n",
    "        user_inputs = inputs[0]\n",
    "        item_inputs = inputs[1]\n",
    "        \n",
    "        user_vecs = self.flatten(self.user_embedding(user_inputs))\n",
    "        item_vecs = self.flatten(self.item_embedding(item_inputs))\n",
    "        \n",
    "        concatenated = tf.concat([user_vecs, item_vecs], axis=-1)  # Correct tf.concat\n",
    "\n",
    "        x = self.dense_1(concatenated)\n",
    "        x = self.dropout(x)  # Apply dropout\n",
    "        x = self.dense_2(x)  # Another dense layer\n",
    "\n",
    "        y = self.output_layer(x)\n",
    "        return y\n",
    "\n",
    "# Ensure you also have functions like `plot_predictions` defined here before running these steps\n",
    "\n"
   ]
  },
  {
   "cell_type": "code",
   "execution_count": 153,
   "metadata": {},
   "outputs": [
    {
     "name": "stdout",
     "output_type": "stream",
     "text": [
      "Epoch 1/10\n",
      "1125/1125 [==============================] - 1s 1ms/step - loss: 0.9047 - val_loss: 0.7603\n",
      "Epoch 2/10\n",
      "1125/1125 [==============================] - 1s 1ms/step - loss: 0.7674 - val_loss: 0.7538\n",
      "Epoch 3/10\n",
      "1125/1125 [==============================] - 1s 1ms/step - loss: 0.7439 - val_loss: 0.7383\n",
      "Epoch 4/10\n",
      "1125/1125 [==============================] - 1s 1ms/step - loss: 0.7284 - val_loss: 0.7395\n",
      "Epoch 5/10\n",
      "1125/1125 [==============================] - 1s 1ms/step - loss: 0.7124 - val_loss: 0.7291\n",
      "Epoch 6/10\n",
      "1125/1125 [==============================] - 1s 1ms/step - loss: 0.6980 - val_loss: 0.7241\n",
      "Epoch 7/10\n",
      "1125/1125 [==============================] - 1s 1ms/step - loss: 0.6873 - val_loss: 0.7191\n",
      "Epoch 8/10\n",
      "1125/1125 [==============================] - 1s 1ms/step - loss: 0.6767 - val_loss: 0.7231\n",
      "Epoch 9/10\n",
      "1125/1125 [==============================] - 1s 1ms/step - loss: 0.6688 - val_loss: 0.7211\n",
      "Epoch 10/10\n",
      "1125/1125 [==============================] - 1s 1ms/step - loss: 0.6620 - val_loss: 0.7268\n",
      "625/625 [==============================] - 0s 288us/step\n",
      "Final test MSE (enhanced model): 0.924\n",
      "Final test MAE (enhanced model): 0.720\n"
     ]
    },
    {
     "data": {
      "image/png": "[encoded data removed]",
      "text/plain": [
       "<Figure size 800x800 with 1 Axes>"
      ]
     },
     "metadata": {},
     "output_type": "display_data"
    },
    {
     "data": {
      "image/png": "[encoded data removed]",
      "text/plain": [
       "<Figure size 640x480 with 1 Axes>"
      ]
     },
     "metadata": {},
     "output_type": "display_data"
    }
   ],
   "source": [
    "# Training and Evaluation\n",
    "\n",
    "\n",
    "embedding_size = 64\n",
    "max_user_id = all_ratings['user_id'].max()\n",
    "max_item_id = all_ratings['item_id'].max()\n",
    "\n",
    "enhanced_model = EnhancedRegressionModel(embedding_size, max_user_id, max_item_id)\n",
    "enhanced_model.compile(optimizer=\"adam\", loss='mae')\n",
    "\n",
    "# Assuming you have your data split into user_id_train, item_id_train, rating_train, user_id_test, item_id_test, rating_test.\n",
    "history = enhanced_model.fit([user_id_train, item_id_train], rating_train,\n",
    "                             batch_size=64, epochs=10, validation_split=0.1,\n",
    "                             shuffle=True)\n",
    "\n",
    "# Evaluate the model\n",
    "test_preds_enhanced = enhanced_model.predict([user_id_test, item_id_test])\n",
    "print(\"Final test MSE (enhanced model): %0.3f\" % mean_squared_error(test_preds_enhanced, rating_test))\n",
    "print(\"Final test MAE (enhanced model): %0.3f\" % mean_absolute_error(test_preds_enhanced, rating_test))\n",
    "\n",
    "# Plot predictions\n",
    "def plot_predictions(true_ratings, predicted_ratings):\n",
    "    plt.figure(figsize=(8, 8))\n",
    "    plt.scatter(true_ratings, predicted_ratings, alpha=0.3)\n",
    "    plt.xlabel('True Ratings')\n",
    "    plt.ylabel('Predicted Ratings')\n",
    "    plt.plot([1, 10], [1, 10], color='red', linestyle='--')\n",
    "    plt.show()\n",
    "\n",
    "plot_predictions(rating_test, test_preds_enhanced)\n",
    "\n",
    "# Plot training & validation loss values\n",
    "plt.plot(history.history['loss'], label='train')\n",
    "plt.plot(history.history['val_loss'], label='validation')\n",
    "plt.ylim(0, 2)\n",
    "plt.legend(loc='best')\n",
    "plt.title('Loss (Enhanced Model)')\n",
    "plt.show()\n"
   ]
  },
  {
   "cell_type": "markdown",
   "metadata": {},
   "source": [
    "### A recommendation function for a given user\n",
    "\n",
    "Once the model is trained, the system can be used to recommend a few items for a user that they haven't seen before. The following code does that.\n",
    "\n",
    "- we use the `model.predict` to compute the ratings a user would have given to all items\n",
    "- we build a function that sorts these items and excludes those the user has already seen."
   ]
  },
  {
   "cell_type": "code",
   "execution_count": 154,
   "metadata": {
    "scrolled": true
   },
   "outputs": [],
   "source": [
    "def recommend(user_id, top_n=10):\n",
    "    item_ids = range(1, items['item_id'].max())\n",
    "    seen_mask = all_ratings[\"user_id\"] == user_id\n",
    "    seen_movies = set(all_ratings[seen_mask][\"item_id\"])\n",
    "    item_ids = list(filter(lambda x: x not in seen_movies, item_ids))\n",
    "\n",
    "    user = np.zeros_like(item_ids)\n",
    "    user[:len(item_ids)] = user_id\n",
    "    items_ = np.array(item_ids)\n",
    "    ratings = model.predict([user, items_]).flatten()\n",
    "    top_items = ratings.argsort()[-top_n:][::-1]\n",
    "    return [(indexed_items.loc[item_id][\"title\"], ratings[item_id]) for item_id in top_items]"
   ]
  },
  {
   "cell_type": "code",
   "execution_count": 155,
   "metadata": {},
   "outputs": [
    {
     "name": "stdout",
     "output_type": "stream",
     "text": [
      "48/48 [==============================] - 0s 278us/step\n",
      "    5.0: 20,000 Leagues Under the Sea (1954)\n",
      "    5.0: Dead Man Walking (1995)\n",
      "    4.9: Terminator 2: Judgment Day (1991)\n",
      "    4.7: Jude (1996)\n",
      "    4.7: Affair to Remember, An (1957)\n",
      "    4.7: Eat Drink Man Woman (1994)\n",
      "    4.6: Robert A. Heinlein's The Puppet Masters (1994)\n",
      "    4.6: Amadeus (1984)\n",
      "    4.5: FairyTale: A True Story (1997)\n",
      "    4.4: Faster Pussycat! Kill! Kill! (1965)\n"
     ]
    }
   ],
   "source": [
    "for title, pred_rating in recommend(5):\n",
    "    print(\"    %0.1f: %s\" % (pred_rating, title))"
   ]
  },
  {
   "cell_type": "markdown",
   "metadata": {
    "collapsed": false
   },
   "source": [
    "### Exercises\n",
    "\n",
    "- Try modifying our neural network to improve recommendation. You could try adding more layers, or using a different loss function. \n",
    "- Your goal is to improve the Mean Absolute Error on the test set. Show the results of your best model."
   ]
  },
  {
   "cell_type": "code",
   "execution_count": 158,
   "metadata": {
    "collapsed": false
   },
   "outputs": [
    {
     "name": "stdout",
     "output_type": "stream",
     "text": [
      "Training RegressionModel...\n",
      "Epoch 1/10\n",
      "1125/1125 [==============================] - 1s 740us/step - loss: 2.6407 - val_loss: 1.0366\n",
      "Epoch 2/10\n",
      "1125/1125 [==============================] - 1s 630us/step - loss: 0.8513 - val_loss: 0.7964\n",
      "Epoch 3/10\n",
      "1125/1125 [==============================] - 1s 637us/step - loss: 0.7580 - val_loss: 0.7683\n",
      "Epoch 4/10\n",
      "1125/1125 [==============================] - 1s 686us/step - loss: 0.7349 - val_loss: 0.7598\n",
      "Epoch 5/10\n",
      "1125/1125 [==============================] - 1s 647us/step - loss: 0.7162 - val_loss: 0.7519\n",
      "Epoch 6/10\n",
      "1125/1125 [==============================] - 1s 686us/step - loss: 0.6961 - val_loss: 0.7476\n",
      "Epoch 7/10\n",
      "1125/1125 [==============================] - 1s 696us/step - loss: 0.6767 - val_loss: 0.7404\n",
      "Epoch 8/10\n",
      "1125/1125 [==============================] - 1s 647us/step - loss: 0.6556 - val_loss: 0.7381\n",
      "Epoch 9/10\n",
      "1125/1125 [==============================] - 1s 637us/step - loss: 0.6320 - val_loss: 0.7375\n",
      "Epoch 10/10\n",
      "1125/1125 [==============================] - 1s 686us/step - loss: 0.6075 - val_loss: 0.7348\n",
      "Training ExtendedRegressionModel...\n",
      "Epoch 1/20\n",
      "1125/1125 [==============================] - 1s 897us/step - loss: 1.3809 - val_loss: 0.9271\n",
      "Epoch 2/20\n",
      "1125/1125 [==============================] - 1s 902us/step - loss: 0.9480 - val_loss: 0.9057\n",
      "Epoch 3/20\n",
      "1125/1125 [==============================] - 1s 859us/step - loss: 0.8971 - val_loss: 0.8872\n",
      "Epoch 4/20\n",
      "1125/1125 [==============================] - 1s 852us/step - loss: 0.8704 - val_loss: 0.8882\n",
      "Epoch 5/20\n",
      "1125/1125 [==============================] - 1s 903us/step - loss: 0.8530 - val_loss: 0.8860\n",
      "Epoch 6/20\n",
      "1125/1125 [==============================] - 1s 854us/step - loss: 0.8337 - val_loss: 0.8781\n",
      "Epoch 7/20\n",
      "1125/1125 [==============================] - 1s 914us/step - loss: 0.8152 - val_loss: 0.8896\n",
      "Epoch 8/20\n",
      "1125/1125 [==============================] - 1s 867us/step - loss: 0.7912 - val_loss: 0.8874\n",
      "Epoch 9/20\n",
      "1125/1125 [==============================] - 1s 901us/step - loss: 0.7708 - val_loss: 0.9216\n",
      "Epoch 10/20\n",
      "1125/1125 [==============================] - 1s 853us/step - loss: 0.7485 - val_loss: 0.8861\n",
      "Epoch 11/20\n",
      "1125/1125 [==============================] - 1s 905us/step - loss: 0.7284 - val_loss: 0.8812\n",
      "Epoch 12/20\n",
      "1125/1125 [==============================] - 1s 851us/step - loss: 0.7050 - val_loss: 0.8753\n",
      "Epoch 13/20\n",
      "1125/1125 [==============================] - 1s 896us/step - loss: 0.6873 - val_loss: 0.8867\n",
      "Epoch 14/20\n",
      "1125/1125 [==============================] - 1s 856us/step - loss: 0.6687 - val_loss: 0.8926\n",
      "Epoch 15/20\n",
      "1125/1125 [==============================] - 1s 862us/step - loss: 0.6567 - val_loss: 0.9100\n",
      "Epoch 16/20\n",
      "1125/1125 [==============================] - 1s 894us/step - loss: 0.6403 - val_loss: 0.8955\n",
      "Epoch 17/20\n",
      "1125/1125 [==============================] - 1s 851us/step - loss: 0.6267 - val_loss: 0.9049\n",
      "Epoch 18/20\n",
      "1125/1125 [==============================] - 1s 902us/step - loss: 0.6167 - val_loss: 0.9123\n",
      "Epoch 19/20\n",
      "1125/1125 [==============================] - 1s 847us/step - loss: 0.6069 - val_loss: 0.9205\n",
      "Epoch 20/20\n",
      "1125/1125 [==============================] - 1s 892us/step - loss: 0.5992 - val_loss: 0.9148\n",
      "Evaluating RegressionModel...\n",
      "625/625 [==============================] - 0s 253us/step\n",
      "RegressionModel - Test MSE: 0.904, Test MAE: 0.734\n",
      "Evaluating ExtendedRegressionModel...\n",
      "625/625 [==============================] - 0s 296us/step\n",
      "ExtendedRegressionModel - Test MSE: 0.905, Test MAE: 0.740\n"
     ]
    },
    {
     "data": {
      "image/png": "[encoded data removed]",
      "text/plain": [
       "<Figure size 800x800 with 1 Axes>"
      ]
     },
     "metadata": {},
     "output_type": "display_data"
    },
    {
     "data": {
      "image/png": "[encoded data removed]",
      "text/plain": [
       "<Figure size 800x800 with 1 Axes>"
      ]
     },
     "metadata": {},
     "output_type": "display_data"
    },
    {
     "data": {
      "image/png": "[encoded data removed]",
      "text/plain": [
       "<Figure size 800x600 with 1 Axes>"
      ]
     },
     "metadata": {},
     "output_type": "display_data"
    },
    {
     "data": {
      "image/png": "[encoded data removed]",
      "text/plain": [
       "<Figure size 800x600 with 1 Axes>"
      ]
     },
     "metadata": {},
     "output_type": "display_data"
    },
    {
     "name": "stdout",
     "output_type": "stream",
     "text": [
      "Summary of Results:\n",
      "RegressionModel - Test MSE: 0.904, Test MAE: 0.734\n",
      "ExtendedRegressionModel - Test MSE: 0.905, Test MAE: 0.740\n"
     ]
    }
   ],
   "source": [
    "# Extend and improve the model below\n",
    "from tensorflow.keras.layers import Concatenate\n",
    "class RegressionModel(Model):\n",
    "    def __init__(self, embedding_size, max_user_id, max_item_id):\n",
    "        super().__init__()\n",
    "\n",
    "        self.user_embedding = Embedding(output_dim=embedding_size,\n",
    "                                        input_dim=max_user_id + 1,\n",
    "                                        input_length=1,\n",
    "                                        name='user_embedding')\n",
    "        self.item_embedding = Embedding(output_dim=embedding_size,\n",
    "                                        input_dim=max_item_id + 1,\n",
    "                                        input_length=1,\n",
    "                                        name='item_embedding')\n",
    "\n",
    "        # The following two layers don't have parameters.\n",
    "        self.flatten = Flatten()\n",
    "        self.dot = Dot(axes=1)\n",
    "\n",
    "        self.user_transform_layer = Dense(64, activation='relu')\n",
    "        self.user_transform_layer = Dense(64, activation='relu')\n",
    "\n",
    "    def call(self, inputs):\n",
    "        user_inputs = inputs[0]\n",
    "        item_inputs = inputs[1]\n",
    "\n",
    "        user_vecs = self.flatten(self.user_embedding(user_inputs))\n",
    "        item_vecs = self.flatten(self.item_embedding(item_inputs))\n",
    "\n",
    "        y = self.dot([user_vecs, item_vecs])\n",
    "        return y\n",
    "\n",
    "\n",
    "class ExtendedRegressionModel(Model):\n",
    "    def __init__(self, embedding_size, max_user_id, max_item_id):\n",
    "        super().__init__()\n",
    "\n",
    "        self.user_embedding = Embedding(output_dim=embedding_size,\n",
    "                                        input_dim=max_user_id + 1,\n",
    "                                        input_length=1,\n",
    "                                        embeddings_regularizer=l2(1e-6),\n",
    "                                        name='user_embedding')\n",
    "        self.item_embedding = Embedding(output_dim=embedding_size,\n",
    "                                        input_dim=max_item_id + 1,\n",
    "                                        input_length=1,\n",
    "                                        embeddings_regularizer=l2(1e-6),\n",
    "                                        name='item_embedding')\n",
    "\n",
    "        self.flatten = Flatten()\n",
    "        self.dense_1 = Dense(128, activation='relu')\n",
    "        self.dense_2 = Dense(64, activation='relu')\n",
    "        self.dropout = Dropout(0.5)\n",
    "        self.output_layer = Dense(1)\n",
    "\n",
    "    def call(self, inputs):\n",
    "        user_inputs = inputs[0]\n",
    "        item_inputs = inputs[1]\n",
    "\n",
    "        user_vecs = self.flatten(self.user_embedding(user_inputs))\n",
    "        item_vecs = self.flatten(self.item_embedding(item_inputs))\n",
    "\n",
    "        concatenated = Concatenate()([user_vecs, item_vecs])\n",
    "        x = self.dense_1(concatenated)\n",
    "        x = self.dropout(x)\n",
    "        x = self.dense_2(x)\n",
    "\n",
    "        y = self.output_layer(x)\n",
    "        return y\n",
    "\n",
    "\n",
    "# Maximum user and item IDs in the dataset\n",
    "max_user_id = all_ratings['user_id'].max()\n",
    "max_item_id = all_ratings['item_id'].max()\n",
    "embedding_size = 64\n",
    "\n",
    "# Instantiate models\n",
    "regression_model = RegressionModel(embedding_size, max_user_id, max_item_id)\n",
    "extended_model = ExtendedRegressionModel(embedding_size, max_user_id, max_item_id)\n",
    "\n",
    "# Compile models\n",
    "regression_model.compile(optimizer=\"adam\", loss='mae')\n",
    "extended_model.compile(optimizer=\"adam\", loss='mse')\n",
    "\n",
    "# Train models\n",
    "print(\"Training RegressionModel...\")\n",
    "history_regression = regression_model.fit([user_id_train, item_id_train], rating_train,\n",
    "                                          batch_size=64, epochs=10, validation_split=0.1,\n",
    "                                          shuffle=True)\n",
    "\n",
    "print(\"Training ExtendedRegressionModel...\")\n",
    "history_extended = extended_model.fit([user_id_train, item_id_train], rating_train,\n",
    "                                      batch_size=64, epochs=20, validation_split=0.1,\n",
    "                                      shuffle=True)\n",
    "\n",
    "# Evaluate models\n",
    "print(\"Evaluating RegressionModel...\")\n",
    "test_preds_regression = regression_model.predict([user_id_test, item_id_test])\n",
    "mse_regression = mean_squared_error(rating_test, test_preds_regression)\n",
    "mae_regression = mean_absolute_error(rating_test, test_preds_regression)\n",
    "print(f\"RegressionModel - Test MSE: {mse_regression:.3f}, Test MAE: {mae_regression:.3f}\")\n",
    "\n",
    "print(\"Evaluating ExtendedRegressionModel...\")\n",
    "test_preds_extended = extended_model.predict([user_id_test, item_id_test])\n",
    "mse_extended = mean_squared_error(rating_test, test_preds_extended)\n",
    "mae_extended = mean_absolute_error(rating_test, test_preds_extended)\n",
    "print(f\"ExtendedRegressionModel - Test MSE: {mse_extended:.3f}, Test MAE: {mae_extended:.3f}\")\n",
    "\n",
    "# Function to plot predictions\n",
    "def plot_predictions(true_ratings, predicted_ratings, model_name):\n",
    "    plt.figure(figsize=(8, 8))\n",
    "    plt.scatter(true_ratings, predicted_ratings, alpha=0.3)\n",
    "    plt.xlabel('True Ratings')\n",
    "    plt.ylabel('Predicted Ratings')\n",
    "    plt.plot([true_ratings.min(), true_ratings.max()], [true_ratings.min(), true_ratings.max()], color='red', linestyle='--')\n",
    "    plt.title(f\"True vs Predicted Ratings ({model_name})\")\n",
    "    plt.show()\n",
    "\n",
    "# Plot predictions for both models\n",
    "plot_predictions(rating_test, test_preds_regression, \"RegressionModel\")\n",
    "plot_predictions(rating_test, test_preds_extended, \"ExtendedRegressionModel\")\n",
    "\n",
    "# Function to plot training & validation loss values\n",
    "def plot_training_history(history, model_name):\n",
    "    plt.figure(figsize=(8, 6))\n",
    "    plt.plot(history.history['loss'], label='train')\n",
    "    plt.plot(history.history['val_loss'], label='validation')\n",
    "    plt.xlabel('Epoch')\n",
    "    plt.ylabel('Loss')\n",
    "    plt.legend(loc='best')\n",
    "    plt.title(f'Training and Validation Loss ({model_name})')\n",
    "    plt.show()\n",
    "\n",
    "# Plot training history for both models\n",
    "plot_training_history(history_regression, \"RegressionModel\")\n",
    "plot_training_history(history_extended, \"ExtendedRegressionModel\")\n",
    "\n",
    "# Summary of results\n",
    "print(\"Summary of Results:\")\n",
    "print(f\"RegressionModel - Test MSE: {mse_regression:.3f}, Test MAE: {mae_regression:.3f}\")\n",
    "print(f\"ExtendedRegressionModel - Test MSE: {mse_extended:.3f}, Test MAE: {mae_extended:.3f}\")"
   ]
  }
 ],
 "metadata": {
  "kernelspec": {
   "display_name": "Python 3 (ipykernel)",
   "language": "python",
   "name": "python3"
  },
  "language_info": {
   "codemirror_mode": {
    "name": "ipython",
    "version": 3
   },
   "file_extension": ".py",
   "mimetype": "text/x-python",
   "name": "python",
   "nbconvert_exporter": "python",
   "pygments_lexer": "ipython3",
   "version": "3.9.19"
  }
 },
 "nbformat": 4,
 "nbformat_minor": 4
}
