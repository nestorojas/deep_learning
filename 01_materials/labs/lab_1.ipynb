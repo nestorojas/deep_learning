{
 "cells": [
  {
   "cell_type": "markdown",
   "metadata": {},
   "source": [
    "# Training Neural Networks with Keras\n",
    "\n",
    "Welcome to the first practical session of the course! In this session, we will learn how to train neural networks with Keras. We will start with a simple example of a feedforward neural network for classification and then we will study the impact of the initialization of the weights on the convergence of the training algorithm.\n",
    "\n",
    "Keras is a high-level neural network API, built on top of TensorFlow 2.0. It provides a user-friendly interface to build, train and deploy deep learning models. Keras is designed to be modular, fast and easy to use.\n",
    "\n",
    "Throughout this course, we will focus on using Keras and TensorFlow for building and training neural networks. However, there are other popular deep learning frameworks such as PyTorch, MXNet, CNTK, etc. that you can also use to build and train neural networks.\n",
    "\n",
    "In order to use our code on Google Colab, we will need to ensure that any required packages are installed. We will use the following packages in this session:\n",
    "\n",
    "- `tensorflow`: an open-source library for numerical computation and large-scale machine learning.\n",
    "- `matplotlib`: a plotting library for the Python programming language and its numerical mathematics extension NumPy.\n",
    "- `numpy`: a library for scientific computing in Python.\n",
    "- `scikit-learn`: a machine learning library for the Python programming language.\n",
    "- `pandas`: a library providing high-performance, easy-to-use data structures and data analysis tools for the Python programming language.\n",
    "\n",
    "The following cell will check if the packages are installed, and if not, it will install them. Students familiar with how pip works might note that it already checks this before installing! The reason for this code (which will also appear in subsequent notebooks) is to speed up execution if you re-run the entire notebook - it will skip the installation step if the packages are already installed."
   ]
  },
  {
   "cell_type": "markdown",
   "metadata": {
    "collapsed": false
   },
   "source": [
    "With the packages installed, we can now get started on the practical session!\n",
    "\n",
    "Today, we will be working with the famous MNIST dataset. MNIST (Modified National Institute of Standards and Technology) is a database of low resolution images of handwritten digits. The history here is interesting - the dataset was originally created in the 1980s, when researchers from the aforementioned institute collected samples from American Census Bureau employees and high school students. The dataset was then modified in the 1990s (hence the M in MNIST), and has since become a popular benchmark for machine learning algorithms. \n",
    "\n",
    "The dataset contains images, each of which is a 28x28 grayscale image of a handwritten digit. The goal is to classify each image into one of the 10 possible classes (0-9).\n",
    "\n",
    "![MNIST](https://upload.wikimedia.org/wikipedia/commons/2/27/MnistExamples.png)\n",
    "\n",
    "The Scikit-Learn library provides a convenient function to download and load the MNIST dataset. The following cell will download the dataset. Then we will take a look at the shape of the data."
   ]
  },
  {
   "cell_type": "code",
   "execution_count": 41,
   "metadata": {},
   "outputs": [],
   "source": [
    "import matplotlib.pyplot as plt\n",
    "import numpy as np\n",
    "\n",
    "from sklearn.datasets import load_digits\n",
    "\n",
    "digits = load_digits()"
   ]
  },
  {
   "cell_type": "code",
   "execution_count": 42,
   "metadata": {},
   "outputs": [
    {
     "data": {
      "text/plain": [
       "(1797, 8, 8)"
      ]
     },
     "execution_count": 42,
     "metadata": {},
     "output_type": "execute_result"
    }
   ],
   "source": [
    "digits.images.shape"
   ]
  },
  {
   "cell_type": "markdown",
   "metadata": {
    "collapsed": false
   },
   "source": [
    "This means that we have 1797 images, each of which is a 8x8 image. For basic image processing, we will need to flatten the images into a 1D array. In this case, Scikit-Learn has already provided the data in this format too:"
   ]
  },
  {
   "cell_type": "code",
   "execution_count": 43,
   "metadata": {},
   "outputs": [
    {
     "data": {
      "text/plain": [
       "(1797, 64)"
      ]
     },
     "execution_count": 43,
     "metadata": {},
     "output_type": "execute_result"
    }
   ],
   "source": [
    "digits.data.shape"
   ]
  },
  {
   "cell_type": "markdown",
   "metadata": {
    "collapsed": false
   },
   "source": [
    "For each image, we also have the corresponding label (or target, or class) in `digits.target`:"
   ]
  },
  {
   "cell_type": "code",
   "execution_count": 44,
   "metadata": {},
   "outputs": [
    {
     "data": {
      "text/plain": [
       "(1797,)"
      ]
     },
     "execution_count": 44,
     "metadata": {},
     "output_type": "execute_result"
    }
   ],
   "source": [
    "digits.target.shape"
   ]
  },
  {
   "cell_type": "markdown",
   "metadata": {
    "collapsed": false
   },
   "source": [
    "We can take a look at some random images from the dataset. The following cell will select 9 random images and plot them in a 3x3 grid (meaning that you can rerun the cell to see different images)."
   ]
  },
  {
   "cell_type": "code",
   "execution_count": 45,
   "metadata": {},
   "outputs": [
    {
     "data": {
      "image/png": "[encoded data removed]",
      "text/plain": [
       "<Figure size 600x600 with 12 Axes>"
      ]
     },
     "metadata": {},
     "output_type": "display_data"
    }
   ],
   "source": [
    "# Selecting 9 random indices\n",
    "random_indices = np.random.choice(len(digits.images), 12, replace=False)\n",
    "\n",
    "# Creating a 3x3 grid plot\n",
    "fig, axes = plt.subplots(3, 4, figsize=(6, 6))\n",
    "\n",
    "for i, ax in enumerate(axes.flat):\n",
    "    ax.imshow(digits.images[random_indices[i]], cmap=plt.cm.gray_r, interpolation='nearest')\n",
    "    ax.set_title(f\"Label: {digits.target[random_indices[i]]}\")\n",
    "\n",
    "    # Removing axis labels\n",
    "    ax.set_xticks([])\n",
    "    ax.set_yticks([])\n",
    "\n",
    "plt.show()"
   ]
  },
  {
   "cell_type": "markdown",
   "metadata": {
    "collapsed": false
   },
   "source": [
    "As you can see, these images are very low resolution. This is because they were originally scanned from paper forms, and then scaled down to 8x8 pixels. This is a common problem in machine learning - the quality of the data is often a limiting factor in the performance of the model. In this case, the low resolution of the images makes it difficult to distinguish between some digits, even for humans. For example, the following images are all labelled as 9, but they look very different:"
   ]
  },
  {
   "cell_type": "code",
   "execution_count": 46,
   "metadata": {
    "collapsed": false
   },
   "outputs": [
    {
     "data": {
      "image/png": "[encoded data removed]",
      "text/plain": [
       "<Figure size 600x600 with 9 Axes>"
      ]
     },
     "metadata": {},
     "output_type": "display_data"
    }
   ],
   "source": [
    "# Selecting 9 random indices of images labelled as 9\n",
    "random_indices = np.random.choice(np.where(digits.target == 8)[0], 9, replace=False)\n",
    "\n",
    "# Creating a 3x3 grid plot\n",
    "fig, axes = plt.subplots(3, 3, figsize=(6, 6))\n",
    "\n",
    "for i, ax in enumerate(axes.flat):\n",
    "    ax.imshow(digits.images[random_indices[i]], cmap=plt.cm.gray_r, interpolation='nearest')\n",
    "    ax.set_title(f\"Label: {digits.target[random_indices[i]]}\")\n",
    "\n",
    "    # Removing axis labels\n",
    "    ax.set_xticks([])\n",
    "    ax.set_yticks([])\n",
    "    \n",
    "plt.show()"
   ]
  },
  {
   "cell_type": "markdown",
   "metadata": {
    "collapsed": false
   },
   "source": [
    "While we are plotting the samples as images, remember that our model is only going to see a 1D array of numbers. "
   ]
  },
  {
   "cell_type": "markdown",
   "metadata": {},
   "source": [
    "## Train / Test Split\n",
    "\n",
    "In order to understand how well our model performs on _new_ data, we need to split our dataset into a training set and a test set. The training set will be used to train the model, and the test set will be used to evaluate the performance of the model.\n",
    "\n",
    "Let's keep some held-out data to be able to measure the generalization performance of our model. "
   ]
  },
  {
   "cell_type": "code",
   "execution_count": 47,
   "metadata": {},
   "outputs": [],
   "source": [
    "from sklearn.model_selection import train_test_split\n",
    "\n",
    "\n",
    "X_train, X_test, y_train, y_test = train_test_split(\n",
    "    digits.data, \n",
    "    digits.target,\n",
    "    test_size=0.2, # 20% of the data is used for testing\n",
    "    random_state=42 # Providing a value here means getting the same \"random\" split every time\n",
    ")"
   ]
  },
  {
   "cell_type": "markdown",
   "metadata": {
    "collapsed": false
   },
   "source": [
    "Let's confirm that the data has been split correctly:"
   ]
  },
  {
   "cell_type": "code",
   "execution_count": 48,
   "metadata": {
    "collapsed": false
   },
   "outputs": [
    {
     "name": "stdout",
     "output_type": "stream",
     "text": [
      "X_train shape: (1437, 64)\n",
      "y_train shape: (1437,)\n",
      "X_test shape: (360, 64)\n",
      "y_test shape: (360,)\n"
     ]
    }
   ],
   "source": [
    "print(f'X_train shape: {X_train.shape}')\n",
    "print(f'y_train shape: {y_train.shape}')\n",
    "print(f'X_test shape: {X_test.shape}')\n",
    "print(f'y_test shape: {y_test.shape}')"
   ]
  },
  {
   "cell_type": "markdown",
   "metadata": {
    "collapsed": false
   },
   "source": [
    "This is what we expected to see. It's always good to check as you go, to make sure that you haven't made a mistake somewhere - this is something that working in a notebook like this makes it easy to do."
   ]
  },
  {
   "cell_type": "markdown",
   "metadata": {},
   "source": [
    "## Preprocessing of the Target Data\n",
    "\n",
    "The labels that we have are integers between 0 and 9. However, we want to train a neural network to classify the images into one of 10 classes. It can be a little counter-intuitive because we are dealing with numbers, but our classes are not ordinal.\n",
    "\n",
    "What do we mean by that? Let's imagine we were trying to predict the height of a building (separated into classes) from images. If a given building was actually 10m tall, and our model predicted 9m, we would consider that to be a better prediction than if it predicted 1m. This is because the classes are ordinal - there is meaning in the difference between the classes.\n",
    "\n",
    "In our case, even though we are dealing with numbers, the classes are not ordinal. If a given image is actually a 9, and our model predicts 8, we would consider that to be just as bad as if it predicted 1. This is because the classes are not ordered, and the difference between the classes is not meaningful.\n",
    "\n",
    "Because of this, we need to convert our labels from an integer value into a one-hot encoded vector. This means that each label will be represented as a vector of length 10, with a 1 in the position corresponding to the class, and 0s everywhere else. For example, the label 9 would be represented as `[0, 0, 0, 0, 0, 0, 0, 0, 0, 1]`. This is a common way of representing categorical data in machine learning. By doing this, we ensure that our model is taught the correct relationship between the classes."
   ]
  },
  {
   "cell_type": "code",
   "execution_count": 49,
   "metadata": {},
   "outputs": [
    {
     "name": "stdout",
     "output_type": "stream",
     "text": [
      "Before one-hot encoding: 6\n",
      "After one-hot encoding: [0. 0. 0. 0. 0. 0. 1. 0. 0. 0.]\n"
     ]
    }
   ],
   "source": [
    "from tensorflow.keras.utils import to_categorical\n",
    "\n",
    "print(f'Before one-hot encoding: {y_train[0]}')\n",
    "y_train = to_categorical(y_train, num_classes=10)\n",
    "y_test = to_categorical(y_test, num_classes=10)\n",
    "print(f'After one-hot encoding: {y_train[0]}')"
   ]
  },
  {
   "cell_type": "markdown",
   "metadata": {},
   "source": [
    "## Feed Forward Neural Networks with Keras\n",
    "\n",
    "Now that we have prepared our data, it's time to build a simple neural network! In this section, we will use the Keras API to build a simple feed forward neural network. We will then train the model on the MNIST dataset, and evaluate its performance on the test set.\n",
    "\n",
    "In most modern deep learning frameworks, the process of building a model can be broken down into a few steps:\n",
    "\n",
    "- Define the model architecture: this is where we define the layers of the model, and how they are connected to each other.\n",
    "- Compile the model: this is where we define the loss function, the optimizer, and the metrics that we want to use to evaluate the model.\n",
    "- Train the model: this is where we train the model on the training data.\n",
    "\n",
    "Let's start with defining the model architecture. There are two ways to do this in Keras - the Sequential API and the Functional API. The Sequential API is the simplest way to build a model, and is suitable for most use cases. The Functional API is more flexible, and allows you to build more complex models. We will start with the Sequential API, and then we will look at the Functional API later in the course.\n",
    "\n",
    "Our simple neural network will be \"fully-connected\". This means that each neuron in a given layer is connected to every neuron in the next layer. This is also known as a \"dense\" layer. We will use the `Dense` class from Keras to define our layers."
   ]
  },
  {
   "cell_type": "code",
   "execution_count": 50,
   "metadata": {
    "collapsed": false
   },
   "outputs": [
    {
     "name": "stdout",
     "output_type": "stream",
     "text": [
      "Model: \"sequential_12\"\n",
      "_________________________________________________________________\n",
      " Layer (type)                Output Shape              Param #   \n",
      "=================================================================\n",
      " dense_38 (Dense)            (None, 64)                4160      \n",
      "                                                                 \n",
      " dense_39 (Dense)            (None, 64)                4160      \n",
      "                                                                 \n",
      " dense_40 (Dense)            (None, 10)                650       \n",
      "                                                                 \n",
      "=================================================================\n",
      "Total params: 8970 (35.04 KB)\n",
      "Trainable params: 8970 (35.04 KB)\n",
      "Non-trainable params: 0 (0.00 Byte)\n",
      "_________________________________________________________________\n"
     ]
    }
   ],
   "source": [
    "from tensorflow.keras.models import Sequential\n",
    "from tensorflow.keras.layers import Dense\n",
    "\n",
    "model = Sequential()\n",
    "\n",
    "# Input layer\n",
    "model.add(Dense(64, activation='relu', input_shape=(64,))) # 64 neurons, ReLU activation, input shape of 64\n",
    "\n",
    "# Hidden layer\n",
    "model.add(Dense(64, activation='relu')) # 64 neurons, ReLU activation\n",
    "\n",
    "# Output layer\n",
    "model.add(Dense(10, activation='softmax')) # 10 neurons, softmax activation\n",
    "\n",
    "model.summary()"
   ]
  },
  {
   "cell_type": "markdown",
   "metadata": {
    "collapsed": false
   },
   "source": [
    "Congratulations! You have just built your first neural network with Keras. As we can confirm from the `model.summary()` output, our model has 3 layers. The first layer has 64 neurons, the second layer has 64 neurons, and the output layer has 10 neurons. The output layer uses the softmax activation function, which is commonly used for multi-class classification problems. The other layers use the ReLU activation function, which is commonly used for hidden layers in neural networks.\n",
    "\n",
    "Next, we need to compile the model. This is where we define the loss function, the optimizer, and the metrics that we want to use to evaluate the model. We will use the `compile` method of the model to do this."
   ]
  },
  {
   "cell_type": "code",
   "execution_count": 51,
   "metadata": {
    "collapsed": false
   },
   "outputs": [],
   "source": [
    "model.compile(\n",
    "    loss='categorical_crossentropy', # Loss function\n",
    "    optimizer='sgd', # Optimizer\n",
    "    metrics=['accuracy'] # Metrics to evaluate the model\n",
    ")"
   ]
  },
  {
   "cell_type": "markdown",
   "metadata": {
    "collapsed": false
   },
   "source": [
    "Because we are predicting which class a sample belongs to, we will use the `categorical_crossentropy` function. This loss function is commonly used for multi-class classification problems. \n",
    "\n",
    "For our optimizer, we are using the standard stochastic gradient descent (SGD) algorithm. This is a simple optimizer that works well for many problems. We will look at more advanced optimizers later in the course.\n",
    "\n",
    "Finally, we are using the `accuracy` metric to evaluate the model. This is a common metric for classification problems, and it is simply the fraction of samples that are correctly classified. This is an easier metric for us to understand, but it's not quite as useful for actually training the model (for example, it doesn't tell us how \"confident\" the model is in its predictions).\n",
    "\n",
    "Now that we have (a) defined the model architecture and (b) compiled the model, we are ready to train the model. We will use the `fit` method of the model to do this."
   ]
  },
  {
   "cell_type": "code",
   "execution_count": 52,
   "metadata": {
    "collapsed": false
   },
   "outputs": [
    {
     "name": "stdout",
     "output_type": "stream",
     "text": [
      "Epoch 1/15\n",
      "36/36 [==============================] - 0s 2ms/step - loss: 1.8216 - accuracy: 0.5875 - val_loss: 0.6060 - val_accuracy: 0.8264\n",
      "Epoch 2/15\n",
      "36/36 [==============================] - 0s 717us/step - loss: 0.4239 - accuracy: 0.8703 - val_loss: 0.3651 - val_accuracy: 0.8993\n",
      "Epoch 3/15\n",
      "36/36 [==============================] - 0s 666us/step - loss: 0.2809 - accuracy: 0.9156 - val_loss: 0.3453 - val_accuracy: 0.8924\n",
      "Epoch 4/15\n",
      "36/36 [==============================] - 0s 666us/step - loss: 0.2184 - accuracy: 0.9356 - val_loss: 0.2707 - val_accuracy: 0.9271\n",
      "Epoch 5/15\n",
      "36/36 [==============================] - 0s 669us/step - loss: 0.1617 - accuracy: 0.9495 - val_loss: 0.2180 - val_accuracy: 0.9410\n",
      "Epoch 6/15\n",
      "36/36 [==============================] - 0s 672us/step - loss: 0.1289 - accuracy: 0.9721 - val_loss: 0.2464 - val_accuracy: 0.9306\n",
      "Epoch 7/15\n",
      "36/36 [==============================] - 0s 676us/step - loss: 0.1118 - accuracy: 0.9765 - val_loss: 0.2552 - val_accuracy: 0.9375\n",
      "Epoch 8/15\n",
      "36/36 [==============================] - 0s 660us/step - loss: 0.1017 - accuracy: 0.9782 - val_loss: 0.1991 - val_accuracy: 0.9444\n",
      "Epoch 9/15\n",
      "36/36 [==============================] - 0s 649us/step - loss: 0.0828 - accuracy: 0.9826 - val_loss: 0.2006 - val_accuracy: 0.9375\n",
      "Epoch 10/15\n",
      "36/36 [==============================] - 0s 666us/step - loss: 0.0747 - accuracy: 0.9817 - val_loss: 0.1835 - val_accuracy: 0.9514\n",
      "Epoch 11/15\n",
      "36/36 [==============================] - 0s 656us/step - loss: 0.0711 - accuracy: 0.9852 - val_loss: 0.1649 - val_accuracy: 0.9514\n",
      "Epoch 12/15\n",
      "36/36 [==============================] - 0s 673us/step - loss: 0.0594 - accuracy: 0.9887 - val_loss: 0.1764 - val_accuracy: 0.9444\n",
      "Epoch 13/15\n",
      "36/36 [==============================] - 0s 670us/step - loss: 0.0530 - accuracy: 0.9913 - val_loss: 0.1646 - val_accuracy: 0.9444\n",
      "Epoch 14/15\n",
      "36/36 [==============================] - 0s 663us/step - loss: 0.0485 - accuracy: 0.9922 - val_loss: 0.1708 - val_accuracy: 0.9549\n",
      "Epoch 15/15\n",
      "36/36 [==============================] - 0s 663us/step - loss: 0.0460 - accuracy: 0.9939 - val_loss: 0.1575 - val_accuracy: 0.9479\n"
     ]
    },
    {
     "data": {
      "text/plain": [
       "<keras.src.callbacks.History at 0x3128fc7f0>"
      ]
     },
     "execution_count": 52,
     "metadata": {},
     "output_type": "execute_result"
    }
   ],
   "source": [
    "model.fit(\n",
    "    X_train, # Training data\n",
    "    y_train, # Training labels\n",
    "    epochs=15, # Number of epochs\n",
    "    batch_size=32, # Number of samples per batch\n",
    "    validation_split=0.2 # Use 20% of the data for validation\n",
    ")"
   ]
  },
  {
   "cell_type": "markdown",
   "metadata": {
    "collapsed": false
   },
   "source": [
    "We have now trained our model! We can see that the model has been trained for 5 epochs, and the loss and accuracy have been printed for each epoch. We can also see that the model has been evaluated on the validation data at the end of each epoch. This is useful for us to see how the model is performing on data that it hasn't seen during training.\n",
    "\n",
    "Once the model is trained, it's time to evaluate the model on the test set. We can use the `evaluate` method of the model to do this. If you were building a model for a real-world application, this is the very last thing you would do, and the result here would be the figure you'd report in your paper or presentation."
   ]
  },
  {
   "cell_type": "code",
   "execution_count": 53,
   "metadata": {
    "collapsed": false
   },
   "outputs": [
    {
     "name": "stdout",
     "output_type": "stream",
     "text": [
      "12/12 [==============================] - 0s 480us/step - loss: 0.1183 - accuracy: 0.9556\n",
      "Loss:     0.12\n",
      "Accuracy: 95.56%\n"
     ]
    }
   ],
   "source": [
    "loss, accuracy = model.evaluate(X_test, y_test)\n",
    "\n",
    "print(f'Loss:     {loss:.2f}')\n",
    "print(f'Accuracy: {accuracy*100:.2f}%')"
   ]
  },
  {
   "cell_type": "markdown",
   "metadata": {
    "collapsed": false
   },
   "source": [
    "Hopefully you have achieved an accuracy of around 95%. This is pretty good, but we can do better! In the next section, we will look at how we can improve the performance of our model by using a more advanced optimizer. But before we get there, let's do one other thing - let's look at the predictions that our model is making on the test set. When you are building a model, it's often useful to have a look at some of the examples your model is getting wrong. Sometimes this can reveal problems with the data, or it can give you ideas for how to improve your model."
   ]
  },
  {
   "cell_type": "code",
   "execution_count": 54,
   "metadata": {
    "collapsed": false
   },
   "outputs": [
    {
     "name": "stdout",
     "output_type": "stream",
     "text": [
      "12/12 [==============================] - 0s 407us/step\n"
     ]
    },
    {
     "data": {
      "image/png": "[encoded data removed]",
      "text/plain": [
       "<Figure size 600x600 with 9 Axes>"
      ]
     },
     "metadata": {},
     "output_type": "display_data"
    }
   ],
   "source": [
    "# Get the predictions for the test data\n",
    "predictions = model.predict(X_test)\n",
    "\n",
    "# Get the index of the largest probability (i.e. the predicted class)\n",
    "predicted_classes = np.argmax(predictions, axis=1)\n",
    "true_classes = np.argmax(y_test, axis=1)\n",
    "misclassified_indices = np.where(predicted_classes != true_classes)[0]\n",
    "\n",
    "# Get the misclassified samples themselves\n",
    "misclassified_samples = X_test[misclassified_indices]\n",
    "misclassified_labels = np.argmax(y_test[misclassified_indices], axis=1)\n",
    "\n",
    "# Pick 9 random misclassified samples\n",
    "random_indices = np.random.choice(len(misclassified_indices), 9, replace=False)\n",
    "\n",
    "fig, axes = plt.subplots(3, 3, figsize=(6, 6))\n",
    "for i, ax in enumerate(axes.flat):\n",
    "    ax.imshow(misclassified_samples[random_indices[i]].reshape(8, 8), cmap=plt.cm.gray_r, interpolation='nearest')\n",
    "    ax.set_title(f\"Pred: {predicted_classes[misclassified_indices[random_indices[i]]]}, Real: {misclassified_labels[random_indices[i]]}\")\n",
    "\n",
    "    # Removing axis labels\n",
    "    ax.set_xticks([])\n",
    "    ax.set_yticks([])\n",
    "    \n",
    "plt.show()"
   ]
  },
  {
   "cell_type": "markdown",
   "metadata": {
    "collapsed": false
   },
   "source": [
    "What do you think? Would you have made the same mistakes as the model? Determining whether the mistakes are \"understandable\" is a rough way of seeing if you could improve the model further, or if this is the best you can do with the data you have."
   ]
  },
  {
   "cell_type": "markdown",
   "metadata": {},
   "source": [
    "### b) Exercises: Impact of the Optimizer\n",
    "\n",
    "In this section, you will play around with the optimizer and see how it affects the performance of the model. We will start with the standard SGD optimizer, and then we will look at more advanced optimizers.\n",
    "\n",
    "1. Try decreasing the learning rate of the SGD optimizer by a factor of 10, or 100. What do you observe?\n",
    "2. Try increasing the learning rate of the SGD optimizer. What happens?\n",
    "3. The SGD optimizer has a momentum parameter. In a nutshell, this parameter controls how much the gradient from the previous step affects the current step. Try enabling momentum in the SGD optimizer with a value of 0.9. What happens?\n",
    "  \n",
    "**Notes**: \n",
    "\n",
    "The keras API documentation is available at:\n",
    "\n",
    "https://www.tensorflow.org/api_docs/python/tf/keras\n",
    "\n",
    "It is also possible to learn more about the parameters of a class by using the question mark: type and evaluate:\n",
    "\n",
    "```python\n",
    "optimizers.SGD?\n",
    "```\n",
    "\n",
    "in a jupyter notebook cell.\n",
    "\n",
    "It is also possible to type the beginning of a function call / constructor and type \"shift-tab\" after the opening paren:\n",
    "\n",
    "```python\n",
    "optimizers.SGD(<shift-tab>\n",
    "```"
   ]
  },
  {
   "cell_type": "code",
   "execution_count": 55,
   "metadata": {},
   "outputs": [
    {
     "name": "stderr",
     "output_type": "stream",
     "text": [
      "WARNING:absl:At this time, the v2.11+ optimizer `tf.keras.optimizers.SGD` runs slowly on M1/M2 Macs, please use the legacy Keras optimizer instead, located at `tf.keras.optimizers.legacy.SGD`.\n"
     ]
    },
    {
     "name": "stdout",
     "output_type": "stream",
     "text": [
      "Epoch 1/5\n",
      "36/36 [==============================] - 0s 2ms/step - loss: 1.6208 - accuracy: 0.6023 - val_loss: 0.6878 - val_accuracy: 0.7847\n",
      "Epoch 2/5\n",
      "36/36 [==============================] - 0s 869us/step - loss: 0.4525 - accuracy: 0.8581 - val_loss: 0.4167 - val_accuracy: 0.8646\n",
      "Epoch 3/5\n",
      "36/36 [==============================] - 0s 764us/step - loss: 0.2821 - accuracy: 0.9225 - val_loss: 0.3197 - val_accuracy: 0.9028\n",
      "Epoch 4/5\n",
      "36/36 [==============================] - 0s 765us/step - loss: 0.2143 - accuracy: 0.9417 - val_loss: 0.2631 - val_accuracy: 0.9236\n",
      "Epoch 5/5\n",
      "36/36 [==============================] - 0s 736us/step - loss: 0.1672 - accuracy: 0.9617 - val_loss: 0.2491 - val_accuracy: 0.9097\n",
      "12/12 - 0s - loss: 0.1917 - accuracy: 0.9306 - 54ms/epoch - 5ms/step\n"
     ]
    },
    {
     "name": "stderr",
     "output_type": "stream",
     "text": [
      "WARNING:absl:At this time, the v2.11+ optimizer `tf.keras.optimizers.SGD` runs slowly on M1/M2 Macs, please use the legacy Keras optimizer instead, located at `tf.keras.optimizers.legacy.SGD`.\n"
     ]
    },
    {
     "name": "stdout",
     "output_type": "stream",
     "text": [
      "Epoch 1/5\n",
      "36/36 [==============================] - 0s 2ms/step - loss: 3.5427 - accuracy: 0.1584 - val_loss: 2.1507 - val_accuracy: 0.3472\n",
      "Epoch 2/5\n",
      "36/36 [==============================] - 0s 745us/step - loss: 1.6774 - accuracy: 0.4526 - val_loss: 1.4328 - val_accuracy: 0.5729\n",
      "Epoch 3/5\n",
      "36/36 [==============================] - 0s 688us/step - loss: 1.2037 - accuracy: 0.6223 - val_loss: 1.1500 - val_accuracy: 0.6424\n",
      "Epoch 4/5\n",
      "36/36 [==============================] - 0s 671us/step - loss: 0.9576 - accuracy: 0.7180 - val_loss: 0.9833 - val_accuracy: 0.7083\n",
      "Epoch 5/5\n",
      "36/36 [==============================] - 0s 758us/step - loss: 0.8095 - accuracy: 0.7685 - val_loss: 0.8645 - val_accuracy: 0.7396\n",
      "12/12 - 0s - loss: 0.7132 - accuracy: 0.7806 - 51ms/epoch - 4ms/step\n"
     ]
    },
    {
     "name": "stderr",
     "output_type": "stream",
     "text": [
      "WARNING:absl:At this time, the v2.11+ optimizer `tf.keras.optimizers.SGD` runs slowly on M1/M2 Macs, please use the legacy Keras optimizer instead, located at `tf.keras.optimizers.legacy.SGD`.\n"
     ]
    },
    {
     "name": "stdout",
     "output_type": "stream",
     "text": [
      "Epoch 1/5\n",
      "36/36 [==============================] - 0s 2ms/step - loss: 5.4087 - accuracy: 0.0853 - val_loss: 4.7075 - val_accuracy: 0.0625\n",
      "Epoch 2/5\n",
      "36/36 [==============================] - 0s 722us/step - loss: 4.5679 - accuracy: 0.0766 - val_loss: 4.1592 - val_accuracy: 0.0799\n",
      "Epoch 3/5\n",
      "36/36 [==============================] - 0s 693us/step - loss: 4.1223 - accuracy: 0.0905 - val_loss: 3.8172 - val_accuracy: 0.1007\n",
      "Epoch 4/5\n",
      "36/36 [==============================] - 0s 694us/step - loss: 3.8190 - accuracy: 0.0966 - val_loss: 3.5722 - val_accuracy: 0.1215\n",
      "Epoch 5/5\n",
      "36/36 [==============================] - 0s 726us/step - loss: 3.5899 - accuracy: 0.1149 - val_loss: 3.3796 - val_accuracy: 0.1215\n",
      "12/12 - 0s - loss: 3.6214 - accuracy: 0.0944 - 52ms/epoch - 4ms/step\n"
     ]
    },
    {
     "name": "stderr",
     "output_type": "stream",
     "text": [
      "WARNING:absl:At this time, the v2.11+ optimizer `tf.keras.optimizers.SGD` runs slowly on M1/M2 Macs, please use the legacy Keras optimizer instead, located at `tf.keras.optimizers.legacy.SGD`.\n"
     ]
    },
    {
     "name": "stdout",
     "output_type": "stream",
     "text": [
      "Epoch 1/5\n",
      "36/36 [==============================] - 0s 2ms/step - loss: 1.3307 - accuracy: 0.6466 - val_loss: 0.4758 - val_accuracy: 0.8611\n",
      "Epoch 2/5\n",
      "36/36 [==============================] - 0s 743us/step - loss: 0.3352 - accuracy: 0.8903 - val_loss: 0.3375 - val_accuracy: 0.8889\n",
      "Epoch 3/5\n",
      "36/36 [==============================] - 0s 682us/step - loss: 0.2229 - accuracy: 0.9399 - val_loss: 0.2388 - val_accuracy: 0.9306\n",
      "Epoch 4/5\n",
      "36/36 [==============================] - 0s 683us/step - loss: 0.1423 - accuracy: 0.9617 - val_loss: 0.2135 - val_accuracy: 0.9479\n",
      "Epoch 5/5\n",
      "36/36 [==============================] - 0s 677us/step - loss: 0.1205 - accuracy: 0.9704 - val_loss: 0.2053 - val_accuracy: 0.9306\n",
      "12/12 - 0s - loss: 0.1598 - accuracy: 0.9444 - 50ms/epoch - 4ms/step\n"
     ]
    },
    {
     "name": "stderr",
     "output_type": "stream",
     "text": [
      "WARNING:absl:At this time, the v2.11+ optimizer `tf.keras.optimizers.SGD` runs slowly on M1/M2 Macs, please use the legacy Keras optimizer instead, located at `tf.keras.optimizers.legacy.SGD`.\n"
     ]
    },
    {
     "name": "stdout",
     "output_type": "stream",
     "text": [
      "Epoch 1/5\n",
      "36/36 [==============================] - 0s 2ms/step - loss: 2.5753 - accuracy: 0.3481 - val_loss: 1.9842 - val_accuracy: 0.4583\n",
      "Epoch 2/5\n",
      "36/36 [==============================] - 0s 2ms/step - loss: 3.0425 - accuracy: 0.1941 - val_loss: 2.3905 - val_accuracy: 0.1736\n",
      "Epoch 3/5\n",
      "36/36 [==============================] - 0s 696us/step - loss: 1.8952 - accuracy: 0.2811 - val_loss: 1.1859 - val_accuracy: 0.5903\n",
      "Epoch 4/5\n",
      "36/36 [==============================] - 0s 689us/step - loss: 1.1256 - accuracy: 0.6023 - val_loss: 1.3188 - val_accuracy: 0.4931\n",
      "Epoch 5/5\n",
      "36/36 [==============================] - 0s 680us/step - loss: 1.1139 - accuracy: 0.6188 - val_loss: 0.7293 - val_accuracy: 0.7604\n",
      "12/12 - 0s - loss: 0.7020 - accuracy: 0.7694 - 51ms/epoch - 4ms/step\n"
     ]
    },
    {
     "name": "stderr",
     "output_type": "stream",
     "text": [
      "WARNING:absl:At this time, the v2.11+ optimizer `tf.keras.optimizers.SGD` runs slowly on M1/M2 Macs, please use the legacy Keras optimizer instead, located at `tf.keras.optimizers.legacy.SGD`.\n"
     ]
    },
    {
     "name": "stdout",
     "output_type": "stream",
     "text": [
      "Epoch 1/5\n",
      "36/36 [==============================] - 0s 2ms/step - loss: 1.5289 - accuracy: 0.6475 - val_loss: 0.7906 - val_accuracy: 0.7708\n",
      "Epoch 2/5\n",
      "36/36 [==============================] - 0s 726us/step - loss: 0.2769 - accuracy: 0.9034 - val_loss: 0.3336 - val_accuracy: 0.9028\n",
      "Epoch 3/5\n",
      "36/36 [==============================] - 0s 718us/step - loss: 0.1466 - accuracy: 0.9547 - val_loss: 0.5566 - val_accuracy: 0.8646\n",
      "Epoch 4/5\n",
      "36/36 [==============================] - 0s 701us/step - loss: 0.1678 - accuracy: 0.9399 - val_loss: 0.2675 - val_accuracy: 0.9167\n",
      "Epoch 5/5\n",
      "36/36 [==============================] - 0s 694us/step - loss: 0.0722 - accuracy: 0.9782 - val_loss: 0.2654 - val_accuracy: 0.9201\n",
      "12/12 - 0s - loss: 0.1906 - accuracy: 0.9528 - 51ms/epoch - 4ms/step\n",
      "Default SGD Test Accuracy: 0.9306\n",
      "SGD with 0.001 Learning Rate Test Accuracy: 0.7806\n",
      "SGD with 0.0001 Learning Rate Test Accuracy: 0.0944\n",
      "SGD with 0.02 Learning Rate Test Accuracy: 0.9444\n",
      "SGD with 0.1 Learning Rate Test Accuracy: 0.7694\n",
      "SGD with Momentum (0.9) Test Accuracy: 0.9528\n"
     ]
    }
   ],
   "source": [
    "# Your code here - copy the relevant parts from the previous section and add more cells as needed\n",
    "\n",
    "from tensorflow.keras.optimizers import SGD\n",
    "\n",
    "def train_model(optimizer, epochs=5):\n",
    "    model = Sequential()\n",
    "    model.add(Dense(64, activation='relu', input_shape=(64,)))\n",
    "    model.add(Dense(64, activation='relu'))\n",
    "    model.add(Dense(10, activation='softmax'))\n",
    "\n",
    "    model.compile(loss='categorical_crossentropy', optimizer=optimizer, metrics=['accuracy'])\n",
    "    history = model.fit(X_train, y_train, epochs=epochs, batch_size=32, validation_split=0.2, verbose=1)\n",
    "    test_loss, test_accuracy = model.evaluate(X_test, y_test, verbose=2)\n",
    "    return history, test_accuracy\n",
    "\n",
    "# Default SGD optimizer with a learning rate of 0.01\n",
    "default_sgd = SGD(learning_rate=0.01)\n",
    "history_default, accuracy_default = train_model(default_sgd)\n",
    "\n",
    "# Decrease learning rate by a factor of 10\n",
    "sgd_lr_0_001 = SGD(learning_rate=0.001)\n",
    "history_lr_0_001, accuracy_lr_0_001 = train_model(sgd_lr_0_001)\n",
    "\n",
    "# Decrease learning rate by a factor of 100\n",
    "sgd_lr_0_0001 = SGD(learning_rate=0.0001)\n",
    "history_lr_0_0001, accuracy_lr_0_0001 = train_model(sgd_lr_0_0001)\n",
    "\n",
    "# Increase learning rate by a factor of 2\n",
    "sgd_lr_0_02 = SGD(learning_rate=0.02)\n",
    "history_lr_0_02, accuracy_lr_0_02 = train_model(sgd_lr_0_02)\n",
    "\n",
    "# Increase learning rate by a factor of 10\n",
    "sgd_lr_0_1 = SGD(learning_rate=0.1)\n",
    "history_lr_0_1, accuracy_lr_0_1 = train_model(sgd_lr_0_1)\n",
    "\n",
    "# SGD with momentum 0.9\n",
    "sgd_momentum = SGD(learning_rate=0.01, momentum=0.9)\n",
    "history_momentum, accuracy_momentum = train_model(sgd_momentum)\n",
    "\n",
    "# Print all results\n",
    "print(f\"Default SGD Test Accuracy: {accuracy_default:.4f}\")\n",
    "print(f\"SGD with 0.001 Learning Rate Test Accuracy: {accuracy_lr_0_001:.4f}\")\n",
    "print(f\"SGD with 0.0001 Learning Rate Test Accuracy: {accuracy_lr_0_0001:.4f}\")\n",
    "print(f\"SGD with 0.02 Learning Rate Test Accuracy: {accuracy_lr_0_02:.4f}\")\n",
    "print(f\"SGD with 0.1 Learning Rate Test Accuracy: {accuracy_lr_0_1:.4f}\")\n",
    "print(f\"SGD with Momentum (0.9) Test Accuracy: {accuracy_momentum:.4f}\")\n",
    "\n"
   ]
  },
  {
   "cell_type": "markdown",
   "metadata": {},
   "source": [
    "1. The default learning rate (0.01) already gave excellent results with high accuracy (96.67%).\n",
    "2. Decreasing the learning rate reduces model performance significantly, indicating sluggish convergence.\n",
    "3. A moderate increase in the learning rate (0.02) also gives a high accuracy, close to the default setting, but not better.\n",
    "4. Excessively increasing the learning rate (0.1) leads to poor performance, likely due to divergence or instability.\n",
    "5. Introducing momentum (0.9) with the default learning rate matches the performance of the default case."
   ]
  },
  {
   "cell_type": "markdown",
   "metadata": {},
   "source": [
    "Next, let's try a more advanced optimizer. Adam is likely the most popular optimizer for deep learning. It is an adaptive learning rate optimizer, which means that it automatically adjusts the learning rate based on how the training is going. This can be very useful, as it means that we don't need to manually tune the learning rate. Let's see how it performs on our model.\n",
    "\n",
    "\n",
    "1. Replace the SGD optimizer by the Adam optimizer from keras and run it\n",
    "  with the default parameters.\n",
    "2. Add another hidden layer with ReLU activation and 64 neurons. Does it improve the model performance?"
   ]
  },
  {
   "cell_type": "code",
   "execution_count": 56,
   "metadata": {},
   "outputs": [
    {
     "name": "stderr",
     "output_type": "stream",
     "text": [
      "WARNING:absl:At this time, the v2.11+ optimizer `tf.keras.optimizers.Adam` runs slowly on M1/M2 Macs, please use the legacy Keras optimizer instead, located at `tf.keras.optimizers.legacy.Adam`.\n"
     ]
    },
    {
     "name": "stdout",
     "output_type": "stream",
     "text": [
      "Epoch 1/10\n",
      "36/36 [==============================] - 0s 2ms/step - loss: 1.6898 - accuracy: 0.4874 - val_loss: 0.7213 - val_accuracy: 0.7812\n",
      "Epoch 2/10\n",
      "36/36 [==============================] - 0s 817us/step - loss: 0.4289 - accuracy: 0.8842 - val_loss: 0.3994 - val_accuracy: 0.8785\n",
      "Epoch 3/10\n",
      "36/36 [==============================] - 0s 793us/step - loss: 0.2669 - accuracy: 0.9243 - val_loss: 0.3036 - val_accuracy: 0.8958\n",
      "Epoch 4/10\n",
      "36/36 [==============================] - 0s 782us/step - loss: 0.1829 - accuracy: 0.9539 - val_loss: 0.2669 - val_accuracy: 0.9062\n",
      "Epoch 5/10\n",
      "36/36 [==============================] - 0s 794us/step - loss: 0.1320 - accuracy: 0.9695 - val_loss: 0.2162 - val_accuracy: 0.9271\n",
      "Epoch 6/10\n",
      "36/36 [==============================] - 0s 775us/step - loss: 0.1001 - accuracy: 0.9782 - val_loss: 0.2029 - val_accuracy: 0.9271\n",
      "Epoch 7/10\n",
      "36/36 [==============================] - 0s 769us/step - loss: 0.0784 - accuracy: 0.9817 - val_loss: 0.1684 - val_accuracy: 0.9375\n",
      "Epoch 8/10\n",
      "36/36 [==============================] - 0s 757us/step - loss: 0.0696 - accuracy: 0.9817 - val_loss: 0.1701 - val_accuracy: 0.9514\n",
      "Epoch 9/10\n",
      "36/36 [==============================] - 0s 768us/step - loss: 0.0475 - accuracy: 0.9896 - val_loss: 0.1397 - val_accuracy: 0.9653\n",
      "Epoch 10/10\n",
      "36/36 [==============================] - 0s 775us/step - loss: 0.0340 - accuracy: 0.9930 - val_loss: 0.1292 - val_accuracy: 0.9653\n",
      "12/12 - 0s - loss: 0.0978 - accuracy: 0.9694 - 54ms/epoch - 4ms/step\n",
      "Adam Optimizer with Additional Hidden Layer - Test Accuracy: 0.9694\n",
      "Adam Optimizer with Additional Hidden Layer - Test Loss: 0.1292\n"
     ]
    }
   ],
   "source": [
    "# Function to train the model with given optimizer and epochs\n",
    "from tensorflow.keras.optimizers import Adam\n",
    "def train_model(optimizer, epochs=10):\n",
    "    model = Sequential()\n",
    "    model.add(Dense(64, activation='relu', input_shape=(64,)))\n",
    "    model.add(Dense(64, activation='relu'))\n",
    "    \n",
    "    # Adding another hidden layer\n",
    "    model.add(Dense(64, activation='relu'))\n",
    "    \n",
    "    model.add(Dense(10, activation='softmax'))\n",
    "\n",
    "    model.compile(loss='categorical_crossentropy', optimizer=optimizer, metrics=['accuracy'])\n",
    "    history = model.fit(X_train, y_train, epochs=epochs, batch_size=32, validation_split=0.2, verbose=1)\n",
    "    test_loss, test_accuracy = model.evaluate(X_test, y_test, verbose=2)\n",
    "    return history, test_accuracy\n",
    "\n",
    "# Adam optimizer with default parameters\n",
    "adam_optimizer = Adam()\n",
    "\n",
    "# Train the model with Adam optimizer and additional hidden layer\n",
    "history_adam, accuracy_adam = train_model(adam_optimizer)\n",
    "\n",
    "print(f\"Adam Optimizer with Additional Hidden Layer - Test Accuracy: {accuracy_adam:.4f}\")\n",
    "print(f\"Adam Optimizer with Additional Hidden Layer - Test Loss: {history_adam.history['val_loss'][-1]:.4f}\")"
   ]
  },
  {
   "cell_type": "markdown",
   "metadata": {},
   "source": [
    "1. Accuracy: With Adam and the additional hidden layer, the accuracy remains the same (96.67%) compared to using SGD with or without momentum.\n",
    "2. Loss: The test loss increased slightly to 0.1287 from 0.10."
   ]
  },
  {
   "cell_type": "code",
   "execution_count": 57,
   "metadata": {},
   "outputs": [
    {
     "name": "stderr",
     "output_type": "stream",
     "text": [
      "WARNING:absl:At this time, the v2.11+ optimizer `tf.keras.optimizers.Adam` runs slowly on M1/M2 Macs, please use the legacy Keras optimizer instead, located at `tf.keras.optimizers.legacy.Adam`.\n"
     ]
    },
    {
     "name": "stdout",
     "output_type": "stream",
     "text": [
      "Epoch 1/10\n",
      "36/36 [==============================] - 0s 2ms/step - loss: 1.8326 - accuracy: 0.4534 - val_loss: 0.8464 - val_accuracy: 0.7396\n",
      "Epoch 2/10\n",
      "36/36 [==============================] - 0s 814us/step - loss: 0.5294 - accuracy: 0.8529 - val_loss: 0.3906 - val_accuracy: 0.8889\n",
      "Epoch 3/10\n",
      "36/36 [==============================] - 0s 758us/step - loss: 0.2609 - accuracy: 0.9156 - val_loss: 0.2497 - val_accuracy: 0.9132\n",
      "Epoch 4/10\n",
      "36/36 [==============================] - 0s 752us/step - loss: 0.1686 - accuracy: 0.9487 - val_loss: 0.2201 - val_accuracy: 0.9271\n",
      "Epoch 5/10\n",
      "36/36 [==============================] - 0s 737us/step - loss: 0.1226 - accuracy: 0.9695 - val_loss: 0.1805 - val_accuracy: 0.9340\n",
      "Epoch 6/10\n",
      "36/36 [==============================] - 0s 733us/step - loss: 0.0842 - accuracy: 0.9817 - val_loss: 0.1548 - val_accuracy: 0.9444\n",
      "Epoch 7/10\n",
      "36/36 [==============================] - 0s 741us/step - loss: 0.0659 - accuracy: 0.9878 - val_loss: 0.1415 - val_accuracy: 0.9444\n",
      "Epoch 8/10\n",
      "36/36 [==============================] - 0s 746us/step - loss: 0.0530 - accuracy: 0.9878 - val_loss: 0.1450 - val_accuracy: 0.9444\n",
      "Epoch 9/10\n",
      "36/36 [==============================] - 0s 774us/step - loss: 0.0463 - accuracy: 0.9896 - val_loss: 0.1243 - val_accuracy: 0.9410\n",
      "Epoch 10/10\n",
      "36/36 [==============================] - 0s 772us/step - loss: 0.0423 - accuracy: 0.9922 - val_loss: 0.1257 - val_accuracy: 0.9514\n"
     ]
    },
    {
     "data": {
      "text/plain": [
       "<keras.src.callbacks.History at 0x30fcb6370>"
      ]
     },
     "execution_count": 57,
     "metadata": {},
     "output_type": "execute_result"
    }
   ],
   "source": [
    "def get_best_model():\n",
    "    model = Sequential()\n",
    "    model.add(Dense(64, activation='relu', input_shape=(64,)))\n",
    "    model.add(Dense(64, activation='relu'))\n",
    "    model.add(Dense(64, activation='relu'))  # Additional hidden layer\n",
    "    model.add(Dense(10, activation='softmax'))\n",
    "\n",
    "    model.compile(loss='categorical_crossentropy', optimizer=Adam(), metrics=['accuracy'])\n",
    "    return model\n",
    "\n",
    "# Train the best model\n",
    "model = get_best_model()\n",
    "model.fit(X_train, y_train, epochs=10, batch_size=32, validation_split=0.2, verbose=1)"
   ]
  },
  {
   "cell_type": "markdown",
   "metadata": {},
   "source": [
    "### Exercises: Forward Pass and Generalization\n",
    "\n",
    "Let's look in more detail at how the model makes predictions on the test set. We will walk through each step of making predictions, examining exactly what's going on.\n",
    "\n",
    "To start, we will apply our model to the test set, and look at what we get as output:"
   ]
  },
  {
   "cell_type": "code",
   "execution_count": 58,
   "metadata": {},
   "outputs": [
    {
     "data": {
      "text/plain": [
       "<tf.Tensor: shape=(5, 10), dtype=float32, numpy=\n",
       "array([[7.0805214e-07, 5.8873123e-08, 1.6647574e-07, 1.0412730e-09,\n",
       "        1.4212631e-07, 1.9639267e-10, 9.9982965e-01, 6.2196022e-09,\n",
       "        1.6922152e-04, 5.5007168e-09],\n",
       "       [2.5966094e-05, 4.9870350e-06, 5.0233602e-06, 6.9729082e-04,\n",
       "        8.0764048e-06, 1.1655489e-02, 4.1993800e-08, 3.3465953e-04,\n",
       "        1.0879756e-04, 9.8715961e-01],\n",
       "       [4.1966242e-08, 3.1483392e-05, 2.0109449e-06, 9.9879175e-01,\n",
       "        1.4425684e-07, 1.5665065e-04, 2.8209607e-07, 1.5060843e-05,\n",
       "        4.7403457e-05, 9.5525850e-04],\n",
       "       [1.9279389e-03, 9.9323319e-05, 5.8297638e-04, 7.7039900e-04,\n",
       "        5.0529875e-03, 1.7065743e-03, 8.9487967e-06, 9.8021358e-01,\n",
       "        9.6927187e-04, 8.6679682e-03],\n",
       "       [5.8125326e-05, 3.6778895e-04, 9.9102694e-01, 4.0119370e-03,\n",
       "        6.0455528e-07, 2.8976110e-05, 4.0922808e-03, 8.3663269e-07,\n",
       "        4.0541525e-04, 7.1588465e-06]], dtype=float32)>"
      ]
     },
     "execution_count": 58,
     "metadata": {},
     "output_type": "execute_result"
    }
   ],
   "source": [
    "predictions_tf = model(X_test)\n",
    "predictions_tf[:5]"
   ]
  },
  {
   "cell_type": "code",
   "execution_count": 59,
   "metadata": {},
   "outputs": [
    {
     "data": {
      "text/plain": [
       "(tensorflow.python.framework.ops.EagerTensor, TensorShape([360, 10]))"
      ]
     },
     "execution_count": 59,
     "metadata": {},
     "output_type": "execute_result"
    }
   ],
   "source": [
    "type(predictions_tf), predictions_tf.shape"
   ]
  },
  {
   "cell_type": "markdown",
   "metadata": {},
   "source": [
    "The raw output of the model is a tensor of shape `(360, 10)`. This means that we have 360 samples, and for each sample we have 10 values. Each of these values represents the probability that the sample belongs to a given class. This means that we have 10 probabilities for each sample, and the sum of these probabilities is 1. We can confirm this by summing the probabilities for each sample:"
   ]
  },
  {
   "cell_type": "code",
   "execution_count": 60,
   "metadata": {},
   "outputs": [
    {
     "data": {
      "text/plain": [
       "<tf.Tensor: shape=(5,), dtype=float32, numpy=\n",
       "array([0.99999994, 0.99999994, 1.        , 0.99999994, 1.        ],\n",
       "      dtype=float32)>"
      ]
     },
     "execution_count": 60,
     "metadata": {},
     "output_type": "execute_result"
    }
   ],
   "source": [
    "import tensorflow as tf\n",
    "\n",
    "tf.reduce_sum(predictions_tf, axis=1)[:5]"
   ]
  },
  {
   "cell_type": "markdown",
   "metadata": {
    "collapsed": false
   },
   "source": [
    "...okay, there might be a small rounding error here and there. This is to do with how floating point numbers are represented in computers, and it's not something we need to worry about for now."
   ]
  },
  {
   "cell_type": "markdown",
   "metadata": {},
   "source": [
    "We can also extract the label with the highest probability using the tensorflow API:"
   ]
  },
  {
   "cell_type": "code",
   "execution_count": 61,
   "metadata": {},
   "outputs": [
    {
     "data": {
      "text/plain": [
       "<tf.Tensor: shape=(5,), dtype=int64, numpy=array([6, 9, 3, 7, 2])>"
      ]
     },
     "execution_count": 61,
     "metadata": {},
     "output_type": "execute_result"
    }
   ],
   "source": [
    "predicted_labels_tf = tf.argmax(predictions_tf, axis=1)\n",
    "predicted_labels_tf[:5]"
   ]
  },
  {
   "cell_type": "markdown",
   "metadata": {
    "collapsed": false
   },
   "source": [
    "One helpful aspect of this approach is that we don't just get the prediction, but also a sense of how confident the model is in its prediction. To see this in practice, let's take a look at some of the predictions the model is highly confident about (i.e. a lot of the probability mass is on one class):"
   ]
  },
  {
   "cell_type": "code",
   "execution_count": 62,
   "metadata": {
    "collapsed": false
   },
   "outputs": [
    {
     "data": {
      "image/png": "[encoded data removed]",
      "text/plain": [
       "<Figure size 600x600 with 9 Axes>"
      ]
     },
     "metadata": {},
     "output_type": "display_data"
    }
   ],
   "source": [
    "# Get the values corresponding to the predicted labels for each sample\n",
    "predicted_values_tf = tf.reduce_max(predictions_tf, axis=1)\n",
    "\n",
    "# Get the indices of the samples with the highest predicted values\n",
    "most_confident_indices_tf = tf.argsort(predicted_values_tf, direction='DESCENDING').numpy()[:9]\n",
    "\n",
    "# Get the 9 most confident samples\n",
    "most_confident_samples_tf = X_test[most_confident_indices_tf]\n",
    "\n",
    "# Get the true labels for the 9 most confident samples\n",
    "most_confident_labels_tf = np.argmax(y_test[most_confident_indices_tf], axis=1)\n",
    "\n",
    "# Plot the 9 most confident samples\n",
    "fig, axes = plt.subplots(3, 3, figsize=(6, 6))\n",
    "\n",
    "for i, ax in enumerate(axes.flat):\n",
    "    ax.imshow(most_confident_samples_tf[i].reshape(8, 8), cmap=plt.cm.gray_r, interpolation='nearest')\n",
    "    ax.set_title(f\"{most_confident_labels_tf[i]}\")\n",
    "\n",
    "    # Removing axis labels\n",
    "    ax.set_xticks([])\n",
    "    ax.set_yticks([])\n",
    "    \n",
    "plt.show()"
   ]
  },
  {
   "cell_type": "markdown",
   "metadata": {},
   "source": [
    "## Impact of Initialization\n",
    "\n",
    "Let's study the impact of a bad initialization when training\n",
    "a deep feed forward network.\n",
    "\n",
    "By default, Keras dense layers use the \"Glorot Uniform\" initialization\n",
    "strategy to initialize the weight matrices:\n",
    "\n",
    "- each weight coefficient is randomly sampled from [-scale, scale]\n",
    "- scale is proportional to $\\frac{1}{\\sqrt{n_{in} + n_{out}}}$\n",
    "\n",
    "This strategy is known to work well to initialize deep neural networks\n",
    "with \"tanh\" or \"relu\" activation functions and then trained with\n",
    "standard SGD.\n",
    "\n",
    "To assess the impact of initialization let us plug an alternative init\n",
    "scheme into a 2 hidden layers networks with \"tanh\" activations.\n",
    "For the sake of the example let's use normal distributed weights\n",
    "with a manually adjustable scale (standard deviation) and see the\n",
    "impact the scale value:"
   ]
  },
  {
   "cell_type": "code",
   "execution_count": 63,
   "metadata": {},
   "outputs": [
    {
     "name": "stderr",
     "output_type": "stream",
     "text": [
      "WARNING:absl:At this time, the v2.11+ optimizer `tf.keras.optimizers.SGD` runs slowly on M1/M2 Macs, please use the legacy Keras optimizer instead, located at `tf.keras.optimizers.legacy.SGD`.\n"
     ]
    }
   ],
   "source": [
    "from tensorflow.keras import initializers\n",
    "from tensorflow.keras import optimizers\n",
    "\n",
    "input_dim = 64\n",
    "hidden_dim = 64\n",
    "output_dim = 10\n",
    "\n",
    "normal_init = initializers.TruncatedNormal(stddev=0.01, seed=42)\n",
    "\n",
    "model = Sequential()\n",
    "model.add(Dense(hidden_dim, input_dim=input_dim, activation=\"tanh\",\n",
    "                kernel_initializer=normal_init))\n",
    "model.add(Dense(hidden_dim, activation=\"tanh\",\n",
    "                kernel_initializer=normal_init))\n",
    "model.add(Dense(output_dim, activation=\"softmax\",\n",
    "                kernel_initializer=normal_init))\n",
    "\n",
    "model.compile(optimizer=optimizers.SGD(learning_rate=0.6),\n",
    "              loss='categorical_crossentropy', metrics=['accuracy'])"
   ]
  },
  {
   "cell_type": "code",
   "execution_count": 64,
   "metadata": {},
   "outputs": [
    {
     "data": {
      "text/plain": [
       "[<keras.src.layers.core.dense.Dense at 0x30f9fbbb0>,\n",
       " <keras.src.layers.core.dense.Dense at 0x30fca2d90>,\n",
       " <keras.src.layers.core.dense.Dense at 0x314394490>]"
      ]
     },
     "execution_count": 64,
     "metadata": {},
     "output_type": "execute_result"
    }
   ],
   "source": [
    "model.layers"
   ]
  },
  {
   "cell_type": "markdown",
   "metadata": {},
   "source": [
    "Let's have a look at the parameters of the first layer after initialization but before any training has happened:"
   ]
  },
  {
   "cell_type": "code",
   "execution_count": 65,
   "metadata": {},
   "outputs": [
    {
     "data": {
      "text/plain": [
       "[<tf.Variable 'dense_67/kernel:0' shape=(64, 64) dtype=float32, numpy=\n",
       " array([[ 0.00015817, -0.01590087,  0.00103594, ...,  0.00962818,\n",
       "          0.00624957,  0.00994726],\n",
       "        [ 0.0081879 ,  0.00756818, -0.00668142, ...,  0.01084459,\n",
       "         -0.00317478, -0.00549116],\n",
       "        [-0.00086618, -0.00287623,  0.00391693, ...,  0.00064558,\n",
       "         -0.00420471,  0.00174566],\n",
       "        ...,\n",
       "        [-0.0029006 , -0.0091218 ,  0.00804327, ..., -0.01407086,\n",
       "          0.00952832, -0.01348555],\n",
       "        [ 0.00375078,  0.00967842,  0.00098119, ..., -0.00413454,\n",
       "          0.01695471,  0.00025196],\n",
       "        [ 0.00459809,  0.01223094, -0.00213172, ...,  0.01246831,\n",
       "         -0.00714749, -0.00868595]], dtype=float32)>,\n",
       " <tf.Variable 'dense_67/bias:0' shape=(64,) dtype=float32, numpy=\n",
       " array([0., 0., 0., 0., 0., 0., 0., 0., 0., 0., 0., 0., 0., 0., 0., 0., 0.,\n",
       "        0., 0., 0., 0., 0., 0., 0., 0., 0., 0., 0., 0., 0., 0., 0., 0., 0.,\n",
       "        0., 0., 0., 0., 0., 0., 0., 0., 0., 0., 0., 0., 0., 0., 0., 0., 0.,\n",
       "        0., 0., 0., 0., 0., 0., 0., 0., 0., 0., 0., 0., 0.], dtype=float32)>]"
      ]
     },
     "execution_count": 65,
     "metadata": {},
     "output_type": "execute_result"
    }
   ],
   "source": [
    "model.layers[0].weights"
   ]
  },
  {
   "cell_type": "code",
   "execution_count": 66,
   "metadata": {},
   "outputs": [
    {
     "data": {
      "text/plain": [
       "array([[ 0.00015817, -0.01590087,  0.00103594, ...,  0.00962818,\n",
       "         0.00624957,  0.00994726],\n",
       "       [ 0.0081879 ,  0.00756818, -0.00668142, ...,  0.01084459,\n",
       "        -0.00317478, -0.00549116],\n",
       "       [-0.00086618, -0.00287623,  0.00391693, ...,  0.00064558,\n",
       "        -0.00420471,  0.00174566],\n",
       "       ...,\n",
       "       [-0.0029006 , -0.0091218 ,  0.00804327, ..., -0.01407086,\n",
       "         0.00952832, -0.01348555],\n",
       "       [ 0.00375078,  0.00967842,  0.00098119, ..., -0.00413454,\n",
       "         0.01695471,  0.00025196],\n",
       "       [ 0.00459809,  0.01223094, -0.00213172, ...,  0.01246831,\n",
       "        -0.00714749, -0.00868595]], dtype=float32)"
      ]
     },
     "execution_count": 66,
     "metadata": {},
     "output_type": "execute_result"
    }
   ],
   "source": [
    "w = model.layers[0].weights[0].numpy()\n",
    "w"
   ]
  },
  {
   "cell_type": "code",
   "execution_count": 67,
   "metadata": {},
   "outputs": [
    {
     "data": {
      "text/plain": [
       "0.008835949"
      ]
     },
     "execution_count": 67,
     "metadata": {},
     "output_type": "execute_result"
    }
   ],
   "source": [
    "w.std()"
   ]
  },
  {
   "cell_type": "code",
   "execution_count": 68,
   "metadata": {},
   "outputs": [
    {
     "data": {
      "text/plain": [
       "array([0., 0., 0., 0., 0., 0., 0., 0., 0., 0., 0., 0., 0., 0., 0., 0., 0.,\n",
       "       0., 0., 0., 0., 0., 0., 0., 0., 0., 0., 0., 0., 0., 0., 0., 0., 0.,\n",
       "       0., 0., 0., 0., 0., 0., 0., 0., 0., 0., 0., 0., 0., 0., 0., 0., 0.,\n",
       "       0., 0., 0., 0., 0., 0., 0., 0., 0., 0., 0., 0., 0.], dtype=float32)"
      ]
     },
     "execution_count": 68,
     "metadata": {},
     "output_type": "execute_result"
    }
   ],
   "source": [
    "b = model.layers[0].weights[1].numpy()\n",
    "b"
   ]
  },
  {
   "cell_type": "code",
   "execution_count": 69,
   "metadata": {},
   "outputs": [
    {
     "name": "stdout",
     "output_type": "stream",
     "text": [
      "Epoch 1/15\n",
      "45/45 [==============================] - 0s 427us/step - loss: 2.9904 - accuracy: 0.1552\n",
      "Epoch 2/15\n",
      "45/45 [==============================] - 0s 392us/step - loss: 10.7095 - accuracy: 0.1072\n",
      "Epoch 3/15\n",
      "45/45 [==============================] - 0s 377us/step - loss: 12.0983 - accuracy: 0.1044\n",
      "Epoch 4/15\n",
      "45/45 [==============================] - 0s 369us/step - loss: 13.0162 - accuracy: 0.0960\n",
      "Epoch 5/15\n",
      "45/45 [==============================] - 0s 369us/step - loss: 11.5425 - accuracy: 0.1002\n",
      "Epoch 6/15\n",
      "45/45 [==============================] - 0s 394us/step - loss: 12.4873 - accuracy: 0.0988\n",
      "Epoch 7/15\n",
      "45/45 [==============================] - 0s 389us/step - loss: 12.0132 - accuracy: 0.1016\n",
      "Epoch 8/15\n",
      "45/45 [==============================] - 0s 394us/step - loss: 11.2360 - accuracy: 0.1058\n",
      "Epoch 9/15\n",
      "45/45 [==============================] - 0s 384us/step - loss: 11.6078 - accuracy: 0.1037\n",
      "Epoch 10/15\n",
      "45/45 [==============================] - 0s 378us/step - loss: 11.1890 - accuracy: 0.1037\n",
      "Epoch 11/15\n",
      "45/45 [==============================] - 0s 400us/step - loss: 13.2169 - accuracy: 0.0981\n",
      "Epoch 12/15\n",
      "45/45 [==============================] - 0s 404us/step - loss: 11.3270 - accuracy: 0.1190\n",
      "Epoch 13/15\n",
      "45/45 [==============================] - 0s 450us/step - loss: 14.2395 - accuracy: 0.0953\n",
      "Epoch 14/15\n",
      "45/45 [==============================] - 0s 439us/step - loss: 12.0886 - accuracy: 0.0974\n",
      "Epoch 15/15\n",
      "45/45 [==============================] - 0s 1ms/step - loss: 10.5870 - accuracy: 0.1058\n"
     ]
    },
    {
     "data": {
      "image/png": "[encoded data removed]",
      "text/plain": [
       "<Figure size 1200x400 with 1 Axes>"
      ]
     },
     "metadata": {},
     "output_type": "display_data"
    }
   ],
   "source": [
    "history = model.fit(X_train, y_train, epochs=15, batch_size=32)\n",
    "\n",
    "plt.figure(figsize=(12, 4))\n",
    "plt.plot(history.history['loss'], label=\"Truncated Normal init\")\n",
    "plt.legend();"
   ]
  },
  {
   "cell_type": "markdown",
   "metadata": {},
   "source": [
    "Once the model has been fit, the weights have been updated and notably the biases are no longer 0:"
   ]
  },
  {
   "cell_type": "code",
   "execution_count": 70,
   "metadata": {},
   "outputs": [
    {
     "data": {
      "text/plain": [
       "[<tf.Variable 'dense_67/kernel:0' shape=(64, 64) dtype=float32, numpy=\n",
       " array([[ 1.58170762e-04, -1.59008689e-02,  1.03594456e-03, ...,\n",
       "          9.62818228e-03,  6.24957308e-03,  9.94726177e-03],\n",
       "        [ 1.45254815e-02,  1.83974467e-02, -3.57849034e-03, ...,\n",
       "          6.77439664e-03, -1.95417870e-02, -9.23553389e-03],\n",
       "        [ 7.48163089e-02,  1.16632134e-01,  3.14767547e-02, ...,\n",
       "         -4.27654050e-02, -1.68040007e-01, -1.48797194e-02],\n",
       "        ...,\n",
       "        [ 5.08903563e-02, -7.96814263e-02,  3.58586982e-02, ...,\n",
       "          9.13905501e-02,  6.33244738e-02, -3.05873845e-02],\n",
       "        [ 3.39210927e-02,  1.66674156e-03,  2.37217564e-02, ...,\n",
       "          1.98464785e-02,  5.23104370e-02, -8.88804067e-03],\n",
       "        [ 1.39447376e-02,  3.14334668e-02,  2.38453993e-03, ...,\n",
       "         -9.22707433e-04, -7.36571709e-03, -1.13160536e-02]], dtype=float32)>,\n",
       " <tf.Variable 'dense_67/bias:0' shape=(64,) dtype=float32, numpy=\n",
       " array([ 0.00448819,  0.01040099,  0.00267943, -0.00325633, -0.00505244,\n",
       "        -0.01137546, -0.00519792,  0.00523177,  0.01229694,  0.00408292,\n",
       "        -0.00820884,  0.00315697, -0.00289076,  0.01065536, -0.0049877 ,\n",
       "         0.0051794 , -0.00449191,  0.00707016,  0.00610847, -0.00937445,\n",
       "         0.0097995 , -0.00839154, -0.00609773, -0.00598262, -0.00325295,\n",
       "         0.00440986,  0.00624444, -0.00546802,  0.00460668, -0.00860527,\n",
       "        -0.00423245,  0.00355799, -0.00442063,  0.00233803,  0.00439764,\n",
       "        -0.00260088,  0.00307163, -0.00459416, -0.00308105,  0.01150685,\n",
       "         0.00744412,  0.00728761,  0.00345148, -0.0058372 , -0.00464838,\n",
       "         0.01382705, -0.00469899, -0.0046144 ,  0.00372635,  0.00340838,\n",
       "        -0.00612152,  0.00650727, -0.00413169, -0.00624181,  0.00769687,\n",
       "         0.00390163, -0.00783117,  0.00789994,  0.00875708,  0.00349806,\n",
       "         0.00270701,  0.00720988, -0.01132872,  0.00336709], dtype=float32)>]"
      ]
     },
     "execution_count": 70,
     "metadata": {},
     "output_type": "execute_result"
    }
   ],
   "source": [
    "model.layers[0].weights"
   ]
  },
  {
   "cell_type": "markdown",
   "metadata": {},
   "source": [
    "#### Questions:\n",
    "\n",
    "- Try the following initialization schemes and see whether\n",
    "  the SGD algorithm can successfully train the network or\n",
    "  not:\n",
    "  \n",
    "  - a very small e.g. `stddev=1e-3`\n",
    "  - a larger scale e.g. `stddev=1` or `10`\n",
    "  - initialize all weights to 0 (constant initialization)\n",
    "  \n",
    "- What do you observe? Can you find an explanation for those\n",
    "  outcomes?\n",
    "\n",
    "- Are more advanced solvers such as SGD with momentum or Adam able\n",
    "  to deal better with such bad initializations?"
   ]
  },
  {
   "cell_type": "code",
   "execution_count": 71,
   "metadata": {},
   "outputs": [
    {
     "name": "stderr",
     "output_type": "stream",
     "text": [
      "WARNING:absl:At this time, the v2.11+ optimizer `tf.keras.optimizers.SGD` runs slowly on M1/M2 Macs, please use the legacy Keras optimizer instead, located at `tf.keras.optimizers.legacy.SGD`.\n"
     ]
    },
    {
     "name": "stdout",
     "output_type": "stream",
     "text": [
      "Epoch 1/10\n",
      "36/36 [==============================] - 0s 2ms/step - loss: 2.3064 - accuracy: 0.1018 - val_loss: 2.3084 - val_accuracy: 0.0868\n",
      "Epoch 2/10\n",
      "36/36 [==============================] - 0s 827us/step - loss: 2.3082 - accuracy: 0.0879 - val_loss: 2.2999 - val_accuracy: 0.0833\n",
      "Epoch 3/10\n",
      "36/36 [==============================] - 0s 772us/step - loss: 2.2649 - accuracy: 0.1323 - val_loss: 2.2196 - val_accuracy: 0.1181\n",
      "Epoch 4/10\n",
      "36/36 [==============================] - 0s 724us/step - loss: 2.1361 - accuracy: 0.1889 - val_loss: 1.8825 - val_accuracy: 0.1910\n",
      "Epoch 5/10\n",
      "36/36 [==============================] - 0s 723us/step - loss: 2.3222 - accuracy: 0.1514 - val_loss: 2.4162 - val_accuracy: 0.1007\n",
      "Epoch 6/10\n",
      "36/36 [==============================] - 0s 743us/step - loss: 2.2025 - accuracy: 0.1793 - val_loss: 2.3136 - val_accuracy: 0.1701\n",
      "Epoch 7/10\n",
      "36/36 [==============================] - 0s 698us/step - loss: 2.2484 - accuracy: 0.2019 - val_loss: 3.0790 - val_accuracy: 0.1806\n",
      "Epoch 8/10\n",
      "36/36 [==============================] - 0s 691us/step - loss: 5.5221 - accuracy: 0.1532 - val_loss: 8.5159 - val_accuracy: 0.0868\n",
      "Epoch 9/10\n",
      "36/36 [==============================] - 0s 703us/step - loss: 10.0620 - accuracy: 0.1358 - val_loss: 10.3182 - val_accuracy: 0.1007\n",
      "Epoch 10/10\n",
      "36/36 [==============================] - 0s 683us/step - loss: 9.6991 - accuracy: 0.1471 - val_loss: 8.6927 - val_accuracy: 0.1042\n",
      "12/12 [==============================] - 0s 1ms/step - loss: 8.7903 - accuracy: 0.0944\n",
      "Test accuracy with small initialization (stddev=1e-3): 0.0944\n",
      "Test loss with small initialization (stddev=1e-3): 8.7903\n"
     ]
    },
    {
     "name": "stderr",
     "output_type": "stream",
     "text": [
      "WARNING:absl:At this time, the v2.11+ optimizer `tf.keras.optimizers.SGD` runs slowly on M1/M2 Macs, please use the legacy Keras optimizer instead, located at `tf.keras.optimizers.legacy.SGD`.\n"
     ]
    },
    {
     "name": "stdout",
     "output_type": "stream",
     "text": [
      "Epoch 1/10\n",
      "36/36 [==============================] - 0s 2ms/step - loss: 9.4351 - accuracy: 0.1314 - val_loss: 8.9863 - val_accuracy: 0.1528\n",
      "Epoch 2/10\n",
      "36/36 [==============================] - 0s 797us/step - loss: 10.7935 - accuracy: 0.1149 - val_loss: 11.5231 - val_accuracy: 0.1840\n",
      "Epoch 3/10\n",
      "36/36 [==============================] - 0s 749us/step - loss: 10.1767 - accuracy: 0.1453 - val_loss: 11.6948 - val_accuracy: 0.0625\n",
      "Epoch 4/10\n",
      "36/36 [==============================] - 0s 2ms/step - loss: 10.2272 - accuracy: 0.1332 - val_loss: 13.4047 - val_accuracy: 0.1562\n",
      "Epoch 5/10\n",
      "36/36 [==============================] - 0s 762us/step - loss: 11.7062 - accuracy: 0.1253 - val_loss: 7.1749 - val_accuracy: 0.2396\n",
      "Epoch 6/10\n",
      "36/36 [==============================] - 0s 756us/step - loss: 8.6292 - accuracy: 0.1584 - val_loss: 10.4696 - val_accuracy: 0.1597\n",
      "Epoch 7/10\n",
      "36/36 [==============================] - 0s 739us/step - loss: 10.8878 - accuracy: 0.1271 - val_loss: 7.6654 - val_accuracy: 0.1528\n",
      "Epoch 8/10\n",
      "36/36 [==============================] - 0s 734us/step - loss: 10.0996 - accuracy: 0.1236 - val_loss: 10.7980 - val_accuracy: 0.1215\n",
      "Epoch 9/10\n",
      "36/36 [==============================] - 0s 762us/step - loss: 11.1420 - accuracy: 0.1227 - val_loss: 15.1173 - val_accuracy: 0.0938\n",
      "Epoch 10/10\n",
      "36/36 [==============================] - 0s 728us/step - loss: 10.6802 - accuracy: 0.1253 - val_loss: 17.4862 - val_accuracy: 0.1076\n",
      "12/12 [==============================] - 0s 490us/step - loss: 17.2364 - accuracy: 0.0833\n"
     ]
    },
    {
     "name": "stderr",
     "output_type": "stream",
     "text": [
      "WARNING:absl:At this time, the v2.11+ optimizer `tf.keras.optimizers.SGD` runs slowly on M1/M2 Macs, please use the legacy Keras optimizer instead, located at `tf.keras.optimizers.legacy.SGD`.\n"
     ]
    },
    {
     "name": "stdout",
     "output_type": "stream",
     "text": [
      "Test accuracy with large initialization (stddev=1): 0.0833\n",
      "Test loss with large initialization (stddev=1): 17.2364\n",
      "Epoch 1/10\n",
      "36/36 [==============================] - 0s 2ms/step - loss: 62.8210 - accuracy: 0.1445 - val_loss: 40.7458 - val_accuracy: 0.1875\n",
      "Epoch 2/10\n",
      "36/36 [==============================] - 0s 787us/step - loss: 28.0171 - accuracy: 0.2454 - val_loss: 20.0143 - val_accuracy: 0.1875\n",
      "Epoch 3/10\n",
      "36/36 [==============================] - 0s 753us/step - loss: 16.8475 - accuracy: 0.2254 - val_loss: 14.3685 - val_accuracy: 0.2604\n",
      "Epoch 4/10\n",
      "36/36 [==============================] - 0s 751us/step - loss: 12.9721 - accuracy: 0.2045 - val_loss: 10.6922 - val_accuracy: 0.1354\n",
      "Epoch 5/10\n",
      "36/36 [==============================] - 0s 767us/step - loss: 11.7084 - accuracy: 0.1384 - val_loss: 9.0249 - val_accuracy: 0.1806\n",
      "Epoch 6/10\n",
      "36/36 [==============================] - 0s 728us/step - loss: 12.0212 - accuracy: 0.1192 - val_loss: 10.6471 - val_accuracy: 0.0799\n",
      "Epoch 7/10\n",
      "36/36 [==============================] - 0s 756us/step - loss: 10.9564 - accuracy: 0.1201 - val_loss: 12.3580 - val_accuracy: 0.1042\n",
      "Epoch 8/10\n",
      "36/36 [==============================] - 0s 760us/step - loss: 10.6947 - accuracy: 0.1245 - val_loss: 12.4641 - val_accuracy: 0.0938\n",
      "Epoch 9/10\n",
      "36/36 [==============================] - 0s 739us/step - loss: 12.3461 - accuracy: 0.1123 - val_loss: 9.7334 - val_accuracy: 0.1354\n",
      "Epoch 10/10\n",
      "36/36 [==============================] - 0s 742us/step - loss: 10.5427 - accuracy: 0.1375 - val_loss: 12.8241 - val_accuracy: 0.1042\n",
      "12/12 [==============================] - 0s 551us/step - loss: 13.0461 - accuracy: 0.1167\n"
     ]
    },
    {
     "name": "stderr",
     "output_type": "stream",
     "text": [
      "WARNING:absl:At this time, the v2.11+ optimizer `tf.keras.optimizers.SGD` runs slowly on M1/M2 Macs, please use the legacy Keras optimizer instead, located at `tf.keras.optimizers.legacy.SGD`.\n"
     ]
    },
    {
     "name": "stdout",
     "output_type": "stream",
     "text": [
      "Test accuracy with very large initialization (stddev=10): 0.1167\n",
      "Test loss with very large initialization (stddev=10): 13.0461\n",
      "Epoch 1/10\n",
      "36/36 [==============================] - 0s 2ms/step - loss: 2.3081 - accuracy: 0.0879 - val_loss: 2.3081 - val_accuracy: 0.0833\n",
      "Epoch 2/10\n",
      "36/36 [==============================] - 0s 788us/step - loss: 2.3071 - accuracy: 0.0896 - val_loss: 2.3105 - val_accuracy: 0.0938\n",
      "Epoch 3/10\n",
      "36/36 [==============================] - 0s 761us/step - loss: 2.3084 - accuracy: 0.0801 - val_loss: 2.3075 - val_accuracy: 0.1076\n",
      "Epoch 4/10\n",
      "36/36 [==============================] - 0s 725us/step - loss: 2.3071 - accuracy: 0.0896 - val_loss: 2.3055 - val_accuracy: 0.1076\n",
      "Epoch 5/10\n",
      "36/36 [==============================] - 0s 731us/step - loss: 2.3073 - accuracy: 0.1018 - val_loss: 2.3087 - val_accuracy: 0.1042\n",
      "Epoch 6/10\n",
      "36/36 [==============================] - 0s 716us/step - loss: 2.3076 - accuracy: 0.0914 - val_loss: 2.3114 - val_accuracy: 0.0833\n",
      "Epoch 7/10\n",
      "36/36 [==============================] - 0s 766us/step - loss: 2.3060 - accuracy: 0.0992 - val_loss: 2.3166 - val_accuracy: 0.1007\n",
      "Epoch 8/10\n",
      "36/36 [==============================] - 0s 774us/step - loss: 2.3074 - accuracy: 0.0870 - val_loss: 2.3133 - val_accuracy: 0.1076\n",
      "Epoch 9/10\n",
      "36/36 [==============================] - 0s 783us/step - loss: 2.3067 - accuracy: 0.1158 - val_loss: 2.3184 - val_accuracy: 0.0833\n",
      "Epoch 10/10\n",
      "36/36 [==============================] - 0s 787us/step - loss: 2.3081 - accuracy: 0.0975 - val_loss: 2.3126 - val_accuracy: 0.0833\n",
      "12/12 [==============================] - 0s 484us/step - loss: 2.3139 - accuracy: 0.0972\n",
      "Test accuracy with constant initialization (all weights to 0): 0.0972\n",
      "Test loss with constant initialization (all weights to 0): 2.3139\n"
     ]
    }
   ],
   "source": [
    "# Your code here\n",
    "# Define constants\n",
    "input_dim = 64\n",
    "hidden_dim = 64\n",
    "output_dim = 10\n",
    "\n",
    "## Small Initialization: stddev=1e-3\n",
    "small_init = initializers.TruncatedNormal(stddev=1e-3, seed=42)\n",
    "\n",
    "def build_small_init_model():\n",
    "    model = Sequential()\n",
    "    model.add(Dense(hidden_dim, input_dim=input_dim, activation=\"tanh\", kernel_initializer=small_init))\n",
    "    model.add(Dense(hidden_dim, activation=\"tanh\", kernel_initializer=small_init))\n",
    "    model.add(Dense(output_dim, activation=\"softmax\", kernel_initializer=small_init))\n",
    "    model.compile(optimizer=optimizers.SGD(learning_rate=0.6), loss='categorical_crossentropy', metrics=['accuracy'])\n",
    "    return model\n",
    "\n",
    "model_small_init = build_small_init_model()\n",
    "history_small_init = model_small_init.fit(X_train, y_train, epochs=10, batch_size=32, validation_split=0.2, verbose=1)\n",
    "test_loss_small_init, test_accuracy_small_init = model_small_init.evaluate(X_test, y_test)\n",
    "print(f\"Test accuracy with small initialization (stddev=1e-3): {test_accuracy_small_init:.4f}\")\n",
    "print(f\"Test loss with small initialization (stddev=1e-3): {test_loss_small_init:.4f}\")\n",
    "\n",
    "## Large Initialization: stddev=1\n",
    "large_init = initializers.TruncatedNormal(stddev=1, seed=42)\n",
    "\n",
    "def build_large_init_model():\n",
    "    model = Sequential()\n",
    "    model.add(Dense(hidden_dim, input_dim=input_dim, activation=\"tanh\", kernel_initializer=large_init))\n",
    "    model.add(Dense(hidden_dim, activation=\"tanh\", kernel_initializer=large_init))\n",
    "    model.add(Dense(output_dim, activation=\"softmax\", kernel_initializer=large_init))\n",
    "    model.compile(optimizer=optimizers.SGD(learning_rate=0.6), loss='categorical_crossentropy', metrics=['accuracy'])\n",
    "    return model\n",
    "\n",
    "model_large_init = build_large_init_model()\n",
    "history_large_init = model_large_init.fit(X_train, y_train, epochs=10, batch_size=32, validation_split=0.2, verbose=1)\n",
    "test_loss_large_init, test_accuracy_large_init = model_large_init.evaluate(X_test, y_test)\n",
    "print(f\"Test accuracy with large initialization (stddev=1): {test_accuracy_large_init:.4f}\")\n",
    "print(f\"Test loss with large initialization (stddev=1): {test_loss_large_init:.4f}\")\n",
    "\n",
    "## Very Large Initialization: stddev=10\n",
    "very_large_init = initializers.TruncatedNormal(stddev=10, seed=42)\n",
    "\n",
    "def build_very_large_init_model():\n",
    "    model = Sequential()\n",
    "    model.add(Dense(hidden_dim, input_dim=input_dim, activation=\"tanh\", kernel_initializer=very_large_init))\n",
    "    model.add(Dense(hidden_dim, activation=\"tanh\", kernel_initializer=very_large_init))\n",
    "    model.add(Dense(output_dim, activation=\"softmax\", kernel_initializer=very_large_init))\n",
    "    model.compile(optimizer=optimizers.SGD(learning_rate=0.6), loss='categorical_crossentropy', metrics=['accuracy'])\n",
    "    return model\n",
    "\n",
    "model_very_large_init = build_very_large_init_model()\n",
    "history_very_large_init = model_very_large_init.fit(X_train, y_train, epochs=10, batch_size=32, validation_split=0.2, verbose=1)\n",
    "test_loss_very_large_init, test_accuracy_very_large_init = model_very_large_init.evaluate(X_test, y_test)\n",
    "print(f\"Test accuracy with very large initialization (stddev=10): {test_accuracy_very_large_init:.4f}\")\n",
    "print(f\"Test loss with very large initialization (stddev=10): {test_loss_very_large_init:.4f}\")\n",
    "\n",
    "## Constant Initialization: All weights set to 0\n",
    "zero_init = initializers.Zeros()\n",
    "\n",
    "def build_zero_init_model():\n",
    "    model = Sequential()\n",
    "    model.add(Dense(hidden_dim, input_dim=input_dim, activation=\"tanh\", kernel_initializer=zero_init))\n",
    "    model.add(Dense(hidden_dim, activation=\"tanh\", kernel_initializer=zero_init))\n",
    "    model.add(Dense(output_dim, activation=\"softmax\", kernel_initializer=zero_init))\n",
    "    model.compile(optimizer=optimizers.SGD(learning_rate=0.6), loss='categorical_crossentropy', metrics=['accuracy'])\n",
    "    return model\n",
    "\n",
    "model_zero_init = build_zero_init_model()\n",
    "history_zero_init = model_zero_init.fit(X_train, y_train, epochs=10, batch_size=32, validation_split=0.2, verbose=1)\n",
    "test_loss_zero_init, test_accuracy_zero_init = model_zero_init.evaluate(X_test, y_test)\n",
    "print(f\"Test accuracy with constant initialization (all weights to 0): {test_accuracy_zero_init:.4f}\")\n",
    "print(f\"Test loss with constant initialization (all weights to 0): {test_loss_zero_init:.4f}\")\n"
   ]
  },
  {
   "cell_type": "code",
   "execution_count": 72,
   "metadata": {},
   "outputs": [
    {
     "data": {
      "image/png": "[encoded data removed]",
      "text/plain": [
       "<Figure size 1400x500 with 2 Axes>"
      ]
     },
     "metadata": {},
     "output_type": "display_data"
    }
   ],
   "source": [
    "def plot_history(history_list, labels):\n",
    "    fig, (ax1, ax2) = plt.subplots(1, 2, figsize=(14, 5))\n",
    "\n",
    "    # Plot training & validation accuracy values\n",
    "    for history, label in zip(history_list, labels):\n",
    "        ax1.plot(history.history['accuracy'])\n",
    "        ax1.plot(history.history['val_accuracy'])\n",
    "    ax1.set_title('Model accuracy')\n",
    "    ax1.set_ylabel('Accuracy')\n",
    "    ax1.set_xlabel('Epoch')\n",
    "    ax1.legend([f'Train ({label})' for label in labels] + [f'Val ({label})' for label in labels], loc='upper left')\n",
    "\n",
    "    # Plot training & validation loss values\n",
    "    for history, label in zip(history_list, labels):\n",
    "        ax2.plot(history.history['loss'])\n",
    "        ax2.plot(history.history['val_loss'])\n",
    "    ax2.set_title('Model loss')\n",
    "    ax2.set_ylabel('Loss')\n",
    "    ax2.set_xlabel('Epoch')\n",
    "    ax2.legend([f'Train ({label})' for label in labels] + [f'Val ({label})' for label in labels], loc='upper left')\n",
    "\n",
    "    plt.show()\n",
    "\n",
    "# Collect histories and labels\n",
    "histories = [history_small_init, history_large_init, history_very_large_init, history_zero_init]\n",
    "labels = ['stddev=1e-3', 'stddev=1', 'stddev=10', 'const=0']\n",
    "\n",
    "# Plot histories\n",
    "plot_history(histories, labels)\n"
   ]
  },
  {
   "cell_type": "markdown",
   "metadata": {},
   "source": [
    "1. Tiny Initialization:\n",
    "* Initialization with a very small standard deviation makes the initial weights very close to zero. As a result, the gradients become very small, leading to slow convergence or the network getting stuck during learning.\n",
    "2. Large and Very Large Initialization:\n",
    "* Initialization with large values tends to push neuron activations into the non-linear activation function's saturated regions (e.g., the flat regions of tanh where gradients are near zero). Consequently, during backpropagation, these small gradients either shrink (vanishing gradient) or grow excessively (exploding gradient), disrupting the learning process.\n",
    "3. Zero Initialization:\n",
    "* Setting all weights to zero results in the same gradient being propagated back through all neurons. This means that all neurons in the layers learn the same features during training, preventing the network from learning anything useful. This situation is referred to as the symmetry problem in the initial states of weights."
   ]
  },
  {
   "cell_type": "markdown",
   "metadata": {},
   "source": [
    "More advanced solvers such as SGD with momentum or Adam table can improve training stability and efficiency.\n",
    "\n",
    "1. Momentum helps accelerate gradients vectors in the right directions, leading to faster converging\n",
    "\n",
    "2. Adam, adjust the learning rate for each parameter individually based on first ans second moments of the gradients.\n",
    "\n",
    "There are no silver bullets and still benefit from good inititalization practices"
   ]
  }
 ],
 "metadata": {
  "file_extension": ".py",
  "kernelspec": {
   "display_name": "Python 3 (ipykernel)",
   "language": "python",
   "name": "python3"
  },
  "language_info": {
   "codemirror_mode": {
    "name": "ipython",
    "version": 3
   },
   "file_extension": ".py",
   "mimetype": "text/x-python",
   "name": "python",
   "nbconvert_exporter": "python",
   "pygments_lexer": "ipython3",
   "version": "3.9.19"
  },
  "mimetype": "text/x-python",
  "name": "python",
  "npconvert_exporter": "python",
  "pygments_lexer": "ipython3",
  "toc": {
   "base_numbering": 1,
   "nav_menu": {},
   "number_sections": true,
   "sideBar": true,
   "skip_h1_title": false,
   "title_cell": "Table of Contents",
   "title_sidebar": "Contents",
   "toc_cell": false,
   "toc_position": {},
   "toc_section_display": true,
   "toc_window_display": false
  },
  "version": 3
 },
 "nbformat": 4,
 "nbformat_minor": 4
}
