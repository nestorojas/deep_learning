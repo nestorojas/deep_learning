{
 "cells": [
  {
   "cell_type": "markdown",
   "metadata": {},
   "source": [
    "# Training Neural Networks with Keras\n",
    "\n",
    "Welcome to the first practical session of the course! In this session, we will learn how to train neural networks with Keras. We will start with a simple example of a feedforward neural network for classification and then we will study the impact of the initialization of the weights on the convergence of the training algorithm.\n",
    "\n",
    "Keras is a high-level neural network API, built on top of TensorFlow 2.0. It provides a user-friendly interface to build, train and deploy deep learning models. Keras is designed to be modular, fast and easy to use.\n",
    "\n",
    "Throughout this course, we will focus on using Keras and TensorFlow for building and training neural networks. However, there are other popular deep learning frameworks such as PyTorch, MXNet, CNTK, etc. that you can also use to build and train neural networks.\n",
    "\n",
    "In order to use our code on Google Colab, we will need to ensure that any required packages are installed. We will use the following packages in this session:\n",
    "\n",
    "- `tensorflow`: an open-source library for numerical computation and large-scale machine learning.\n",
    "- `matplotlib`: a plotting library for the Python programming language and its numerical mathematics extension NumPy.\n",
    "- `numpy`: a library for scientific computing in Python.\n",
    "- `scikit-learn`: a machine learning library for the Python programming language.\n",
    "- `pandas`: a library providing high-performance, easy-to-use data structures and data analysis tools for the Python programming language.\n",
    "\n",
    "The following cell will check if the packages are installed, and if not, it will install them. Students familiar with how pip works might note that it already checks this before installing! The reason for this code (which will also appear in subsequent notebooks) is to speed up execution if you re-run the entire notebook - it will skip the installation step if the packages are already installed."
   ]
  },
  {
   "cell_type": "markdown",
   "metadata": {
    "collapsed": false
   },
   "source": [
    "With the packages installed, we can now get started on the practical session!\n",
    "\n",
    "Today, we will be working with the famous MNIST dataset. MNIST (Modified National Institute of Standards and Technology) is a database of low resolution images of handwritten digits. The history here is interesting - the dataset was originally created in the 1980s, when researchers from the aforementioned institute collected samples from American Census Bureau employees and high school students. The dataset was then modified in the 1990s (hence the M in MNIST), and has since become a popular benchmark for machine learning algorithms. \n",
    "\n",
    "The dataset contains images, each of which is a 28x28 grayscale image of a handwritten digit. The goal is to classify each image into one of the 10 possible classes (0-9).\n",
    "\n",
    "![MNIST](https://upload.wikimedia.org/wikipedia/commons/2/27/MnistExamples.png)\n",
    "\n",
    "The Scikit-Learn library provides a convenient function to download and load the MNIST dataset. The following cell will download the dataset. Then we will take a look at the shape of the data."
   ]
  },
  {
   "cell_type": "code",
   "execution_count": 3,
   "metadata": {},
   "outputs": [],
   "source": [
    "import matplotlib.pyplot as plt\n",
    "import numpy as np\n",
    "\n",
    "from sklearn.datasets import load_digits\n",
    "\n",
    "digits = load_digits()"
   ]
  },
  {
   "cell_type": "code",
   "execution_count": 7,
   "metadata": {},
   "outputs": [
    {
     "data": {
      "text/plain": [
       "(1797, 8, 8)"
      ]
     },
     "execution_count": 7,
     "metadata": {},
     "output_type": "execute_result"
    }
   ],
   "source": [
    "digits.images.shape"
   ]
  },
  {
   "cell_type": "markdown",
   "metadata": {
    "collapsed": false
   },
   "source": [
    "This means that we have 1797 images, each of which is a 8x8 image. For basic image processing, we will need to flatten the images into a 1D array. In this case, Scikit-Learn has already provided the data in this format too:"
   ]
  },
  {
   "cell_type": "code",
   "execution_count": 8,
   "metadata": {},
   "outputs": [
    {
     "data": {
      "text/plain": [
       "(1797, 64)"
      ]
     },
     "execution_count": 8,
     "metadata": {},
     "output_type": "execute_result"
    }
   ],
   "source": [
    "digits.data.shape"
   ]
  },
  {
   "cell_type": "markdown",
   "metadata": {
    "collapsed": false
   },
   "source": [
    "For each image, we also have the corresponding label (or target, or class) in `digits.target`:"
   ]
  },
  {
   "cell_type": "code",
   "execution_count": 9,
   "metadata": {},
   "outputs": [
    {
     "data": {
      "text/plain": [
       "(1797,)"
      ]
     },
     "execution_count": 9,
     "metadata": {},
     "output_type": "execute_result"
    }
   ],
   "source": [
    "digits.target.shape"
   ]
  },
  {
   "cell_type": "markdown",
   "metadata": {
    "collapsed": false
   },
   "source": [
    "We can take a look at some random images from the dataset. The following cell will select 9 random images and plot them in a 3x3 grid (meaning that you can rerun the cell to see different images)."
   ]
  },
  {
   "cell_type": "code",
   "execution_count": 13,
   "metadata": {},
   "outputs": [
    {
     "data": {
      "image/png": "[encoded data removed]",
      "text/plain": [
       "<Figure size 600x600 with 12 Axes>"
      ]
     },
     "metadata": {},
     "output_type": "display_data"
    }
   ],
   "source": [
    "# Selecting 9 random indices\n",
    "random_indices = np.random.choice(len(digits.images), 12, replace=False)\n",
    "\n",
    "# Creating a 3x3 grid plot\n",
    "fig, axes = plt.subplots(3, 4, figsize=(6, 6))\n",
    "\n",
    "for i, ax in enumerate(axes.flat):\n",
    "    ax.imshow(digits.images[random_indices[i]], cmap=plt.cm.gray_r, interpolation='nearest')\n",
    "    ax.set_title(f\"Label: {digits.target[random_indices[i]]}\")\n",
    "\n",
    "    # Removing axis labels\n",
    "    ax.set_xticks([])\n",
    "    ax.set_yticks([])\n",
    "\n",
    "plt.show()"
   ]
  },
  {
   "cell_type": "markdown",
   "metadata": {
    "collapsed": false
   },
   "source": [
    "As you can see, these images are very low resolution. This is because they were originally scanned from paper forms, and then scaled down to 8x8 pixels. This is a common problem in machine learning - the quality of the data is often a limiting factor in the performance of the model. In this case, the low resolution of the images makes it difficult to distinguish between some digits, even for humans. For example, the following images are all labelled as 9, but they look very different:"
   ]
  },
  {
   "cell_type": "code",
   "execution_count": 15,
   "metadata": {
    "collapsed": false
   },
   "outputs": [
    {
     "data": {
      "image/png": "[encoded data removed]",
      "text/plain": [
       "<Figure size 600x600 with 9 Axes>"
      ]
     },
     "metadata": {},
     "output_type": "display_data"
    }
   ],
   "source": [
    "# Selecting 9 random indices of images labelled as 9\n",
    "random_indices = np.random.choice(np.where(digits.target == 8)[0], 9, replace=False)\n",
    "\n",
    "# Creating a 3x3 grid plot\n",
    "fig, axes = plt.subplots(3, 3, figsize=(6, 6))\n",
    "\n",
    "for i, ax in enumerate(axes.flat):\n",
    "    ax.imshow(digits.images[random_indices[i]], cmap=plt.cm.gray_r, interpolation='nearest')\n",
    "    ax.set_title(f\"Label: {digits.target[random_indices[i]]}\")\n",
    "\n",
    "    # Removing axis labels\n",
    "    ax.set_xticks([])\n",
    "    ax.set_yticks([])\n",
    "    \n",
    "plt.show()"
   ]
  },
  {
   "cell_type": "markdown",
   "metadata": {
    "collapsed": false
   },
   "source": [
    "While we are plotting the samples as images, remember that our model is only going to see a 1D array of numbers. "
   ]
  },
  {
   "cell_type": "markdown",
   "metadata": {},
   "source": [
    "## Train / Test Split\n",
    "\n",
    "In order to understand how well our model performs on _new_ data, we need to split our dataset into a training set and a test set. The training set will be used to train the model, and the test set will be used to evaluate the performance of the model.\n",
    "\n",
    "Let's keep some held-out data to be able to measure the generalization performance of our model. "
   ]
  },
  {
   "cell_type": "code",
   "execution_count": 16,
   "metadata": {},
   "outputs": [],
   "source": [
    "from sklearn.model_selection import train_test_split\n",
    "\n",
    "\n",
    "X_train, X_test, y_train, y_test = train_test_split(\n",
    "    digits.data, \n",
    "    digits.target,\n",
    "    test_size=0.2, # 20% of the data is used for testing\n",
    "    random_state=42 # Providing a value here means getting the same \"random\" split every time\n",
    ")"
   ]
  },
  {
   "cell_type": "markdown",
   "metadata": {
    "collapsed": false
   },
   "source": [
    "Let's confirm that the data has been split correctly:"
   ]
  },
  {
   "cell_type": "code",
   "execution_count": 17,
   "metadata": {
    "collapsed": false
   },
   "outputs": [
    {
     "name": "stdout",
     "output_type": "stream",
     "text": [
      "X_train shape: (1437, 64)\n",
      "y_train shape: (1437,)\n",
      "X_test shape: (360, 64)\n",
      "y_test shape: (360,)\n"
     ]
    }
   ],
   "source": [
    "print(f'X_train shape: {X_train.shape}')\n",
    "print(f'y_train shape: {y_train.shape}')\n",
    "print(f'X_test shape: {X_test.shape}')\n",
    "print(f'y_test shape: {y_test.shape}')"
   ]
  },
  {
   "cell_type": "markdown",
   "metadata": {
    "collapsed": false
   },
   "source": [
    "This is what we expected to see. It's always good to check as you go, to make sure that you haven't made a mistake somewhere - this is something that working in a notebook like this makes it easy to do."
   ]
  },
  {
   "cell_type": "markdown",
   "metadata": {},
   "source": [
    "## Preprocessing of the Target Data\n",
    "\n",
    "The labels that we have are integers between 0 and 9. However, we want to train a neural network to classify the images into one of 10 classes. It can be a little counter-intuitive because we are dealing with numbers, but our classes are not ordinal.\n",
    "\n",
    "What do we mean by that? Let's imagine we were trying to predict the height of a building (separated into classes) from images. If a given building was actually 10m tall, and our model predicted 9m, we would consider that to be a better prediction than if it predicted 1m. This is because the classes are ordinal - there is meaning in the difference between the classes.\n",
    "\n",
    "In our case, even though we are dealing with numbers, the classes are not ordinal. If a given image is actually a 9, and our model predicts 8, we would consider that to be just as bad as if it predicted 1. This is because the classes are not ordered, and the difference between the classes is not meaningful.\n",
    "\n",
    "Because of this, we need to convert our labels from an integer value into a one-hot encoded vector. This means that each label will be represented as a vector of length 10, with a 1 in the position corresponding to the class, and 0s everywhere else. For example, the label 9 would be represented as `[0, 0, 0, 0, 0, 0, 0, 0, 0, 1]`. This is a common way of representing categorical data in machine learning. By doing this, we ensure that our model is taught the correct relationship between the classes."
   ]
  },
  {
   "cell_type": "code",
   "execution_count": 18,
   "metadata": {},
   "outputs": [
    {
     "name": "stdout",
     "output_type": "stream",
     "text": [
      "Before one-hot encoding: 6\n",
      "After one-hot encoding: [0. 0. 0. 0. 0. 0. 1. 0. 0. 0.]\n"
     ]
    }
   ],
   "source": [
    "from tensorflow.keras.utils import to_categorical\n",
    "\n",
    "print(f'Before one-hot encoding: {y_train[0]}')\n",
    "y_train = to_categorical(y_train, num_classes=10)\n",
    "y_test = to_categorical(y_test, num_classes=10)\n",
    "print(f'After one-hot encoding: {y_train[0]}')"
   ]
  },
  {
   "cell_type": "markdown",
   "metadata": {},
   "source": [
    "## Feed Forward Neural Networks with Keras\n",
    "\n",
    "Now that we have prepared our data, it's time to build a simple neural network! In this section, we will use the Keras API to build a simple feed forward neural network. We will then train the model on the MNIST dataset, and evaluate its performance on the test set.\n",
    "\n",
    "In most modern deep learning frameworks, the process of building a model can be broken down into a few steps:\n",
    "\n",
    "- Define the model architecture: this is where we define the layers of the model, and how they are connected to each other.\n",
    "- Compile the model: this is where we define the loss function, the optimizer, and the metrics that we want to use to evaluate the model.\n",
    "- Train the model: this is where we train the model on the training data.\n",
    "\n",
    "Let's start with defining the model architecture. There are two ways to do this in Keras - the Sequential API and the Functional API. The Sequential API is the simplest way to build a model, and is suitable for most use cases. The Functional API is more flexible, and allows you to build more complex models. We will start with the Sequential API, and then we will look at the Functional API later in the course.\n",
    "\n",
    "Our simple neural network will be \"fully-connected\". This means that each neuron in a given layer is connected to every neuron in the next layer. This is also known as a \"dense\" layer. We will use the `Dense` class from Keras to define our layers."
   ]
  },
  {
   "cell_type": "code",
   "execution_count": 19,
   "metadata": {
    "collapsed": false
   },
   "outputs": [
    {
     "name": "stdout",
     "output_type": "stream",
     "text": [
      "Model: \"sequential\"\n",
      "_________________________________________________________________\n",
      " Layer (type)                Output Shape              Param #   \n",
      "=================================================================\n",
      " dense (Dense)               (None, 64)                4160      \n",
      "                                                                 \n",
      " dense_1 (Dense)             (None, 64)                4160      \n",
      "                                                                 \n",
      " dense_2 (Dense)             (None, 10)                650       \n",
      "                                                                 \n",
      "=================================================================\n",
      "Total params: 8970 (35.04 KB)\n",
      "Trainable params: 8970 (35.04 KB)\n",
      "Non-trainable params: 0 (0.00 Byte)\n",
      "_________________________________________________________________\n"
     ]
    }
   ],
   "source": [
    "from tensorflow.keras.models import Sequential\n",
    "from tensorflow.keras.layers import Dense\n",
    "\n",
    "model = Sequential()\n",
    "\n",
    "# Input layer\n",
    "model.add(Dense(64, activation='relu', input_shape=(64,))) # 64 neurons, ReLU activation, input shape of 64\n",
    "\n",
    "# Hidden layer\n",
    "model.add(Dense(64, activation='relu')) # 64 neurons, ReLU activation\n",
    "\n",
    "# Output layer\n",
    "model.add(Dense(10, activation='softmax')) # 10 neurons, softmax activation\n",
    "\n",
    "model.summary()"
   ]
  },
  {
   "cell_type": "markdown",
   "metadata": {
    "collapsed": false
   },
   "source": [
    "Congratulations! You have just built your first neural network with Keras. As we can confirm from the `model.summary()` output, our model has 3 layers. The first layer has 64 neurons, the second layer has 64 neurons, and the output layer has 10 neurons. The output layer uses the softmax activation function, which is commonly used for multi-class classification problems. The other layers use the ReLU activation function, which is commonly used for hidden layers in neural networks.\n",
    "\n",
    "Next, we need to compile the model. This is where we define the loss function, the optimizer, and the metrics that we want to use to evaluate the model. We will use the `compile` method of the model to do this."
   ]
  },
  {
   "cell_type": "code",
   "execution_count": 20,
   "metadata": {
    "collapsed": false
   },
   "outputs": [],
   "source": [
    "model.compile(\n",
    "    loss='categorical_crossentropy', # Loss function\n",
    "    optimizer='sgd', # Optimizer\n",
    "    metrics=['accuracy'] # Metrics to evaluate the model\n",
    ")"
   ]
  },
  {
   "cell_type": "markdown",
   "metadata": {
    "collapsed": false
   },
   "source": [
    "Because we are predicting which class a sample belongs to, we will use the `categorical_crossentropy` function. This loss function is commonly used for multi-class classification problems. \n",
    "\n",
    "For our optimizer, we are using the standard stochastic gradient descent (SGD) algorithm. This is a simple optimizer that works well for many problems. We will look at more advanced optimizers later in the course.\n",
    "\n",
    "Finally, we are using the `accuracy` metric to evaluate the model. This is a common metric for classification problems, and it is simply the fraction of samples that are correctly classified. This is an easier metric for us to understand, but it's not quite as useful for actually training the model (for example, it doesn't tell us how \"confident\" the model is in its predictions).\n",
    "\n",
    "Now that we have (a) defined the model architecture and (b) compiled the model, we are ready to train the model. We will use the `fit` method of the model to do this."
   ]
  },
  {
   "cell_type": "code",
   "execution_count": 22,
   "metadata": {
    "collapsed": false
   },
   "outputs": [
    {
     "name": "stdout",
     "output_type": "stream",
     "text": [
      "Epoch 1/15\n",
      "36/36 [==============================] - 0s 1ms/step - loss: 0.1327 - accuracy: 0.9608 - val_loss: 0.2378 - val_accuracy: 0.9236\n",
      "Epoch 2/15\n",
      "36/36 [==============================] - 0s 734us/step - loss: 0.1146 - accuracy: 0.9739 - val_loss: 0.2435 - val_accuracy: 0.9062\n",
      "Epoch 3/15\n",
      "36/36 [==============================] - 0s 737us/step - loss: 0.1042 - accuracy: 0.9730 - val_loss: 0.1997 - val_accuracy: 0.9271\n",
      "Epoch 4/15\n",
      "36/36 [==============================] - 0s 711us/step - loss: 0.0880 - accuracy: 0.9809 - val_loss: 0.1836 - val_accuracy: 0.9340\n",
      "Epoch 5/15\n",
      "36/36 [==============================] - 0s 729us/step - loss: 0.0795 - accuracy: 0.9800 - val_loss: 0.1806 - val_accuracy: 0.9306\n",
      "Epoch 6/15\n",
      "36/36 [==============================] - 0s 725us/step - loss: 0.0673 - accuracy: 0.9878 - val_loss: 0.1895 - val_accuracy: 0.9306\n",
      "Epoch 7/15\n",
      "36/36 [==============================] - 0s 722us/step - loss: 0.0663 - accuracy: 0.9843 - val_loss: 0.1738 - val_accuracy: 0.9444\n",
      "Epoch 8/15\n",
      "36/36 [==============================] - 0s 773us/step - loss: 0.0542 - accuracy: 0.9922 - val_loss: 0.1800 - val_accuracy: 0.9340\n",
      "Epoch 9/15\n",
      "36/36 [==============================] - 0s 822us/step - loss: 0.0497 - accuracy: 0.9904 - val_loss: 0.1621 - val_accuracy: 0.9410\n",
      "Epoch 10/15\n",
      "36/36 [==============================] - 0s 815us/step - loss: 0.0460 - accuracy: 0.9904 - val_loss: 0.1765 - val_accuracy: 0.9340\n",
      "Epoch 11/15\n",
      "36/36 [==============================] - 0s 768us/step - loss: 0.0431 - accuracy: 0.9922 - val_loss: 0.1574 - val_accuracy: 0.9410\n",
      "Epoch 12/15\n",
      "36/36 [==============================] - 0s 751us/step - loss: 0.0397 - accuracy: 0.9930 - val_loss: 0.1675 - val_accuracy: 0.9340\n",
      "Epoch 13/15\n",
      "36/36 [==============================] - 0s 786us/step - loss: 0.0375 - accuracy: 0.9948 - val_loss: 0.1618 - val_accuracy: 0.9340\n",
      "Epoch 14/15\n",
      "36/36 [==============================] - 0s 768us/step - loss: 0.0339 - accuracy: 0.9965 - val_loss: 0.1517 - val_accuracy: 0.9375\n",
      "Epoch 15/15\n",
      "36/36 [==============================] - 0s 710us/step - loss: 0.0333 - accuracy: 0.9956 - val_loss: 0.1564 - val_accuracy: 0.9410\n"
     ]
    },
    {
     "data": {
      "text/plain": [
       "<keras.src.callbacks.History at 0x315409220>"
      ]
     },
     "execution_count": 22,
     "metadata": {},
     "output_type": "execute_result"
    }
   ],
   "source": [
    "model.fit(\n",
    "    X_train, # Training data\n",
    "    y_train, # Training labels\n",
    "    epochs=15, # Number of epochs\n",
    "    batch_size=32, # Number of samples per batch\n",
    "    validation_split=0.2 # Use 20% of the data for validation\n",
    ")"
   ]
  },
  {
   "cell_type": "markdown",
   "metadata": {
    "collapsed": false
   },
   "source": [
    "We have now trained our model! We can see that the model has been trained for 5 epochs, and the loss and accuracy have been printed for each epoch. We can also see that the model has been evaluated on the validation data at the end of each epoch. This is useful for us to see how the model is performing on data that it hasn't seen during training.\n",
    "\n",
    "Once the model is trained, it's time to evaluate the model on the test set. We can use the `evaluate` method of the model to do this. If you were building a model for a real-world application, this is the very last thing you would do, and the result here would be the figure you'd report in your paper or presentation."
   ]
  },
  {
   "cell_type": "code",
   "execution_count": 23,
   "metadata": {
    "collapsed": false
   },
   "outputs": [
    {
     "name": "stdout",
     "output_type": "stream",
     "text": [
      "12/12 [==============================] - 0s 469us/step - loss: 0.1093 - accuracy: 0.9639\n",
      "Loss:     0.11\n",
      "Accuracy: 96.39%\n"
     ]
    }
   ],
   "source": [
    "loss, accuracy = model.evaluate(X_test, y_test)\n",
    "\n",
    "print(f'Loss:     {loss:.2f}')\n",
    "print(f'Accuracy: {accuracy*100:.2f}%')"
   ]
  },
  {
   "cell_type": "markdown",
   "metadata": {
    "collapsed": false
   },
   "source": [
    "Hopefully you have achieved an accuracy of around 95%. This is pretty good, but we can do better! In the next section, we will look at how we can improve the performance of our model by using a more advanced optimizer. But before we get there, let's do one other thing - let's look at the predictions that our model is making on the test set. When you are building a model, it's often useful to have a look at some of the examples your model is getting wrong. Sometimes this can reveal problems with the data, or it can give you ideas for how to improve your model."
   ]
  },
  {
   "cell_type": "code",
   "execution_count": 26,
   "metadata": {
    "collapsed": false
   },
   "outputs": [
    {
     "name": "stdout",
     "output_type": "stream",
     "text": [
      "12/12 [==============================] - 0s 459us/step\n"
     ]
    },
    {
     "data": {
      "image/png": "[encoded data removed]",
      "text/plain": [
       "<Figure size 600x600 with 9 Axes>"
      ]
     },
     "metadata": {},
     "output_type": "display_data"
    }
   ],
   "source": [
    "# Get the predictions for the test data\n",
    "predictions = model.predict(X_test)\n",
    "\n",
    "# Get the index of the largest probability (i.e. the predicted class)\n",
    "predicted_classes = np.argmax(predictions, axis=1)\n",
    "true_classes = np.argmax(y_test, axis=1)\n",
    "misclassified_indices = np.where(predicted_classes != true_classes)[0]\n",
    "\n",
    "# Get the misclassified samples themselves\n",
    "misclassified_samples = X_test[misclassified_indices]\n",
    "misclassified_labels = np.argmax(y_test[misclassified_indices], axis=1)\n",
    "\n",
    "# Pick 9 random misclassified samples\n",
    "random_indices = np.random.choice(len(misclassified_indices), 9, replace=False)\n",
    "\n",
    "fig, axes = plt.subplots(3, 3, figsize=(6, 6))\n",
    "for i, ax in enumerate(axes.flat):\n",
    "    ax.imshow(misclassified_samples[random_indices[i]].reshape(8, 8), cmap=plt.cm.gray_r, interpolation='nearest')\n",
    "    ax.set_title(f\"Pred: {predicted_classes[misclassified_indices[random_indices[i]]]}, Real: {misclassified_labels[random_indices[i]]}\")\n",
    "\n",
    "    # Removing axis labels\n",
    "    ax.set_xticks([])\n",
    "    ax.set_yticks([])\n",
    "    \n",
    "plt.show()"
   ]
  },
  {
   "cell_type": "markdown",
   "metadata": {
    "collapsed": false
   },
   "source": [
    "What do you think? Would you have made the same mistakes as the model? Determining whether the mistakes are \"understandable\" is a rough way of seeing if you could improve the model further, or if this is the best you can do with the data you have."
   ]
  },
  {
   "cell_type": "markdown",
   "metadata": {},
   "source": [
    "### b) Exercises: Impact of the Optimizer\n",
    "\n",
    "In this section, you will play around with the optimizer and see how it affects the performance of the model. We will start with the standard SGD optimizer, and then we will look at more advanced optimizers.\n",
    "\n",
    "1. Try decreasing the learning rate of the SGD optimizer by a factor of 10, or 100. What do you observe?\n",
    "2. Try increasing the learning rate of the SGD optimizer. What happens?\n",
    "3. The SGD optimizer has a momentum parameter. In a nutshell, this parameter controls how much the gradient from the previous step affects the current step. Try enabling momentum in the SGD optimizer with a value of 0.9. What happens?\n",
    "  \n",
    "**Notes**: \n",
    "\n",
    "The keras API documentation is available at:\n",
    "\n",
    "https://www.tensorflow.org/api_docs/python/tf/keras\n",
    "\n",
    "It is also possible to learn more about the parameters of a class by using the question mark: type and evaluate:\n",
    "\n",
    "```python\n",
    "optimizers.SGD?\n",
    "```\n",
    "\n",
    "in a jupyter notebook cell.\n",
    "\n",
    "It is also possible to type the beginning of a function call / constructor and type \"shift-tab\" after the opening paren:\n",
    "\n",
    "```python\n",
    "optimizers.SGD(<shift-tab>\n",
    "```"
   ]
  },
  {
   "cell_type": "code",
   "execution_count": 28,
   "metadata": {},
   "outputs": [
    {
     "name": "stderr",
     "output_type": "stream",
     "text": [
      "WARNING:absl:At this time, the v2.11+ optimizer `tf.keras.optimizers.SGD` runs slowly on M1/M2 Macs, please use the legacy Keras optimizer instead, located at `tf.keras.optimizers.legacy.SGD`.\n"
     ]
    },
    {
     "name": "stdout",
     "output_type": "stream",
     "text": [
      "Epoch 1/15\n",
      "36/36 [==============================] - 0s 2ms/step - loss: 3.8263 - accuracy: 0.1628 - val_loss: 2.5713 - val_accuracy: 0.2639\n",
      "Epoch 2/15\n",
      "36/36 [==============================] - 0s 790us/step - loss: 2.0311 - accuracy: 0.3943 - val_loss: 1.7411 - val_accuracy: 0.4375\n",
      "Epoch 3/15\n",
      "36/36 [==============================] - 0s 755us/step - loss: 1.4769 - accuracy: 0.5248 - val_loss: 1.3280 - val_accuracy: 0.5694\n",
      "Epoch 4/15\n",
      "36/36 [==============================] - 0s 737us/step - loss: 1.1841 - accuracy: 0.6310 - val_loss: 1.0978 - val_accuracy: 0.6528\n",
      "Epoch 5/15\n",
      "36/36 [==============================] - 0s 714us/step - loss: 0.9981 - accuracy: 0.6928 - val_loss: 0.9473 - val_accuracy: 0.6944\n",
      "Epoch 6/15\n",
      "36/36 [==============================] - 0s 752us/step - loss: 0.8647 - accuracy: 0.7398 - val_loss: 0.8496 - val_accuracy: 0.7361\n",
      "Epoch 7/15\n",
      "36/36 [==============================] - 0s 726us/step - loss: 0.7682 - accuracy: 0.7685 - val_loss: 0.7648 - val_accuracy: 0.7674\n",
      "Epoch 8/15\n",
      "36/36 [==============================] - 0s 715us/step - loss: 0.6921 - accuracy: 0.7946 - val_loss: 0.7063 - val_accuracy: 0.7882\n",
      "Epoch 9/15\n",
      "36/36 [==============================] - 0s 2ms/step - loss: 0.6295 - accuracy: 0.8033 - val_loss: 0.6543 - val_accuracy: 0.8056\n",
      "Epoch 10/15\n",
      "36/36 [==============================] - 0s 756us/step - loss: 0.5798 - accuracy: 0.8251 - val_loss: 0.6315 - val_accuracy: 0.7917\n",
      "Epoch 11/15\n",
      "36/36 [==============================] - 0s 777us/step - loss: 0.5409 - accuracy: 0.8390 - val_loss: 0.5871 - val_accuracy: 0.8160\n",
      "Epoch 12/15\n",
      "36/36 [==============================] - 0s 770us/step - loss: 0.5021 - accuracy: 0.8433 - val_loss: 0.5640 - val_accuracy: 0.8264\n",
      "Epoch 13/15\n",
      "36/36 [==============================] - 0s 790us/step - loss: 0.4728 - accuracy: 0.8555 - val_loss: 0.5393 - val_accuracy: 0.8403\n",
      "Epoch 14/15\n",
      "36/36 [==============================] - 0s 779us/step - loss: 0.4465 - accuracy: 0.8729 - val_loss: 0.5147 - val_accuracy: 0.8438\n",
      "Epoch 15/15\n",
      "36/36 [==============================] - 0s 739us/step - loss: 0.4218 - accuracy: 0.8738 - val_loss: 0.4977 - val_accuracy: 0.8472\n",
      "Learning Rate: 0.001\n",
      "Loss:     0.43\n",
      "Accuracy: 86.67%\n"
     ]
    },
    {
     "name": "stderr",
     "output_type": "stream",
     "text": [
      "WARNING:absl:At this time, the v2.11+ optimizer `tf.keras.optimizers.SGD` runs slowly on M1/M2 Macs, please use the legacy Keras optimizer instead, located at `tf.keras.optimizers.legacy.SGD`.\n"
     ]
    },
    {
     "name": "stdout",
     "output_type": "stream",
     "text": [
      "Epoch 1/15\n",
      "36/36 [==============================] - 0s 2ms/step - loss: 6.4934 - accuracy: 0.0836 - val_loss: 5.6963 - val_accuracy: 0.1007\n",
      "Epoch 2/15\n",
      "36/36 [==============================] - 0s 830us/step - loss: 5.1223 - accuracy: 0.0801 - val_loss: 4.7078 - val_accuracy: 0.0972\n",
      "Epoch 3/15\n",
      "36/36 [==============================] - 0s 768us/step - loss: 4.3448 - accuracy: 0.0801 - val_loss: 4.0539 - val_accuracy: 0.0938\n",
      "Epoch 4/15\n",
      "36/36 [==============================] - 0s 732us/step - loss: 3.7959 - accuracy: 0.0914 - val_loss: 3.5574 - val_accuracy: 0.1007\n",
      "Epoch 5/15\n",
      "36/36 [==============================] - 0s 768us/step - loss: 3.3646 - accuracy: 0.1175 - val_loss: 3.1535 - val_accuracy: 0.1181\n",
      "Epoch 6/15\n",
      "36/36 [==============================] - 0s 764us/step - loss: 3.0152 - accuracy: 0.1567 - val_loss: 2.8262 - val_accuracy: 0.1528\n",
      "Epoch 7/15\n",
      "36/36 [==============================] - 0s 759us/step - loss: 2.7317 - accuracy: 0.1906 - val_loss: 2.5608 - val_accuracy: 0.1979\n",
      "Epoch 8/15\n",
      "36/36 [==============================] - 0s 753us/step - loss: 2.5009 - accuracy: 0.2272 - val_loss: 2.3494 - val_accuracy: 0.2361\n",
      "Epoch 9/15\n",
      "36/36 [==============================] - 0s 787us/step - loss: 2.3161 - accuracy: 0.2620 - val_loss: 2.1833 - val_accuracy: 0.2951\n",
      "Epoch 10/15\n",
      "36/36 [==============================] - 0s 782us/step - loss: 2.1670 - accuracy: 0.2942 - val_loss: 2.0490 - val_accuracy: 0.3229\n",
      "Epoch 11/15\n",
      "36/36 [==============================] - 0s 729us/step - loss: 2.0424 - accuracy: 0.3194 - val_loss: 1.9357 - val_accuracy: 0.3611\n",
      "Epoch 12/15\n",
      "36/36 [==============================] - 0s 763us/step - loss: 1.9355 - accuracy: 0.3542 - val_loss: 1.8380 - val_accuracy: 0.4062\n",
      "Epoch 13/15\n",
      "36/36 [==============================] - 0s 774us/step - loss: 1.8419 - accuracy: 0.3847 - val_loss: 1.7526 - val_accuracy: 0.4167\n",
      "Epoch 14/15\n",
      "36/36 [==============================] - 0s 763us/step - loss: 1.7593 - accuracy: 0.4125 - val_loss: 1.6752 - val_accuracy: 0.4375\n",
      "Epoch 15/15\n",
      "36/36 [==============================] - 0s 728us/step - loss: 1.6844 - accuracy: 0.4326 - val_loss: 1.6060 - val_accuracy: 0.4688\n",
      "\n",
      "Learning Rate: 0.0001\n",
      "Loss:     1.67\n",
      "Accuracy: 43.89%\n"
     ]
    }
   ],
   "source": [
    "# Try decreasing the learning rate of the SGD optimizer by a factor of 10, or 100. What do you observe?\n",
    "from tensorflow.keras.models import Sequential\n",
    "from tensorflow.keras.layers import Dense\n",
    "from tensorflow.keras import optimizers\n",
    "\n",
    "def create_compile_model(learning_rate):\n",
    "    model = Sequential()\n",
    "    # Input layer\n",
    "    model.add(Dense(64, activation='relu', input_shape=(64,))) # 64 neurons, ReLU activation, input shape of 64\n",
    "\n",
    "# Hidden layer\n",
    "    model.add(Dense(64, activation='relu')) # 64 neurons, ReLU activation\n",
    "\n",
    "# Output layer\n",
    "    model.add(Dense(10, activation='softmax')) # 10 neurons, softmax activation\n",
    "\n",
    "    model.compile(\n",
    "        loss='categorical_crossentropy',\n",
    "        optimizer=optimizers.SGD(learning_rate=learning_rate),\n",
    "        metrics=['accuracy']\n",
    "    )\n",
    "    return model\n",
    "\n",
    "\n",
    "model_001 = create_compile_model(0.001)\n",
    "history_001 = model_001.fit(\n",
    "    X_train,\n",
    "    y_train,\n",
    "    epochs=15,\n",
    "    batch_size=32,\n",
    "    validation_split=0.2,\n",
    "    verbose=1\n",
    ")\n",
    "loss_001, accuracy_001 = model_001.evaluate(X_test, y_test, verbose=0)\n",
    "\n",
    "print(f'Learning Rate: 0.001')\n",
    "print(f'Loss:     {loss_001:.2f}')\n",
    "print(f'Accuracy: {accuracy_001*100:.2f}%')\n",
    "\n",
    "# Train and evaluate with learning rate 0.0001\n",
    "model_0001 = create_compile_model(0.0001)\n",
    "history_0001 = model_0001.fit(\n",
    "    X_train,\n",
    "    y_train,\n",
    "    epochs=15,\n",
    "    batch_size=32,\n",
    "    validation_split=0.2,\n",
    "    verbose=1\n",
    ")\n",
    "loss_0001, accuracy_0001 = model_0001.evaluate(X_test, y_test, verbose=0)\n",
    "\n",
    "print(f'\\nLearning Rate: 0.0001')\n",
    "print(f'Loss:     {loss_0001:.2f}')\n",
    "print(f'Accuracy: {accuracy_0001*100:.2f}%')"
   ]
  },
  {
   "cell_type": "code",
   "execution_count": 31,
   "metadata": {},
   "outputs": [
    {
     "name": "stderr",
     "output_type": "stream",
     "text": [
      "WARNING:absl:At this time, the v2.11+ optimizer `tf.keras.optimizers.SGD` runs slowly on M1/M2 Macs, please use the legacy Keras optimizer instead, located at `tf.keras.optimizers.legacy.SGD`.\n"
     ]
    },
    {
     "name": "stdout",
     "output_type": "stream",
     "text": [
      "Epoch 1/15\n",
      "36/36 [==============================] - 0s 2ms/step - loss: 3.1219 - accuracy: 0.4343 - val_loss: 0.9336 - val_accuracy: 0.7014\n",
      "Epoch 2/15\n",
      "36/36 [==============================] - 0s 783us/step - loss: 0.5793 - accuracy: 0.7998 - val_loss: 1.9282 - val_accuracy: 0.5660\n",
      "Epoch 3/15\n",
      "36/36 [==============================] - 0s 715us/step - loss: 0.3553 - accuracy: 0.8938 - val_loss: 0.3263 - val_accuracy: 0.9028\n",
      "Epoch 4/15\n",
      "36/36 [==============================] - 0s 780us/step - loss: 0.2549 - accuracy: 0.9199 - val_loss: 0.2494 - val_accuracy: 0.9201\n",
      "Epoch 5/15\n",
      "36/36 [==============================] - 0s 853us/step - loss: 0.1613 - accuracy: 0.9547 - val_loss: 0.2275 - val_accuracy: 0.9271\n",
      "Epoch 6/15\n",
      "36/36 [==============================] - 0s 2ms/step - loss: 0.0989 - accuracy: 0.9739 - val_loss: 0.1822 - val_accuracy: 0.9375\n",
      "Epoch 7/15\n",
      "36/36 [==============================] - 0s 752us/step - loss: 0.0766 - accuracy: 0.9809 - val_loss: 0.2164 - val_accuracy: 0.9271\n",
      "Epoch 8/15\n",
      "36/36 [==============================] - 0s 757us/step - loss: 0.0654 - accuracy: 0.9774 - val_loss: 0.2006 - val_accuracy: 0.9410\n",
      "Epoch 9/15\n",
      "36/36 [==============================] - 0s 725us/step - loss: 0.0458 - accuracy: 0.9869 - val_loss: 0.2168 - val_accuracy: 0.9375\n",
      "Epoch 10/15\n",
      "36/36 [==============================] - 0s 695us/step - loss: 0.0437 - accuracy: 0.9861 - val_loss: 0.1767 - val_accuracy: 0.9375\n",
      "Epoch 11/15\n",
      "36/36 [==============================] - 0s 746us/step - loss: 0.0346 - accuracy: 0.9922 - val_loss: 0.1610 - val_accuracy: 0.9549\n",
      "Epoch 12/15\n",
      "36/36 [==============================] - 0s 696us/step - loss: 0.0257 - accuracy: 0.9913 - val_loss: 0.1833 - val_accuracy: 0.9583\n",
      "Epoch 13/15\n",
      "36/36 [==============================] - 0s 707us/step - loss: 0.0258 - accuracy: 0.9922 - val_loss: 0.2171 - val_accuracy: 0.9375\n",
      "Epoch 14/15\n",
      "36/36 [==============================] - 0s 712us/step - loss: 0.0244 - accuracy: 0.9913 - val_loss: 0.1719 - val_accuracy: 0.9514\n",
      "Epoch 15/15\n",
      "36/36 [==============================] - 0s 703us/step - loss: 0.0191 - accuracy: 0.9965 - val_loss: 0.1654 - val_accuracy: 0.9583\n",
      "\n",
      "Learning Rate: 0.06\n",
      "Loss:     0.09\n",
      "Accuracy: 97.22%\n"
     ]
    }
   ],
   "source": [
    "# Try increasing the learning rate of the SGD optimizer. What happens?\n",
    "# Train and evaluate with learning rate 0.06\n",
    "model_0001 = create_compile_model(0.06)\n",
    "history_0001 = model_0001.fit(\n",
    "    X_train,\n",
    "    y_train,\n",
    "    epochs=15,\n",
    "    batch_size=32,\n",
    "    validation_split=0.2,\n",
    "    verbose=1\n",
    ")\n",
    "loss_0001, accuracy_0001 = model_0001.evaluate(X_test, y_test, verbose=0)\n",
    "\n",
    "print(f'\\nLearning Rate: 0.06')\n",
    "print(f'Loss:     {loss_0001:.2f}')\n",
    "print(f'Accuracy: {accuracy_0001*100:.2f}%')"
   ]
  },
  {
   "cell_type": "code",
   "execution_count": 33,
   "metadata": {},
   "outputs": [
    {
     "name": "stderr",
     "output_type": "stream",
     "text": [
      "WARNING:absl:At this time, the v2.11+ optimizer `tf.keras.optimizers.SGD` runs slowly on M1/M2 Macs, please use the legacy Keras optimizer instead, located at `tf.keras.optimizers.legacy.SGD`.\n"
     ]
    },
    {
     "name": "stdout",
     "output_type": "stream",
     "text": [
      "Epoch 1/15\n",
      "36/36 [==============================] - 0s 2ms/step - loss: 2.1630 - accuracy: 0.4656 - val_loss: 0.7114 - val_accuracy: 0.7743\n",
      "Epoch 2/15\n",
      "36/36 [==============================] - 0s 964us/step - loss: 0.4489 - accuracy: 0.8729 - val_loss: 0.4010 - val_accuracy: 0.8785\n",
      "Epoch 3/15\n",
      "36/36 [==============================] - 0s 730us/step - loss: 0.2703 - accuracy: 0.9199 - val_loss: 0.3341 - val_accuracy: 0.8958\n",
      "Epoch 4/15\n",
      "36/36 [==============================] - 0s 715us/step - loss: 0.2167 - accuracy: 0.9339 - val_loss: 0.2890 - val_accuracy: 0.9167\n",
      "Epoch 5/15\n",
      "36/36 [==============================] - 0s 733us/step - loss: 0.1621 - accuracy: 0.9565 - val_loss: 0.2836 - val_accuracy: 0.9167\n",
      "Epoch 6/15\n",
      "36/36 [==============================] - 0s 708us/step - loss: 0.1312 - accuracy: 0.9713 - val_loss: 0.2628 - val_accuracy: 0.9132\n",
      "Epoch 7/15\n",
      "36/36 [==============================] - 0s 713us/step - loss: 0.1220 - accuracy: 0.9687 - val_loss: 0.2605 - val_accuracy: 0.9132\n",
      "Epoch 8/15\n",
      "36/36 [==============================] - 0s 742us/step - loss: 0.1037 - accuracy: 0.9765 - val_loss: 0.2632 - val_accuracy: 0.9201\n",
      "Epoch 9/15\n",
      "36/36 [==============================] - 0s 693us/step - loss: 0.0925 - accuracy: 0.9774 - val_loss: 0.2476 - val_accuracy: 0.9306\n",
      "Epoch 10/15\n",
      "36/36 [==============================] - 0s 762us/step - loss: 0.0863 - accuracy: 0.9817 - val_loss: 0.2304 - val_accuracy: 0.9340\n",
      "Epoch 11/15\n",
      "36/36 [==============================] - 0s 757us/step - loss: 0.0728 - accuracy: 0.9835 - val_loss: 0.2272 - val_accuracy: 0.9340\n",
      "Epoch 12/15\n",
      "36/36 [==============================] - 0s 2ms/step - loss: 0.0667 - accuracy: 0.9861 - val_loss: 0.2221 - val_accuracy: 0.9410\n",
      "Epoch 13/15\n",
      "36/36 [==============================] - 0s 742us/step - loss: 0.0636 - accuracy: 0.9904 - val_loss: 0.2190 - val_accuracy: 0.9375\n",
      "Epoch 14/15\n",
      "36/36 [==============================] - 0s 780us/step - loss: 0.0547 - accuracy: 0.9896 - val_loss: 0.2286 - val_accuracy: 0.9306\n",
      "Epoch 15/15\n",
      "36/36 [==============================] - 0s 787us/step - loss: 0.0517 - accuracy: 0.9896 - val_loss: 0.2107 - val_accuracy: 0.9444\n",
      "\n",
      "Learning Rate: 0.001 and momentum:0.9\n",
      "Loss:     0.12\n",
      "Accuracy: 96.11%\n"
     ]
    }
   ],
   "source": [
    "# The SGD optimizer has a momentum parameter. In a nutshell, this parameter controls how much the gradient from the previous step affects the current step. Try enabling momentum in the SGD optimizer with a value of 0.9. What happens?\n",
    "\n",
    "def create_compile_model(learning_rate):\n",
    "    model = Sequential()\n",
    "    # Input layer\n",
    "    model.add(Dense(64, activation='relu', input_shape=(64,))) # 64 neurons, ReLU activation, input shape of 64\n",
    "\n",
    "# Hidden layer\n",
    "    model.add(Dense(64, activation='relu')) # 64 neurons, ReLU activation\n",
    "\n",
    "# Output layer\n",
    "    model.add(Dense(10, activation='softmax')) # 10 neurons, softmax activation\n",
    "\n",
    "    model.compile(\n",
    "        loss='categorical_crossentropy',\n",
    "        optimizer=optimizers.SGD(learning_rate=learning_rate, momentum=0.9),\n",
    "        metrics=['accuracy']\n",
    "    )\n",
    "    return model\n",
    "\n",
    "# Train and evaluate with learning rate 0.06 and momentum = 0.9\n",
    "model_0001 = create_compile_model(0.001)\n",
    "history_0001 = model_0001.fit(\n",
    "    X_train,\n",
    "    y_train,\n",
    "    epochs=15,\n",
    "    batch_size=32,\n",
    "    validation_split=0.2,\n",
    "    verbose=1\n",
    ")\n",
    "loss_0001, accuracy_0001 = model_0001.evaluate(X_test, y_test, verbose=0)\n",
    "\n",
    "print(f'\\nLearning Rate: 0.001 and momentum:0.9')\n",
    "print(f'Loss:     {loss_0001:.2f}')\n",
    "print(f'Accuracy: {accuracy_0001*100:.2f}%')"
   ]
  },
  {
   "cell_type": "markdown",
   "metadata": {},
   "source": [
    "Next, let's try a more advanced optimizer. Adam is likely the most popular optimizer for deep learning. It is an adaptive learning rate optimizer, which means that it automatically adjusts the learning rate based on how the training is going. This can be very useful, as it means that we don't need to manually tune the learning rate. Let's see how it performs on our model.\n",
    "\n",
    "\n",
    "1. Replace the SGD optimizer by the Adam optimizer from keras and run it\n",
    "  with the default parameters."
   ]
  },
  {
   "cell_type": "code",
   "execution_count": 34,
   "metadata": {},
   "outputs": [
    {
     "name": "stderr",
     "output_type": "stream",
     "text": [
      "WARNING:absl:At this time, the v2.11+ optimizer `tf.keras.optimizers.Adam` runs slowly on M1/M2 Macs, please use the legacy Keras optimizer instead, located at `tf.keras.optimizers.legacy.Adam`.\n"
     ]
    },
    {
     "name": "stdout",
     "output_type": "stream",
     "text": [
      "Epoch 1/15\n",
      "36/36 [==============================] - 0s 2ms/step - loss: 0.9751 - accuracy: 0.7224 - val_loss: 0.3810 - val_accuracy: 0.8889\n",
      "Epoch 2/15\n",
      "36/36 [==============================] - 0s 808us/step - loss: 0.2123 - accuracy: 0.9408 - val_loss: 0.2898 - val_accuracy: 0.8924\n",
      "Epoch 3/15\n",
      "36/36 [==============================] - 0s 824us/step - loss: 0.1337 - accuracy: 0.9591 - val_loss: 0.2967 - val_accuracy: 0.8993\n",
      "Epoch 4/15\n",
      "36/36 [==============================] - 0s 808us/step - loss: 0.1046 - accuracy: 0.9652 - val_loss: 0.2332 - val_accuracy: 0.9340\n",
      "Epoch 5/15\n",
      "36/36 [==============================] - 0s 885us/step - loss: 0.0970 - accuracy: 0.9600 - val_loss: 0.3001 - val_accuracy: 0.9236\n",
      "Epoch 6/15\n",
      "36/36 [==============================] - 0s 2ms/step - loss: 0.0657 - accuracy: 0.9809 - val_loss: 0.2511 - val_accuracy: 0.9306\n",
      "Epoch 7/15\n",
      "36/36 [==============================] - 0s 955us/step - loss: 0.0389 - accuracy: 0.9878 - val_loss: 0.1634 - val_accuracy: 0.9514\n",
      "Epoch 8/15\n",
      "36/36 [==============================] - 0s 830us/step - loss: 0.0293 - accuracy: 0.9887 - val_loss: 0.2634 - val_accuracy: 0.9375\n",
      "Epoch 9/15\n",
      "36/36 [==============================] - 0s 808us/step - loss: 0.0637 - accuracy: 0.9800 - val_loss: 0.2523 - val_accuracy: 0.9271\n",
      "Epoch 10/15\n",
      "36/36 [==============================] - 0s 823us/step - loss: 0.0578 - accuracy: 0.9826 - val_loss: 0.2878 - val_accuracy: 0.9410\n",
      "Epoch 11/15\n",
      "36/36 [==============================] - 0s 837us/step - loss: 0.2839 - accuracy: 0.9304 - val_loss: 0.4451 - val_accuracy: 0.8993\n",
      "Epoch 12/15\n",
      "36/36 [==============================] - 0s 820us/step - loss: 0.1614 - accuracy: 0.9539 - val_loss: 0.1817 - val_accuracy: 0.9549\n",
      "Epoch 13/15\n",
      "36/36 [==============================] - 0s 787us/step - loss: 0.0727 - accuracy: 0.9756 - val_loss: 0.3266 - val_accuracy: 0.9306\n",
      "Epoch 14/15\n",
      "36/36 [==============================] - 0s 799us/step - loss: 0.0554 - accuracy: 0.9817 - val_loss: 0.4065 - val_accuracy: 0.9201\n",
      "Epoch 15/15\n",
      "36/36 [==============================] - 0s 789us/step - loss: 0.0591 - accuracy: 0.9809 - val_loss: 0.2339 - val_accuracy: 0.9618\n",
      "\n",
      "Learning Rate: 0.01 and Adam optimizer\n",
      "Loss:     0.19\n",
      "Accuracy: 96.11%\n"
     ]
    }
   ],
   "source": [
    "# Your code here\n",
    "def create_compile_model(learning_rate):\n",
    "    model = Sequential()\n",
    "    # Input layer\n",
    "    model.add(Dense(64, activation='relu', input_shape=(64,))) # 64 neurons, ReLU activation, input shape of 64\n",
    "\n",
    "# Hidden layer\n",
    "    model.add(Dense(64, activation='relu')) # 64 neurons, ReLU activation\n",
    "\n",
    "# Output layer\n",
    "    model.add(Dense(10, activation='softmax')) # 10 neurons, softmax activation\n",
    "\n",
    "    model.compile(\n",
    "        loss='categorical_crossentropy',\n",
    "        optimizer=optimizers.Adam(learning_rate=learning_rate),\n",
    "        metrics=['accuracy']\n",
    "    )\n",
    "    return model\n",
    "\n",
    "# Train and evaluate with learning rate 0.06 and momentum = 0.9\n",
    "model_0001 = create_compile_model(0.01)\n",
    "history_0001 = model_0001.fit(\n",
    "    X_train,\n",
    "    y_train,\n",
    "    epochs=15,\n",
    "    batch_size=32,\n",
    "    validation_split=0.2,\n",
    "    verbose=1\n",
    ")\n",
    "loss_0001, accuracy_0001 = model_0001.evaluate(X_test, y_test, verbose=0)\n",
    "\n",
    "print(f'\\nLearning Rate: 0.01 and Adam optimizer')\n",
    "print(f'Loss:     {loss_0001:.2f}')\n",
    "print(f'Accuracy: {accuracy_0001*100:.2f}%')"
   ]
  },
  {
   "cell_type": "markdown",
   "metadata": {},
   "source": [
    "2. Add another hidden layer with ReLU activation and 64 neurons. Does it improve the model performance?"
   ]
  },
  {
   "cell_type": "code",
   "execution_count": 36,
   "metadata": {},
   "outputs": [
    {
     "name": "stderr",
     "output_type": "stream",
     "text": [
      "WARNING:absl:At this time, the v2.11+ optimizer `tf.keras.optimizers.Adam` runs slowly on M1/M2 Macs, please use the legacy Keras optimizer instead, located at `tf.keras.optimizers.legacy.Adam`.\n"
     ]
    },
    {
     "name": "stdout",
     "output_type": "stream",
     "text": [
      "Epoch 1/15\n",
      "36/36 [==============================] - 0s 2ms/step - loss: 1.0818 - accuracy: 0.6754 - val_loss: 0.4896 - val_accuracy: 0.8403\n",
      "Epoch 2/15\n",
      "36/36 [==============================] - 0s 844us/step - loss: 0.3415 - accuracy: 0.8956 - val_loss: 0.5160 - val_accuracy: 0.8368\n",
      "Epoch 3/15\n",
      "36/36 [==============================] - 0s 802us/step - loss: 0.2083 - accuracy: 0.9295 - val_loss: 0.2293 - val_accuracy: 0.9340\n",
      "Epoch 4/15\n",
      "36/36 [==============================] - 0s 766us/step - loss: 0.1558 - accuracy: 0.9521 - val_loss: 0.1893 - val_accuracy: 0.9410\n",
      "Epoch 5/15\n",
      "36/36 [==============================] - 0s 805us/step - loss: 0.1280 - accuracy: 0.9608 - val_loss: 0.1936 - val_accuracy: 0.9375\n",
      "Epoch 6/15\n",
      "36/36 [==============================] - 0s 808us/step - loss: 0.1100 - accuracy: 0.9634 - val_loss: 0.1725 - val_accuracy: 0.9479\n",
      "Epoch 7/15\n",
      "36/36 [==============================] - 0s 778us/step - loss: 0.0985 - accuracy: 0.9695 - val_loss: 0.3024 - val_accuracy: 0.9306\n",
      "Epoch 8/15\n",
      "36/36 [==============================] - 0s 782us/step - loss: 0.0829 - accuracy: 0.9721 - val_loss: 0.3089 - val_accuracy: 0.9444\n",
      "Epoch 9/15\n",
      "36/36 [==============================] - 0s 778us/step - loss: 0.1099 - accuracy: 0.9721 - val_loss: 0.1648 - val_accuracy: 0.9479\n",
      "Epoch 10/15\n",
      "36/36 [==============================] - 0s 803us/step - loss: 0.0641 - accuracy: 0.9791 - val_loss: 0.2639 - val_accuracy: 0.9479\n",
      "Epoch 11/15\n",
      "36/36 [==============================] - 0s 782us/step - loss: 0.0344 - accuracy: 0.9887 - val_loss: 0.1012 - val_accuracy: 0.9722\n",
      "Epoch 12/15\n",
      "36/36 [==============================] - 0s 778us/step - loss: 0.0158 - accuracy: 0.9965 - val_loss: 0.3503 - val_accuracy: 0.9444\n",
      "Epoch 13/15\n",
      "36/36 [==============================] - 0s 798us/step - loss: 0.1217 - accuracy: 0.9669 - val_loss: 0.4889 - val_accuracy: 0.9062\n",
      "Epoch 14/15\n",
      "36/36 [==============================] - 0s 849us/step - loss: 0.1666 - accuracy: 0.9513 - val_loss: 0.6986 - val_accuracy: 0.8958\n",
      "Epoch 15/15\n",
      "36/36 [==============================] - 0s 825us/step - loss: 0.1966 - accuracy: 0.9460 - val_loss: 0.3647 - val_accuracy: 0.9306\n",
      "\n",
      "Learning Rate: 0.01, Adam optimizer and Additional Layer\n",
      "Loss:     0.18\n",
      "Accuracy: 94.17%\n"
     ]
    }
   ],
   "source": [
    "# 2.Add another hidden layer with ReLU activation and 64 neurons. Does it improve the model performance?\n",
    "def create_compile_model(learning_rate):\n",
    "    model = Sequential()\n",
    "    # Input layer\n",
    "    model.add(Dense(64, activation='relu', input_shape=(64,))) # 64 neurons, ReLU activation, input shape of 64\n",
    "\n",
    "    # Hidden layer\n",
    "    model.add(Dense(64, activation='relu')) # 64 neurons, ReLU activation\n",
    "    # Additional Hidden layer\n",
    "    model.add(Dense(64, activation='relu')) # 64 neurons, ReLU activation\n",
    "\n",
    "# Output layer\n",
    "    model.add(Dense(10, activation='softmax')) # 10 neurons, softmax activation\n",
    "\n",
    "    model.compile(\n",
    "        loss='categorical_crossentropy',\n",
    "        optimizer=optimizers.Adam(learning_rate=learning_rate),\n",
    "        metrics=['accuracy']\n",
    "    )\n",
    "    return model\n",
    "\n",
    "# Train and evaluate with learning rate 0.06 and momentum = 0.9\n",
    "model_0001 = create_compile_model(0.01)\n",
    "history_0001 = model_0001.fit(\n",
    "    X_train,\n",
    "    y_train,\n",
    "    epochs=15,\n",
    "    batch_size=32,\n",
    "    validation_split=0.2,\n",
    "    verbose=1\n",
    ")\n",
    "loss_0001, accuracy_0001 = model_0001.evaluate(X_test, y_test, verbose=0)\n",
    "\n",
    "print(f'\\nLearning Rate: 0.01, Adam optimizer and Additional Layer')\n",
    "print(f'Loss:     {loss_0001:.2f}')\n",
    "print(f'Accuracy: {accuracy_0001*100:.2f}%')"
   ]
  },
  {
   "cell_type": "markdown",
   "metadata": {},
   "source": [
    "### Exercises: Forward Pass and Generalization\n",
    "\n",
    "Let's look in more detail at how the model makes predictions on the test set. We will walk through each step of making predictions, examining exactly what's going on.\n",
    "\n",
    "To start, we will apply our model to the test set, and look at what we get as output:"
   ]
  },
  {
   "cell_type": "code",
   "execution_count": 37,
   "metadata": {},
   "outputs": [
    {
     "data": {
      "text/plain": [
       "<tf.Tensor: shape=(5, 10), dtype=float32, numpy=\n",
       "array([[7.0962990e-03, 8.9458939e-05, 9.7350255e-03, 1.9020579e-03,\n",
       "        1.3600902e-01, 1.7129423e-03, 8.3721966e-01, 1.5779113e-04,\n",
       "        4.2545223e-03, 1.8232045e-03],\n",
       "       [4.4861957e-02, 5.7670616e-02, 8.3196284e-03, 7.6988570e-02,\n",
       "        1.2577176e-02, 3.6361057e-01, 2.7599683e-05, 1.0046812e-02,\n",
       "        1.3821915e-01, 2.8767791e-01],\n",
       "       [2.0805048e-02, 2.2320377e-02, 2.1458471e-03, 8.2179064e-01,\n",
       "        8.2621985e-04, 1.7511552e-02, 3.4976311e-04, 1.4955268e-03,\n",
       "        9.9889375e-02, 1.2865674e-02],\n",
       "       [4.7911801e-03, 6.4060027e-03, 5.1011890e-04, 1.8505551e-05,\n",
       "        7.5508689e-04, 1.2745392e-03, 2.6727669e-04, 9.0017045e-01,\n",
       "        3.6316451e-03, 8.2175367e-02],\n",
       "       [1.6276805e-02, 1.7520759e-01, 6.0713416e-01, 1.0645619e-01,\n",
       "        2.1588369e-03, 1.0561609e-03, 7.1917633e-03, 1.9598689e-03,\n",
       "        2.3864776e-02, 5.8693770e-02]], dtype=float32)>"
      ]
     },
     "execution_count": 37,
     "metadata": {},
     "output_type": "execute_result"
    }
   ],
   "source": [
    "predictions_tf = model(X_test)\n",
    "predictions_tf[:5]"
   ]
  },
  {
   "cell_type": "code",
   "execution_count": 38,
   "metadata": {},
   "outputs": [
    {
     "data": {
      "text/plain": [
       "(tensorflow.python.framework.ops.EagerTensor, TensorShape([360, 10]))"
      ]
     },
     "execution_count": 38,
     "metadata": {},
     "output_type": "execute_result"
    }
   ],
   "source": [
    "type(predictions_tf), predictions_tf.shape"
   ]
  },
  {
   "cell_type": "markdown",
   "metadata": {},
   "source": [
    "The raw output of the model is a tensor of shape `(360, 10)`. This means that we have 360 samples, and for each sample we have 10 values. Each of these values represents the probability that the sample belongs to a given class. This means that we have 10 probabilities for each sample, and the sum of these probabilities is 1. We can confirm this by summing the probabilities for each sample:"
   ]
  },
  {
   "cell_type": "code",
   "execution_count": 39,
   "metadata": {},
   "outputs": [
    {
     "data": {
      "text/plain": [
       "<tf.Tensor: shape=(5,), dtype=float32, numpy=\n",
       "array([1.       , 1.       , 1.       , 1.0000001, 1.       ],\n",
       "      dtype=float32)>"
      ]
     },
     "execution_count": 39,
     "metadata": {},
     "output_type": "execute_result"
    }
   ],
   "source": [
    "import tensorflow as tf\n",
    "\n",
    "tf.reduce_sum(predictions_tf, axis=1)[:5]"
   ]
  },
  {
   "cell_type": "markdown",
   "metadata": {
    "collapsed": false
   },
   "source": [
    "...okay, there might be a small rounding error here and there. This is to do with how floating point numbers are represented in computers, and it's not something we need to worry about for now."
   ]
  },
  {
   "cell_type": "markdown",
   "metadata": {},
   "source": [
    "We can also extract the label with the highest probability using the tensorflow API:"
   ]
  },
  {
   "cell_type": "code",
   "execution_count": 40,
   "metadata": {},
   "outputs": [
    {
     "data": {
      "text/plain": [
       "<tf.Tensor: shape=(5,), dtype=int64, numpy=array([6, 5, 3, 7, 2])>"
      ]
     },
     "execution_count": 40,
     "metadata": {},
     "output_type": "execute_result"
    }
   ],
   "source": [
    "predicted_labels_tf = tf.argmax(predictions_tf, axis=1)\n",
    "predicted_labels_tf[:5]"
   ]
  },
  {
   "cell_type": "markdown",
   "metadata": {
    "collapsed": false
   },
   "source": [
    "One helpful aspect of this approach is that we don't just get the prediction, but also a sense of how confident the model is in its prediction. To see this in practice, let's take a look at some of the predictions the model is highly confident about (i.e. a lot of the probability mass is on one class):"
   ]
  },
  {
   "cell_type": "code",
   "execution_count": null,
   "metadata": {
    "collapsed": false
   },
   "outputs": [],
   "source": [
    "# Get the values corresponding to the predicted labels for each sample\n",
    "predicted_values_tf = tf.reduce_max(predictions_tf, axis=1)\n",
    "\n",
    "# Get the indices of the samples with the highest predicted values\n",
    "most_confident_indices_tf = tf.argsort(predicted_values_tf, direction='DESCENDING').numpy()[:9]\n",
    "\n",
    "# Get the 9 most confident samples\n",
    "most_confident_samples_tf = X_test[most_confident_indices_tf]\n",
    "\n",
    "# Get the true labels for the 9 most confident samples\n",
    "most_confident_labels_tf = np.argmax(y_test[most_confident_indices_tf], axis=1)\n",
    "\n",
    "# Plot the 9 most confident samples\n",
    "fig, axes = plt.subplots(3, 3, figsize=(6, 6))\n",
    "\n",
    "for i, ax in enumerate(axes.flat):\n",
    "    ax.imshow(most_confident_samples_tf[i].reshape(8, 8), cmap=plt.cm.gray_r, interpolation='nearest')\n",
    "    ax.set_title(f\"{most_confident_labels_tf[i]}\")\n",
    "\n",
    "    # Removing axis labels\n",
    "    ax.set_xticks([])\n",
    "    ax.set_yticks([])\n",
    "    \n",
    "plt.show()"
   ]
  },
  {
   "cell_type": "markdown",
   "metadata": {},
   "source": [
    "## Impact of Initialization\n",
    "\n",
    "Let's study the impact of a bad initialization when training\n",
    "a deep feed forward network.\n",
    "\n",
    "By default, Keras dense layers use the \"Glorot Uniform\" initialization\n",
    "strategy to initialize the weight matrices:\n",
    "\n",
    "- each weight coefficient is randomly sampled from [-scale, scale]\n",
    "- scale is proportional to $\\frac{1}{\\sqrt{n_{in} + n_{out}}}$\n",
    "\n",
    "This strategy is known to work well to initialize deep neural networks\n",
    "with \"tanh\" or \"relu\" activation functions and then trained with\n",
    "standard SGD.\n",
    "\n",
    "To assess the impact of initialization let us plug an alternative init\n",
    "scheme into a 2 hidden layers networks with \"tanh\" activations.\n",
    "For the sake of the example let's use normal distributed weights\n",
    "with a manually adjustable scale (standard deviation) and see the\n",
    "impact the scale value:"
   ]
  },
  {
   "cell_type": "code",
   "execution_count": null,
   "metadata": {},
   "outputs": [],
   "source": [
    "from tensorflow.keras import initializers\n",
    "from tensorflow.keras import optimizers\n",
    "\n",
    "input_dim = 64\n",
    "hidden_dim = 64\n",
    "output_dim = 10\n",
    "\n",
    "normal_init = initializers.TruncatedNormal(stddev=0.01, seed=42)\n",
    "\n",
    "model = Sequential()\n",
    "model.add(Dense(hidden_dim, input_dim=input_dim, activation=\"tanh\",\n",
    "                kernel_initializer=normal_init))\n",
    "model.add(Dense(hidden_dim, activation=\"tanh\",\n",
    "                kernel_initializer=normal_init))\n",
    "model.add(Dense(output_dim, activation=\"softmax\",\n",
    "                kernel_initializer=normal_init))\n",
    "\n",
    "model.compile(optimizer=optimizers.SGD(learning_rate=0.1),\n",
    "              loss='categorical_crossentropy', metrics=['accuracy'])"
   ]
  },
  {
   "cell_type": "code",
   "execution_count": null,
   "metadata": {},
   "outputs": [],
   "source": [
    "model.layers"
   ]
  },
  {
   "cell_type": "markdown",
   "metadata": {},
   "source": [
    "Let's have a look at the parameters of the first layer after initialization but before any training has happened:"
   ]
  },
  {
   "cell_type": "code",
   "execution_count": null,
   "metadata": {},
   "outputs": [],
   "source": [
    "model.layers[0].weights"
   ]
  },
  {
   "cell_type": "code",
   "execution_count": null,
   "metadata": {},
   "outputs": [],
   "source": [
    "w = model.layers[0].weights[0].numpy()\n",
    "w"
   ]
  },
  {
   "cell_type": "code",
   "execution_count": null,
   "metadata": {},
   "outputs": [],
   "source": [
    "w.std()"
   ]
  },
  {
   "cell_type": "code",
   "execution_count": null,
   "metadata": {},
   "outputs": [],
   "source": [
    "b = model.layers[0].weights[1].numpy()\n",
    "b"
   ]
  },
  {
   "cell_type": "code",
   "execution_count": null,
   "metadata": {},
   "outputs": [],
   "source": [
    "history = model.fit(X_train, y_train, epochs=15, batch_size=32)\n",
    "\n",
    "plt.figure(figsize=(12, 4))\n",
    "plt.plot(history.history['loss'], label=\"Truncated Normal init\")\n",
    "plt.legend();"
   ]
  },
  {
   "cell_type": "markdown",
   "metadata": {},
   "source": [
    "Once the model has been fit, the weights have been updated and notably the biases are no longer 0:"
   ]
  },
  {
   "cell_type": "code",
   "execution_count": null,
   "metadata": {},
   "outputs": [],
   "source": [
    "model.layers[0].weights"
   ]
  },
  {
   "cell_type": "markdown",
   "metadata": {},
   "source": [
    "#### Questions:\n",
    "\n",
    "- Try the following initialization schemes and see whether\n",
    "  the SGD algorithm can successfully train the network or\n",
    "  not:\n",
    "  \n",
    "  - a very small e.g. `stddev=1e-3`\n",
    "  - a larger scale e.g. `stddev=1` or `10`\n",
    "  - initialize all weights to 0 (constant initialization)\n",
    "  \n",
    "- What do you observe? Can you find an explanation for those\n",
    "  outcomes?\n",
    "\n",
    "- Are more advanced solvers such as SGD with momentum or Adam able\n",
    "  to deal better with such bad initializations?"
   ]
  },
  {
   "cell_type": "code",
   "execution_count": null,
   "metadata": {},
   "outputs": [],
   "source": [
    "# Your code here"
   ]
  }
 ],
 "metadata": {
  "file_extension": ".py",
  "kernelspec": {
   "display_name": "Python 3 (ipykernel)",
   "language": "python",
   "name": "python3"
  },
  "language_info": {
   "codemirror_mode": {
    "name": "ipython",
    "version": 3
   },
   "file_extension": ".py",
   "mimetype": "text/x-python",
   "name": "python",
   "nbconvert_exporter": "python",
   "pygments_lexer": "ipython3",
   "version": "3.11.8"
  },
  "mimetype": "text/x-python",
  "name": "python",
  "npconvert_exporter": "python",
  "pygments_lexer": "ipython3",
  "toc": {
   "base_numbering": 1,
   "nav_menu": {},
   "number_sections": true,
   "sideBar": true,
   "skip_h1_title": false,
   "title_cell": "Table of Contents",
   "title_sidebar": "Contents",
   "toc_cell": false,
   "toc_position": {},
   "toc_section_display": true,
   "toc_window_display": false
  },
  "version": 3
 },
 "nbformat": 4,
 "nbformat_minor": 4
}
