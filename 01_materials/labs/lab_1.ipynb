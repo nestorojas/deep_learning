{
 "cells": [
  {
   "cell_type": "markdown",
   "metadata": {},
   "source": [
    "# Training Neural Networks with Keras\n",
    "\n",
    "Welcome to the first practical session of the course! In this session, we will learn how to train neural networks with Keras. We will start with a simple example of a feedforward neural network for classification and then we will study the impact of the initialization of the weights on the convergence of the training algorithm.\n",
    "\n",
    "Keras is a high-level neural network API, built on top of TensorFlow 2.0. It provides a user-friendly interface to build, train and deploy deep learning models. Keras is designed to be modular, fast and easy to use.\n",
    "\n",
    "Throughout this course, we will focus on using Keras and TensorFlow for building and training neural networks. However, there are other popular deep learning frameworks such as PyTorch, MXNet, CNTK, etc. that you can also use to build and train neural networks.\n",
    "\n",
    "In order to use our code on Google Colab, we will need to ensure that any required packages are installed. We will use the following packages in this session:\n",
    "\n",
    "- `tensorflow`: an open-source library for numerical computation and large-scale machine learning.\n",
    "- `matplotlib`: a plotting library for the Python programming language and its numerical mathematics extension NumPy.\n",
    "- `numpy`: a library for scientific computing in Python.\n",
    "- `scikit-learn`: a machine learning library for the Python programming language.\n",
    "- `pandas`: a library providing high-performance, easy-to-use data structures and data analysis tools for the Python programming language.\n",
    "\n",
    "The following cell will check if the packages are installed, and if not, it will install them. Students familiar with how pip works might note that it already checks this before installing! The reason for this code (which will also appear in subsequent notebooks) is to speed up execution if you re-run the entire notebook - it will skip the installation step if the packages are already installed."
   ]
  },
  {
   "cell_type": "markdown",
   "metadata": {
    "collapsed": false
   },
   "source": [
    "With the packages installed, we can now get started on the practical session!\n",
    "\n",
    "Today, we will be working with the famous MNIST dataset. MNIST (Modified National Institute of Standards and Technology) is a database of low resolution images of handwritten digits. The history here is interesting - the dataset was originally created in the 1980s, when researchers from the aforementioned institute collected samples from American Census Bureau employees and high school students. The dataset was then modified in the 1990s (hence the M in MNIST), and has since become a popular benchmark for machine learning algorithms. \n",
    "\n",
    "The dataset contains images, each of which is a 28x28 grayscale image of a handwritten digit. The goal is to classify each image into one of the 10 possible classes (0-9).\n",
    "\n",
    "![MNIST](https://upload.wikimedia.org/wikipedia/commons/2/27/MnistExamples.png)\n",
    "\n",
    "The Scikit-Learn library provides a convenient function to download and load the MNIST dataset. The following cell will download the dataset. Then we will take a look at the shape of the data."
   ]
  },
  {
   "cell_type": "code",
   "execution_count": 35,
   "metadata": {},
   "outputs": [],
   "source": [
    "import matplotlib.pyplot as plt\n",
    "import numpy as np\n",
    "\n",
    "from sklearn.datasets import load_digits\n",
    "\n",
    "digits = load_digits()"
   ]
  },
  {
   "cell_type": "code",
   "execution_count": 36,
   "metadata": {},
   "outputs": [
    {
     "data": {
      "text/plain": [
       "(1797, 8, 8)"
      ]
     },
     "execution_count": 36,
     "metadata": {},
     "output_type": "execute_result"
    }
   ],
   "source": [
    "digits.images.shape"
   ]
  },
  {
   "cell_type": "markdown",
   "metadata": {
    "collapsed": false
   },
   "source": [
    "This means that we have 1797 images, each of which is a 8x8 image. For basic image processing, we will need to flatten the images into a 1D array. In this case, Scikit-Learn has already provided the data in this format too:"
   ]
  },
  {
   "cell_type": "code",
   "execution_count": 37,
   "metadata": {},
   "outputs": [
    {
     "data": {
      "text/plain": [
       "(1797, 64)"
      ]
     },
     "execution_count": 37,
     "metadata": {},
     "output_type": "execute_result"
    }
   ],
   "source": [
    "digits.data.shape"
   ]
  },
  {
   "cell_type": "markdown",
   "metadata": {
    "collapsed": false
   },
   "source": [
    "For each image, we also have the corresponding label (or target, or class) in `digits.target`:"
   ]
  },
  {
   "cell_type": "code",
   "execution_count": 38,
   "metadata": {},
   "outputs": [
    {
     "data": {
      "text/plain": [
       "(1797,)"
      ]
     },
     "execution_count": 38,
     "metadata": {},
     "output_type": "execute_result"
    }
   ],
   "source": [
    "digits.target.shape"
   ]
  },
  {
   "cell_type": "markdown",
   "metadata": {
    "collapsed": false
   },
   "source": [
    "We can take a look at some random images from the dataset. The following cell will select 9 random images and plot them in a 3x3 grid (meaning that you can rerun the cell to see different images)."
   ]
  },
  {
   "cell_type": "code",
   "execution_count": 39,
   "metadata": {},
   "outputs": [
    {
     "data": {
      "image/png": "[encoded data removed]",
      "text/plain": [
       "<Figure size 600x600 with 12 Axes>"
      ]
     },
     "metadata": {},
     "output_type": "display_data"
    }
   ],
   "source": [
    "# Selecting 9 random indices\n",
    "random_indices = np.random.choice(len(digits.images), 12, replace=False)\n",
    "\n",
    "# Creating a 3x3 grid plot\n",
    "fig, axes = plt.subplots(3, 4, figsize=(6, 6))\n",
    "\n",
    "for i, ax in enumerate(axes.flat):\n",
    "    ax.imshow(digits.images[random_indices[i]], cmap=plt.cm.gray_r, interpolation='nearest')\n",
    "    ax.set_title(f\"Label: {digits.target[random_indices[i]]}\")\n",
    "\n",
    "    # Removing axis labels\n",
    "    ax.set_xticks([])\n",
    "    ax.set_yticks([])\n",
    "\n",
    "plt.show()"
   ]
  },
  {
   "cell_type": "markdown",
   "metadata": {
    "collapsed": false
   },
   "source": [
    "As you can see, these images are very low resolution. This is because they were originally scanned from paper forms, and then scaled down to 8x8 pixels. This is a common problem in machine learning - the quality of the data is often a limiting factor in the performance of the model. In this case, the low resolution of the images makes it difficult to distinguish between some digits, even for humans. For example, the following images are all labelled as 9, but they look very different:"
   ]
  },
  {
   "cell_type": "code",
   "execution_count": 40,
   "metadata": {
    "collapsed": false
   },
   "outputs": [
    {
     "data": {
      "image/png": "[encoded data removed]",
      "text/plain": [
       "<Figure size 600x600 with 9 Axes>"
      ]
     },
     "metadata": {},
     "output_type": "display_data"
    }
   ],
   "source": [
    "# Selecting 9 random indices of images labelled as 9\n",
    "random_indices = np.random.choice(np.where(digits.target == 8)[0], 9, replace=False)\n",
    "\n",
    "# Creating a 3x3 grid plot\n",
    "fig, axes = plt.subplots(3, 3, figsize=(6, 6))\n",
    "\n",
    "for i, ax in enumerate(axes.flat):\n",
    "    ax.imshow(digits.images[random_indices[i]], cmap=plt.cm.gray_r, interpolation='nearest')\n",
    "    ax.set_title(f\"Label: {digits.target[random_indices[i]]}\")\n",
    "\n",
    "    # Removing axis labels\n",
    "    ax.set_xticks([])\n",
    "    ax.set_yticks([])\n",
    "    \n",
    "plt.show()"
   ]
  },
  {
   "cell_type": "markdown",
   "metadata": {
    "collapsed": false
   },
   "source": [
    "While we are plotting the samples as images, remember that our model is only going to see a 1D array of numbers. "
   ]
  },
  {
   "cell_type": "markdown",
   "metadata": {},
   "source": [
    "## Train / Test Split\n",
    "\n",
    "In order to understand how well our model performs on _new_ data, we need to split our dataset into a training set and a test set. The training set will be used to train the model, and the test set will be used to evaluate the performance of the model.\n",
    "\n",
    "Let's keep some held-out data to be able to measure the generalization performance of our model. "
   ]
  },
  {
   "cell_type": "code",
   "execution_count": 41,
   "metadata": {},
   "outputs": [],
   "source": [
    "from sklearn.model_selection import train_test_split\n",
    "\n",
    "\n",
    "X_train, X_test, y_train, y_test = train_test_split(\n",
    "    digits.data, \n",
    "    digits.target,\n",
    "    test_size=0.2, # 20% of the data is used for testing\n",
    "    random_state=42 # Providing a value here means getting the same \"random\" split every time\n",
    ")"
   ]
  },
  {
   "cell_type": "markdown",
   "metadata": {
    "collapsed": false
   },
   "source": [
    "Let's confirm that the data has been split correctly:"
   ]
  },
  {
   "cell_type": "code",
   "execution_count": 42,
   "metadata": {
    "collapsed": false
   },
   "outputs": [
    {
     "name": "stdout",
     "output_type": "stream",
     "text": [
      "X_train shape: (1437, 64)\n",
      "y_train shape: (1437,)\n",
      "X_test shape: (360, 64)\n",
      "y_test shape: (360,)\n"
     ]
    }
   ],
   "source": [
    "print(f'X_train shape: {X_train.shape}')\n",
    "print(f'y_train shape: {y_train.shape}')\n",
    "print(f'X_test shape: {X_test.shape}')\n",
    "print(f'y_test shape: {y_test.shape}')"
   ]
  },
  {
   "cell_type": "markdown",
   "metadata": {
    "collapsed": false
   },
   "source": [
    "This is what we expected to see. It's always good to check as you go, to make sure that you haven't made a mistake somewhere - this is something that working in a notebook like this makes it easy to do."
   ]
  },
  {
   "cell_type": "markdown",
   "metadata": {},
   "source": [
    "## Preprocessing of the Target Data\n",
    "\n",
    "The labels that we have are integers between 0 and 9. However, we want to train a neural network to classify the images into one of 10 classes. It can be a little counter-intuitive because we are dealing with numbers, but our classes are not ordinal.\n",
    "\n",
    "What do we mean by that? Let's imagine we were trying to predict the height of a building (separated into classes) from images. If a given building was actually 10m tall, and our model predicted 9m, we would consider that to be a better prediction than if it predicted 1m. This is because the classes are ordinal - there is meaning in the difference between the classes.\n",
    "\n",
    "In our case, even though we are dealing with numbers, the classes are not ordinal. If a given image is actually a 9, and our model predicts 8, we would consider that to be just as bad as if it predicted 1. This is because the classes are not ordered, and the difference between the classes is not meaningful.\n",
    "\n",
    "Because of this, we need to convert our labels from an integer value into a one-hot encoded vector. This means that each label will be represented as a vector of length 10, with a 1 in the position corresponding to the class, and 0s everywhere else. For example, the label 9 would be represented as `[0, 0, 0, 0, 0, 0, 0, 0, 0, 1]`. This is a common way of representing categorical data in machine learning. By doing this, we ensure that our model is taught the correct relationship between the classes."
   ]
  },
  {
   "cell_type": "code",
   "execution_count": 43,
   "metadata": {},
   "outputs": [
    {
     "name": "stdout",
     "output_type": "stream",
     "text": [
      "Before one-hot encoding: 6\n",
      "After one-hot encoding: [0. 0. 0. 0. 0. 0. 1. 0. 0. 0.]\n"
     ]
    }
   ],
   "source": [
    "from tensorflow.keras.utils import to_categorical\n",
    "\n",
    "print(f'Before one-hot encoding: {y_train[0]}')\n",
    "y_train = to_categorical(y_train, num_classes=10)\n",
    "y_test = to_categorical(y_test, num_classes=10)\n",
    "print(f'After one-hot encoding: {y_train[0]}')"
   ]
  },
  {
   "cell_type": "markdown",
   "metadata": {},
   "source": [
    "## Feed Forward Neural Networks with Keras\n",
    "\n",
    "Now that we have prepared our data, it's time to build a simple neural network! In this section, we will use the Keras API to build a simple feed forward neural network. We will then train the model on the MNIST dataset, and evaluate its performance on the test set.\n",
    "\n",
    "In most modern deep learning frameworks, the process of building a model can be broken down into a few steps:\n",
    "\n",
    "- Define the model architecture: this is where we define the layers of the model, and how they are connected to each other.\n",
    "- Compile the model: this is where we define the loss function, the optimizer, and the metrics that we want to use to evaluate the model.\n",
    "- Train the model: this is where we train the model on the training data.\n",
    "\n",
    "Let's start with defining the model architecture. There are two ways to do this in Keras - the Sequential API and the Functional API. The Sequential API is the simplest way to build a model, and is suitable for most use cases. The Functional API is more flexible, and allows you to build more complex models. We will start with the Sequential API, and then we will look at the Functional API later in the course.\n",
    "\n",
    "Our simple neural network will be \"fully-connected\". This means that each neuron in a given layer is connected to every neuron in the next layer. This is also known as a \"dense\" layer. We will use the `Dense` class from Keras to define our layers."
   ]
  },
  {
   "cell_type": "code",
   "execution_count": 44,
   "metadata": {
    "collapsed": false
   },
   "outputs": [
    {
     "name": "stdout",
     "output_type": "stream",
     "text": [
      "Model: \"sequential_9\"\n",
      "_________________________________________________________________\n",
      " Layer (type)                Output Shape              Param #   \n",
      "=================================================================\n",
      " dense_28 (Dense)            (None, 64)                4160      \n",
      "                                                                 \n",
      " dense_29 (Dense)            (None, 64)                4160      \n",
      "                                                                 \n",
      " dense_30 (Dense)            (None, 10)                650       \n",
      "                                                                 \n",
      "=================================================================\n",
      "Total params: 8970 (35.04 KB)\n",
      "Trainable params: 8970 (35.04 KB)\n",
      "Non-trainable params: 0 (0.00 Byte)\n",
      "_________________________________________________________________\n"
     ]
    }
   ],
   "source": [
    "from tensorflow.keras.models import Sequential\n",
    "from tensorflow.keras.layers import Dense\n",
    "\n",
    "model = Sequential()\n",
    "\n",
    "# Input layer\n",
    "model.add(Dense(64, activation='relu', input_shape=(64,))) # 64 neurons, ReLU activation, input shape of 64\n",
    "\n",
    "# Hidden layer\n",
    "model.add(Dense(64, activation='relu')) # 64 neurons, ReLU activation\n",
    "\n",
    "# Output layer\n",
    "model.add(Dense(10, activation='softmax')) # 10 neurons, softmax activation\n",
    "\n",
    "model.summary()"
   ]
  },
  {
   "cell_type": "markdown",
   "metadata": {
    "collapsed": false
   },
   "source": [
    "Congratulations! You have just built your first neural network with Keras. As we can confirm from the `model.summary()` output, our model has 3 layers. The first layer has 64 neurons, the second layer has 64 neurons, and the output layer has 10 neurons. The output layer uses the softmax activation function, which is commonly used for multi-class classification problems. The other layers use the ReLU activation function, which is commonly used for hidden layers in neural networks.\n",
    "\n",
    "Next, we need to compile the model. This is where we define the loss function, the optimizer, and the metrics that we want to use to evaluate the model. We will use the `compile` method of the model to do this."
   ]
  },
  {
   "cell_type": "code",
   "execution_count": 45,
   "metadata": {
    "collapsed": false
   },
   "outputs": [],
   "source": [
    "model.compile(\n",
    "    loss='categorical_crossentropy', # Loss function\n",
    "    optimizer='sgd', # Optimizer\n",
    "    metrics=['accuracy'] # Metrics to evaluate the model\n",
    ")"
   ]
  },
  {
   "cell_type": "markdown",
   "metadata": {
    "collapsed": false
   },
   "source": [
    "Because we are predicting which class a sample belongs to, we will use the `categorical_crossentropy` function. This loss function is commonly used for multi-class classification problems. \n",
    "\n",
    "For our optimizer, we are using the standard stochastic gradient descent (SGD) algorithm. This is a simple optimizer that works well for many problems. We will look at more advanced optimizers later in the course.\n",
    "\n",
    "Finally, we are using the `accuracy` metric to evaluate the model. This is a common metric for classification problems, and it is simply the fraction of samples that are correctly classified. This is an easier metric for us to understand, but it's not quite as useful for actually training the model (for example, it doesn't tell us how \"confident\" the model is in its predictions).\n",
    "\n",
    "Now that we have (a) defined the model architecture and (b) compiled the model, we are ready to train the model. We will use the `fit` method of the model to do this."
   ]
  },
  {
   "cell_type": "code",
   "execution_count": 46,
   "metadata": {
    "collapsed": false
   },
   "outputs": [
    {
     "name": "stdout",
     "output_type": "stream",
     "text": [
      "Epoch 1/15\n",
      "36/36 [==============================] - 0s 2ms/step - loss: 1.5517 - accuracy: 0.5605 - val_loss: 0.7516 - val_accuracy: 0.7674\n",
      "Epoch 2/15\n",
      "36/36 [==============================] - 0s 715us/step - loss: 0.5079 - accuracy: 0.8529 - val_loss: 0.4503 - val_accuracy: 0.8576\n",
      "Epoch 3/15\n",
      "36/36 [==============================] - 0s 685us/step - loss: 0.3218 - accuracy: 0.9104 - val_loss: 0.3587 - val_accuracy: 0.8611\n",
      "Epoch 4/15\n",
      "36/36 [==============================] - 0s 2ms/step - loss: 0.2420 - accuracy: 0.9391 - val_loss: 0.2764 - val_accuracy: 0.9097\n",
      "Epoch 5/15\n",
      "36/36 [==============================] - 0s 694us/step - loss: 0.1926 - accuracy: 0.9565 - val_loss: 0.2736 - val_accuracy: 0.9167\n",
      "Epoch 6/15\n",
      "36/36 [==============================] - 0s 669us/step - loss: 0.1648 - accuracy: 0.9617 - val_loss: 0.2042 - val_accuracy: 0.9375\n",
      "Epoch 7/15\n",
      "36/36 [==============================] - 0s 678us/step - loss: 0.1384 - accuracy: 0.9661 - val_loss: 0.1877 - val_accuracy: 0.9410\n",
      "Epoch 8/15\n",
      "36/36 [==============================] - 0s 687us/step - loss: 0.1156 - accuracy: 0.9730 - val_loss: 0.1904 - val_accuracy: 0.9444\n",
      "Epoch 9/15\n",
      "36/36 [==============================] - 0s 679us/step - loss: 0.1004 - accuracy: 0.9774 - val_loss: 0.1840 - val_accuracy: 0.9549\n",
      "Epoch 10/15\n",
      "36/36 [==============================] - 0s 679us/step - loss: 0.0945 - accuracy: 0.9809 - val_loss: 0.1640 - val_accuracy: 0.9514\n",
      "Epoch 11/15\n",
      "36/36 [==============================] - 0s 669us/step - loss: 0.0803 - accuracy: 0.9852 - val_loss: 0.1598 - val_accuracy: 0.9340\n",
      "Epoch 12/15\n",
      "36/36 [==============================] - 0s 670us/step - loss: 0.0690 - accuracy: 0.9904 - val_loss: 0.1556 - val_accuracy: 0.9410\n",
      "Epoch 13/15\n",
      "36/36 [==============================] - 0s 672us/step - loss: 0.0676 - accuracy: 0.9887 - val_loss: 0.1494 - val_accuracy: 0.9514\n",
      "Epoch 14/15\n",
      "36/36 [==============================] - 0s 666us/step - loss: 0.0617 - accuracy: 0.9913 - val_loss: 0.1728 - val_accuracy: 0.9444\n",
      "Epoch 15/15\n",
      "36/36 [==============================] - 0s 672us/step - loss: 0.0554 - accuracy: 0.9939 - val_loss: 0.1435 - val_accuracy: 0.9479\n"
     ]
    },
    {
     "data": {
      "text/plain": [
       "<keras.src.callbacks.History at 0x3115d6850>"
      ]
     },
     "execution_count": 46,
     "metadata": {},
     "output_type": "execute_result"
    }
   ],
   "source": [
    "model.fit(\n",
    "    X_train, # Training data\n",
    "    y_train, # Training labels\n",
    "    epochs=15, # Number of epochs\n",
    "    batch_size=32, # Number of samples per batch\n",
    "    validation_split=0.2 # Use 20% of the data for validation\n",
    ")"
   ]
  },
  {
   "cell_type": "markdown",
   "metadata": {
    "collapsed": false
   },
   "source": [
    "We have now trained our model! We can see that the model has been trained for 5 epochs, and the loss and accuracy have been printed for each epoch. We can also see that the model has been evaluated on the validation data at the end of each epoch. This is useful for us to see how the model is performing on data that it hasn't seen during training.\n",
    "\n",
    "Once the model is trained, it's time to evaluate the model on the test set. We can use the `evaluate` method of the model to do this. If you were building a model for a real-world application, this is the very last thing you would do, and the result here would be the figure you'd report in your paper or presentation."
   ]
  },
  {
   "cell_type": "code",
   "execution_count": 47,
   "metadata": {
    "collapsed": false
   },
   "outputs": [
    {
     "name": "stdout",
     "output_type": "stream",
     "text": [
      "12/12 [==============================] - 0s 482us/step - loss: 0.1205 - accuracy: 0.9639\n",
      "Loss:     0.12\n",
      "Accuracy: 96.39%\n"
     ]
    }
   ],
   "source": [
    "loss, accuracy = model.evaluate(X_test, y_test)\n",
    "\n",
    "print(f'Loss:     {loss:.2f}')\n",
    "print(f'Accuracy: {accuracy*100:.2f}%')"
   ]
  },
  {
   "cell_type": "markdown",
   "metadata": {
    "collapsed": false
   },
   "source": [
    "Hopefully you have achieved an accuracy of around 95%. This is pretty good, but we can do better! In the next section, we will look at how we can improve the performance of our model by using a more advanced optimizer. But before we get there, let's do one other thing - let's look at the predictions that our model is making on the test set. When you are building a model, it's often useful to have a look at some of the examples your model is getting wrong. Sometimes this can reveal problems with the data, or it can give you ideas for how to improve your model."
   ]
  },
  {
   "cell_type": "code",
   "execution_count": 48,
   "metadata": {
    "collapsed": false
   },
   "outputs": [
    {
     "name": "stdout",
     "output_type": "stream",
     "text": [
      "12/12 [==============================] - 0s 380us/step\n"
     ]
    },
    {
     "data": {
      "image/png": "[encoded data removed]",
      "text/plain": [
       "<Figure size 600x600 with 9 Axes>"
      ]
     },
     "metadata": {},
     "output_type": "display_data"
    }
   ],
   "source": [
    "# Get the predictions for the test data\n",
    "predictions = model.predict(X_test)\n",
    "\n",
    "# Get the index of the largest probability (i.e. the predicted class)\n",
    "predicted_classes = np.argmax(predictions, axis=1)\n",
    "true_classes = np.argmax(y_test, axis=1)\n",
    "misclassified_indices = np.where(predicted_classes != true_classes)[0]\n",
    "\n",
    "# Get the misclassified samples themselves\n",
    "misclassified_samples = X_test[misclassified_indices]\n",
    "misclassified_labels = np.argmax(y_test[misclassified_indices], axis=1)\n",
    "\n",
    "# Pick 9 random misclassified samples\n",
    "random_indices = np.random.choice(len(misclassified_indices), 9, replace=False)\n",
    "\n",
    "fig, axes = plt.subplots(3, 3, figsize=(6, 6))\n",
    "for i, ax in enumerate(axes.flat):\n",
    "    ax.imshow(misclassified_samples[random_indices[i]].reshape(8, 8), cmap=plt.cm.gray_r, interpolation='nearest')\n",
    "    ax.set_title(f\"Pred: {predicted_classes[misclassified_indices[random_indices[i]]]}, Real: {misclassified_labels[random_indices[i]]}\")\n",
    "\n",
    "    # Removing axis labels\n",
    "    ax.set_xticks([])\n",
    "    ax.set_yticks([])\n",
    "    \n",
    "plt.show()"
   ]
  },
  {
   "cell_type": "markdown",
   "metadata": {
    "collapsed": false
   },
   "source": [
    "What do you think? Would you have made the same mistakes as the model? Determining whether the mistakes are \"understandable\" is a rough way of seeing if you could improve the model further, or if this is the best you can do with the data you have."
   ]
  },
  {
   "cell_type": "markdown",
   "metadata": {},
   "source": [
    "### b) Exercises: Impact of the Optimizer\n",
    "\n",
    "In this section, you will play around with the optimizer and see how it affects the performance of the model. We will start with the standard SGD optimizer, and then we will look at more advanced optimizers.\n",
    "\n",
    "1. Try decreasing the learning rate of the SGD optimizer by a factor of 10, or 100. What do you observe?\n",
    "2. Try increasing the learning rate of the SGD optimizer. What happens?\n",
    "3. The SGD optimizer has a momentum parameter. In a nutshell, this parameter controls how much the gradient from the previous step affects the current step. Try enabling momentum in the SGD optimizer with a value of 0.9. What happens?\n",
    "  \n",
    "**Notes**: \n",
    "\n",
    "The keras API documentation is available at:\n",
    "\n",
    "https://www.tensorflow.org/api_docs/python/tf/keras\n",
    "\n",
    "It is also possible to learn more about the parameters of a class by using the question mark: type and evaluate:\n",
    "\n",
    "```python\n",
    "optimizers.SGD?\n",
    "```\n",
    "\n",
    "in a jupyter notebook cell.\n",
    "\n",
    "It is also possible to type the beginning of a function call / constructor and type \"shift-tab\" after the opening paren:\n",
    "\n",
    "```python\n",
    "optimizers.SGD(<shift-tab>\n",
    "```"
   ]
  },
  {
   "cell_type": "code",
   "execution_count": 49,
   "metadata": {},
   "outputs": [
    {
     "name": "stderr",
     "output_type": "stream",
     "text": [
      "WARNING:absl:At this time, the v2.11+ optimizer `tf.keras.optimizers.SGD` runs slowly on M1/M2 Macs, please use the legacy Keras optimizer instead, located at `tf.keras.optimizers.legacy.SGD`.\n"
     ]
    },
    {
     "name": "stdout",
     "output_type": "stream",
     "text": [
      "Epoch 1/15\n",
      "36/36 [==============================] - 0s 2ms/step - loss: 2.9940 - accuracy: 0.2507 - val_loss: 1.9665 - val_accuracy: 0.3750\n",
      "Epoch 2/15\n",
      "36/36 [==============================] - 0s 729us/step - loss: 1.7426 - accuracy: 0.4526 - val_loss: 1.4025 - val_accuracy: 0.5590\n",
      "Epoch 3/15\n",
      "36/36 [==============================] - 0s 692us/step - loss: 1.2836 - accuracy: 0.6301 - val_loss: 1.1158 - val_accuracy: 0.6562\n",
      "Epoch 4/15\n",
      "36/36 [==============================] - 0s 684us/step - loss: 1.0417 - accuracy: 0.7023 - val_loss: 0.9451 - val_accuracy: 0.6840\n",
      "Epoch 5/15\n",
      "36/36 [==============================] - 0s 681us/step - loss: 0.8887 - accuracy: 0.7354 - val_loss: 0.8335 - val_accuracy: 0.7222\n",
      "Epoch 6/15\n",
      "36/36 [==============================] - 0s 674us/step - loss: 0.7786 - accuracy: 0.7789 - val_loss: 0.7469 - val_accuracy: 0.7604\n",
      "Epoch 7/15\n",
      "36/36 [==============================] - 0s 2ms/step - loss: 0.6941 - accuracy: 0.8016 - val_loss: 0.6815 - val_accuracy: 0.7847\n",
      "Epoch 8/15\n",
      "36/36 [==============================] - 0s 681us/step - loss: 0.6355 - accuracy: 0.8190 - val_loss: 0.6304 - val_accuracy: 0.8021\n",
      "Epoch 9/15\n",
      "36/36 [==============================] - 0s 697us/step - loss: 0.5814 - accuracy: 0.8303 - val_loss: 0.5935 - val_accuracy: 0.8299\n",
      "Epoch 10/15\n",
      "36/36 [==============================] - 0s 683us/step - loss: 0.5388 - accuracy: 0.8468 - val_loss: 0.5504 - val_accuracy: 0.8299\n",
      "Epoch 11/15\n",
      "36/36 [==============================] - 0s 676us/step - loss: 0.5023 - accuracy: 0.8512 - val_loss: 0.5238 - val_accuracy: 0.8438\n",
      "Epoch 12/15\n",
      "36/36 [==============================] - 0s 685us/step - loss: 0.4719 - accuracy: 0.8616 - val_loss: 0.4974 - val_accuracy: 0.8507\n",
      "Epoch 13/15\n",
      "36/36 [==============================] - 0s 680us/step - loss: 0.4433 - accuracy: 0.8607 - val_loss: 0.4797 - val_accuracy: 0.8472\n",
      "Epoch 14/15\n",
      "36/36 [==============================] - 0s 676us/step - loss: 0.4195 - accuracy: 0.8808 - val_loss: 0.4526 - val_accuracy: 0.8542\n",
      "Epoch 15/15\n",
      "36/36 [==============================] - 0s 686us/step - loss: 0.3972 - accuracy: 0.8903 - val_loss: 0.4367 - val_accuracy: 0.8750\n",
      "Learning Rate: 0.001\n",
      "Loss:     0.38\n",
      "Accuracy: 88.61%\n"
     ]
    },
    {
     "name": "stderr",
     "output_type": "stream",
     "text": [
      "WARNING:absl:At this time, the v2.11+ optimizer `tf.keras.optimizers.SGD` runs slowly on M1/M2 Macs, please use the legacy Keras optimizer instead, located at `tf.keras.optimizers.legacy.SGD`.\n"
     ]
    },
    {
     "name": "stdout",
     "output_type": "stream",
     "text": [
      "Epoch 1/15\n",
      "36/36 [==============================] - 0s 2ms/step - loss: 5.0454 - accuracy: 0.0705 - val_loss: 4.7300 - val_accuracy: 0.0729\n",
      "Epoch 2/15\n",
      "36/36 [==============================] - 0s 718us/step - loss: 4.2994 - accuracy: 0.0931 - val_loss: 4.1254 - val_accuracy: 0.0938\n",
      "Epoch 3/15\n",
      "36/36 [==============================] - 0s 683us/step - loss: 3.8204 - accuracy: 0.1210 - val_loss: 3.6905 - val_accuracy: 0.1007\n",
      "Epoch 4/15\n",
      "36/36 [==============================] - 0s 687us/step - loss: 3.4603 - accuracy: 0.1393 - val_loss: 3.3546 - val_accuracy: 0.1250\n",
      "Epoch 5/15\n",
      "36/36 [==============================] - 0s 683us/step - loss: 3.1775 - accuracy: 0.1601 - val_loss: 3.0838 - val_accuracy: 0.1389\n",
      "Epoch 6/15\n",
      "36/36 [==============================] - 0s 677us/step - loss: 2.9450 - accuracy: 0.1871 - val_loss: 2.8598 - val_accuracy: 0.1632\n",
      "Epoch 7/15\n",
      "36/36 [==============================] - 0s 687us/step - loss: 2.7517 - accuracy: 0.2106 - val_loss: 2.6730 - val_accuracy: 0.2049\n",
      "Epoch 8/15\n",
      "36/36 [==============================] - 0s 675us/step - loss: 2.5851 - accuracy: 0.2385 - val_loss: 2.5139 - val_accuracy: 0.2257\n",
      "Epoch 9/15\n",
      "36/36 [==============================] - 0s 679us/step - loss: 2.4386 - accuracy: 0.2637 - val_loss: 2.3754 - val_accuracy: 0.2569\n",
      "Epoch 10/15\n",
      "36/36 [==============================] - 0s 680us/step - loss: 2.3105 - accuracy: 0.2863 - val_loss: 2.2540 - val_accuracy: 0.3021\n",
      "Epoch 11/15\n",
      "36/36 [==============================] - 0s 675us/step - loss: 2.1966 - accuracy: 0.3055 - val_loss: 2.1444 - val_accuracy: 0.3160\n",
      "Epoch 12/15\n",
      "36/36 [==============================] - 0s 680us/step - loss: 2.0933 - accuracy: 0.3299 - val_loss: 2.0450 - val_accuracy: 0.3299\n",
      "Epoch 13/15\n",
      "36/36 [==============================] - 0s 674us/step - loss: 1.9981 - accuracy: 0.3534 - val_loss: 1.9537 - val_accuracy: 0.3576\n",
      "Epoch 14/15\n",
      "36/36 [==============================] - 0s 683us/step - loss: 1.9120 - accuracy: 0.3681 - val_loss: 1.8699 - val_accuracy: 0.3750\n",
      "Epoch 15/15\n",
      "36/36 [==============================] - 0s 685us/step - loss: 1.8321 - accuracy: 0.3925 - val_loss: 1.7925 - val_accuracy: 0.4028\n",
      "\n",
      "Learning Rate: 0.0001\n",
      "Loss:     1.91\n",
      "Accuracy: 38.61%\n"
     ]
    }
   ],
   "source": [
    "# Try decreasing the learning rate of the SGD optimizer by a factor of 10, or 100. What do you observe?\n",
    "from tensorflow.keras.models import Sequential\n",
    "from tensorflow.keras.layers import Dense\n",
    "from tensorflow.keras import optimizers\n",
    "\n",
    "def create_compile_model(learning_rate):\n",
    "    model = Sequential()\n",
    "    # Input layer\n",
    "    model.add(Dense(64, activation='relu', input_shape=(64,))) # 64 neurons, ReLU activation, input shape of 64\n",
    "\n",
    "# Hidden layer\n",
    "    model.add(Dense(64, activation='relu')) # 64 neurons, ReLU activation\n",
    "\n",
    "# Output layer\n",
    "    model.add(Dense(10, activation='softmax')) # 10 neurons, softmax activation\n",
    "\n",
    "    model.compile(\n",
    "        loss='categorical_crossentropy',\n",
    "        optimizer=optimizers.SGD(learning_rate=learning_rate),\n",
    "        metrics=['accuracy']\n",
    "    )\n",
    "    return model\n",
    "\n",
    "\n",
    "model_001 = create_compile_model(0.001)\n",
    "history_001 = model_001.fit(\n",
    "    X_train,\n",
    "    y_train,\n",
    "    epochs=15,\n",
    "    batch_size=32,\n",
    "    validation_split=0.2,\n",
    "    verbose=1\n",
    ")\n",
    "loss_001, accuracy_001 = model_001.evaluate(X_test, y_test, verbose=0)\n",
    "\n",
    "print(f'Learning Rate: 0.001')\n",
    "print(f'Loss:     {loss_001:.2f}')\n",
    "print(f'Accuracy: {accuracy_001*100:.2f}%')\n",
    "\n",
    "# Train and evaluate with learning rate 0.0001\n",
    "model_0001 = create_compile_model(0.0001)\n",
    "history_0001 = model_0001.fit(\n",
    "    X_train,\n",
    "    y_train,\n",
    "    epochs=15,\n",
    "    batch_size=32,\n",
    "    validation_split=0.2,\n",
    "    verbose=1\n",
    ")\n",
    "loss_0001, accuracy_0001 = model_0001.evaluate(X_test, y_test, verbose=0)\n",
    "\n",
    "print(f'\\nLearning Rate: 0.0001')\n",
    "print(f'Loss:     {loss_0001:.2f}')\n",
    "print(f'Accuracy: {accuracy_0001*100:.2f}%')"
   ]
  },
  {
   "cell_type": "code",
   "execution_count": 50,
   "metadata": {},
   "outputs": [
    {
     "name": "stderr",
     "output_type": "stream",
     "text": [
      "WARNING:absl:At this time, the v2.11+ optimizer `tf.keras.optimizers.SGD` runs slowly on M1/M2 Macs, please use the legacy Keras optimizer instead, located at `tf.keras.optimizers.legacy.SGD`.\n"
     ]
    },
    {
     "name": "stdout",
     "output_type": "stream",
     "text": [
      "Epoch 1/15\n",
      "36/36 [==============================] - 0s 2ms/step - loss: 1.5250 - accuracy: 0.6136 - val_loss: 1.3016 - val_accuracy: 0.6493\n",
      "Epoch 2/15\n",
      "36/36 [==============================] - 0s 744us/step - loss: 0.4481 - accuracy: 0.8668 - val_loss: 0.3454 - val_accuracy: 0.8924\n",
      "Epoch 3/15\n",
      "36/36 [==============================] - 0s 1ms/step - loss: 0.2413 - accuracy: 0.9347 - val_loss: 0.2581 - val_accuracy: 0.9306\n",
      "Epoch 4/15\n",
      "36/36 [==============================] - 0s 711us/step - loss: 0.1562 - accuracy: 0.9495 - val_loss: 0.3340 - val_accuracy: 0.8889\n",
      "Epoch 5/15\n",
      "36/36 [==============================] - 0s 681us/step - loss: 0.1272 - accuracy: 0.9591 - val_loss: 0.1461 - val_accuracy: 0.9583\n",
      "Epoch 6/15\n",
      "36/36 [==============================] - 0s 693us/step - loss: 0.0813 - accuracy: 0.9721 - val_loss: 0.1799 - val_accuracy: 0.9340\n",
      "Epoch 7/15\n",
      "36/36 [==============================] - 0s 676us/step - loss: 0.0534 - accuracy: 0.9826 - val_loss: 0.1383 - val_accuracy: 0.9514\n",
      "Epoch 8/15\n",
      "36/36 [==============================] - 0s 674us/step - loss: 0.0402 - accuracy: 0.9887 - val_loss: 0.1417 - val_accuracy: 0.9514\n",
      "Epoch 9/15\n",
      "36/36 [==============================] - 0s 677us/step - loss: 0.0382 - accuracy: 0.9887 - val_loss: 0.1603 - val_accuracy: 0.9479\n",
      "Epoch 10/15\n",
      "36/36 [==============================] - 0s 680us/step - loss: 0.0359 - accuracy: 0.9878 - val_loss: 0.1221 - val_accuracy: 0.9583\n",
      "Epoch 11/15\n",
      "36/36 [==============================] - 0s 680us/step - loss: 0.0194 - accuracy: 0.9939 - val_loss: 0.1238 - val_accuracy: 0.9549\n",
      "Epoch 12/15\n",
      "36/36 [==============================] - 0s 687us/step - loss: 0.0144 - accuracy: 0.9965 - val_loss: 0.1213 - val_accuracy: 0.9618\n",
      "Epoch 13/15\n",
      "36/36 [==============================] - 0s 679us/step - loss: 0.0107 - accuracy: 0.9991 - val_loss: 0.1173 - val_accuracy: 0.9653\n",
      "Epoch 14/15\n",
      "36/36 [==============================] - 0s 676us/step - loss: 0.0103 - accuracy: 0.9974 - val_loss: 0.1211 - val_accuracy: 0.9618\n",
      "Epoch 15/15\n",
      "36/36 [==============================] - 0s 676us/step - loss: 0.0096 - accuracy: 0.9991 - val_loss: 0.1194 - val_accuracy: 0.9618\n",
      "\n",
      "Learning Rate: 0.06\n",
      "Loss:     0.09\n",
      "Accuracy: 97.22%\n"
     ]
    }
   ],
   "source": [
    "# Try increasing the learning rate of the SGD optimizer. What happens?\n",
    "# Train and evaluate with learning rate 0.06\n",
    "model_006 = create_compile_model(0.06)\n",
    "history_006 = model_006.fit(\n",
    "    X_train,\n",
    "    y_train,\n",
    "    epochs=15,\n",
    "    batch_size=32,\n",
    "    validation_split=0.2,\n",
    "    verbose=1\n",
    ")\n",
    "loss_006, accuracy_006 = model_006.evaluate(X_test, y_test, verbose=0)\n",
    "\n",
    "print(f'\\nLearning Rate: 0.06')\n",
    "print(f'Loss:     {loss_006:.2f}')\n",
    "print(f'Accuracy: {accuracy_006*100:.2f}%')"
   ]
  },
  {
   "cell_type": "code",
   "execution_count": 51,
   "metadata": {},
   "outputs": [
    {
     "name": "stderr",
     "output_type": "stream",
     "text": [
      "WARNING:absl:At this time, the v2.11+ optimizer `tf.keras.optimizers.SGD` runs slowly on M1/M2 Macs, please use the legacy Keras optimizer instead, located at `tf.keras.optimizers.legacy.SGD`.\n"
     ]
    },
    {
     "name": "stdout",
     "output_type": "stream",
     "text": [
      "Epoch 1/15\n",
      "36/36 [==============================] - 0s 2ms/step - loss: 1.7193 - accuracy: 0.5431 - val_loss: 0.5641 - val_accuracy: 0.8194\n",
      "Epoch 2/15\n",
      "36/36 [==============================] - 0s 733us/step - loss: 0.3958 - accuracy: 0.8790 - val_loss: 0.3832 - val_accuracy: 0.8611\n",
      "Epoch 3/15\n",
      "36/36 [==============================] - 0s 683us/step - loss: 0.2549 - accuracy: 0.9269 - val_loss: 0.3189 - val_accuracy: 0.8924\n",
      "Epoch 4/15\n",
      "36/36 [==============================] - 0s 687us/step - loss: 0.2042 - accuracy: 0.9452 - val_loss: 0.2830 - val_accuracy: 0.8993\n",
      "Epoch 5/15\n",
      "36/36 [==============================] - 0s 675us/step - loss: 0.1672 - accuracy: 0.9547 - val_loss: 0.2581 - val_accuracy: 0.9062\n",
      "Epoch 6/15\n",
      "36/36 [==============================] - 0s 724us/step - loss: 0.1377 - accuracy: 0.9669 - val_loss: 0.2310 - val_accuracy: 0.9201\n",
      "Epoch 7/15\n",
      "36/36 [==============================] - 0s 687us/step - loss: 0.1180 - accuracy: 0.9721 - val_loss: 0.2294 - val_accuracy: 0.9201\n",
      "Epoch 8/15\n",
      "36/36 [==============================] - 0s 667us/step - loss: 0.1023 - accuracy: 0.9800 - val_loss: 0.2115 - val_accuracy: 0.9306\n",
      "Epoch 9/15\n",
      "36/36 [==============================] - 0s 672us/step - loss: 0.0961 - accuracy: 0.9756 - val_loss: 0.2135 - val_accuracy: 0.9236\n",
      "Epoch 10/15\n",
      "36/36 [==============================] - 0s 688us/step - loss: 0.0801 - accuracy: 0.9852 - val_loss: 0.1953 - val_accuracy: 0.9340\n",
      "Epoch 11/15\n",
      "36/36 [==============================] - 0s 677us/step - loss: 0.0747 - accuracy: 0.9869 - val_loss: 0.2102 - val_accuracy: 0.9375\n",
      "Epoch 12/15\n",
      "36/36 [==============================] - 0s 678us/step - loss: 0.0689 - accuracy: 0.9869 - val_loss: 0.1989 - val_accuracy: 0.9340\n",
      "Epoch 13/15\n",
      "36/36 [==============================] - 0s 684us/step - loss: 0.0622 - accuracy: 0.9887 - val_loss: 0.1857 - val_accuracy: 0.9410\n",
      "Epoch 14/15\n",
      "36/36 [==============================] - 0s 681us/step - loss: 0.0537 - accuracy: 0.9913 - val_loss: 0.1857 - val_accuracy: 0.9340\n",
      "Epoch 15/15\n",
      "36/36 [==============================] - 0s 678us/step - loss: 0.0520 - accuracy: 0.9939 - val_loss: 0.1858 - val_accuracy: 0.9271\n",
      "\n",
      "Learning Rate: 0.001 and momentum:0.9\n",
      "Loss:     0.12\n",
      "Accuracy: 96.39%\n"
     ]
    }
   ],
   "source": [
    "# The SGD optimizer has a momentum parameter. In a nutshell, this parameter controls how much the gradient from the previous step affects the current step. \n",
    "# Try enabling momentum in the SGD optimizer with a value of 0.9. What happens?\n",
    "\n",
    "def create_compile_model(learning_rate):\n",
    "    model = Sequential()\n",
    "    # Input layer\n",
    "    model.add(Dense(64, activation='relu', input_shape=(64,))) # 64 neurons, ReLU activation, input shape of 64\n",
    "\n",
    "# Hidden layer\n",
    "    model.add(Dense(64, activation='relu')) # 64 neurons, ReLU activation\n",
    "\n",
    "# Output layer\n",
    "    model.add(Dense(10, activation='softmax')) # 10 neurons, softmax activation\n",
    "\n",
    "    model.compile(\n",
    "        loss='categorical_crossentropy',\n",
    "        optimizer=optimizers.SGD(learning_rate=learning_rate, momentum=0.9),\n",
    "        metrics=['accuracy']\n",
    "    )\n",
    "    return model\n",
    "\n",
    "# Train and evaluate with learning rate 0.06 and momentum = 0.9\n",
    "model_09 = create_compile_model(0.001)\n",
    "history_09 = model_09.fit(\n",
    "    X_train,\n",
    "    y_train,\n",
    "    epochs=15,\n",
    "    batch_size=32,\n",
    "    validation_split=0.2,\n",
    "    verbose=1\n",
    ")\n",
    "loss_09, accuracy_09 = model_09.evaluate(X_test, y_test, verbose=0)\n",
    "\n",
    "print(f'\\nLearning Rate: 0.001 and momentum:0.9')\n",
    "print(f'Loss:     {loss_09:.2f}')\n",
    "print(f'Accuracy: {accuracy_09*100:.2f}%')"
   ]
  },
  {
   "cell_type": "markdown",
   "metadata": {},
   "source": [
    "Next, let's try a more advanced optimizer. Adam is likely the most popular optimizer for deep learning. It is an adaptive learning rate optimizer, which means that it automatically adjusts the learning rate based on how the training is going. This can be very useful, as it means that we don't need to manually tune the learning rate. Let's see how it performs on our model.\n",
    "\n",
    "\n",
    "1. Replace the SGD optimizer by the Adam optimizer from keras and run it\n",
    "  with the default parameters."
   ]
  },
  {
   "cell_type": "code",
   "execution_count": 52,
   "metadata": {},
   "outputs": [
    {
     "name": "stderr",
     "output_type": "stream",
     "text": [
      "WARNING:absl:At this time, the v2.11+ optimizer `tf.keras.optimizers.Adam` runs slowly on M1/M2 Macs, please use the legacy Keras optimizer instead, located at `tf.keras.optimizers.legacy.Adam`.\n"
     ]
    },
    {
     "name": "stdout",
     "output_type": "stream",
     "text": [
      "Epoch 1/15\n",
      "36/36 [==============================] - 0s 2ms/step - loss: 1.4617 - accuracy: 0.6649 - val_loss: 0.3634 - val_accuracy: 0.8889\n",
      "Epoch 2/15\n",
      "36/36 [==============================] - 0s 770us/step - loss: 0.1916 - accuracy: 0.9295 - val_loss: 0.2027 - val_accuracy: 0.9410\n",
      "Epoch 3/15\n",
      "36/36 [==============================] - 0s 742us/step - loss: 0.1260 - accuracy: 0.9617 - val_loss: 0.1615 - val_accuracy: 0.9444\n",
      "Epoch 4/15\n",
      "36/36 [==============================] - 0s 849us/step - loss: 0.0832 - accuracy: 0.9756 - val_loss: 0.2355 - val_accuracy: 0.9410\n",
      "Epoch 5/15\n",
      "36/36 [==============================] - 0s 728us/step - loss: 0.0670 - accuracy: 0.9791 - val_loss: 0.2245 - val_accuracy: 0.9410\n",
      "Epoch 6/15\n",
      "36/36 [==============================] - 0s 710us/step - loss: 0.0786 - accuracy: 0.9782 - val_loss: 0.2319 - val_accuracy: 0.9479\n",
      "Epoch 7/15\n",
      "36/36 [==============================] - 0s 716us/step - loss: 0.0870 - accuracy: 0.9652 - val_loss: 0.2081 - val_accuracy: 0.9340\n",
      "Epoch 8/15\n",
      "36/36 [==============================] - 0s 723us/step - loss: 0.0603 - accuracy: 0.9809 - val_loss: 0.1942 - val_accuracy: 0.9479\n",
      "Epoch 9/15\n",
      "36/36 [==============================] - 0s 713us/step - loss: 0.0618 - accuracy: 0.9730 - val_loss: 0.2367 - val_accuracy: 0.9479\n",
      "Epoch 10/15\n",
      "36/36 [==============================] - 0s 716us/step - loss: 0.0690 - accuracy: 0.9748 - val_loss: 0.2048 - val_accuracy: 0.9514\n",
      "Epoch 11/15\n",
      "36/36 [==============================] - 0s 723us/step - loss: 0.0907 - accuracy: 0.9652 - val_loss: 0.3639 - val_accuracy: 0.9271\n",
      "Epoch 12/15\n",
      "36/36 [==============================] - 0s 707us/step - loss: 0.0528 - accuracy: 0.9826 - val_loss: 0.1568 - val_accuracy: 0.9653\n",
      "Epoch 13/15\n",
      "36/36 [==============================] - 0s 717us/step - loss: 0.0595 - accuracy: 0.9817 - val_loss: 0.1616 - val_accuracy: 0.9479\n",
      "Epoch 14/15\n",
      "36/36 [==============================] - 0s 702us/step - loss: 0.0884 - accuracy: 0.9739 - val_loss: 0.4665 - val_accuracy: 0.9062\n",
      "Epoch 15/15\n",
      "36/36 [==============================] - 0s 730us/step - loss: 0.1323 - accuracy: 0.9695 - val_loss: 0.1813 - val_accuracy: 0.9583\n",
      "\n",
      "Learning Rate: 0.01 and Adam optimizer\n",
      "Loss:     0.20\n",
      "Accuracy: 96.39%\n"
     ]
    }
   ],
   "source": [
    "# Your code here\n",
    "def create_compile_model(learning_rate):\n",
    "    model = Sequential()\n",
    "    # Input layer\n",
    "    model.add(Dense(64, activation='relu', input_shape=(64,))) # 64 neurons, ReLU activation, input shape of 64\n",
    "\n",
    "# Hidden layer\n",
    "    model.add(Dense(64, activation='relu')) # 64 neurons, ReLU activation\n",
    "\n",
    "# Output layer\n",
    "    model.add(Dense(10, activation='softmax')) # 10 neurons, softmax activation\n",
    "\n",
    "    model.compile(\n",
    "        loss='categorical_crossentropy',\n",
    "        optimizer=optimizers.Adam(learning_rate=learning_rate),\n",
    "        metrics=['accuracy']\n",
    "    )\n",
    "    return model\n",
    "\n",
    "# Train and evaluate with learning rate 0.06 and momentum = 0.9\n",
    "model_001_Adam = create_compile_model(0.01)\n",
    "history_001 = model_001_Adam.fit(\n",
    "    X_train,\n",
    "    y_train,\n",
    "    epochs=15,\n",
    "    batch_size=32,\n",
    "    validation_split=0.2,\n",
    "    verbose=1\n",
    ")\n",
    "loss_001_Adam, accuracy_001_Adam = model_001_Adam.evaluate(X_test, y_test, verbose=0)\n",
    "\n",
    "print(f'\\nLearning Rate: 0.01 and Adam optimizer')\n",
    "print(f'Loss:     {loss_001_Adam:.2f}')\n",
    "print(f'Accuracy: {accuracy_001_Adam*100:.2f}%')"
   ]
  },
  {
   "cell_type": "markdown",
   "metadata": {},
   "source": [
    "2. Add another hidden layer with ReLU activation and 64 neurons. Does it improve the model performance?"
   ]
  },
  {
   "cell_type": "code",
   "execution_count": 53,
   "metadata": {},
   "outputs": [
    {
     "name": "stderr",
     "output_type": "stream",
     "text": [
      "WARNING:absl:At this time, the v2.11+ optimizer `tf.keras.optimizers.Adam` runs slowly on M1/M2 Macs, please use the legacy Keras optimizer instead, located at `tf.keras.optimizers.legacy.Adam`.\n"
     ]
    },
    {
     "name": "stdout",
     "output_type": "stream",
     "text": [
      "Epoch 1/15\n",
      "36/36 [==============================] - 0s 2ms/step - loss: 1.1223 - accuracy: 0.6789 - val_loss: 0.3515 - val_accuracy: 0.8958\n",
      "Epoch 2/15\n",
      "36/36 [==============================] - 0s 814us/step - loss: 0.2821 - accuracy: 0.9077 - val_loss: 0.3701 - val_accuracy: 0.8750\n",
      "Epoch 3/15\n",
      "36/36 [==============================] - 0s 749us/step - loss: 0.1636 - accuracy: 0.9513 - val_loss: 0.2951 - val_accuracy: 0.9028\n",
      "Epoch 4/15\n",
      "36/36 [==============================] - 0s 761us/step - loss: 0.1640 - accuracy: 0.9426 - val_loss: 0.2720 - val_accuracy: 0.9236\n",
      "Epoch 5/15\n",
      "36/36 [==============================] - 0s 745us/step - loss: 0.1839 - accuracy: 0.9417 - val_loss: 0.2795 - val_accuracy: 0.9167\n",
      "Epoch 6/15\n",
      "36/36 [==============================] - 0s 745us/step - loss: 0.1037 - accuracy: 0.9608 - val_loss: 0.3145 - val_accuracy: 0.9340\n",
      "Epoch 7/15\n",
      "36/36 [==============================] - 0s 748us/step - loss: 0.1338 - accuracy: 0.9574 - val_loss: 0.2742 - val_accuracy: 0.9479\n",
      "Epoch 8/15\n",
      "36/36 [==============================] - 0s 752us/step - loss: 0.1398 - accuracy: 0.9469 - val_loss: 0.2414 - val_accuracy: 0.9306\n",
      "Epoch 9/15\n",
      "36/36 [==============================] - 0s 752us/step - loss: 0.0795 - accuracy: 0.9800 - val_loss: 0.2102 - val_accuracy: 0.9549\n",
      "Epoch 10/15\n",
      "36/36 [==============================] - 0s 753us/step - loss: 0.0327 - accuracy: 0.9869 - val_loss: 0.2383 - val_accuracy: 0.9444\n",
      "Epoch 11/15\n",
      "36/36 [==============================] - 0s 745us/step - loss: 0.0744 - accuracy: 0.9739 - val_loss: 0.4739 - val_accuracy: 0.9097\n",
      "Epoch 12/15\n",
      "36/36 [==============================] - 0s 743us/step - loss: 0.1192 - accuracy: 0.9730 - val_loss: 0.1597 - val_accuracy: 0.9514\n",
      "Epoch 13/15\n",
      "36/36 [==============================] - 0s 745us/step - loss: 0.0421 - accuracy: 0.9878 - val_loss: 0.3414 - val_accuracy: 0.9271\n",
      "Epoch 14/15\n",
      "36/36 [==============================] - 0s 2ms/step - loss: 0.0255 - accuracy: 0.9948 - val_loss: 0.1883 - val_accuracy: 0.9583\n",
      "Epoch 15/15\n",
      "36/36 [==============================] - 0s 769us/step - loss: 0.1250 - accuracy: 0.9661 - val_loss: 0.3322 - val_accuracy: 0.9271\n",
      "\n",
      "Learning Rate: 0.01, Adam optimizer and Additional Layer\n",
      "Loss:     0.17\n",
      "Accuracy: 96.39%\n"
     ]
    }
   ],
   "source": [
    "# 2.Add another hidden layer with ReLU activation and 64 neurons. Does it improve the model performance?\n",
    "def create_compile_model(learning_rate):\n",
    "    model = Sequential()\n",
    "    # Input layer\n",
    "    model.add(Dense(64, activation='relu', input_shape=(64,))) # 64 neurons, ReLU activation, input shape of 64\n",
    "\n",
    "    # Hidden layer\n",
    "    model.add(Dense(64, activation='relu')) # 64 neurons, ReLU activation\n",
    "    # Additional Hidden layer\n",
    "    model.add(Dense(64, activation='relu')) # 64 neurons, ReLU activation\n",
    "\n",
    "# Output layer\n",
    "    model.add(Dense(10, activation='softmax')) # 10 neurons, softmax activation\n",
    "\n",
    "    model.compile(\n",
    "        loss='categorical_crossentropy',\n",
    "        optimizer=optimizers.Adam(learning_rate=learning_rate),\n",
    "        metrics=['accuracy']\n",
    "    )\n",
    "    return model\n",
    "\n",
    "# Train and evaluate with learning rate 0.06 and momentum = 0.9\n",
    "model_001_AL = create_compile_model(0.01)\n",
    "history_0001_AL = model_001_AL.fit(\n",
    "    X_train,\n",
    "    y_train,\n",
    "    epochs=15,\n",
    "    batch_size=32,\n",
    "    validation_split=0.2,\n",
    "    verbose=1\n",
    ")\n",
    "loss_001_AL, accuracy_001_AL = model_001_AL.evaluate(X_test, y_test, verbose=0)\n",
    "\n",
    "print(f'\\nLearning Rate: 0.01, Adam optimizer and Additional Layer')\n",
    "print(f'Loss:     {loss_001_AL:.2f}')\n",
    "print(f'Accuracy: {accuracy_001_AL*100:.2f}%')"
   ]
  },
  {
   "cell_type": "markdown",
   "metadata": {},
   "source": [
    "### Exercises: Forward Pass and Generalization\n",
    "\n",
    "Let's look in more detail at how the model makes predictions on the test set. We will walk through each step of making predictions, examining exactly what's going on.\n",
    "\n",
    "To start, we will apply our model to the test set, and look at what we get as output:"
   ]
  },
  {
   "cell_type": "code",
   "execution_count": 59,
   "metadata": {},
   "outputs": [
    {
     "data": {
      "text/plain": [
       "<tf.Tensor: shape=(5, 10), dtype=float32, numpy=\n",
       "array([[8.92821731e-07, 1.57038116e-08, 6.01495103e-08, 3.90443120e-07,\n",
       "        1.32426322e-07, 4.39588177e-07, 9.97342646e-01, 1.68481577e-07,\n",
       "        2.65402859e-03, 1.14544957e-06],\n",
       "       [5.78923164e-06, 1.22246121e-07, 1.16388264e-07, 2.47373919e-05,\n",
       "        3.11740393e-07, 2.88688745e-02, 6.73332848e-11, 4.82532357e-07,\n",
       "        1.48632498e-05, 9.71084774e-01],\n",
       "       [2.83276579e-11, 3.88940935e-10, 8.33712654e-09, 9.99997497e-01,\n",
       "        2.15990628e-11, 8.68384461e-07, 7.73490716e-11, 2.70454894e-08,\n",
       "        2.94348084e-08, 1.63529535e-06],\n",
       "       [9.53145791e-05, 1.18259178e-03, 4.44878265e-03, 2.78367056e-03,\n",
       "        6.41331356e-03, 2.66179605e-03, 9.77924210e-05, 9.75191832e-01,\n",
       "        3.76588752e-04, 6.74826605e-03],\n",
       "       [4.14203711e-08, 1.38779910e-06, 9.85585749e-01, 1.33237233e-02,\n",
       "        3.45630440e-07, 1.42604852e-08, 3.47153809e-06, 4.60489582e-06,\n",
       "        1.08060474e-03, 5.58054936e-08]], dtype=float32)>"
      ]
     },
     "execution_count": 59,
     "metadata": {},
     "output_type": "execute_result"
    }
   ],
   "source": [
    "predictions_tf = model_006(X_test)\n",
    "predictions_tf[:5]"
   ]
  },
  {
   "cell_type": "code",
   "execution_count": 60,
   "metadata": {},
   "outputs": [
    {
     "data": {
      "text/plain": [
       "(tensorflow.python.framework.ops.EagerTensor, TensorShape([360, 10]))"
      ]
     },
     "execution_count": 60,
     "metadata": {},
     "output_type": "execute_result"
    }
   ],
   "source": [
    "type(predictions_tf), predictions_tf.shape"
   ]
  },
  {
   "cell_type": "markdown",
   "metadata": {},
   "source": [
    "The raw output of the model is a tensor of shape `(360, 10)`. This means that we have 360 samples, and for each sample we have 10 values. Each of these values represents the probability that the sample belongs to a given class. This means that we have 10 probabilities for each sample, and the sum of these probabilities is 1. We can confirm this by summing the probabilities for each sample:"
   ]
  },
  {
   "cell_type": "code",
   "execution_count": 61,
   "metadata": {},
   "outputs": [
    {
     "data": {
      "text/plain": [
       "<tf.Tensor: shape=(5,), dtype=float32, numpy=\n",
       "array([0.9999999 , 1.        , 1.        , 0.99999994, 0.99999994],\n",
       "      dtype=float32)>"
      ]
     },
     "execution_count": 61,
     "metadata": {},
     "output_type": "execute_result"
    }
   ],
   "source": [
    "import tensorflow as tf\n",
    "\n",
    "tf.reduce_sum(predictions_tf, axis=1)[:5]"
   ]
  },
  {
   "cell_type": "markdown",
   "metadata": {
    "collapsed": false
   },
   "source": [
    "...okay, there might be a small rounding error here and there. This is to do with how floating point numbers are represented in computers, and it's not something we need to worry about for now."
   ]
  },
  {
   "cell_type": "markdown",
   "metadata": {},
   "source": [
    "We can also extract the label with the highest probability using the tensorflow API:"
   ]
  },
  {
   "cell_type": "code",
   "execution_count": 62,
   "metadata": {},
   "outputs": [
    {
     "data": {
      "text/plain": [
       "<tf.Tensor: shape=(5,), dtype=int64, numpy=array([6, 9, 3, 7, 2])>"
      ]
     },
     "execution_count": 62,
     "metadata": {},
     "output_type": "execute_result"
    }
   ],
   "source": [
    "predicted_labels_tf = tf.argmax(predictions_tf, axis=1)\n",
    "predicted_labels_tf[:5]"
   ]
  },
  {
   "cell_type": "markdown",
   "metadata": {
    "collapsed": false
   },
   "source": [
    "One helpful aspect of this approach is that we don't just get the prediction, but also a sense of how confident the model is in its prediction. To see this in practice, let's take a look at some of the predictions the model is highly confident about (i.e. a lot of the probability mass is on one class):"
   ]
  },
  {
   "cell_type": "code",
   "execution_count": 63,
   "metadata": {
    "collapsed": false
   },
   "outputs": [
    {
     "data": {
      "image/png": "[encoded data removed]",
      "text/plain": [
       "<Figure size 600x600 with 9 Axes>"
      ]
     },
     "metadata": {},
     "output_type": "display_data"
    }
   ],
   "source": [
    "# Get the values corresponding to the predicted labels for each sample\n",
    "predicted_values_tf = tf.reduce_max(predictions_tf, axis=1)\n",
    "\n",
    "# Get the indices of the samples with the highest predicted values\n",
    "most_confident_indices_tf = tf.argsort(predicted_values_tf, direction='DESCENDING').numpy()[:9]\n",
    "\n",
    "# Get the 9 most confident samples\n",
    "most_confident_samples_tf = X_test[most_confident_indices_tf]\n",
    "\n",
    "# Get the true labels for the 9 most confident samples\n",
    "most_confident_labels_tf = np.argmax(y_test[most_confident_indices_tf], axis=1)\n",
    "\n",
    "# Plot the 9 most confident samples\n",
    "fig, axes = plt.subplots(3, 3, figsize=(6, 6))\n",
    "\n",
    "for i, ax in enumerate(axes.flat):\n",
    "    ax.imshow(most_confident_samples_tf[i].reshape(8, 8), cmap=plt.cm.gray_r, interpolation='nearest')\n",
    "    ax.set_title(f\"{most_confident_labels_tf[i]}\")\n",
    "\n",
    "    # Removing axis labels\n",
    "    ax.set_xticks([])\n",
    "    ax.set_yticks([])\n",
    "    \n",
    "plt.show()"
   ]
  },
  {
   "cell_type": "markdown",
   "metadata": {},
   "source": [
    "## Impact of Initialization\n",
    "\n",
    "Let's study the impact of a bad initialization when training\n",
    "a deep feed forward network.\n",
    "\n",
    "By default, Keras dense layers use the \"Glorot Uniform\" initialization\n",
    "strategy to initialize the weight matrices:\n",
    "\n",
    "- each weight coefficient is randomly sampled from [-scale, scale]\n",
    "- scale is proportional to $\\frac{1}{\\sqrt{n_{in} + n_{out}}}$\n",
    "\n",
    "This strategy is known to work well to initialize deep neural networks\n",
    "with \"tanh\" or \"relu\" activation functions and then trained with\n",
    "standard SGD.\n",
    "\n",
    "To assess the impact of initialization let us plug an alternative init\n",
    "scheme into a 2 hidden layers networks with \"tanh\" activations.\n",
    "For the sake of the example let's use normal distributed weights\n",
    "with a manually adjustable scale (standard deviation) and see the\n",
    "impact the scale value:"
   ]
  },
  {
   "cell_type": "code",
   "execution_count": 70,
   "metadata": {},
   "outputs": [
    {
     "name": "stderr",
     "output_type": "stream",
     "text": [
      "WARNING:absl:At this time, the v2.11+ optimizer `tf.keras.optimizers.SGD` runs slowly on M1/M2 Macs, please use the legacy Keras optimizer instead, located at `tf.keras.optimizers.legacy.SGD`.\n"
     ]
    }
   ],
   "source": [
    "from tensorflow.keras import initializers\n",
    "from tensorflow.keras import optimizers\n",
    "\n",
    "input_dim = 64\n",
    "hidden_dim = 64\n",
    "output_dim = 10\n",
    "\n",
    "normal_init = initializers.TruncatedNormal(stddev=0.01, seed=42)\n",
    "\n",
    "model = Sequential()\n",
    "model.add(Dense(hidden_dim, input_dim=input_dim, activation=\"tanh\",\n",
    "                kernel_initializer=normal_init))\n",
    "model.add(Dense(hidden_dim, activation=\"tanh\",\n",
    "                kernel_initializer=normal_init))\n",
    "model.add(Dense(output_dim, activation=\"softmax\",\n",
    "                kernel_initializer=normal_init))\n",
    "\n",
    "model.compile(optimizer=optimizers.SGD(learning_rate=0.6),\n",
    "              loss='categorical_crossentropy', metrics=['accuracy'])"
   ]
  },
  {
   "cell_type": "code",
   "execution_count": 71,
   "metadata": {},
   "outputs": [
    {
     "data": {
      "text/plain": [
       "[<keras.src.layers.core.dense.Dense at 0x178090370>,\n",
       " <keras.src.layers.core.dense.Dense at 0x31221ef70>,\n",
       " <keras.src.layers.core.dense.Dense at 0x314962d90>]"
      ]
     },
     "execution_count": 71,
     "metadata": {},
     "output_type": "execute_result"
    }
   ],
   "source": [
    "model.layers"
   ]
  },
  {
   "cell_type": "markdown",
   "metadata": {},
   "source": [
    "Let's have a look at the parameters of the first layer after initialization but before any training has happened:"
   ]
  },
  {
   "cell_type": "code",
   "execution_count": 72,
   "metadata": {},
   "outputs": [
    {
     "data": {
      "text/plain": [
       "[<tf.Variable 'dense_53/kernel:0' shape=(64, 64) dtype=float32, numpy=\n",
       " array([[ 0.00015817, -0.01590087,  0.00103594, ...,  0.00962818,\n",
       "          0.00624957,  0.00994726],\n",
       "        [ 0.0081879 ,  0.00756818, -0.00668142, ...,  0.01084459,\n",
       "         -0.00317478, -0.00549116],\n",
       "        [-0.00086618, -0.00287623,  0.00391693, ...,  0.00064558,\n",
       "         -0.00420471,  0.00174566],\n",
       "        ...,\n",
       "        [-0.0029006 , -0.0091218 ,  0.00804327, ..., -0.01407086,\n",
       "          0.00952832, -0.01348555],\n",
       "        [ 0.00375078,  0.00967842,  0.00098119, ..., -0.00413454,\n",
       "          0.01695471,  0.00025196],\n",
       "        [ 0.00459809,  0.01223094, -0.00213172, ...,  0.01246831,\n",
       "         -0.00714749, -0.00868595]], dtype=float32)>,\n",
       " <tf.Variable 'dense_53/bias:0' shape=(64,) dtype=float32, numpy=\n",
       " array([0., 0., 0., 0., 0., 0., 0., 0., 0., 0., 0., 0., 0., 0., 0., 0., 0.,\n",
       "        0., 0., 0., 0., 0., 0., 0., 0., 0., 0., 0., 0., 0., 0., 0., 0., 0.,\n",
       "        0., 0., 0., 0., 0., 0., 0., 0., 0., 0., 0., 0., 0., 0., 0., 0., 0.,\n",
       "        0., 0., 0., 0., 0., 0., 0., 0., 0., 0., 0., 0., 0.], dtype=float32)>]"
      ]
     },
     "execution_count": 72,
     "metadata": {},
     "output_type": "execute_result"
    }
   ],
   "source": [
    "model.layers[0].weights"
   ]
  },
  {
   "cell_type": "code",
   "execution_count": 73,
   "metadata": {},
   "outputs": [
    {
     "data": {
      "text/plain": [
       "array([[ 0.00015817, -0.01590087,  0.00103594, ...,  0.00962818,\n",
       "         0.00624957,  0.00994726],\n",
       "       [ 0.0081879 ,  0.00756818, -0.00668142, ...,  0.01084459,\n",
       "        -0.00317478, -0.00549116],\n",
       "       [-0.00086618, -0.00287623,  0.00391693, ...,  0.00064558,\n",
       "        -0.00420471,  0.00174566],\n",
       "       ...,\n",
       "       [-0.0029006 , -0.0091218 ,  0.00804327, ..., -0.01407086,\n",
       "         0.00952832, -0.01348555],\n",
       "       [ 0.00375078,  0.00967842,  0.00098119, ..., -0.00413454,\n",
       "         0.01695471,  0.00025196],\n",
       "       [ 0.00459809,  0.01223094, -0.00213172, ...,  0.01246831,\n",
       "        -0.00714749, -0.00868595]], dtype=float32)"
      ]
     },
     "execution_count": 73,
     "metadata": {},
     "output_type": "execute_result"
    }
   ],
   "source": [
    "w = model.layers[0].weights[0].numpy()\n",
    "w"
   ]
  },
  {
   "cell_type": "code",
   "execution_count": 74,
   "metadata": {},
   "outputs": [
    {
     "data": {
      "text/plain": [
       "0.008835949"
      ]
     },
     "execution_count": 74,
     "metadata": {},
     "output_type": "execute_result"
    }
   ],
   "source": [
    "w.std()"
   ]
  },
  {
   "cell_type": "code",
   "execution_count": 75,
   "metadata": {},
   "outputs": [
    {
     "data": {
      "text/plain": [
       "array([0., 0., 0., 0., 0., 0., 0., 0., 0., 0., 0., 0., 0., 0., 0., 0., 0.,\n",
       "       0., 0., 0., 0., 0., 0., 0., 0., 0., 0., 0., 0., 0., 0., 0., 0., 0.,\n",
       "       0., 0., 0., 0., 0., 0., 0., 0., 0., 0., 0., 0., 0., 0., 0., 0., 0.,\n",
       "       0., 0., 0., 0., 0., 0., 0., 0., 0., 0., 0., 0., 0.], dtype=float32)"
      ]
     },
     "execution_count": 75,
     "metadata": {},
     "output_type": "execute_result"
    }
   ],
   "source": [
    "b = model.layers[0].weights[1].numpy()\n",
    "b"
   ]
  },
  {
   "cell_type": "code",
   "execution_count": 76,
   "metadata": {},
   "outputs": [
    {
     "name": "stdout",
     "output_type": "stream",
     "text": [
      "Epoch 1/15\n",
      "45/45 [==============================] - 0s 447us/step - loss: 2.2694 - accuracy: 0.1802\n",
      "Epoch 2/15\n",
      "45/45 [==============================] - 0s 401us/step - loss: 2.7107 - accuracy: 0.1273\n",
      "Epoch 3/15\n",
      "45/45 [==============================] - 0s 386us/step - loss: 7.1779 - accuracy: 0.1378\n",
      "Epoch 4/15\n",
      "45/45 [==============================] - 0s 423us/step - loss: 12.2606 - accuracy: 0.0981\n",
      "Epoch 5/15\n",
      "45/45 [==============================] - 0s 422us/step - loss: 11.5192 - accuracy: 0.1127\n",
      "Epoch 6/15\n",
      "45/45 [==============================] - 0s 396us/step - loss: 12.4459 - accuracy: 0.0953\n",
      "Epoch 7/15\n",
      "45/45 [==============================] - 0s 418us/step - loss: 13.6223 - accuracy: 0.0967\n",
      "Epoch 8/15\n",
      "45/45 [==============================] - 0s 449us/step - loss: 12.6680 - accuracy: 0.1141\n",
      "Epoch 9/15\n",
      "45/45 [==============================] - 0s 417us/step - loss: 11.2342 - accuracy: 0.1176\n",
      "Epoch 10/15\n",
      "45/45 [==============================] - 0s 372us/step - loss: 11.9404 - accuracy: 0.0988\n",
      "Epoch 11/15\n",
      "45/45 [==============================] - 0s 372us/step - loss: 13.8714 - accuracy: 0.1072\n",
      "Epoch 12/15\n",
      "45/45 [==============================] - 0s 370us/step - loss: 12.4255 - accuracy: 0.1023\n",
      "Epoch 13/15\n",
      "45/45 [==============================] - 0s 369us/step - loss: 13.0905 - accuracy: 0.0932\n",
      "Epoch 14/15\n",
      "45/45 [==============================] - 0s 365us/step - loss: 11.5597 - accuracy: 0.1113\n",
      "Epoch 15/15\n",
      "45/45 [==============================] - 0s 375us/step - loss: 13.9266 - accuracy: 0.1002\n"
     ]
    },
    {
     "data": {
      "image/png": "[encoded data removed]",
      "text/plain": [
       "<Figure size 1200x400 with 1 Axes>"
      ]
     },
     "metadata": {},
     "output_type": "display_data"
    }
   ],
   "source": [
    "history = model.fit(X_train, y_train, epochs=15, batch_size=32)\n",
    "\n",
    "plt.figure(figsize=(12, 4))\n",
    "plt.plot(history.history['loss'], label=\"Truncated Normal init\")\n",
    "plt.legend();"
   ]
  },
  {
   "cell_type": "markdown",
   "metadata": {},
   "source": [
    "Once the model has been fit, the weights have been updated and notably the biases are no longer 0:"
   ]
  },
  {
   "cell_type": "code",
   "execution_count": 77,
   "metadata": {},
   "outputs": [
    {
     "data": {
      "text/plain": [
       "[<tf.Variable 'dense_53/kernel:0' shape=(64, 64) dtype=float32, numpy=\n",
       " array([[ 0.00015817, -0.01590087,  0.00103594, ...,  0.00962818,\n",
       "          0.00624957,  0.00994726],\n",
       "        [ 0.0102959 ,  0.00851794, -0.00973369, ...,  0.01007734,\n",
       "         -0.00673272, -0.00821823],\n",
       "        [ 0.04465856,  0.04172041, -0.05054283, ...,  0.02993358,\n",
       "         -0.06926403, -0.04780768],\n",
       "        ...,\n",
       "        [ 0.04630169,  0.00810779,  0.00096384, ..., -0.12991327,\n",
       "         -0.03714478, -0.10173472],\n",
       "        [ 0.02411872,  0.00758272,  0.01970833, ..., -0.05616004,\n",
       "         -0.00760577, -0.03090084],\n",
       "        [ 0.00795551,  0.01410652,  0.00187582, ...,  0.00606133,\n",
       "         -0.00760887, -0.01264965]], dtype=float32)>,\n",
       " <tf.Variable 'dense_53/bias:0' shape=(64,) dtype=float32, numpy=\n",
       " array([ 0.00540968,  0.0066529 , -0.00622306, -0.00375561,  0.00246562,\n",
       "        -0.00577341,  0.00536703, -0.01369079, -0.01009166,  0.00603624,\n",
       "        -0.00442654,  0.00835567,  0.01033619, -0.01643658,  0.00430473,\n",
       "         0.00981703,  0.00385209, -0.0046401 ,  0.0212611 , -0.00597332,\n",
       "         0.01222271,  0.00901374,  0.01329252,  0.01185566,  0.00342538,\n",
       "        -0.00837181, -0.00674472, -0.00268381, -0.00543871, -0.00607845,\n",
       "         0.00416027,  0.00812255, -0.01297613, -0.00426094,  0.00590934,\n",
       "         0.0029316 , -0.00607277, -0.00591386, -0.00644932, -0.00781301,\n",
       "         0.00342558,  0.00540446, -0.00395909, -0.01085077,  0.00616105,\n",
       "         0.00583488,  0.00382009,  0.00722093, -0.01226533, -0.00440912,\n",
       "         0.00248634,  0.00538402, -0.00959665,  0.00410286, -0.03947596,\n",
       "        -0.00732931, -0.00398138, -0.00401406,  0.04623962,  0.01608066,\n",
       "         0.00820793,  0.00654194, -0.00631673, -0.0054649 ], dtype=float32)>]"
      ]
     },
     "execution_count": 77,
     "metadata": {},
     "output_type": "execute_result"
    }
   ],
   "source": [
    "model.layers[0].weights"
   ]
  },
  {
   "cell_type": "markdown",
   "metadata": {},
   "source": [
    "#### Questions:\n",
    "\n",
    "- Try the following initialization schemes and see whether\n",
    "  the SGD algorithm can successfully train the network or\n",
    "  not:\n",
    "  \n",
    "  - a very small e.g. `stddev=1e-3`\n",
    "  - a larger scale e.g. `stddev=1` or `10`\n",
    "  - initialize all weights to 0 (constant initialization)\n",
    "  \n",
    "- What do you observe? Can you find an explanation for those\n",
    "  outcomes?\n",
    "\n",
    "- Are more advanced solvers such as SGD with momentum or Adam able\n",
    "  to deal better with such bad initializations?"
   ]
  },
  {
   "cell_type": "code",
   "execution_count": 33,
   "metadata": {},
   "outputs": [],
   "source": [
    "# Your code here"
   ]
  }
 ],
 "metadata": {
  "file_extension": ".py",
  "kernelspec": {
   "display_name": "Python 3 (ipykernel)",
   "language": "python",
   "name": "python3"
  },
  "language_info": {
   "codemirror_mode": {
    "name": "ipython",
    "version": 3
   },
   "file_extension": ".py",
   "mimetype": "text/x-python",
   "name": "python",
   "nbconvert_exporter": "python",
   "pygments_lexer": "ipython3",
   "version": "3.9.19"
  },
  "mimetype": "text/x-python",
  "name": "python",
  "npconvert_exporter": "python",
  "pygments_lexer": "ipython3",
  "toc": {
   "base_numbering": 1,
   "nav_menu": {},
   "number_sections": true,
   "sideBar": true,
   "skip_h1_title": false,
   "title_cell": "Table of Contents",
   "title_sidebar": "Contents",
   "toc_cell": false,
   "toc_position": {},
   "toc_section_display": true,
   "toc_window_display": false
  },
  "version": 3
 },
 "nbformat": 4,
 "nbformat_minor": 4
}
